{
 "cells": [
  {
   "cell_type": "code",
   "execution_count": 26,
   "id": "2c7d5a34-66c8-4b93-9cee-346adeba137b",
   "metadata": {},
   "outputs": [],
   "source": [
    "import sklearn\n",
    "import pandas as pd\n",
    "from sklearn.manifold import TSNE\n",
    "import matplotlib.pyplot as plt\n",
    "import seaborn as sns\n",
    "import glob\n",
    "import pandas as pd\n",
    "import os, sys\n",
    "import mlflow\n",
    "\n",
    "from tqdm import tqdm\n",
    "\n",
    "import ipywidgets as widgets\n",
    "from ipywidgets import interact\n",
    "from functools import partial"
   ]
  },
  {
   "cell_type": "code",
   "execution_count": 28,
   "id": "8d3b6fa3-421e-4828-9e38-8078fac024f1",
   "metadata": {},
   "outputs": [],
   "source": [
    "MLFLOW_TRACKING_URI = f\"{os.environ['HOME']}/01_repos/CardiacMotion/mlruns/\"\n",
    "mlflow.set_tracking_uri(MLFLOW_TRACKING_URI)\n",
    "z_filename = lambda exp_id, run_id: f\"{MLFLOW_TRACKING_URI}/{exp_id}/{run_id}/artifacts/latent_vector.csv\""
   ]
  },
  {
   "cell_type": "code",
   "execution_count": 29,
   "id": "21e59cb9-f270-4f30-8c45-b27e6873e7b1",
   "metadata": {},
   "outputs": [],
   "source": [
    "df = mlflow.search_runs(experiment_ids=[str(i) for i in range(3, 9)])\n",
    "df = df[(df[\"metrics.val_rec_ratio_to_time_mean\"] < 0.8) & (df[\"params.dataset_n_timeframes\"] == '10')]"
   ]
  },
  {
   "cell_type": "code",
   "execution_count": null,
   "id": "f8bcf3d9-7154-41c8-ae8f-63a099ac7d48",
   "metadata": {},
   "outputs": [
    {
     "name": "stderr",
     "output_type": "stream",
     "text": [
      "0it [00:00, ?it/s]/home/rodrigo/anaconda3/envs/cardio/lib/python3.9/site-packages/sklearn/manifold/_t_sne.py:991: FutureWarning: The PCA initialization in TSNE will change to have the standard deviation of PC1 equal to 1e-4 in 1.2. This will ensure better convergence.\n",
      "  warnings.warn(\n"
     ]
    },
    {
     "name": "stdout",
     "output_type": "stream",
     "text": [
      "/home/rodrigo/01_repos/CardiacMotion/mlruns//8/4708d50a9ea14960b2b21d21e3313e34/artifacts/tsne_2d_z_static.csv\n"
     ]
    },
    {
     "name": "stderr",
     "output_type": "stream",
     "text": [
      "/home/rodrigo/anaconda3/envs/cardio/lib/python3.9/site-packages/sklearn/manifold/_t_sne.py:991: FutureWarning: The PCA initialization in TSNE will change to have the standard deviation of PC1 equal to 1e-4 in 1.2. This will ensure better convergence.\n",
      "  warnings.warn(\n"
     ]
    },
    {
     "name": "stdout",
     "output_type": "stream",
     "text": [
      "/home/rodrigo/01_repos/CardiacMotion/mlruns//8/4708d50a9ea14960b2b21d21e3313e34/artifacts/tsne_2d_z_dynamic.csv\n"
     ]
    },
    {
     "name": "stderr",
     "output_type": "stream",
     "text": [
      "/home/rodrigo/anaconda3/envs/cardio/lib/python3.9/site-packages/sklearn/manifold/_t_sne.py:991: FutureWarning: The PCA initialization in TSNE will change to have the standard deviation of PC1 equal to 1e-4 in 1.2. This will ensure better convergence.\n",
      "  warnings.warn(\n"
     ]
    },
    {
     "name": "stdout",
     "output_type": "stream",
     "text": [
      "/home/rodrigo/01_repos/CardiacMotion/mlruns//8/4708d50a9ea14960b2b21d21e3313e34/artifacts/tsne_2d_z_all.csv\n"
     ]
    },
    {
     "name": "stderr",
     "output_type": "stream",
     "text": [
      "/home/rodrigo/anaconda3/envs/cardio/lib/python3.9/site-packages/sklearn/manifold/_t_sne.py:991: FutureWarning: The PCA initialization in TSNE will change to have the standard deviation of PC1 equal to 1e-4 in 1.2. This will ensure better convergence.\n",
      "  warnings.warn(\n"
     ]
    }
   ],
   "source": [
    "for i, row in tqdm(df.sort_values([\"experiment_id\", \"metrics.val_rec_ratio_to_time_mean\"]).iterrows()):        \n",
    "    \n",
    "    # print(row.experiment_id, row.run_id, row[\"metrics.val_rec_ratio_to_time_mean\"])\n",
    "    \n",
    "    if row.experiment_id != \"4\":\n",
    "        continue \n",
    "        \n",
    "    zfn = z_filename(row.experiment_id, row.run_id)\n",
    "    \n",
    "    if not os.path.exists(zfn):\n",
    "        continue\n",
    "        # print(zfn)\n",
    "        \n",
    "    z_df = pd.read_csv(zfn) # .head(1000)\n",
    "    z_df = z_df.set_index(\"ID\")\n",
    "    \n",
    "    z_static = z_df.iloc[:,:8]\n",
    "    z_dynamic = z_df.iloc[:,8:]\n",
    "    \n",
    "    for dim in [2,3]:\n",
    "        for suffix, z in {\"static\": z_static, \"dynamic\": z_dynamic, \"all\": z_df}.items():\n",
    "            \n",
    "            tsne = TSNE(n_components=dim, learning_rate='auto', init='pca', )\n",
    "            t = tsne.fit_transform(z)\n",
    "            tvalues_df = pd.DataFrame(t)\n",
    "            \n",
    "            if dim == 2:\n",
    "                tvalues_df.columns = [\"tsne-2d-one\", \"tsne-2d-two\"]\n",
    "            elif dim == 3:\n",
    "                tvalues_df.columns = [\"tsne-3d-one\", \"tsne-3d-two\", \"tsne-3d-three\"]\n",
    "       \n",
    "            tvalues_df = tvalues_df.set_index(z.index)\n",
    "        \n",
    "            t_filename = f\"{MLFLOW_TRACKING_URI}/{exp_id}/{run_id}/artifacts/tsne_{dim}d_z_{suffix}.csv\"\n",
    "            print(t_filename)\n",
    "            tvalues_df.to_csv(t_filename)"
   ]
  },
  {
   "cell_type": "markdown",
   "id": "1b73caac-2a75-4ea8-add4-7f6614956270",
   "metadata": {},
   "source": [
    "#### Compute t-SNE"
   ]
  },
  {
   "cell_type": "code",
   "execution_count": 55,
   "id": "540e7b06-7e12-4201-ac91-9c75b5fe67ee",
   "metadata": {},
   "outputs": [],
   "source": [
    "covariates_df = pd.read_csv(\"/home/rodrigo/01_repos/GWAS_pipeline/data/gwas_covariates_63k.csv\")\n",
    "covariates_df = covariates_df.set_index(\"ID\")\n",
    "covariates_df = covariates_df[~covariates_df.duplicated()]"
   ]
  },
  {
   "cell_type": "code",
   "execution_count": 56,
   "id": "a61fcb01-c315-4065-8f34-384cb8a31d37",
   "metadata": {},
   "outputs": [],
   "source": [
    "cardiac_indices_df = pd.read_csv(\"/home/rodrigo/01_repos/CardiacSegmentation/data/transforms/LVED_cardiac_indices_all.csv\")\n",
    "cardiac_indices_df = cardiac_indices_df.set_index(\"ID\")\n",
    "# cardiac_indices_df = cardiac_indices_df.loc[]"
   ]
  },
  {
   "cell_type": "code",
   "execution_count": 57,
   "id": "afd15303-1320-4e31-8c4a-73b30d49ddb1",
   "metadata": {},
   "outputs": [
    {
     "name": "stderr",
     "output_type": "stream",
     "text": [
      "/tmp/ipykernel_165465/428200187.py:3: FutureWarning: Passing a set as an indexer is deprecated and will raise in a future version. Use a list instead.\n",
      "  covariates_df = covariates_df.loc[common_ids]\n"
     ]
    },
    {
     "data": {
      "text/plain": [
       "(57804, 12)"
      ]
     },
     "execution_count": 57,
     "metadata": {},
     "output_type": "execute_result"
    }
   ],
   "source": [
    "common_ids = list(set(tvalues_df.index).intersection(covariates_df.index))\n",
    "common_ids = set(common_ids).intersection(cardiac_indices_df.index)\n",
    "covariates_df = covariates_df.loc[common_ids]\n",
    "covariates_df.shape"
   ]
  },
  {
   "cell_type": "code",
   "execution_count": 58,
   "id": "3a3c5889-9891-4725-8ca1-701e7075dbdb",
   "metadata": {},
   "outputs": [
    {
     "name": "stderr",
     "output_type": "stream",
     "text": [
      "/tmp/ipykernel_165465/3083549937.py:1: FutureWarning: Passing a set as an indexer is deprecated and will raise in a future version. Use a list instead.\n",
      "  tvalues_df = tvalues_df.loc[common_ids]\n"
     ]
    },
    {
     "data": {
      "text/plain": [
       "(57804, 2)"
      ]
     },
     "execution_count": 58,
     "metadata": {},
     "output_type": "execute_result"
    }
   ],
   "source": [
    "tvalues_df = tvalues_df.loc[common_ids]\n",
    "tvalues_df.shape"
   ]
  },
  {
   "cell_type": "code",
   "execution_count": 59,
   "id": "edd923ac-995f-439e-b0e5-db2ed2781060",
   "metadata": {},
   "outputs": [
    {
     "name": "stderr",
     "output_type": "stream",
     "text": [
      "/tmp/ipykernel_165465/4025021218.py:1: FutureWarning: Passing a set as an indexer is deprecated and will raise in a future version. Use a list instead.\n",
      "  cardiac_indices_df = cardiac_indices_df.loc[common_ids]\n"
     ]
    },
    {
     "data": {
      "text/plain": [
       "(57804, 23)"
      ]
     },
     "execution_count": 59,
     "metadata": {},
     "output_type": "execute_result"
    }
   ],
   "source": [
    "cardiac_indices_df = cardiac_indices_df.loc[common_ids]\n",
    "cardiac_indices_df.shape"
   ]
  },
  {
   "cell_type": "code",
   "execution_count": 60,
   "id": "4a86f8e8-8661-48cd-8559-ff4bd1c0ec2f",
   "metadata": {},
   "outputs": [],
   "source": [
    "import os\n",
    "import fileinput\n",
    "\n",
    "# Define the root directory you want to start from\n",
    "root_directory = \"/home/rodrigo/01_repos/UKBB_helpers/data/subject_ids/icd10\"\n",
    "\n",
    "# Use list comprehension to count lines for each file in each directory\n",
    "line_counts = {\n",
    "    os.path.join(root, file): sum(1 for _ in fileinput.input(os.path.join(root, file)))\n",
    "    for root, _, files in os.walk(root_directory)\n",
    "    for file in files\n",
    "}\n",
    "\n",
    "line_counts = { k:v for k,v in line_counts.items() if v > 10000 }"
   ]
  },
  {
   "cell_type": "code",
   "execution_count": 61,
   "id": "2db3a2af-a9be-406a-ae2f-4c062ceb1e1a",
   "metadata": {},
   "outputs": [],
   "source": [
    "ids_for_disease = {k.split(\"/\")[-1][:-4]: set([ id.strip() for id in open(k).readlines()]) for k in line_counts}"
   ]
  },
  {
   "cell_type": "code",
   "execution_count": 62,
   "id": "f602c179-df2a-4798-b123-6addad888205",
   "metadata": {},
   "outputs": [],
   "source": [
    "icd10_codes = {\n",
    "    'I269': 'Pulmonary embolism without acute cor pulmonale',\n",
    "    'I519': 'Other heart diseases in diseases classified elsewhere',\n",
    "    'I351': 'Nonrheumatic aortic valve disorders',\n",
    "    'I848': 'Other specified disorders of arteries and arterioles',\n",
    "    'I481': 'Atrial fibrillation and flutter',\n",
    "    'I846': 'Spontaneous dissection of other specified arteries',\n",
    "    'I495': 'Sudden cardiac death, so described',\n",
    "    'I441': 'Aneurysm of artery of lower extremity',\n",
    "    'I083': 'Hypertensive heart and chronic kidney disease with heart failure and stage 1 through stage 4 chronic kidney disease, or unspecified chronic kidney disease',\n",
    "    'I639': 'Cerebral infarction, unspecified',\n",
    "    'I802': 'Acute embolism and thrombosis of superior mesenteric artery',\n",
    "    'I730': 'Aneurysm of aorta',\n",
    "    'I249': 'Other forms of chronic ischemic heart disease',\n",
    "    'I500': 'Congestive heart failure',\n",
    "    'I743': 'Embolism and thrombosis of renal artery',\n",
    "    'I831': 'Varicose veins of lower extremities',\n",
    "    'I081': 'Hypertensive heart and chronic kidney disease with heart failure and stage 5 chronic kidney disease, or end stage renal disease',\n",
    "    'I714': 'Arteritis, unspecified',\n",
    "    'I460': 'Acute heart failure',\n",
    "    'I771': 'Other secondary and unspecified cardiomyopathies',\n",
    "    'I517': 'Cardiomegaly',\n",
    "    'I251': 'Atherosclerotic heart disease of native coronary artery',\n",
    "    'I859': 'Other and unspecified atherosclerosis',\n",
    "    'I493': 'Chronic obstructive pulmonary disease',\n",
    "    'I252': 'Old myocardial infarction',\n",
    "    'I071': 'Hypertensive heart disease with heart failure',\n",
    "    'I211': 'Benign neoplasm of colon',\n",
    "    'I442': 'Aneurysm of artery of upper extremity',\n",
    "    'I841': 'Abdominal aortic aneurysm, without rupture',\n",
    "    'I313': 'Dermatitis',\n",
    "    'I842': 'Abdominal aortic aneurysm, ruptured',\n",
    "    'I518': 'Other and unspecified heart diseases originating in the perinatal period',\n",
    "    'I451': 'Esophageal varices with bleeding',\n",
    "    'I849': 'Other specified disorders of circulatory system',\n",
    "    'I499': 'Unspecified disorder of circulatory system',\n",
    "    'I64': 'Stroke, not specified as hemorrhage or infarction',\n",
    "    'I259': 'Chronic ischemic heart disease, unspecified',\n",
    "    'I350': 'Atherosclerosis of aorta',\n",
    "    'I272': 'Other disorders of pulmonary circulation',\n",
    "    'I471': 'Atherosclerosis of renal artery',\n",
    "    'I951': 'Intraoperative hemorrhage and hematoma of a circulatory system organ or structure complicating a procedure',\n",
    "    'I480': 'Paroxysmal atrial fibrillation',\n",
    "    'I200': 'Angina pectoris',\n",
    "    'I694': 'Granulomatosis with polyangiitis (Wegener)',\n",
    "    'I447': 'Aneurysm of other specified artery',\n",
    "    'I208': 'Angina pectoris, unspecified',\n",
    "    'I120': 'Hypertensive heart disease with renal disease',\n",
    "    'I420': 'Acute myocarditis',\n",
    "    'I501': 'Left ventricular failure',\n",
    "    'I959': 'Hypothyroidism, unspecified',\n",
    "    'I652': 'Other transient cerebral ischemic attacks and related syndromes',\n",
    "    'I48': 'Atrial fibrillation and flutter',\n",
    "    'I219': 'Subacute myocardial infarction, unspecified',\n",
    "    'I739': 'Peripheral vascular disease, unspecified',\n",
    "    'I509': 'Heart failure, unspecified',\n",
    "    'I489': 'Atrial fibrillation and flutter',\n",
    "    'I10': 'Essential (primary) hypertension',\n",
    "    'I209': 'Angina pectoris, unspecified',\n",
    "    'I258': 'Chronic ischemic heart disease, unspecified',\n",
    "    'I679': 'Cerebrovascular disease, unspecified',\n",
    "    'I678': 'Cerebrovascular disease, unspecified',\n",
    "    'I341': 'Mitral valve insufficiency',\n",
    "    'I635': 'Cerebral infarction due to thrombosis of cerebral arteries',\n",
    "    'I429': 'Cardiomyopathy, unspecified',\n",
    "    'I7020': 'Acute and subacute ICD-10 code range I7020',\n",
    "    'I214': 'Other acute ischemic heart diseases',\n",
    "    'I080': 'Hypertensive heart and chronic kidney disease with heart failure and stage 5 chronic kidney disease, or end stage renal disease',\n",
    "    'I890': 'Other specified noninfective gastroenteritis and colitis',\n",
    "    'I472': 'Atherosclerosis of autologous vein coronary artery bypass graft',\n",
    "    'I440': 'Aneurysm of thoracic aorta',\n",
    "    'I210': 'Atherosclerotic heart disease',\n",
    "    'I839': 'Other specified diseases of arteries and arterioles',\n",
    "    'I340': 'Mitral valve stenosis',\n",
    "}\n"
   ]
  },
  {
   "cell_type": "code",
   "execution_count": 64,
   "id": "155dc630-08b6-4f81-82d9-95aa5bea8594",
   "metadata": {},
   "outputs": [],
   "source": [
    "all_diseased_ids = {element for value in ids_for_disease.values() for element in value}"
   ]
  },
  {
   "cell_type": "code",
   "execution_count": 65,
   "id": "6c600f9c-24d7-45aa-b508-c896b3fc89b3",
   "metadata": {},
   "outputs": [],
   "source": [
    "healthy = pd.Series(cardiac_indices_df.index).apply(lambda id: int(str(id) not in all_diseased_ids))\n",
    "healthy.index = cardiac_indices_df.index"
   ]
  },
  {
   "cell_type": "code",
   "execution_count": 74,
   "id": "f847ffde-c70c-4cac-a56b-1d5e1919f991",
   "metadata": {},
   "outputs": [
    {
     "data": {
      "application/vnd.jupyter.widget-view+json": {
       "model_id": "4b9ae175be284200adbce27f46abd57f",
       "version_major": 2,
       "version_minor": 0
      },
      "text/plain": [
       "interactive(children=(Select(description='icd10', options={'Atherosclerotic heart disease of native coronary a…"
      ]
     },
     "metadata": {},
     "output_type": "display_data"
    }
   ],
   "source": [
    "@interact\n",
    "def plot_tsne(\n",
    "    icd10=widgets.Select(options={v:k for k,v in icd10_codes.items() if k in ids_for_disease}), \n",
    "    plot_type=widgets.Select(options=[\"Scatter\", \"KDE\"], value=\"Scatter\")):\n",
    "\n",
    "    plt.figure(figsize=(16,7))\n",
    "    ax1 = plt.subplot(1, 2, 1)\n",
    "    \n",
    "    ICD10 = icd10\n",
    "    diagnoses = pd.Series(cardiac_indices_df.index).apply(lambda id: int(str(id) in ids_for_disease[ICD10]))\n",
    "    diagnoses.index = cardiac_indices_df.index\n",
    "    \n",
    "    if plot_type == \"Scatter\": plot = partial(sns.scatterplot, x=\"tsne-2d-one\", y=\"tsne-2d-two\",alpha=0.5)\n",
    "    elif plot_type == \"KDE\":   plot = partial(sns.kdeplot, x=\"tsne-2d-one\", y=\"tsne-2d-two\", alpha=0.5, fill=True)\n",
    "    \n",
    "    plot(data=tvalues_df[diagnoses.astype(bool)].head(5000), ax=ax1\n",
    "        # hue = diagnoses,        \n",
    "        # legend=\"full\",\n",
    "    );    \n",
    "    plt.title(f\"{icd10_codes[icd10]} ({diagnoses.sum()} subjects)\")\n",
    "    \n",
    "    ax2 = plt.subplot(1, 2, 2)\n",
    "    plot(data=tvalues_df[healthy.astype(bool)].head(5000), ax=ax2,\n",
    "        # hue = diagnoses,\n",
    "    );    \n",
    "    plt.title(\"No cardiovascular disease\")"
   ]
  },
  {
   "cell_type": "code",
   "execution_count": null,
   "id": "5833289d-fd8a-44c5-ab3a-7a812c6143e5",
   "metadata": {},
   "outputs": [],
   "source": []
  }
 ],
 "metadata": {
  "kernelspec": {
   "display_name": "Python 3 (ipykernel)",
   "language": "python",
   "name": "python3"
  },
  "language_info": {
   "codemirror_mode": {
    "name": "ipython",
    "version": 3
   },
   "file_extension": ".py",
   "mimetype": "text/x-python",
   "name": "python",
   "nbconvert_exporter": "python",
   "pygments_lexer": "ipython3",
   "version": "3.9.12"
  }
 },
 "nbformat": 4,
 "nbformat_minor": 5
}
