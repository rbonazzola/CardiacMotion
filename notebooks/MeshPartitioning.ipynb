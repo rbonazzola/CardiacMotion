{
 "cells": [
  {
   "cell_type": "code",
   "execution_count": 90,
   "id": "dea91f95-33c2-4447-84ba-f5f9069dd706",
   "metadata": {},
   "outputs": [],
   "source": [
    "import pandas as pd\n",
    "import numpy as np\n",
    "from scipy import sparse as sp"
   ]
  },
  {
   "cell_type": "code",
   "execution_count": 68,
   "id": "37a04050-a3d3-479c-8841-54e310f9ac83",
   "metadata": {},
   "outputs": [],
   "source": [
    "df = pd.read_csv(\"/home/user/01_repos/CardioMesh/data/subpartIDs_FHM_10pct.txt\", header=None)\n",
    "df.columns = [\"partition\"]"
   ]
  },
  {
   "cell_type": "code",
   "execution_count": 69,
   "id": "8fd653b6-b169-46d7-8628-a57a8beebbb0",
   "metadata": {},
   "outputs": [],
   "source": [
    "partitions = {\n",
    "  \"left_atrium\" : (\"LA\", \"MVP\", \"PV1\", \"PV2\", \"PV3\", \"PV4\", \"PV5\"),\n",
    "  \"right_atrium\" : (\"RA\", \"TVP\", \"PV6\", \"PV7\"),\n",
    "  \"left_ventricle\" : (\"LV\", \"AVP\", \"MVP\"),\n",
    "  \"right_ventricle\" : (\"RV\", \"PVP\", \"TVP\"),\n",
    "  \"biventricle\" : (\"LV\", \"AVP\", \"MVP\", \"RV\", \"PVP\", \"TVP\"),\n",
    "  \"aorta\" : (\"aorta\",)\n",
    "}"
   ]
  },
  {
   "cell_type": "code",
   "execution_count": 70,
   "id": "3d222953-5368-4a9f-b810-9a8338b7b659",
   "metadata": {},
   "outputs": [],
   "source": [
    "subpart_names = [\"LV\", \"AVP\", \"LA\", \"MVP\", \"RV\", \"PVP\", \"PV1\", \"PV2\", \"PV3\", \"PV4\", \"PV5\", \"RA\", \"TVP\", \"PV6\", \"PV7\", \"aorta\"]"
   ]
  },
  {
   "cell_type": "code",
   "execution_count": 71,
   "id": "a65c6dd1-0690-4341-b66c-295724e4d652",
   "metadata": {},
   "outputs": [],
   "source": [
    "for subpart_name in subpart_names:\n",
    "    df[subpart_name] = df.partition == subpart_name"
   ]
  },
  {
   "cell_type": "code",
   "execution_count": 86,
   "id": "57fd7fdb-ae1b-4a8f-87fb-b1621d369868",
   "metadata": {},
   "outputs": [],
   "source": [
    "for partition in partitions:    \n",
    "    indices[partition] = df[list(partitions[partition])].apply(any, axis=1)"
   ]
  },
  {
   "cell_type": "code",
   "execution_count": 95,
   "id": "f5618f03-45d9-4eb9-8772-3ea6fd482b33",
   "metadata": {},
   "outputs": [
    {
     "name": "stderr",
     "output_type": "stream",
     "text": [
      "/tmp/ipykernel_26105/3802785698.py:4: DeprecationWarning: Please use `csc_matrix` from the `scipy.sparse` namespace, the `scipy.sparse.csc` namespace is deprecated.\n",
      "  subsetting_mtx = sp.csc.csc_matrix(\n"
     ]
    }
   ],
   "source": [
    "col_ind = indices[\"left_ventricle\"].index[indices[\"left_ventricle\"]].to_list()\n",
    "row_ind = list(range(len(col_ind)))\n",
    "\n",
    "subsetting_mtx = sp.csc.csc_matrix(\n",
    "  (np.ones(len(col_ind)), (row_ind, col_ind)), \n",
    "  shape=(len(col_ind), df.shape[0])\n",
    ")"
   ]
  },
  {
   "cell_type": "code",
   "execution_count": 96,
   "id": "75a11126-9391-4b4a-a402-94b92a602878",
   "metadata": {},
   "outputs": [
    {
     "data": {
      "text/plain": [
       "<5101x19455 sparse matrix of type '<class 'numpy.float64'>'\n",
       "\twith 5101 stored elements in Compressed Sparse Column format>"
      ]
     },
     "execution_count": 96,
     "metadata": {},
     "output_type": "execute_result"
    }
   ],
   "source": [
    "subsetting_mtx"
   ]
  },
  {
   "cell_type": "code",
   "execution_count": 76,
   "id": "7dae7624-be67-4623-bbee-3465344f76ca",
   "metadata": {},
   "outputs": [
    {
     "data": {
      "text/plain": [
       "[3794, 3680, 5101, 4738, 9839, 2252]"
      ]
     },
     "execution_count": 76,
     "metadata": {},
     "output_type": "execute_result"
    }
   ],
   "source": [
    "[sum(v) for k,v in indices.items()]"
   ]
  }
 ],
 "metadata": {
  "kernelspec": {
   "display_name": "Python 3 (ipykernel)",
   "language": "python",
   "name": "python3"
  },
  "language_info": {
   "codemirror_mode": {
    "name": "ipython",
    "version": 3
   },
   "file_extension": ".py",
   "mimetype": "text/x-python",
   "name": "python",
   "nbconvert_exporter": "python",
   "pygments_lexer": "ipython3",
   "version": "3.9.16"
  }
 },
 "nbformat": 4,
 "nbformat_minor": 5
}
