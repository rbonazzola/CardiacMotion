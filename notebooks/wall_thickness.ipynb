{
 "cells": [
  {
   "cell_type": "code",
   "execution_count": 1,
   "metadata": {},
   "outputs": [],
   "source": [
    "import os\n",
    "from subprocess import check_output\n",
    "import shlex\n",
    "os.chdir(check_output(shlex.split(\"git rev-parse --show-toplevel\")).strip().decode('ascii'))"
   ]
  },
  {
   "cell_type": "code",
   "execution_count": 2,
   "metadata": {},
   "outputs": [],
   "source": [
    "import vtk\n",
    "import meshio\n",
    "import pandas as pd\n",
    "import pickle as pkl\n",
    "\n",
    "import ipywidgets as widgets\n",
    "from IPython.display import display\n",
    "from ipywidgets import interact, interactive, fixed, interact_manual\n",
    "\n",
    "import scipy\n",
    "from scipy.stats import spearmanr\n",
    "\n",
    "import pyvista as pv\n",
    "import numpy as np\n",
    "import matplotlib.pyplot as plt\n",
    "from utils.CardioMesh.CardiacMesh import Cardiac3DMesh as Mesh"
   ]
  },
  {
   "cell_type": "code",
   "execution_count": 4,
   "metadata": {},
   "outputs": [],
   "source": [
    "EPI, ENDO = 1, 2\n",
    "\n",
    "AHA_FILENAME = \"utils/CardioMesh/data/LV_4396_vertices_with_aha_segments.vtk\"\n",
    "lv_aha_mesh = meshio.read(AHA_FILENAME)\n",
    "lv_aha_labels = lv_aha_mesh.point_data['subpartID'].astype(int)\n",
    "\n",
    "EPIENDO_FILENAME = \"utils/CardioMesh/data/LV_4396_vertices_with_epi_endo.vtk\"\n",
    "epiendo_mesh = meshio.read(EPIENDO_FILENAME)\n",
    "epi_endo_labels = epiendo_mesh.point_data['subpartID'].astype(int)"
   ]
  },
  {
   "cell_type": "markdown",
   "metadata": {},
   "source": [
    "### Wall thickness"
   ]
  },
  {
   "cell_type": "markdown",
   "metadata": {},
   "source": [
    "For each point in the epicardial surface, find closest point in the endocardial surface."
   ]
  },
  {
   "cell_type": "code",
   "execution_count": null,
   "metadata": {},
   "outputs": [],
   "source": [
    "@interact\n",
    "def count_vertices(aha_index=widgets.IntSlider(min=1, max=17)):\n",
    "    print (sum((epi_endo_labels == EPI) & (lv_aha_labels == aha_index)))    "
   ]
  },
  {
   "cell_type": "code",
   "execution_count": 5,
   "metadata": {},
   "outputs": [],
   "source": [
    "endo_indices = (epi_endo_labels == ENDO)\n",
    "epi_aha_indices = {i: (epi_endo_labels == EPI) & (lv_aha_labels == i) for i in range(1,18)}"
   ]
  },
  {
   "cell_type": "code",
   "execution_count": null,
   "metadata": {},
   "outputs": [],
   "source": [
    "from tqdm import tqdm"
   ]
  },
  {
   "cell_type": "code",
   "execution_count": 6,
   "metadata": {
    "tags": []
   },
   "outputs": [],
   "source": [
    "from scipy import sparse as sp\n",
    "\n",
    "subpart_df = pd.read_csv(\"/home/user/01_repos/CardioMesh/data/subpartIDs_FHM_10pct.txt\", header=None)\n",
    "lv_indices = subpart_df == \"LV\"\n",
    "\n",
    "col_ind = lv_indices.index[lv_indices[0]].to_list()\n",
    "row_ind = list(range(len(col_ind)))\n",
    "    \n",
    "subsetting_mtx = sp.csc_matrix(\n",
    "    (np.ones(len(col_ind)), (row_ind, col_ind)), \n",
    "    shape=(len(col_ind), subpart_df.shape[0])\n",
    ")"
   ]
  },
  {
   "cell_type": "code",
   "execution_count": 14,
   "metadata": {},
   "outputs": [],
   "source": [
    "def compute_thickness_per_aha(id):\n",
    "    \n",
    "    mean_d_per_segment = []\n",
    "\n",
    "    for t in range(50):\n",
    "    \n",
    "        mean_d_per_segment.append([])\n",
    "        \n",
    "        timeframe = str(t+1).zfill(3)\n",
    "        \n",
    "        point_cloud_file = f\"/mnt/data/workshop/workshop-user1/datasets/meshes/Results_Yan/{id}/models/FHM_res_0.1_time{timeframe}.npy\"\n",
    "        \n",
    "        if not os.path.exists(point_cloud_file):\n",
    "            print(f\"{point_cloud_file} does not exist.\")\n",
    "            mean_d_per_segment[t] = [0] * 17\n",
    "            \n",
    "        point_cloud =  np.load(point_cloud_file)        \n",
    "        lv_mesh = subsetting_mtx * point_cloud\n",
    "        \n",
    "        # fhm_mesh = Mesh(\n",
    "        #     filename=f\"/mnt/data/workshop/workshop-user1/datasets/meshes/Results_Yan/{id}/models/FHM_res_0.1_time{timeframe}.npy\",\n",
    "        #     faces_filename=\"/home/user/01_repos/CardioMesh/data/faces_fhm_10pct_decimation.csv\",\n",
    "        #     subpart_id_filename=\"/home/user/01_repos/CardioMesh/data/subpartIDs_FHM_10pct.txt\"\n",
    "        # )\n",
    "        # \n",
    "        # lv_mesh = fhm_mesh[\"LV\"]\n",
    "        \n",
    "        for segment in range(1, 18):\n",
    "        \n",
    "            epi_aha_mesh = lv_mesh[epi_aha_indices[segment]]\n",
    "            endo_mesh = lv_mesh[endo_indices] # .unsqueeze(1).shape\n",
    "            \n",
    "            epi_aha_mesh_reshaped = epi_aha_mesh.reshape(epi_aha_mesh.shape[0], 1, 3)\n",
    "            endo_mesh_reshaped = endo_mesh.reshape(1, endo_mesh.shape[0], 3)\n",
    "            \n",
    "            distance_pairs = ((epi_aha_mesh_reshaped - endo_mesh_reshaped)**2).sum(2)\n",
    "            endo_closest = distance_pairs.argmin(axis=1)\n",
    "            \n",
    "            mean_d = np.sqrt(np.array(\n",
    "                [ distance_pairs[i, endo_closest[i]] for i in range(distance_pairs.shape[0]) ]\n",
    "            )).mean()\n",
    "            \n",
    "            mean_d_per_segment[t].append(mean_d)        \n",
    "            # print(mean_d.round(3))\n",
    "            \n",
    "    return mean_d_per_segment"
   ]
  },
  {
   "cell_type": "code",
   "execution_count": 15,
   "metadata": {},
   "outputs": [],
   "source": [
    "all_ids = sorted(os.listdir(\"/mnt/data/workshop/workshop-user1/datasets/meshes/Results_Yan/\"))"
   ]
  },
  {
   "cell_type": "code",
   "execution_count": null,
   "metadata": {
    "tags": []
   },
   "outputs": [],
   "source": [
    "%%timeit\n",
    "kk = np.array(compute_thickness(\"1000215\"))"
   ]
  },
  {
   "cell_type": "code",
   "execution_count": 16,
   "metadata": {},
   "outputs": [],
   "source": [
    "import multiprocessing\n",
    "\n",
    "def worker_function(args):\n",
    "    \n",
    "    start, end = args\n",
    "    \n",
    "    for i in range(start, end):\n",
    "        id = ids[i]\n",
    "        NPY_FILE = f\"notebooks/thicknesses/{id}_thickness_per_aha.npy\"\n",
    "        # if os.path.exists(NPY_FILE):\n",
    "        #     continue\n",
    "        thickness = compute_thickness_per_aha(id)\n",
    "        np.save(NPY_FILE, thickness)\n",
    "        \n",
    "    # return dd\n",
    "\n",
    "\n",
    "def parallel_for_loop(num_cores, total_iterations):\n",
    "    \n",
    "    chunk_size = total_iterations // num_cores\n",
    "    pool = multiprocessing.Pool(processes=num_cores)\n",
    "    \n",
    "    # Split the loop into chunks and assign them to different processes\n",
    "    # results = \n",
    "    indices = [(i, i + chunk_size) for i in range(0, total_iterations, chunk_size)]\n",
    "    # print(indices)\n",
    "    pool.map(worker_function, indices)\n",
    "    \n",
    "    pool.close()\n",
    "    pool.join()\n",
    "\n",
    "    # return results\n",
    "    # Combine results from different processes\n",
    "    # final_result = sum(results)\n",
    "    \n",
    "    # return final_result\n"
   ]
  },
  {
   "cell_type": "code",
   "execution_count": 17,
   "metadata": {
    "collapsed": true,
    "jupyter": {
     "outputs_hidden": true
    },
    "tags": []
   },
   "outputs": [
    {
     "name": "stdout",
     "output_type": "stream",
     "text": [
      "46363\n",
      "/mnt/data/workshop/workshop-user1/datasets/meshes/Results_Yan/1010018/models/FHM_res_0.1_time001.npy does not exist./mnt/data/workshop/workshop-user1/datasets/meshes/Results_Yan/1162935/models/FHM_res_0.1_time001.npy does not exist.\n",
      "\n",
      "/mnt/data/workshop/workshop-user1/datasets/meshes/Results_Yan/2315960/models/FHM_res_0.1_time001.npy does not exist./mnt/data/workshop/workshop-user1/datasets/meshes/Results_Yan/2124046/models/FHM_res_0.1_time001.npy does not exist.\n",
      "\n",
      "/mnt/data/workshop/workshop-user1/datasets/meshes/Results_Yan/3424313/models/FHM_res_0.1_time001.npy does not exist.\n",
      "/mnt/data/workshop/workshop-user1/datasets/meshes/Results_Yan/5214655/models/FHM_res_0.1_time001.npy does not exist.\n",
      "/mnt/data/workshop/workshop-user1/datasets/meshes/Results_Yan/5721387/models/FHM_res_0.1_time001.npy does not exist.\n",
      "/mnt/data/workshop/workshop-user1/datasets/meshes/Results_Yan/4806877/models/FHM_res_0.1_time007.npy does not exist.\n",
      "/mnt/data/workshop/workshop-user1/datasets/meshes/Results_Yan/5695769/models/FHM_res_0.1_time006.npy does not exist.\n",
      "/mnt/data/workshop/workshop-user1/datasets/meshes/Results_Yan/4278622/models/FHM_res_0.1_time008.npy does not exist.\n",
      "/mnt/data/workshop/workshop-user1/datasets/meshes/Results_Yan/4182540/models/FHM_res_0.1_time004.npy does not exist.\n",
      "/mnt/data/workshop/workshop-user1/datasets/meshes/Results_Yan/1285261/models/FHM_res_0.1_time001.npy does not exist.\n",
      "/mnt/data/workshop/workshop-user1/datasets/meshes/Results_Yan/5453402/models/FHM_res_0.1_time001.npy does not exist.\n",
      "/mnt/data/workshop/workshop-user1/datasets/meshes/Results_Yan/2390027/models/FHM_res_0.1_time045.npy does not exist.\n",
      "/mnt/data/workshop/workshop-user1/datasets/meshes/Results_Yan/1981164/models/FHM_res_0.1_time001.npy does not exist.\n",
      "/mnt/data/workshop/workshop-user1/datasets/meshes/Results_Yan/3328939/models/FHM_res_0.1_time005.npy does not exist.\n",
      "/mnt/data/workshop/workshop-user1/datasets/meshes/Results_Yan/2579033/models/FHM_res_0.1_time040.npy does not exist.\n",
      "/mnt/data/workshop/workshop-user1/datasets/meshes/Results_Yan/3784641/models/FHM_res_0.1_time041.npy does not exist.\n",
      "/mnt/data/workshop/workshop-user1/datasets/meshes/Results_Yan/3808740/models/FHM_res_0.1_time029.npy does not exist.\n",
      "/mnt/data/workshop/workshop-user1/datasets/meshes/Results_Yan/2626770/models/FHM_res_0.1_time028.npy does not exist.\n",
      "/mnt/data/workshop/workshop-user1/datasets/meshes/Results_Yan/1808630/models/FHM_res_0.1_time001.npy does not exist.\n",
      "/mnt/data/workshop/workshop-user1/datasets/meshes/Results_Yan/3473274/models/FHM_res_0.1_time047.npy does not exist.\n",
      "/mnt/data/workshop/workshop-user1/datasets/meshes/Results_Yan/2868519/models/FHM_res_0.1_time018.npy does not exist.\n",
      "/mnt/data/workshop/workshop-user1/datasets/meshes/Results_Yan/4028765/models/FHM_res_0.1_time025.npy does not exist.\n",
      "/mnt/data/workshop/workshop-user1/datasets/meshes/Results_Yan/3448072/models/FHM_res_0.1_time036.npy does not exist.\n",
      "/mnt/data/workshop/workshop-user1/datasets/meshes/Results_Yan/5159525/models/FHM_res_0.1_time002.npy does not exist./mnt/data/workshop/workshop-user1/datasets/meshes/Results_Yan/2914260/models/FHM_res_0.1_time001.npy does not exist.\n",
      "\n",
      "/mnt/data/workshop/workshop-user1/datasets/meshes/Results_Yan/2051303/models/FHM_res_0.1_time001.npy does not exist.\n",
      "/mnt/data/workshop/workshop-user1/datasets/meshes/Results_Yan/4081674/models/FHM_res_0.1_time039.npy does not exist.\n",
      "/mnt/data/workshop/workshop-user1/datasets/meshes/Results_Yan/3210473/models/FHM_res_0.1_time030.npy does not exist.\n",
      "/mnt/data/workshop/workshop-user1/datasets/meshes/Results_Yan/3953545/models/FHM_res_0.1_time029.npy does not exist.\n",
      "/mnt/data/workshop/workshop-user1/datasets/meshes/Results_Yan/4205840/models/FHM_res_0.1_time037.npy does not exist.\n",
      "/mnt/data/workshop/workshop-user1/datasets/meshes/Results_Yan/2004835/models/FHM_res_0.1_time001.npy does not exist.\n",
      "/mnt/data/workshop/workshop-user1/datasets/meshes/Results_Yan/3304014/models/FHM_res_0.1_time048.npy does not exist.\n",
      "/mnt/data/workshop/workshop-user1/datasets/meshes/Results_Yan/3645034/models/FHM_res_0.1_time038.npy does not exist.\n",
      "/mnt/data/workshop/workshop-user1/datasets/meshes/Results_Yan/4105122/models/FHM_res_0.1_time050.npy does not exist.\n",
      "/mnt/data/workshop/workshop-user1/datasets/meshes/Results_Yan/3038250/models/FHM_res_0.1_time034.npy does not exist.\n",
      "/mnt/data/workshop/workshop-user1/datasets/meshes/Results_Yan/2961766/models/FHM_res_0.1_time038.npy does not exist.\n",
      "/mnt/data/workshop/workshop-user1/datasets/meshes/Results_Yan/3737443/models/FHM_res_0.1_time045.npy does not exist.\n",
      "/mnt/data/workshop/workshop-user1/datasets/meshes/Results_Yan/1930700/models/FHM_res_0.1_time001.npy does not exist.\n",
      "/mnt/data/workshop/workshop-user1/datasets/meshes/Results_Yan/4928282/models/FHM_res_0.1_time048.npy does not exist.\n",
      "/mnt/data/workshop/workshop-user1/datasets/meshes/Results_Yan/4054540/models/FHM_res_0.1_time002.npy does not exist.\n",
      "/mnt/data/workshop/workshop-user1/datasets/meshes/Results_Yan/3668089/models/FHM_res_0.1_time050.npy does not exist.\n",
      "/mnt/data/workshop/workshop-user1/datasets/meshes/Results_Yan/4880606/models/FHM_res_0.1_time045.npy does not exist.\n",
      "/mnt/data/workshop/workshop-user1/datasets/meshes/Results_Yan/4665293/models/FHM_res_0.1_time045.npy does not exist.\n",
      "/mnt/data/workshop/workshop-user1/datasets/meshes/Results_Yan/4132028/models/FHM_res_0.1_time006.npy does not exist.\n",
      "/mnt/data/workshop/workshop-user1/datasets/meshes/Results_Yan/2678208/models/FHM_res_0.1_time001.npy does not exist.\n",
      "/mnt/data/workshop/workshop-user1/datasets/meshes/Results_Yan/2603665/models/FHM_res_0.1_time040.npy does not exist.\n",
      "/mnt/data/workshop/workshop-user1/datasets/meshes/Results_Yan/2340669/models/FHM_res_0.1_time001.npy does not exist.\n",
      "/mnt/data/workshop/workshop-user1/datasets/meshes/Results_Yan/3691826/models/FHM_res_0.1_time050.npy does not exist.\n",
      "/mnt/data/workshop/workshop-user1/datasets/meshes/Results_Yan/2028298/models/FHM_res_0.1_time001.npy does not exist.\n",
      "/mnt/data/workshop/workshop-user1/datasets/meshes/Results_Yan/5527939/models/FHM_res_0.1_time002.npy does not exist.\n",
      "/mnt/data/workshop/workshop-user1/datasets/meshes/Results_Yan/1511943/models/FHM_res_0.1_time001.npy does not exist.\n",
      "/mnt/data/workshop/workshop-user1/datasets/meshes/Results_Yan/3621327/models/FHM_res_0.1_time021.npy does not exist.\n",
      "/mnt/data/workshop/workshop-user1/datasets/meshes/Results_Yan/1543060/models/FHM_res_0.1_time001.npy does not exist.\n",
      "/mnt/data/workshop/workshop-user1/datasets/meshes/Results_Yan/2652427/models/FHM_res_0.1_time025.npy does not exist.\n",
      "/mnt/data/workshop/workshop-user1/datasets/meshes/Results_Yan/4783902/models/FHM_res_0.1_time045.npy does not exist.\n",
      "/mnt/data/workshop/workshop-user1/datasets/meshes/Results_Yan/4712139/models/FHM_res_0.1_time024.npy does not exist.\n",
      "/mnt/data/workshop/workshop-user1/datasets/meshes/Results_Yan/3352877/models/FHM_res_0.1_time030.npy does not exist.\n",
      "/mnt/data/workshop/workshop-user1/datasets/meshes/Results_Yan/4471153/models/FHM_res_0.1_time040.npy does not exist.\n",
      "/mnt/data/workshop/workshop-user1/datasets/meshes/Results_Yan/1901043/models/FHM_res_0.1_time002.npy does not exist.\n",
      "/mnt/data/workshop/workshop-user1/datasets/meshes/Results_Yan/4254475/models/FHM_res_0.1_time046.npy does not exist.\n",
      "/mnt/data/workshop/workshop-user1/datasets/meshes/Results_Yan/3281695/models/FHM_res_0.1_time043.npy does not exist.\n",
      "/mnt/data/workshop/workshop-user1/datasets/meshes/Results_Yan/5389090/models/FHM_res_0.1_time002.npy does not exist.\n",
      "/mnt/data/workshop/workshop-user1/datasets/meshes/Results_Yan/4494602/models/FHM_res_0.1_time049.npy does not exist.\n",
      "/mnt/data/workshop/workshop-user1/datasets/meshes/Results_Yan/3256679/models/FHM_res_0.1_time038.npy does not exist.\n",
      "/mnt/data/workshop/workshop-user1/datasets/meshes/Results_Yan/4905099/models/FHM_res_0.1_time048.npy does not exist.\n",
      "/mnt/data/workshop/workshop-user1/datasets/meshes/Results_Yan/3904672/models/FHM_res_0.1_time049.npy does not exist.\n",
      "/mnt/data/workshop/workshop-user1/datasets/meshes/Results_Yan/3715470/models/FHM_res_0.1_time038.npy does not exist.\n",
      "/mnt/data/workshop/workshop-user1/datasets/meshes/Results_Yan/5627310/models/FHM_res_0.1_time001.npy does not exist.\n",
      "/mnt/data/workshop/workshop-user1/datasets/meshes/Results_Yan/3979170/models/FHM_res_0.1_time048.npy does not exist.\n",
      "/mnt/data/workshop/workshop-user1/datasets/meshes/Results_Yan/2531784/models/FHM_res_0.1_time023.npy does not exist.\n",
      "/mnt/data/workshop/workshop-user1/datasets/meshes/Results_Yan/3834007/models/FHM_res_0.1_time013.npy does not exist.\n",
      "/mnt/data/workshop/workshop-user1/datasets/meshes/Results_Yan/3377303/models/FHM_res_0.1_time019.npy does not exist.\n",
      "/mnt/data/workshop/workshop-user1/datasets/meshes/Results_Yan/3571640/models/FHM_res_0.1_time045.npy does not exist.\n",
      "/mnt/data/workshop/workshop-user1/datasets/meshes/Results_Yan/3235406/models/FHM_res_0.1_time046.npy does not exist.\n",
      "/mnt/data/workshop/workshop-user1/datasets/meshes/Results_Yan/2101139/models/FHM_res_0.1_time001.npy does not exist.\n",
      "/mnt/data/workshop/workshop-user1/datasets/meshes/Results_Yan/4832293/models/FHM_res_0.1_time048.npy does not exist.\n",
      "/mnt/data/workshop/workshop-user1/datasets/meshes/Results_Yan/5135227/models/FHM_res_0.1_time002.npy does not exist.\n",
      "/mnt/data/workshop/workshop-user1/datasets/meshes/Results_Yan/3135984/models/FHM_res_0.1_time044.npy does not exist.\n",
      "/mnt/data/workshop/workshop-user1/datasets/meshes/Results_Yan/4156924/models/FHM_res_0.1_time047.npy does not exist.\n",
      "/mnt/data/workshop/workshop-user1/datasets/meshes/Results_Yan/5774836/models/FHM_res_0.1_time002.npy does not exist.\n",
      "/mnt/data/workshop/workshop-user1/datasets/meshes/Results_Yan/3596330/models/FHM_res_0.1_time005.npy does not exist.\n",
      "/mnt/data/workshop/workshop-user1/datasets/meshes/Results_Yan/1332087/models/FHM_res_0.1_time001.npy does not exist.\n",
      "/mnt/data/workshop/workshop-user1/datasets/meshes/Results_Yan/2989373/models/FHM_res_0.1_time049.npy does not exist.\n",
      "/mnt/data/workshop/workshop-user1/datasets/meshes/Results_Yan/4542552/models/FHM_res_0.1_time029.npy does not exist.\n",
      "/mnt/data/workshop/workshop-user1/datasets/meshes/Results_Yan/4378603/models/FHM_res_0.1_time019.npy does not exist.\n",
      "/mnt/data/workshop/workshop-user1/datasets/meshes/Results_Yan/3928030/models/FHM_res_0.1_time042.npy does not exist.\n",
      "/mnt/data/workshop/workshop-user1/datasets/meshes/Results_Yan/4735956/models/FHM_res_0.1_time037.npy does not exist.\n",
      "/mnt/data/workshop/workshop-user1/datasets/meshes/Results_Yan/4591257/models/FHM_res_0.1_time048.npy does not exist.\n",
      "/mnt/data/workshop/workshop-user1/datasets/meshes/Results_Yan/4519626/models/FHM_res_0.1_time050.npy does not exist.\n",
      "/mnt/data/workshop/workshop-user1/datasets/meshes/Results_Yan/2076917/models/FHM_res_0.1_time001.npy does not exist.\n",
      "/mnt/data/workshop/workshop-user1/datasets/meshes/Results_Yan/3160774/models/FHM_res_0.1_time048.npy does not exist.\n",
      "/mnt/data/workshop/workshop-user1/datasets/meshes/Results_Yan/3880806/models/FHM_res_0.1_time001.npy does not exist.\n",
      "/mnt/data/workshop/workshop-user1/datasets/meshes/Results_Yan/4353537/models/FHM_res_0.1_time026.npy does not exist.\n",
      "/mnt/data/workshop/workshop-user1/datasets/meshes/Results_Yan/2491166/models/FHM_res_0.1_time042.npy does not exist.\n",
      "/mnt/data/workshop/workshop-user1/datasets/meshes/Results_Yan/3761279/models/FHM_res_0.1_time044.npy does not exist.\n",
      "/mnt/data/workshop/workshop-user1/datasets/meshes/Results_Yan/4642304/models/FHM_res_0.1_time002.npy does not exist.\n",
      "/mnt/data/workshop/workshop-user1/datasets/meshes/Results_Yan/3546355/models/FHM_res_0.1_time049.npy does not exist.\n",
      "/mnt/data/workshop/workshop-user1/datasets/meshes/Results_Yan/3187215/models/FHM_res_0.1_time031.npy does not exist.\n",
      "/mnt/data/workshop/workshop-user1/datasets/meshes/Results_Yan/4976525/models/FHM_res_0.1_time050.npy does not exist.\n",
      "/mnt/data/workshop/workshop-user1/datasets/meshes/Results_Yan/2554814/models/FHM_res_0.1_time021.npy does not exist.\n",
      "/mnt/data/workshop/workshop-user1/datasets/meshes/Results_Yan/2230534/models/FHM_res_0.1_time001.npy does not exist.\n",
      "/mnt/data/workshop/workshop-user1/datasets/meshes/Results_Yan/4304522/models/FHM_res_0.1_time049.npy does not exist.\n",
      "/mnt/data/workshop/workshop-user1/datasets/meshes/Results_Yan/1748314/models/FHM_res_0.1_time004.npy does not exist.\n",
      "/mnt/data/workshop/workshop-user1/datasets/meshes/Results_Yan/2737846/models/FHM_res_0.1_time039.npy does not exist.\n",
      "/mnt/data/workshop/workshop-user1/datasets/meshes/Results_Yan/3086808/models/FHM_res_0.1_time023.npy does not exist.\n",
      "/mnt/data/workshop/workshop-user1/datasets/meshes/Results_Yan/2282010/models/FHM_res_0.1_time031.npy does not exist.\n",
      "/mnt/data/workshop/workshop-user1/datasets/meshes/Results_Yan/2174713/models/FHM_res_0.1_time001.npy does not exist.\n",
      "/mnt/data/workshop/workshop-user1/datasets/meshes/Results_Yan/2148888/models/FHM_res_0.1_time001.npy does not exist.\n",
      "/mnt/data/workshop/workshop-user1/datasets/meshes/Results_Yan/1849464/models/FHM_res_0.1_time001.npy does not exist.\n",
      "/mnt/data/workshop/workshop-user1/datasets/meshes/Results_Yan/2256286/models/FHM_res_0.1_time001.npy does not exist.\n",
      "/mnt/data/workshop/workshop-user1/datasets/meshes/Results_Yan/2789726/models/FHM_res_0.1_time041.npy does not exist.\n",
      "/mnt/data/workshop/workshop-user1/datasets/meshes/Results_Yan/2456011/models/FHM_res_0.1_time050.npy does not exist.\n",
      "/mnt/data/workshop/workshop-user1/datasets/meshes/Results_Yan/2207988/models/FHM_res_0.1_time001.npy does not exist.\n",
      "/mnt/data/workshop/workshop-user1/datasets/meshes/Results_Yan/4690940/models/FHM_res_0.1_time008.npy does not exist.\n",
      "/mnt/data/workshop/workshop-user1/datasets/meshes/Results_Yan/3014108/models/FHM_res_0.1_time049.npy does not exist.\n",
      "/mnt/data/workshop/workshop-user1/datasets/meshes/Results_Yan/4759178/models/FHM_res_0.1_time044.npy does not exist.\n",
      "/mnt/data/workshop/workshop-user1/datasets/meshes/Results_Yan/2365796/models/FHM_res_0.1_time001.npy does not exist.\n",
      "/mnt/data/workshop/workshop-user1/datasets/meshes/Results_Yan/4448036/models/FHM_res_0.1_time050.npy does not exist.\n",
      "/mnt/data/workshop/workshop-user1/datasets/meshes/Results_Yan/3500248/models/FHM_res_0.1_time039.npy does not exist.\n",
      "/mnt/data/workshop/workshop-user1/datasets/meshes/Results_Yan/3858088/models/FHM_res_0.1_time006.npy does not exist.\n",
      "/mnt/data/workshop/workshop-user1/datasets/meshes/Results_Yan/4952140/models/FHM_res_0.1_time003.npy does not exist.\n",
      "/mnt/data/workshop/workshop-user1/datasets/meshes/Results_Yan/2814174/models/FHM_res_0.1_time001.npy does not exist.\n",
      "/mnt/data/workshop/workshop-user1/datasets/meshes/Results_Yan/3062553/models/FHM_res_0.1_time037.npy does not exist.\n",
      "/mnt/data/workshop/workshop-user1/datasets/meshes/Results_Yan/4330317/models/FHM_res_0.1_time042.npy does not exist.\n",
      "/mnt/data/workshop/workshop-user1/datasets/meshes/Results_Yan/5026642/models/FHM_res_0.1_time002.npy does not exist.\n",
      "/mnt/data/workshop/workshop-user1/datasets/meshes/Results_Yan/2939140/models/FHM_res_0.1_time041.npy does not exist.\n",
      "/mnt/data/workshop/workshop-user1/datasets/meshes/Results_Yan/2893158/models/FHM_res_0.1_time008.npy does not exist.\n",
      "/mnt/data/workshop/workshop-user1/datasets/meshes/Results_Yan/3113323/models/FHM_res_0.1_time005.npy does not exist.\n",
      "/mnt/data/workshop/workshop-user1/datasets/meshes/Results_Yan/4618726/models/FHM_res_0.1_time049.npy does not exist.\n",
      "/mnt/data/workshop/workshop-user1/datasets/meshes/Results_Yan/4005699/models/FHM_res_0.1_time006.npy does not exist.\n",
      "/mnt/data/workshop/workshop-user1/datasets/meshes/Results_Yan/3402120/models/FHM_res_0.1_time035.npy does not exist.\n",
      "/mnt/data/workshop/workshop-user1/datasets/meshes/Results_Yan/2769702/models/FHM_res_0.1_time001.npy does not exist.\n",
      "/mnt/data/workshop/workshop-user1/datasets/meshes/Results_Yan/5270861/models/FHM_res_0.1_time001.npy does not exist.\n",
      "/mnt/data/workshop/workshop-user1/datasets/meshes/Results_Yan/2844740/models/FHM_res_0.1_time006.npy does not exist.\n",
      "/mnt/data/workshop/workshop-user1/datasets/meshes/Results_Yan/4231616/models/FHM_res_0.1_time007.npy does not exist.\n",
      "/mnt/data/workshop/workshop-user1/datasets/meshes/Results_Yan/3523047/models/FHM_res_0.1_time046.npy does not exist.\n",
      "/mnt/data/workshop/workshop-user1/datasets/meshes/Results_Yan/4858387/models/FHM_res_0.1_time046.npy does not exist.\n",
      "/mnt/data/workshop/workshop-user1/datasets/meshes/Results_Yan/5419052/models/FHM_res_0.1_time001.npy does not exist.\n",
      "/mnt/data/workshop/workshop-user1/datasets/meshes/Results_Yan/4427451/models/FHM_res_0.1_time007.npy does not exist.\n",
      "/mnt/data/workshop/workshop-user1/datasets/meshes/Results_Yan/4404634/models/FHM_res_0.1_time047.npy does not exist.\n",
      "/mnt/data/workshop/workshop-user1/datasets/meshes/Results_Yan/4571070/models/FHM_res_0.1_time004.npy does not exist.\n",
      "/mnt/data/workshop/workshop-user1/datasets/meshes/Results_Yan/2709657/models/FHM_res_0.1_time001.npy does not exist.\n",
      "/mnt/data/workshop/workshop-user1/datasets/meshes/Results_Yan/5335895/models/FHM_res_0.1_time001.npy does not exist.\n",
      "/mnt/data/workshop/workshop-user1/datasets/meshes/Results_Yan/5056277/models/FHM_res_0.1_time001.npy does not exist.\n",
      "/mnt/data/workshop/workshop-user1/datasets/meshes/Results_Yan/5608712/models/FHM_res_0.1_time001.npy does not exist.\n",
      "/mnt/data/workshop/workshop-user1/datasets/meshes/Results_Yan/1963324/models/FHM_res_0.1_time001.npy does not exist.\n",
      "/mnt/data/workshop/workshop-user1/datasets/meshes/Results_Yan/5120783/models/FHM_res_0.1_time001.npy does not exist.\n",
      "/mnt/data/workshop/workshop-user1/datasets/meshes/Results_Yan/5582677/models/FHM_res_0.1_time001.npy does not exist.\n",
      "/mnt/data/workshop/workshop-user1/datasets/meshes/Results_Yan/5682834/models/FHM_res_0.1_time001.npy does not exist.\n",
      "/mnt/data/workshop/workshop-user1/datasets/meshes/Results_Yan/5251039/models/FHM_res_0.1_time001.npy does not exist.\n",
      "/mnt/data/workshop/workshop-user1/datasets/meshes/Results_Yan/5013329/models/FHM_res_0.1_time001.npy does not exist.\n",
      "/mnt/data/workshop/workshop-user1/datasets/meshes/Results_Yan/5516350/models/FHM_res_0.1_time001.npy does not exist.\n",
      "/mnt/data/workshop/workshop-user1/datasets/meshes/Results_Yan/2449023/models/FHM_res_0.1_time001.npy does not exist.\n"
     ]
    },
    {
     "ename": "FileNotFoundError",
     "evalue": "[Errno 2] No such file or directory: '/mnt/data/workshop/workshop-user1/datasets/meshes/Results_Yan/1010018/models/FHM_res_0.1_time001.npy'",
     "output_type": "error",
     "traceback": [
      "\u001b[0;31m---------------------------------------------------------------------------\u001b[0m",
      "\u001b[0;31mRemoteTraceback\u001b[0m                           Traceback (most recent call last)",
      "\u001b[0;31mRemoteTraceback\u001b[0m: \n\"\"\"\nTraceback (most recent call last):\n  File \"/home/user/miniconda/envs/cardiac_coma/lib/python3.9/multiprocessing/pool.py\", line 125, in worker\n    result = (True, func(*args, **kwds))\n  File \"/home/user/miniconda/envs/cardiac_coma/lib/python3.9/multiprocessing/pool.py\", line 48, in mapstar\n    return list(map(*args))\n  File \"/tmp/ipykernel_92915/1254782604.py\", line 12, in worker_function\n    thickness = compute_thickness_per_aha(id)\n  File \"/tmp/ipykernel_92915/2175018583.py\", line 17, in compute_thickness_per_aha\n    point_cloud =  np.load(point_cloud_file)\n  File \"/home/user/miniconda/envs/cardiac_coma/lib/python3.9/site-packages/numpy/lib/npyio.py\", line 390, in load\n    fid = stack.enter_context(open(os_fspath(file), \"rb\"))\nFileNotFoundError: [Errno 2] No such file or directory: '/mnt/data/workshop/workshop-user1/datasets/meshes/Results_Yan/1010018/models/FHM_res_0.1_time001.npy'\n\"\"\"",
      "\nThe above exception was the direct cause of the following exception:\n",
      "\u001b[0;31mFileNotFoundError\u001b[0m                         Traceback (most recent call last)",
      "Cell \u001b[0;32mIn[17], line 10\u001b[0m\n\u001b[1;32m      7\u001b[0m \u001b[38;5;28mprint\u001b[39m(\u001b[38;5;28mlen\u001b[39m(ids))\n\u001b[1;32m      9\u001b[0m NUM_CORES \u001b[38;5;241m=\u001b[39m \u001b[38;5;241m200\u001b[39m \u001b[38;5;66;03m# multiprocessing.cpu_count()  # Use all available CPU cores\u001b[39;00m\n\u001b[0;32m---> 10\u001b[0m \u001b[43mparallel_for_loop\u001b[49m\u001b[43m(\u001b[49m\u001b[43mNUM_CORES\u001b[49m\u001b[43m,\u001b[49m\u001b[43m \u001b[49m\u001b[43mTOTAL_ITERATIONS\u001b[49m\u001b[43m)\u001b[49m\n",
      "Cell \u001b[0;32mIn[16], line 27\u001b[0m, in \u001b[0;36mparallel_for_loop\u001b[0;34m(num_cores, total_iterations)\u001b[0m\n\u001b[1;32m     25\u001b[0m indices \u001b[38;5;241m=\u001b[39m [(i, i \u001b[38;5;241m+\u001b[39m chunk_size) \u001b[38;5;28;01mfor\u001b[39;00m i \u001b[38;5;129;01min\u001b[39;00m \u001b[38;5;28mrange\u001b[39m(\u001b[38;5;241m0\u001b[39m, total_iterations, chunk_size)]\n\u001b[1;32m     26\u001b[0m \u001b[38;5;66;03m# print(indices)\u001b[39;00m\n\u001b[0;32m---> 27\u001b[0m \u001b[43mpool\u001b[49m\u001b[38;5;241;43m.\u001b[39;49m\u001b[43mmap\u001b[49m\u001b[43m(\u001b[49m\u001b[43mworker_function\u001b[49m\u001b[43m,\u001b[49m\u001b[43m \u001b[49m\u001b[43mindices\u001b[49m\u001b[43m)\u001b[49m\n\u001b[1;32m     29\u001b[0m pool\u001b[38;5;241m.\u001b[39mclose()\n\u001b[1;32m     30\u001b[0m pool\u001b[38;5;241m.\u001b[39mjoin()\n",
      "File \u001b[0;32m~/miniconda/envs/cardiac_coma/lib/python3.9/multiprocessing/pool.py:364\u001b[0m, in \u001b[0;36mPool.map\u001b[0;34m(self, func, iterable, chunksize)\u001b[0m\n\u001b[1;32m    359\u001b[0m \u001b[38;5;28;01mdef\u001b[39;00m \u001b[38;5;21mmap\u001b[39m(\u001b[38;5;28mself\u001b[39m, func, iterable, chunksize\u001b[38;5;241m=\u001b[39m\u001b[38;5;28;01mNone\u001b[39;00m):\n\u001b[1;32m    360\u001b[0m \u001b[38;5;250m    \u001b[39m\u001b[38;5;124;03m'''\u001b[39;00m\n\u001b[1;32m    361\u001b[0m \u001b[38;5;124;03m    Apply `func` to each element in `iterable`, collecting the results\u001b[39;00m\n\u001b[1;32m    362\u001b[0m \u001b[38;5;124;03m    in a list that is returned.\u001b[39;00m\n\u001b[1;32m    363\u001b[0m \u001b[38;5;124;03m    '''\u001b[39;00m\n\u001b[0;32m--> 364\u001b[0m     \u001b[38;5;28;01mreturn\u001b[39;00m \u001b[38;5;28;43mself\u001b[39;49m\u001b[38;5;241;43m.\u001b[39;49m\u001b[43m_map_async\u001b[49m\u001b[43m(\u001b[49m\u001b[43mfunc\u001b[49m\u001b[43m,\u001b[49m\u001b[43m \u001b[49m\u001b[43miterable\u001b[49m\u001b[43m,\u001b[49m\u001b[43m \u001b[49m\u001b[43mmapstar\u001b[49m\u001b[43m,\u001b[49m\u001b[43m \u001b[49m\u001b[43mchunksize\u001b[49m\u001b[43m)\u001b[49m\u001b[38;5;241;43m.\u001b[39;49m\u001b[43mget\u001b[49m\u001b[43m(\u001b[49m\u001b[43m)\u001b[49m\n",
      "File \u001b[0;32m~/miniconda/envs/cardiac_coma/lib/python3.9/multiprocessing/pool.py:771\u001b[0m, in \u001b[0;36mApplyResult.get\u001b[0;34m(self, timeout)\u001b[0m\n\u001b[1;32m    769\u001b[0m     \u001b[38;5;28;01mreturn\u001b[39;00m \u001b[38;5;28mself\u001b[39m\u001b[38;5;241m.\u001b[39m_value\n\u001b[1;32m    770\u001b[0m \u001b[38;5;28;01melse\u001b[39;00m:\n\u001b[0;32m--> 771\u001b[0m     \u001b[38;5;28;01mraise\u001b[39;00m \u001b[38;5;28mself\u001b[39m\u001b[38;5;241m.\u001b[39m_value\n",
      "\u001b[0;31mFileNotFoundError\u001b[0m: [Errno 2] No such file or directory: '/mnt/data/workshop/workshop-user1/datasets/meshes/Results_Yan/1010018/models/FHM_res_0.1_time001.npy'"
     ]
    }
   ],
   "source": [
    "TOTAL_ITERATIONS = 60000\n",
    "ids = [ \n",
    "    id for id in all_ids[:TOTAL_ITERATIONS] \n",
    "    if not os.path.exists(f\"notebooks/thicknesses/{id}_thickness_per_aha.npy\") \n",
    "]\n",
    "\n",
    "print(len(ids))\n",
    "\n",
    "NUM_CORES = 200 # multiprocessing.cpu_count()  # Use all available CPU cores\n",
    "parallel_for_loop(NUM_CORES, TOTAL_ITERATIONS)\n",
    "# result = parallel_for_loop(NUM_CORES, TOTAL_ITERATIONS)\n",
    "# print(\"Final result:\", result)"
   ]
  },
  {
   "cell_type": "code",
   "execution_count": null,
   "metadata": {},
   "outputs": [],
   "source": [
    "import matplotlib.pyplot as plt"
   ]
  },
  {
   "cell_type": "code",
   "execution_count": 28,
   "metadata": {},
   "outputs": [
    {
     "data": {
      "application/vnd.jupyter.widget-view+json": {
       "model_id": "1866b06b06e642578508c37189f94780",
       "version_major": 2,
       "version_minor": 0
      },
      "text/plain": [
       "interactive(children=(Select(description='id', options=('1010018', '1012756', '1012790', '1012863', '1012874',…"
      ]
     },
     "metadata": {},
     "output_type": "display_data"
    }
   ],
   "source": [
    "@interact\n",
    "def plot_thickness(id=widgets.Select(options=ids[:10]), aha_index=widgets.IntSlider(min=1, max=17, description=\"AHA segment\")):\n",
    "    t = np.load(f\"notebooks/thicknesses/{id}_thickness_per_aha.npy\")\n",
    "    plt.scatter(x=range(50), y=t[:, aha_index-1])"
   ]
  },
  {
   "cell_type": "code",
   "execution_count": null,
   "metadata": {},
   "outputs": [],
   "source": [
    "\n",
    "# count vertices per AHA segment \n",
    "# pd.Series(mesh.point_data['subpartID'].astype(int)).value_counts().sort_index()"
   ]
  },
  {
   "cell_type": "code",
   "execution_count": null,
   "metadata": {},
   "outputs": [],
   "source": [
    "wall_thickness = pkl.load(open(\"data/transforms/cached/wall_thickness.pkl\", \"rb\"))"
   ]
  },
  {
   "cell_type": "code",
   "execution_count": null,
   "metadata": {},
   "outputs": [],
   "source": [
    "wall_thickness[\"wall_thickness_epicardial\"].shape"
   ]
  },
  {
   "cell_type": "code",
   "execution_count": null,
   "metadata": {},
   "outputs": [],
   "source": [
    "normalized_wt = []\n",
    "for i, wt in enumerate(wall_thickness[\"wall_thickness_epicardial\"]):\n",
    "    cbrt_vol = wall_thickness[\"convex_hull_volumes\"][i]**(1./3)\n",
    "    normalized_wt.append(wt/cbrt_vol)\n",
    "normalized_wt = np.array(normalized_wt)"
   ]
  },
  {
   "cell_type": "code",
   "execution_count": null,
   "metadata": {},
   "outputs": [],
   "source": [
    "output_dir = \"output\"\n",
    "experiments = [x for x in os.listdir(output_dir) if os.path.exists(os.path.join(output_dir, x, \".finished\"))]\n",
    "\n",
    "w = widgets.Dropdown(\n",
    "    value=\"2020-09-11_02-13-41\",\n",
    "    options=experiments,\n",
    "    description='Experiment:',\n",
    "    disabled=False,\n",
    ")\n",
    "\n",
    "display(w)"
   ]
  },
  {
   "cell_type": "code",
   "execution_count": null,
   "metadata": {
    "scrolled": true
   },
   "outputs": [],
   "source": [
    "import ExperimentClass\n",
    "experiment = ExperimentClass.ComaExperiment(os.path.join(output_dir, w.value))\n",
    "experiment.load_model()"
   ]
  },
  {
   "cell_type": "code",
   "execution_count": null,
   "metadata": {},
   "outputs": [],
   "source": [
    "z = experiment.load_z()\n",
    "\n",
    "# reorder\n",
    "ids = np.array([int(x) for x in wall_thickness[\"ids\"]])\n",
    "# z = z.set_index(\"ID\").loc[ids,:].drop(\"subset\", 1)\n",
    "# z = np.array(z) # Pandas DataFrame to Numpy array"
   ]
  },
  {
   "cell_type": "code",
   "execution_count": null,
   "metadata": {},
   "outputs": [],
   "source": [
    "dic = pkl.load(open(\"data/transforms/cached/2ch_segmentation__LV__ED__non_scaled__dic.pkl\", \"rb\"))"
   ]
  },
  {
   "cell_type": "code",
   "execution_count": null,
   "metadata": {},
   "outputs": [],
   "source": [
    "# Get indices of each subpartition (LV endo and epi)\n",
    "LVRV = Mesh(\"template/template.vtk\").extractSubpart([1,2])\n",
    "\n",
    "# Booleans indicating vertices that belong to each surface\n",
    "endo_j = (LVRV.subpartID == 1)\n",
    "epi_j = (LVRV.subpartID == 2)"
   ]
  },
  {
   "cell_type": "code",
   "execution_count": null,
   "metadata": {},
   "outputs": [],
   "source": [
    "faces = np.hstack([[3] + list(x) for x in LVRV.triangles])\n",
    "LVRV_pv = pv.PolyData(dic[\"mean\"], faces)"
   ]
  },
  {
   "cell_type": "code",
   "execution_count": null,
   "metadata": {},
   "outputs": [],
   "source": [
    "id = 2\n",
    "# prepending a 3 before each triangle (PyVista format for faces)\n",
    "faces_epi = np.hstack([[3] + list(x) for x in lv_epi.triangles])\n",
    "lv_epi_pv = pv.PolyData(LVRV.points[epi_j], faces_epi)\n",
    "\n",
    "faces_endo = np.hstack([[3] + list(x) for x in lv_endo.triangles])\n",
    "lv_endo_pv = pv.PolyData(endo[id], faces_endo)\n",
    "\n",
    "# lv_epi_pv.plot(scalars=wall_thickness[id])\n",
    "# lv_epi_pv.rotate_z(180)\n",
    "# lv_endo_pv.rotate_z(180)"
   ]
  },
  {
   "cell_type": "code",
   "execution_count": null,
   "metadata": {},
   "outputs": [],
   "source": [
    "corr = spearmanr(z, normalized_wt, axis=0)"
   ]
  },
  {
   "cell_type": "code",
   "execution_count": null,
   "metadata": {},
   "outputs": [],
   "source": [
    "def plot_mesh(mesh, faces, angle=0):\n",
    "    \n",
    "  surf = pv.PolyData(mesh, faces)\n",
    "    \n",
    "  surf.rotate_z(angle)\n",
    "  plotter = pv.Plotter(notebook=True)\n",
    "  # kargs = {\"point_size\": 2, \"render_points_as_spheres\": True}\n",
    "    \n",
    "  # surf.plot() #, **kargs)\n",
    "  plotter.add_mesh(surf, show_edges=True)\n",
    "  plotter.show(interactive=True)\n",
    "\n",
    "  plotter.enable()"
   ]
  },
  {
   "cell_type": "code",
   "execution_count": null,
   "metadata": {},
   "outputs": [],
   "source": [
    "def f(id, angle):\n",
    "  \n",
    "  lv_epi_pv = pv.PolyData(epi[id], faces_epi)\n",
    "  lv_endo_pv = pv.PolyData(endo[id], faces_endo)\n",
    "\n",
    "  lv_epi_pv.rotate_z(angle)\n",
    "  lv_endo_pv.rotate_z(angle)\n",
    "  \n",
    "  plotter = pv.Plotter(notebook=False)\n",
    "          \n",
    "  # plotter.add_mesh(lv_epi_pv, opacity=0.8, scalars=wall_thickness['wall_thickness_epicardial'][id])\n",
    "  plotter.add_mesh(lv_epi_pv, opacity=1, scalars=corr.correlation[8:,(1,)])\n",
    "  plotter.add_mesh(lv_endo_pv, opacity=1)    \n",
    "  plotter.show(interactive=True)\n",
    "  plotter.enable()\n",
    "\n",
    "interact(f, \n",
    "  id = widgets.SelectionSlider(options=range(200)),\n",
    "  angle = widgets.SelectionSlider(options=range(360))\n",
    ")"
   ]
  },
  {
   "cell_type": "code",
   "execution_count": null,
   "metadata": {},
   "outputs": [],
   "source": [
    "def f():    \n",
    "    plotter = pv.Plotter(notebook=True)          \n",
    "    # plotter.add_mesh(LVRV_pv, opacity=0.8)#, scalars=wall_thickness['wall_thickness_epicardial'][id])\n",
    "    plotter.add_mesh(lv_epi_pv, opacity=1, scalars=corr.correlation[8:,(1,)])\n",
    "    plotter.add_mesh(lv_endo_pv, opacity=1)    \n",
    "    plotter.show(interactive=True)\n",
    "    plotter.enable()\n",
    "\n",
    "f()"
   ]
  }
 ],
 "metadata": {
  "kernelspec": {
   "display_name": "Python 3 (ipykernel)",
   "language": "python",
   "name": "python3"
  },
  "language_info": {
   "codemirror_mode": {
    "name": "ipython",
    "version": 3
   },
   "file_extension": ".py",
   "mimetype": "text/x-python",
   "name": "python",
   "nbconvert_exporter": "python",
   "pygments_lexer": "ipython3",
   "version": "3.9.16"
  }
 },
 "nbformat": 4,
 "nbformat_minor": 4
}
