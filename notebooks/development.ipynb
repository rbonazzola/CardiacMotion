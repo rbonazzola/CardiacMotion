{
 "cells": [
  {
   "cell_type": "markdown",
   "id": "1dcf1fdc",
   "metadata": {},
   "source": [
    "# Development"
   ]
  },
  {
   "cell_type": "code",
   "execution_count": 1,
   "id": "dc5b79ea",
   "metadata": {},
   "outputs": [],
   "source": [
    "import sys, os\n",
    "os.chdir(\"..\")\n",
    "\n",
    "import utils.VTKHelpers\n",
    "sys.path.append(\"utils/VTKHelpers/\")\n",
    "\n",
    "from config.load_config import load_yaml_config\n",
    "from CardiacMesh import Cardiac3DMesh, Cardiac4DMesh, CardiacMeshPopulation\n",
    "from models import layers\n",
    "\n",
    "import pickle as pkl\n",
    "import yaml\n",
    "from pprint import pprint\n",
    "from argparse import Namespace\n",
    "import logging\n",
    "\n",
    "import numpy as np\n",
    "import torch\n",
    "from torch.utils.data import TensorDataset, DataLoader, random_split\n",
    "import pytorch_lightning as pl\n",
    "\n",
    "import ipywidgets as widgets\n",
    "from IPython.display import display, HTML\n",
    "\n",
    "import os\n",
    "import pickle as pkl\n",
    "from utils import mesh_operations\n",
    "from utils.helpers import *\n",
    "\n",
    "import mlflow.pytorch\n",
    "from mlflow.tracking import MlflowClient"
   ]
  },
  {
   "cell_type": "code",
   "execution_count": 2,
   "id": "508e1758",
   "metadata": {},
   "outputs": [],
   "source": [
    "# %%javascript\n",
    "# $('<div id=\"toc\"></div>').css({position: 'fixed', top: '120px', left: 0}).appendTo(document.body);\n",
    "# $.getScript('https://kmahelona.github.io/ipython_notebook_goodies/ipython_notebook_toc.js');"
   ]
  },
  {
   "cell_type": "markdown",
   "id": "bd219497",
   "metadata": {},
   "source": [
    "**Select configuration file**"
   ]
  },
  {
   "cell_type": "code",
   "execution_count": 2,
   "id": "55012a4f",
   "metadata": {},
   "outputs": [
    {
     "data": {
      "application/vnd.jupyter.widget-view+json": {
       "model_id": "864a53a5fd5b457da068dcc0cd76c6db",
       "version_major": 2,
       "version_minor": 0
      },
      "text/plain": [
       "A Jupyter Widget"
      ]
     },
     "metadata": {},
     "output_type": "display_data"
    }
   ],
   "source": [
    "config_files_w = widgets.Dropdown(\n",
    "    options=[x for x in os.listdir(\"config_files\") if x.endswith(\"yaml\")],\n",
    "    value=\"config_folded_c_and_s.yaml\"\n",
    ")\n",
    "display(config_files_w)"
   ]
  },
  {
   "cell_type": "code",
   "execution_count": 3,
   "id": "f9c06c5c",
   "metadata": {},
   "outputs": [],
   "source": [
    "config = load_yaml_config(os.path.join(\"config_files\", config_files_w.value))"
   ]
  },
  {
   "cell_type": "markdown",
   "id": "ada2aeb9",
   "metadata": {},
   "source": [
    "## PyTorch Lightning DataModule"
   ]
  },
  {
   "cell_type": "markdown",
   "id": "eb169c90",
   "metadata": {},
   "source": [
    "### Synthetic Meshes"
   ]
  },
  {
   "cell_type": "code",
   "execution_count": 4,
   "id": "84bd9704",
   "metadata": {},
   "outputs": [
    {
     "name": "stderr",
     "output_type": "stream",
     "text": [
      "100%|█████████████████████████████████████████████████████████████████████████████████████████████████████████████████████████████████████████████████████████████████████| 640/640 [00:16<00:00, 38.67it/s]\n"
     ]
    }
   ],
   "source": [
    "from data.SyntheticDataModules import SyntheticMeshesDM\n",
    "from data.DataModules import CardiacMeshPopulationDataset, CardiacMeshPopulationDM\n",
    "import vedo\n",
    "from utils import mesh_operations\n",
    "\n",
    "sphere = vedo.Sphere()\n",
    "template_mesh = \"data/vedo_sphere_template.vtk\"\n",
    "sphere.write(template_mesh, binary=False)\n",
    "\n",
    "M, A, D, U = mesh_operations.generate_transform_matrices(\n",
    "    Cardiac3DMesh(template_mesh), \n",
    "    config.network_architecture.pooling.parameters.downsampling_factors\n",
    ")\n",
    "\n",
    "A_t, D_t, U_t = ([scipy_to_torch_sparse(x) for x in X] for X in (A, D, U))\n",
    "n_nodes = [len(M[i].v) for i in range(len(M))]\n",
    "\n",
    "dm = SyntheticMeshesDM(\n",
    "  batch_size=config.batch_size, \n",
    "  data_params=config.dataset.parameters.__dict__, \n",
    "  preprocessing_params=config.dataset.preprocessing\n",
    ")\n",
    "dm.setup()"
   ]
  },
  {
   "cell_type": "markdown",
   "id": "2a90ddf3",
   "metadata": {},
   "source": [
    "### Cardiac meshes"
   ]
  },
  {
   "cell_type": "code",
   "execution_count": 5,
   "id": "3696e323",
   "metadata": {},
   "outputs": [],
   "source": [
    "from main import get_coma_matrices, get_coma_args, get_dm_model_trainer"
   ]
  },
  {
   "cell_type": "code",
   "execution_count": 6,
   "id": "d3e50986",
   "metadata": {},
   "outputs": [],
   "source": [
    "coma_args = get_coma_args(config, dm)"
   ]
  },
  {
   "cell_type": "code",
   "execution_count": null,
   "id": "46a8496d-e7fe-48b8-b33b-4099a2975551",
   "metadata": {},
   "outputs": [],
   "source": [
    "from models.Mo"
   ]
  },
  {
   "cell_type": "code",
   "execution_count": 7,
   "id": "d46be398",
   "metadata": {},
   "outputs": [
    {
     "ename": "SyntaxError",
     "evalue": "invalid syntax (model_c_and_s.py, line 407)",
     "output_type": "error",
     "traceback": [
      "Traceback \u001b[0;36m(most recent call last)\u001b[0m:\n",
      "  File \u001b[1;32m~/anaconda3/envs/cardio/lib/python3.9/site-packages/IPython/core/interactiveshell.py:3369\u001b[0m in \u001b[1;35mrun_code\u001b[0m\n    exec(code_obj, self.user_global_ns, self.user_ns)\n",
      "\u001b[0;36m  Input \u001b[0;32mIn [7]\u001b[0;36m in \u001b[0;35m<cell line: 2>\u001b[0;36m\u001b[0m\n\u001b[0;31m    from models.model_c_and_s import Coma4D_C_and_S\u001b[0m\n",
      "\u001b[0;36m  File \u001b[0;32m~/CISTIB/repos/CardiacMotionRL/models/model_c_and_s.py:407\u001b[0;36m\u001b[0m\n\u001b[0;31m    self.layers =\u001b[0m\n\u001b[0m                 ^\u001b[0m\n\u001b[0;31mSyntaxError\u001b[0m\u001b[0;31m:\u001b[0m invalid syntax\n"
     ]
    }
   ],
   "source": [
    "from models.model import Coma4D\n",
    "from models.model_c_and_s import Coma4D_C_and_S\n",
    "from models.ComaLightningModule import CoMA\n",
    "coma4D = Coma4D_C_and_S(**coma_args)\n",
    "model = CoMA(coma4D, config)"
   ]
  },
  {
   "cell_type": "code",
   "execution_count": null,
   "id": "c889b5a6-c576-43cc-b172-159c0bf9194f",
   "metadata": {},
   "outputs": [],
   "source": [
    "from models.model_c_and_s import Mean_Aggregator, DFT_Aggregator, FCN_Aggregator\n",
    "\n",
    "mean_agg = Mean_Aggregator()\n",
    "dft_agg = DFT_Aggregator()\n",
    "fcn_agg = FCN_Aggregator(features_in=20*32, features_out=10)\n",
    "\n",
    "print(mean_agg(xx).shape)\n",
    "print(dft_agg(xx).shape)\n",
    "print(fcn_agg(xx).shape)"
   ]
  },
  {
   "cell_type": "markdown",
   "id": "f9669898",
   "metadata": {},
   "source": [
    "## PyTorch Lightning Module"
   ]
  },
  {
   "cell_type": "markdown",
   "id": "0581a3fa",
   "metadata": {},
   "source": [
    "### Testing PL module"
   ]
  },
  {
   "cell_type": "code",
   "execution_count": null,
   "id": "2dd908e4",
   "metadata": {},
   "outputs": [],
   "source": [
    "# train\n",
    "trainer = pl.Trainer()\n",
    "trainer.fit(model, datamodule=dm)"
   ]
  },
  {
   "cell_type": "markdown",
   "id": "3eb47c1e",
   "metadata": {},
   "source": [
    "## Load data"
   ]
  },
  {
   "cell_type": "code",
   "execution_count": null,
   "id": "49607414",
   "metadata": {},
   "outputs": [],
   "source": [
    "# import objgraph\n",
    "# objgraph.show_refs(config, max_depth=2, )"
   ]
  },
  {
   "cell_type": "code",
   "execution_count": null,
   "id": "b5698c75",
   "metadata": {},
   "outputs": [],
   "source": [
    "popu = CardiacMeshPopulation(config.root_folder)\n",
    "print(popu.as_numpy_array().shape)"
   ]
  },
  {
   "cell_type": "code",
   "execution_count": null,
   "id": "8b7b25be-97c9-41c7-bf34-9da7f243ea99",
   "metadata": {},
   "outputs": [],
   "source": []
  }
 ],
 "metadata": {
  "kernelspec": {
   "display_name": "cardio",
   "language": "python",
   "name": "cardio"
  },
  "language_info": {
   "codemirror_mode": {
    "name": "ipython",
    "version": 3
   },
   "file_extension": ".py",
   "mimetype": "text/x-python",
   "name": "python",
   "nbconvert_exporter": "python",
   "pygments_lexer": "ipython3",
   "version": "3.9.12"
  }
 },
 "nbformat": 4,
 "nbformat_minor": 5
}
