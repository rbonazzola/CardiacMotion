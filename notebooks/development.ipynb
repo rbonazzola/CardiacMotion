{
 "cells": [
  {
   "cell_type": "markdown",
   "metadata": {},
   "source": [
    "# Development"
   ]
  },
  {
   "cell_type": "code",
   "execution_count": null,
   "metadata": {},
   "outputs": [],
   "source": [
    "import sys, os\n",
    "os.chdir(\"..\")\n",
    "\n",
    "import utils.VTKHelpers\n",
    "sys.path.append(\"utils/VTKHelpers/\")\n",
    "\n",
    "from config.load_config import load_yaml_config\n",
    "from CardiacMesh import Cardiac3DMesh, Cardiac4DMesh, CardiacMeshPopulation\n",
    "from models import layers\n",
    "\n",
    "import pickle as pkl\n",
    "import yaml\n",
    "from pprint import pprint\n",
    "from argparse import Namespace\n",
    "import logging\n",
    "\n",
    "import numpy as np\n",
    "import torch\n",
    "from torch.utils.data import TensorDataset, DataLoader, random_split\n",
    "import pytorch_lightning as pl\n",
    "\n",
    "import ipywidgets as widgets\n",
    "from IPython.display import display, HTML\n",
    "\n",
    "import os\n",
    "import pickle as pkl\n",
    "from utils import mesh_operations\n",
    "from utils.helpers import *"
   ]
  },
  {
   "cell_type": "code",
   "execution_count": null,
   "metadata": {},
   "outputs": [],
   "source": [
    "import mlflow.pytorch\n",
    "from mlflow.tracking import MlflowClient"
   ]
  },
  {
   "cell_type": "code",
   "execution_count": null,
   "metadata": {},
   "outputs": [],
   "source": [
    "%%javascript\n",
    "$('<div id=\"toc\"></div>').css({position: 'fixed', top: '120px', left: 0}).appendTo(document.body);\n",
    "$.getScript('https://kmahelona.github.io/ipython_notebook_goodies/ipython_notebook_toc.js');"
   ]
  },
  {
   "cell_type": "markdown",
   "metadata": {},
   "source": [
    "Select configuration file"
   ]
  },
  {
   "cell_type": "code",
   "execution_count": null,
   "metadata": {},
   "outputs": [],
   "source": [
    "config_files_w = widgets.Dropdown(\n",
    "    options=[x for x in os.listdir(\"config\") if x.endswith(\"yaml\")],\n",
    "    value=\"config_folded_c_and_s.yaml\"\n",
    ")\n",
    "display(config_files_w)"
   ]
  },
  {
   "cell_type": "code",
   "execution_count": null,
   "metadata": {},
   "outputs": [],
   "source": [
    "config = load_yaml_config(os.path.join(\"config\", config_files_w.value))"
   ]
  },
  {
   "cell_type": "markdown",
   "metadata": {},
   "source": [
    "## PyTorch Lightning DataModule"
   ]
  },
  {
   "cell_type": "code",
   "execution_count": null,
   "metadata": {},
   "outputs": [],
   "source": [
    "# To cache data\n",
    "# popu = CardiacMeshPopulation(config.root_folder, N_subj=200)\n",
    "# kk = {\"meshes\": popu.as_numpy_array(), \"ids\": popu.ids}\n",
    "# with open(\"data/cached/cardiac_population_200_meshes.pkl\", \"wb\") as ff:\n",
    "#     pkl.dump(kk, ff)"
   ]
  },
  {
   "cell_type": "markdown",
   "metadata": {},
   "source": [
    "### Synthetic Meshes"
   ]
  },
  {
   "cell_type": "code",
   "execution_count": null,
   "metadata": {},
   "outputs": [],
   "source": [
    "from data.SyntheticDataModules import SyntheticMeshesDM\n",
    "from data.DataModules import CardiacMeshPopulationDataset, CardiacMeshPopulationDM\n",
    "import vedo\n",
    "from utils import mesh_operations\n",
    "\n",
    "sphere = vedo.Sphere()\n",
    "template_mesh = \"data/vedo_sphere_template.vtk\"\n",
    "sphere.write(template_mesh, binary=False)\n",
    "\n",
    "M, A, D, U = mesh_operations.generate_transform_matrices(\n",
    "    Cardiac3DMesh(template_mesh), \n",
    "    config.network_architecture.pooling.parameters.downsampling_factors\n",
    ")\n",
    "\n",
    "A_t, D_t, U_t = ([scipy_to_torch_sparse(x) for x in X] for X in (A, D, U))\n",
    "n_nodes = [len(M[i].v) for i in range(len(M))]\n",
    "\n",
    "dm = SyntheticMeshesDM(\n",
    "  batch_size=config.batch_size, \n",
    "  data_params=config.dataset.parameters.__dict__, \n",
    "  preprocessing_params=config.dataset.preprocessing\n",
    ")\n",
    "dm.setup()"
   ]
  },
  {
   "cell_type": "markdown",
   "metadata": {},
   "source": [
    "### Cardiac meshes"
   ]
  },
  {
   "cell_type": "code",
   "execution_count": null,
   "metadata": {},
   "outputs": [],
   "source": [
    "# with open(\"data/cached/cardiac_population_200_meshes.pkl\", \"rb\") as ff:\n",
    "#     kk = pkl.load(ff)\n",
    "#     \n",
    "# dm = CardiacMeshPopulationDM(\n",
    "#     cardiac_population=kk, \n",
    "#     batch_size=2\n",
    "# )\n",
    "# \n",
    "# A_t, D_t, U_t, n_nodes = pkl.load(open(\"data/cached/matrices.pkl\", \"rb\"))"
   ]
  },
  {
   "cell_type": "code",
   "execution_count": null,
   "metadata": {},
   "outputs": [],
   "source": [
    "from main import get_coma_matrices, get_coma_args, get_dm_model_trainer"
   ]
  },
  {
   "cell_type": "code",
   "execution_count": null,
   "metadata": {},
   "outputs": [],
   "source": [
    "coma_args = get_coma_args(config, dm)"
   ]
  },
  {
   "cell_type": "code",
   "execution_count": null,
   "metadata": {},
   "outputs": [],
   "source": [
    "from models.model import Coma4D\n",
    "from models.model_c_and_s import Coma4D_C_and_S\n",
    "from models.coma_ml_module import CoMA\n",
    "coma4D = Coma4D_C_and_S(**coma_args)\n",
    "model = CoMA(coma4D, config)"
   ]
  },
  {
   "cell_type": "markdown",
   "metadata": {},
   "source": [
    "## PyTorch Lightning Module"
   ]
  },
  {
   "cell_type": "markdown",
   "metadata": {},
   "source": [
    "### Testing PL module"
   ]
  },
  {
   "cell_type": "code",
   "execution_count": null,
   "metadata": {},
   "outputs": [],
   "source": [
    "# train\n",
    "trainer = pl.Trainer()\n",
    "trainer.fit(model, datamodule=dm)"
   ]
  },
  {
   "cell_type": "markdown",
   "metadata": {},
   "source": [
    "## Load data"
   ]
  },
  {
   "cell_type": "code",
   "execution_count": null,
   "metadata": {},
   "outputs": [],
   "source": [
    "# import objgraph\n",
    "# objgraph.show_refs(config, max_depth=2, )"
   ]
  },
  {
   "cell_type": "code",
   "execution_count": null,
   "metadata": {},
   "outputs": [],
   "source": [
    "popu = CardiacMeshPopulation(config.root_folder)\n",
    "print(popu.as_numpy_array().shape)"
   ]
  }
 ],
 "metadata": {
  "kernelspec": {
   "display_name": "cardio",
   "language": "python",
   "name": "cardio"
  },
  "language_info": {
   "codemirror_mode": {
    "name": "ipython",
    "version": 3
   },
   "file_extension": ".py",
   "mimetype": "text/x-python",
   "name": "python",
   "nbconvert_exporter": "python",
   "pygments_lexer": "ipython3",
   "version": "3.9.12"
  }
 },
 "nbformat": 4,
 "nbformat_minor": 5
}
