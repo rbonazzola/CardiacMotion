{
 "cells": [
  {
   "cell_type": "code",
   "execution_count": 1,
   "id": "42bc17f0",
   "metadata": {},
   "outputs": [],
   "source": [
    "import os, sys\n",
    "os.chdir(\"..\")"
   ]
  },
  {
   "cell_type": "code",
   "execution_count": 2,
   "id": "d0c3fec0",
   "metadata": {},
   "outputs": [],
   "source": [
    "sys.path.append(os.getcwd())"
   ]
  },
  {
   "cell_type": "code",
   "execution_count": 3,
   "id": "27ef900d",
   "metadata": {},
   "outputs": [],
   "source": [
    "# from models.Model3D import Encoder3DMesh, Decoder3DMesh\n",
    "# from .PhaseModule import PhaseTensor\n",
    "# from .TemporalAggregators import Mean_Aggregator, DFT_Aggregator, FCN_Aggregator"
   ]
  },
  {
   "cell_type": "code",
   "execution_count": 4,
   "id": "76863f86",
   "metadata": {},
   "outputs": [],
   "source": [
    "from easydict import EasyDict\n",
    "from models.layers import ChebConv_Coma, Pool\n",
    "from typing import Sequence, Union, List\n",
    "from copy import copy\n",
    "\n",
    "import torch\n",
    "from torch import nn\n",
    "from torch.nn import ModuleList, ModuleDict\n",
    "from torch.fft import rfft\n",
    "\n",
    "from data.SyntheticDataModules import SyntheticMeshesDataset, SyntheticMeshesDM\n",
    "\n",
    "import numpy as np\n",
    "from copy import copy\n",
    "from typing import Sequence, Union, List\n",
    "from utils.helpers import get_coma_args\n",
    "\n",
    "from IPython import embed # left there for debugging if needed"
   ]
  },
  {
   "cell_type": "markdown",
   "id": "ae607f3c",
   "metadata": {},
   "source": [
    "____\n",
    "## 3D models"
   ]
  },
  {
   "cell_type": "code",
   "execution_count": 5,
   "id": "cd2d9765",
   "metadata": {},
   "outputs": [],
   "source": [
    "#TODO: Implement common parent class for encoder and decoder (GraphConvStack?), to capture common behaviour.\n",
    "\n",
    "################# FULL AUTOENCODER #################\n",
    "\n",
    "class Autoencoder3DMesh(nn.Module):\n",
    "\n",
    "    def __init__(self, enc_config, dec_config):\n",
    "\n",
    "        super(Autoencoder3DMesh, self).__init__()\n",
    "\n",
    "        self.encoder = Encoder3DMesh(**enc_config)\n",
    "        self.decoder = Decoder3DMesh(**dec_config)\n",
    "\n",
    "    def forward(self, x):\n",
    "\n",
    "        mu, logvar = self.encoder(x)\n",
    "        # Add sampling if is_variational == True and it's in training mode\n",
    "        x_hat = self.decoder(mu)\n",
    "        return x_hat\n",
    "\n",
    "################# ENCODER #################\n",
    "\n",
    "ENCODER_ARGS = [\n",
    "    \"num_features\",\n",
    "    \"n_layers\",\n",
    "    \"n_nodes\",\n",
    "    \"num_conv_filters_enc\",\n",
    "    \"cheb_polynomial_order\",\n",
    "    \"latent_dim_content\",\n",
    "    \"template\",\n",
    "    \"is_variational\",\n",
    "    \"phase_input\",\n",
    "    \"downsample_matrices\",\n",
    "    \"adjacency_matrices\",\n",
    "    \"activation_layers\"\n",
    "]\n",
    "\n",
    "class Encoder3DMesh(nn.Module):\n",
    "\n",
    "    '''\n",
    "    '''\n",
    "\n",
    "    def __init__(self,\n",
    "        phase_input: bool,\n",
    "        num_conv_filters_enc: Sequence[int],\n",
    "        num_features: int,\n",
    "        cheb_polynomial_order: int,\n",
    "        n_layers: int,\n",
    "        n_nodes: int,\n",
    "        is_variational: bool,\n",
    "        latent_dim: int,\n",
    "        template,\n",
    "        adjacency_matrices: List[torch.Tensor],\n",
    "        downsample_matrices: List[torch.Tensor],\n",
    "        activation_layers=\"ReLU\"):\n",
    "\n",
    "        super(Encoder3DMesh, self).__init__()\n",
    "\n",
    "        self.n_nodes = n_nodes\n",
    "        self.phase_input = phase_input\n",
    "        self.filters_enc = copy(num_conv_filters_enc)\n",
    "        self.filters_enc.insert(0, num_features)\n",
    "        self.K = cheb_polynomial_order\n",
    "\n",
    "        self.matrices = {}\n",
    "        A_edge_index, A_norm = self._build_adj_matrix(adjacency_matrices)\n",
    "\n",
    "        self.matrices[\"A_edge_index\"] = A_edge_index\n",
    "        self.matrices[\"A_norm\"] = A_norm\n",
    "        self.matrices[\"downsample\"] = downsample_matrices\n",
    "                \n",
    "        self._n_features_before_z = self.matrices[\"downsample\"][-1].shape[0] * self.filters_enc[-1]\n",
    "        self._is_variational = is_variational\n",
    "        self.latent_dim = latent_dim\n",
    "\n",
    "        self.activation_layers = [activation_layers] * n_layers if isinstance(activation_layers, str) else activation_layers\n",
    "        self.layers = self._build_encoder()\n",
    "\n",
    "        # Fully connected layers connecting the last pooling layer and the latent space layer.\n",
    "        self.enc_lin_mu = torch.nn.Linear(self._n_features_before_z, self.latent_dim)\n",
    "\n",
    "        if self._is_variational:\n",
    "            self.enc_lin_var = torch.nn.Linear(self._n_features_before_z, self.latent_dim)\n",
    "\n",
    "    def _build_encoder(self):\n",
    "\n",
    "        cheb_conv_layers = self._build_cheb_conv_layers(self.filters_enc, self.K)\n",
    "        pool_layers = self._build_pool_layers(self.matrices[\"downsample\"])\n",
    "        activation_layers = self._build_activation_layers(self.activation_layers)\n",
    "\n",
    "        encoder = ModuleDict()\n",
    "\n",
    "        for i in range(len(cheb_conv_layers)):\n",
    "            layer = f\"layer_{i}\"\n",
    "            encoder[layer] = ModuleDict()            \n",
    "            encoder[layer][\"graph_conv\"] = cheb_conv_layers[i]\n",
    "            encoder[layer][\"pool\"] = pool_layers[i]\n",
    "            encoder[layer][\"activation_function\"] = activation_layers[i]\n",
    "\n",
    "        return encoder\n",
    "\n",
    "    def _build_pool_layers(self, downsample_matrices:Sequence[np.array]):\n",
    "\n",
    "        '''\n",
    "        downsample_matrices: list of matrices binary matrices\n",
    "        '''\n",
    "\n",
    "        pool_layers = ModuleList()\n",
    "        for i in range(len(downsample_matrices)):\n",
    "            pool_layers.append(Pool())\n",
    "        return pool_layers\n",
    "\n",
    "\n",
    "    def _build_activation_layers(self, activation_type:Union[str, Sequence[str]]):\n",
    "\n",
    "        '''\n",
    "        activation_type: string or list of strings containing the name of a valid activation function from torch.functional\n",
    "        '''\n",
    "\n",
    "        activation_layers = ModuleList()\n",
    "\n",
    "        for i in range(len(activation_type)):\n",
    "            if activation_type[i] is None:\n",
    "                activ_fun = torch.nn.Identity()\n",
    "            else: \n",
    "                activ_fun = getattr(torch.nn.modules.activation, activation_type[i])()\n",
    "            activation_layers.append(activ_fun)\n",
    "\n",
    "        return activation_layers\n",
    "\n",
    "\n",
    "    def _build_cheb_conv_layers(self, n_filters, K):\n",
    "        # Chebyshev convolutions (encoder)\n",
    "\n",
    "        # TOFIX: this should be specified in the docs.\n",
    "        if self.phase_input:\n",
    "            n_filters[0] = 2 * n_filters[0]\n",
    "\n",
    "        cheb_enc = torch.nn.ModuleList([ChebConv_Coma(n_filters[0], n_filters[1], K[0])])\n",
    "        cheb_enc.extend([\n",
    "            ChebConv_Coma(\n",
    "                n_filters[i],\n",
    "                n_filters[i+1],\n",
    "                K[i]\n",
    "            ) for i in range(1, len(n_filters)-1)\n",
    "        ])\n",
    "        return cheb_enc\n",
    "\n",
    "\n",
    "    def _build_adj_matrix(self, adjacency_matrices):\n",
    "        adj_edge_index, adj_norm = zip(*[\n",
    "            ChebConv_Coma.norm(adjacency_matrices[i]._indices(), self.n_nodes[i])\n",
    "            for i in range(len(self.n_nodes))\n",
    "        ])\n",
    "        return list(adj_edge_index), list(adj_norm)\n",
    "\n",
    "    \n",
    "    def concatenate_graph_features(self, x):\n",
    "        # embed()\n",
    "        x = x.reshape(x.shape[0], x.shape[1], -1)\n",
    "        # x = x.reshape(x.shape[0], self._n_features_before_z)\n",
    "        return x\n",
    "\n",
    "\n",
    "    # perform a forward pass only through the convolutional stack (not the FCN layer)\n",
    "    def forward_conv_stack(self, x, preserve_graph_structure=True):\n",
    "        \n",
    "        # a \"layer\" here is: a graph convolution + pooling operation + activation function\n",
    "        for i, layer in enumerate(self.layers): \n",
    "            \n",
    "            if self.matrices[\"downsample\"][i].device != x.device:\n",
    "                self.matrices[\"downsample\"][i] = self.matrices[\"upsample\"][i].to(x.device)\n",
    "            if self.matrices[\"A_edge_index\"][i].device != x.device:\n",
    "                self.matrices[\"A_edge_index\"][i] = self.matrices[\"A_edge_index\"][i].to(x.device)\n",
    "            if self.matrices[\"A_norm\"][i].device != x.device:\n",
    "                self.matrices[\"A_norm\"][i] = self.matrices[\"A_norm\"][i].to(x.device)\n",
    "  \n",
    "            x = self.layers[layer][\"graph_conv\"](x, self.matrices[\"A_edge_index\"][i], self.matrices[\"A_norm\"][i])\n",
    "            try:\n",
    "                x = self.layers[layer][\"pool\"](x, self.matrices[\"downsample\"][i])\n",
    "            except:\n",
    "                embed()\n",
    "            x = self.layers[layer][\"activation_function\"](x)\n",
    "        \n",
    "        if not preserve_graph_structure:\n",
    "            x = self.concatenate_graph_features(x)\n",
    "            \n",
    "        return x\n",
    "    \n",
    "    \n",
    "    def forward(self, x):\n",
    "\n",
    "        x = self.forward_conv_stack(x)       \n",
    "        mu = self.enc_lin_mu(x)\n",
    "        log_var = self.enc_lin_var(x) if self._is_variational else None        \n",
    "        return {\"mu\": mu, \"log_var\": log_var}\n",
    "\n",
    "    \n",
    "################# DECODER #################\n",
    "\n",
    "DECODER_ARGS = [\n",
    "    \"num_features\",\n",
    "    \"n_layers\",\n",
    "    \"n_nodes\",\n",
    "    \"num_conv_filters_dec\",\n",
    "    \"cheb_polynomial_order\",\n",
    "    \"latent_dim_content\",\n",
    "    \"is_variational\",\n",
    "    \"upsample_matrices\",\n",
    "    \"adjacency_matrices\",\n",
    "    \"activation_layers\",\n",
    "    \"template\"\n",
    "]"
   ]
  },
  {
   "cell_type": "markdown",
   "id": "8e60a325",
   "metadata": {},
   "source": [
    "## 4D models"
   ]
  },
  {
   "cell_type": "markdown",
   "id": "4e2649cd",
   "metadata": {},
   "source": [
    "### Temporal Aggregators"
   ]
  },
  {
   "cell_type": "code",
   "execution_count": 6,
   "id": "ade31aae",
   "metadata": {},
   "outputs": [],
   "source": [
    "BATCH_DIMENSION = 0\n",
    "TIME_DIMENSION = 1\n",
    "NODE_DIMENSION = 2\n",
    "FEATURE_DIMENSION = 3\n",
    "\n",
    "COMMON_ARGS = [\n",
    "    \"num_features\",\n",
    "    \"n_layers\",\n",
    "    \"n_nodes\",\n",
    "    \"cheb_polynomial_order\",\n",
    "    \"is_variational\",\n",
    "    \"adjacency_matrices\",\n",
    "    \"activation_layers\",\n",
    "    \"template\",\n",
    "]\n",
    "\n",
    "ENCODER_ARGS = copy(COMMON_ARGS)\n",
    "ENCODER_ARGS.extend([\n",
    "  \"phase_input\",\n",
    "  \"downsample_matrices\",\n",
    "  \"num_conv_filters_enc\",\n",
    "  \"latent_dim_content\",\n",
    "  \"latent_dim_style\"\n",
    "])\n",
    "\n",
    "DECODER_C_ARGS = copy(COMMON_ARGS)\n",
    "DECODER_C_ARGS.extend([\n",
    "  \"upsample_matrices\",\n",
    "  \"num_conv_filters_dec_c\",\n",
    "  \"latent_dim_content\"\n",
    "])\n",
    "\n",
    "DECODER_S_ARGS = copy(COMMON_ARGS)\n",
    "DECODER_S_ARGS.extend([\n",
    "    \"upsample_matrices\",\n",
    "    \"num_conv_filters_dec_s\",\n",
    "    \"latent_dim_content\",\n",
    "    \"latent_dim_style\",\n",
    "    \"n_timeframes\"\n",
    "])"
   ]
  },
  {
   "cell_type": "code",
   "execution_count": 7,
   "id": "87dc61b6",
   "metadata": {},
   "outputs": [],
   "source": [
    "def _steal_attributes_from_child(self, child: str, attributes: Union[List[str], str]):\n",
    "\n",
    "    '''\n",
    "       Make attributes from an object's child visible from the (parent) object's namespace\n",
    "    '''\n",
    "\n",
    "    child = getattr(self, child)\n",
    "\n",
    "    if isinstance(attributes, str):\n",
    "        attributes = [attributes]\n",
    "\n",
    "    for attribute in attributes:\n",
    "        setattr(self, attribute, getattr(child, attribute))\n",
    "    return self\n",
    "\n",
    "\n",
    "##########################################################################################\n",
    "\n",
    "class EncoderTemporalSequence(nn.Module):\n",
    "\n",
    "    def __init__(self, encoder3d, z_aggr_function, phase_embedding=None, n_timeframes=None):\n",
    "\n",
    "        '''\n",
    "        \n",
    "        \n",
    "        '''\n",
    "        \n",
    "        super(EncoderTemporalSequence, self).__init__()\n",
    "        # encoder_config = copy(encoder_config)\n",
    "        # encoder_config[\"latent_dim\"] = encoder_config.pop(\"latent_dim_content\") + encoder_config.pop(\"latent_dim_style\")\n",
    "        # \n",
    "        # self.latent_dim = encoder_config[\"latent_dim\"]\n",
    "        # Encoder3DMesh(**encoder_config)\n",
    "        self.encoder_3d_mesh = encoder3d\n",
    "\n",
    "        self = _steal_attributes_from_child(self, child=\"encoder_3d_mesh\", attributes=[\"matrices\"])\n",
    "\n",
    "        # self.z_aggr_function = self._get_z_aggr_function(z_aggr_function, n_timeframes)\n",
    "        self.z_aggr_function = z_aggr_function\n",
    "        self.phase_embedding = phase_embedding\n",
    "\n",
    "\n",
    "    def set_mode(self, mode: str):\n",
    "        '''\n",
    "        params:\n",
    "          mode: \"training\" or \"testing\"\n",
    "        '''\n",
    "        self._mode = mode\n",
    "\n",
    "\n",
    "    def encoder(self, x):\n",
    "                \n",
    "        self.n_timeframes = x.shape[1]\n",
    "\n",
    "        # Iterate through time points\n",
    "        # \n",
    "        \n",
    "        # embed()\n",
    "        \n",
    "        #bottleneck_t = [ self.encoder_3d_mesh(x[:, i, :]) for i in range(self.n_timeframes) ]\n",
    "        #mu = [ bottleneck[\"mu\"] for bottleneck in bottleneck_t ]\n",
    "\n",
    "        # If one element (and therefore all elements) are None, replace the whole thing with None\n",
    "        #log_var = [ bottleneck[\"log_var\"] for bottleneck in bottleneck_t ] if bottleneck_t[0][\"log_var\"] is not None else None\n",
    "\n",
    "        #mu = torch.cat(mu).reshape(-1, self.n_timeframes, self.latent_dim)\n",
    "        h = self.encoder_3d_mesh.forward_conv_stack(x, preserve_graph_structure=False)\n",
    "        z = self.z_aggr_function(h)\n",
    "\n",
    "        # if log_var is not None:\n",
    "        #     log_var_t = torch.cat(log_var).reshape(-1, self.n_timeframes, self.latent_dim)\n",
    "        #     log_var = self.z_aggr_function(log_var_t)\n",
    "\n",
    "        bottleneck = {\"mu\": z, \"log_var\": None}\n",
    "        return bottleneck\n",
    "\n",
    "\n",
    "    def forward(self, x):\n",
    "        return self.encoder(x)\n"
   ]
  },
  {
   "cell_type": "markdown",
   "id": "5fc25ad2",
   "metadata": {},
   "source": [
    "## Lightning module"
   ]
  },
  {
   "cell_type": "code",
   "execution_count": 8,
   "id": "3cb82aca",
   "metadata": {},
   "outputs": [],
   "source": [
    "import pytorch_lightning as pl\n",
    "import torch\n",
    "import torch.nn.functional as F\n",
    "\n",
    "from PIL import Image\n",
    "import imageio\n",
    "import numpy as np\n",
    "\n",
    "from IPython import embed # uncomment for debugging\n",
    "# from models.Model4D import  EncoderTemporalSequence\n",
    "# from data.synthetic.SyntheticMeshPopulation import SyntheticMeshPopulation\n",
    "\n",
    "from image_helpers import *\n",
    "\n",
    "losses_menu = {\n",
    "  \"l1\": F.l1_loss,\n",
    "  \"mse\": F.mse_loss\n",
    "}\n",
    "\n",
    "def mse(s1, s2=None):\n",
    "    if s2 is None:\n",
    "        s2 = torch.zeros_like(s1)\n",
    "    return ((s1-s2)**2).sum(-1).mean(-1)\n",
    "\n",
    "LOG_OPTIONS = {\n",
    "    \"on_epoch\": True,\n",
    "    \"prog_bar\": True,\n",
    "    \"logger\": True\n",
    "}\n",
    "\n",
    "class TemporalEncoderLightning(pl.LightningModule):\n",
    "\n",
    "    def __init__(self, model, params):\n",
    "\n",
    "        '''\n",
    "        :param model: provide the PyTorch model.\n",
    "        :param params: a Namespace with additional parameters\n",
    "        \n",
    "        Example:\n",
    "        \n",
    "        \n",
    "        '''\n",
    "\n",
    "        super(TemporalEncoderLightning, self).__init__()\n",
    "        self.model = model\n",
    "        self.params = params\n",
    "\n",
    "        self.rec_loss = self.get_rec_loss()\n",
    "\n",
    "\n",
    "    def get_rec_loss(self):\n",
    "\n",
    "        self.w_s = self.params.loss.reconstruction_s.weight\n",
    "        self.w_kl = self.params.loss.regularization.weight\n",
    "        return losses_menu[self.params.loss.reconstruction_c.type.lower()]\n",
    "\n",
    "\n",
    "    def on_fit_start(self):\n",
    "\n",
    "        #TODO: check of alternatives since .to(device) is not recommended\n",
    "        #This is the most elegant way I found so far to transfer the tensors to the right device\n",
    "        #(if this is run within __init__, I get self.device==\"cpu\" even when I use a GPU, so it doesn't work there)\n",
    "\n",
    "        for matrix_type in [\"downsample\", \"A_edge_index\", \"A_norm\"]:\n",
    "            for i, _ in enumerate(self.model.matrices[\"downsample\"]):\n",
    "                self.model.matrices[matrix_type][i] = self.model.matrices[matrix_type][i].to(self.device)\n",
    "\n",
    "\n",
    "    def forward(self, input: torch.Tensor, **kwargs) -> torch.Tensor:\n",
    "        return self.model(input, **kwargs)\n",
    "\n",
    "\n",
    "    def on_train_epoch_start(self):\n",
    "        self.model.set_mode(\"training\")\n",
    "\n",
    "\n",
    "    def training_step(self, batch, batch_idx):\n",
    "\n",
    "        # data, ids = batch\n",
    "        # TODO: change dataset/datamodule accordingly\n",
    "        s_t, z_c, z_s = batch[\"s_t\"], batch[\"z_c\"], batch[\"z_s\"]\n",
    "\n",
    "        z = z_c + z_s  # list concatenation\n",
    "        z = torch.stack(z).transpose(0, 1).type_as(s_t)  # to get N_batches x latent_dim\n",
    "\n",
    "        bottleneck = self(s_t)\n",
    "        z_hat = bottleneck[\"mu\"]\n",
    "        recon_loss = self.rec_loss(z, z_hat)\n",
    "\n",
    "        loss_dict = {\n",
    "           \"training_recon_loss\": recon_loss,\n",
    "           \"loss\": recon_loss\n",
    "        }\n",
    "\n",
    "        # https://pytorch-lightning.readthedocs.io/en/latest/common/lightning_module.html#log-dict\n",
    "        self.log_dict(loss_dict)\n",
    "        return loss_dict\n",
    "\n",
    "\n",
    "    def training_epoch_end(self, outputs):\n",
    "\n",
    "        # Aggregate metrics from each batch\n",
    "\n",
    "        avg_recon_loss = torch.stack([x[\"training_recon_loss\"] for x in outputs]).mean()\n",
    "        avg_loss = torch.stack([x[\"loss\"] for x in outputs]).mean()\n",
    "\n",
    "        self.log_dict({\n",
    "            \"training_recon_loss\": avg_recon_loss.detach(),\n",
    "            \"training_loss\": avg_loss.detach()\n",
    "          }, **LOG_OPTIONS          \n",
    "        )\n",
    "\n",
    "    def on_validation_epoch_start(self):\n",
    "        self.model.set_mode(\"testing\")\n",
    "\n",
    "\n",
    "    def _shared_eval_step(self, batch, batch_idx, prefix: str):\n",
    "\n",
    "        '''\n",
    "        The validation and testing steps are similar, only the names of the logged quantities differ.\n",
    "        The common part is performed here.\n",
    "        '''\n",
    "\n",
    "        s_t, z_c, z_s = batch[\"s_t\"], batch[\"z_c\"], batch[\"z_s\"]\n",
    "\n",
    "        z = z_c + z_s # list concatenation\n",
    "        z = torch.stack(z).transpose(0,1).type_as(s_t) # to get N_batches x latent_dim\n",
    "\n",
    "        bottleneck = self(s_t)\n",
    "        z_hat = bottleneck[\"mu\"]\n",
    "\n",
    "        recon_loss = self.rec_loss(z, z_hat)\n",
    "        loss = recon_loss\n",
    "\n",
    "        # TODO: compute normalized metrics\n",
    "        z_sqerr = (z - z_hat)**2\n",
    "        z_sqnorm = z**2\n",
    "        \n",
    "        loss_dict = { \n",
    "            f\"{prefix}recon_loss\": recon_loss, \n",
    "            f\"{prefix}loss\": loss, \n",
    "            f\"{prefix}z_sqerr\": z_sqerr, \n",
    "            f\"{prefix}z_sqnorm\": z_sqnorm \n",
    "        }\n",
    "        \n",
    "        self.log_dict(loss_dict)\n",
    "        \n",
    "        return loss_dict\n",
    "\n",
    "\n",
    "    def validation_step(self, batch, batch_idx):\n",
    "\n",
    "        loss_dict = self._shared_eval_step(batch, batch_idx, prefix=\"val_\")\n",
    "                \n",
    "        return loss_dict\n",
    "\n",
    "\n",
    "    def validation_epoch_end(self, outputs):\n",
    "\n",
    "        #TODO: iterate over keys of the elements of `outputs`\n",
    "\n",
    "        avg_recon_loss = torch.stack([x[\"val_recon_loss\"] for x in outputs]).mean()\n",
    "        avg_loss = torch.stack([x[\"val_loss\"] for x in outputs]).mean()        \n",
    "        \n",
    "        avg_z_sqerr = torch.stack([x[\"val_z_sqerr\"] for x in outputs]).mean()\n",
    "        avg_z_sqnorm = torch.stack([x[\"val_z_sqnorm\"] for x in outputs]).mean()                \n",
    "        avg_norm_z_err = avg_z_sqerr / avg_z_sqnorm\n",
    "\n",
    "        self.log_dict({\n",
    "            \"val_recon_loss\": avg_recon_loss.detach(), \n",
    "            \"val_loss\": avg_loss.detach(),\n",
    "            \"val_z_norm_err\": avg_norm_z_err.detach()            \n",
    "          }, \n",
    "          **LOG_OPTIONS          \n",
    "        )\n",
    "\n",
    "\n",
    "    def test_step(self, batch, batch_idx):\n",
    "\n",
    "        loss_dict = self._shared_eval_step(batch, batch_idx, prefix=\"test_\")        \n",
    "        return loss_dict\n",
    "\n",
    "\n",
    "    #TOFIX: DUPLICATED FROM ABOVE\n",
    "    def test_epoch_end(self, outputs):\n",
    "\n",
    "        avg_recon_loss = torch.stack([x[\"test_recon_loss\"] for x in outputs]).mean()\n",
    "        avg_loss = torch.stack([x[\"test_loss\"] for x in outputs]).mean()\n",
    "        \n",
    "        avg_z_sqerr = torch.stack([x[\"test_z_sqerr\"] for x in outputs]).mean()\n",
    "        avg_z_sqnorm = torch.stack([x[\"test_z_sqnorm\"] for x in outputs]).mean()                \n",
    "        avg_norm_z_err = avg_z_sqerr / avg_z_sqnorm\n",
    "\n",
    "\n",
    "        loss_dict = {\n",
    "            \"test_recon_loss\": avg_recon_loss.detach(),\n",
    "            \"test_loss\": avg_loss.detach(),\n",
    "            \"test_z_norm_err\": avg_norm_z_err.detach()\n",
    "        }\n",
    "\n",
    "        self.log_dict(loss_dict)\n",
    "\n",
    "\n",
    "    def configure_optimizers(self):\n",
    "\n",
    "        algorithm = self.params.optimizer.algorithm\n",
    "        algorithm = torch.optim.__dict__[algorithm]\n",
    "        parameters = vars(self.params.optimizer.parameters)\n",
    "        optimizer = algorithm(self.model.parameters(), **parameters)\n",
    "        return optimizer\n"
   ]
  },
  {
   "cell_type": "code",
   "execution_count": 9,
   "id": "931960e7",
   "metadata": {},
   "outputs": [],
   "source": [
    "class Mean_Aggregator(nn.Module):\n",
    "    \n",
    "    '''\n",
    "    '''\n",
    "    \n",
    "    def forward(self, x):\n",
    "        return torch.Tensor.mean(x, axis=1)\n",
    "\n",
    "\n",
    "class FCN_Aggregator(nn.Module):\n",
    "\n",
    "    def __init__(self, features_in, features_out):\n",
    "        \n",
    "        '''\n",
    "        '''\n",
    "        \n",
    "        super(FCN_Aggregator, self).__init__()\n",
    "        self.fcn = torch.nn.Linear(features_in, features_out)\n",
    "\n",
    "    def forward(self, x):\n",
    "        x = x.reshape(x.shape[0], x.shape[1] * x.shape[2])\n",
    "        return self.fcn(x)\n",
    "\n",
    "\n",
    "class DFT(nn.Module):\n",
    "    \n",
    "    '''\n",
    "      Real discrete Fourier transform (DFT)    \n",
    "    '''\n",
    "    \n",
    "    def forward(self, x):\n",
    "        return rfft(x, dim=1)\n",
    "    \n",
    "    \n",
    "class DFT_Aggregator(nn.Module):\n",
    "\n",
    "    '''\n",
    "      A DFT operator followed by a fully connected layer\n",
    "      DFT: x [N, T, ..., F] -> [N, ..., n_comps * F]\n",
    "      FCN:            \n",
    "    '''\n",
    "\n",
    "    def __init__(self, features_in, features_out):\n",
    "        \n",
    "        '''\n",
    "        \n",
    "        '''\n",
    "        \n",
    "        super(DFT_Aggregator, self).__init__()\n",
    "        self.dft = DFT()\n",
    "        self.fcn = torch.nn.Linear(features_in, features_out)\n",
    "        \n",
    "                \n",
    "    def forward(self, x):\n",
    "\n",
    "        x = self.dft(x)\n",
    "        # Concatenate features in the frequency domain\n",
    "        x = x.reshape(x.shape[0], x.shape[1] * x.shape[2])\n",
    "        x = torch.cat((x.real, x.imag), dim=-1)\n",
    "        x = self.fcn(x)\n",
    "        return x\n",
    "\n",
    "    \n",
    "class TemporalAggregator(nn.Module):\n",
    "    \n",
    "    def __init__(self, n_timeframes, n_spatial_features, n_hidden, latent_dim):\n",
    "        \n",
    "        '''\n",
    "        Example:\n",
    "        \n",
    "            # h was the output of a previous computation\n",
    "            # h = previous_module(x)\n",
    "            n_spatial_f = h.shape[-1]\n",
    "            \n",
    "            # geometric mean\n",
    "            n_hidden = int(np.sqrt(n_spatial_f * latent_dim))\n",
    "            \n",
    "            TAggr = TemporalAggregator(\n",
    "              n_timeframes=20, # n_timeframes = config.dataset.parameters.T\n",
    "              n_spatial_features=n_spatial_f,\n",
    "              n_hidden=n_hidden,\n",
    "              latent_dim=latent_dim\n",
    "            )        \n",
    "            \n",
    "            z = TAggr(h)\n",
    "            \n",
    "        '''\n",
    "        \n",
    "        super(TemporalAggregator, self).__init__()\n",
    "        \n",
    "        self.z_taggr = DFT_Aggregator(\n",
    "          features_in=(n_timeframes // 2 + 1) * 2 * n_spatial_features,\n",
    "          features_out=n_hidden\n",
    "        )\n",
    "        \n",
    "        self.sigmoid = nn.Sigmoid()\n",
    "        self.fcn = nn.Linear(in_features=n_hidden, out_features=latent_dim)\n",
    "\n",
    "        \n",
    "    def forward(self, x):\n",
    "        z = self.z_taggr(x)\n",
    "        z = self.sigmoid(z)\n",
    "        z = self.fcn(z)\n",
    "        return z\n",
    "\n",
    "    \n",
    "    #def _get_z_aggr_function(self, z_aggr_function, n_timeframes=None):\n",
    "    #\n",
    "    #    if z_aggr_function == \"mean\":\n",
    "    #        if phase_embedding is None:\n",
    "    #            exit(\"The temporal aggregation cannot be the mean if phase information is not embedded into the input meshes.\")\n",
    "    #        z_aggr_function = Mean_Aggregator()\n",
    "    #\n",
    "    #    elif z_aggr_function.lower() in {\"fcn\", \"fully_connected\"}:\n",
    "    #        self.n_timeframes = n_timeframes\n",
    "    #        z_aggr_function = FCN_Aggregator(\n",
    "    #            features_in=n_timeframes * self.latent_dim,\n",
    "    #            features_out=(self.latent_dim)\n",
    "    #        )\n",
    "    #\n",
    "    #    elif z_aggr_function.lower() in {\"dft\", \"discrete_fourier_transform\"}:\n",
    "    #        self.n_timeframes = n_timeframes\n",
    "    #        features_in = (n_timeframes // 2 + 1) * 2 * (self.latent_dim)\n",
    "    #        features_out = (self.latent_dim)\n",
    "    #        z_aggr_function = DFT_Aggregator(\n",
    "    #            features_in=features_in,\n",
    "    #            features_out=features_out\n",
    "    #        )\n",
    "    #\n",
    "    #    return z_aggr_function            "
   ]
  },
  {
   "cell_type": "markdown",
   "id": "959a74b2",
   "metadata": {},
   "source": [
    "---\n",
    "# <center> --- Tests --- <center>"
   ]
  },
  {
   "cell_type": "code",
   "execution_count": 10,
   "id": "18817a3d",
   "metadata": {},
   "outputs": [
    {
     "name": "stdout",
     "output_type": "stream",
     "text": [
      "Retrieving synthetic population from cached file.\n"
     ]
    }
   ],
   "source": [
    "from config.load_config import load_yaml_config\n",
    "config = load_yaml_config(\"config_files/config_folded_c_and_s.yaml\")\n",
    "config.dataset.parameters.N = 5120\n",
    "\n",
    "mesh_ds = SyntheticMeshesDataset(config.dataset.parameters, config.dataset.preprocessing)\n",
    "mesh_dm = SyntheticMeshesDM(mesh_ds)\n",
    "mesh_dm.setup()"
   ]
  },
  {
   "cell_type": "code",
   "execution_count": 11,
   "id": "aef05483",
   "metadata": {},
   "outputs": [],
   "source": [
    "coma_args = get_coma_args(config, mesh_dm.dataset)"
   ]
  },
  {
   "cell_type": "markdown",
   "id": "f7d4af6c",
   "metadata": {},
   "source": [
    "Let's define the 3D encoder:"
   ]
  },
  {
   "cell_type": "code",
   "execution_count": 12,
   "id": "bedf651d",
   "metadata": {},
   "outputs": [],
   "source": [
    "x = EasyDict(next(iter(mesh_dm.train_dataloader())))"
   ]
  },
  {
   "cell_type": "code",
   "execution_count": 13,
   "id": "4cb0bb22",
   "metadata": {},
   "outputs": [],
   "source": [
    "enc_params = {\n",
    "    \"phase_input\" : False, \n",
    "    \"num_conv_filters_enc\" : [16, 16, 16, 16], \n",
    "    \"num_features\" : 3,\n",
    "    \"cheb_polynomial_order\" : [6, 6, 6, 6],\n",
    "    \"n_layers\" : 4,\n",
    "    \"n_nodes\" : coma_args.n_nodes,\n",
    "    \"is_variational\" : True,\n",
    "    \"latent_dim\" : len(x.z_c) + len(x.z_s),\n",
    "    \"template\": coma_args.template,\n",
    "    \"adjacency_matrices\": coma_args.adjacency_matrices,\n",
    "    \"downsample_matrices\": coma_args.downsample_matrices,\n",
    "    \"activation_layers\": [\"Sigmoid\", \"Sigmoid\", \"Sigmoid\", None]\n",
    "}\n",
    "\n",
    "enc_params = EasyDict(enc_params)\n",
    "\n",
    "encoder = Encoder3DMesh(**enc_params)"
   ]
  },
  {
   "cell_type": "code",
   "execution_count": 14,
   "id": "a5f9296d",
   "metadata": {},
   "outputs": [],
   "source": [
    "h = encoder.forward_conv_stack(x.s_t, preserve_graph_structure=False)"
   ]
  },
  {
   "cell_type": "code",
   "execution_count": 15,
   "id": "a3f3039f",
   "metadata": {},
   "outputs": [],
   "source": [
    "z_taggr = FCN_Aggregator(\n",
    "    features_in=20*h.shape[-1],\n",
    "    features_out= enc_params.latent_dim\n",
    ")"
   ]
  },
  {
   "cell_type": "code",
   "execution_count": 16,
   "id": "3c4222fd",
   "metadata": {},
   "outputs": [],
   "source": [
    "h = encoder.forward_conv_stack(x.s_t, preserve_graph_structure=False)\n",
    "z = z_taggr(h)"
   ]
  },
  {
   "cell_type": "code",
   "execution_count": 17,
   "id": "16f9d8f6",
   "metadata": {},
   "outputs": [
    {
     "name": "stderr",
     "output_type": "stream",
     "text": [
      "Using 16bit native Automatic Mixed Precision (AMP)\n",
      "GPU available: True, used: True\n",
      "TPU available: False, using: 0 TPU cores\n",
      "IPU available: False, using: 0 IPUs\n"
     ]
    }
   ],
   "source": [
    "t_encoder = EncoderTemporalSequence(\n",
    "    encoder3d=encoder,\n",
    "    z_aggr_function=z_taggr\n",
    ")\n",
    "\n",
    "t_encoder_ptl = TemporalEncoderLightning(\n",
    "  model=t_encoder,\n",
    "  params=config\n",
    ")\n",
    "\n",
    "trainer = pl.Trainer(gpus=1, precision=16)"
   ]
  },
  {
   "cell_type": "code",
   "execution_count": 18,
   "id": "25eb463b",
   "metadata": {},
   "outputs": [],
   "source": [
    "config.optimizer.parameters.lr = 3e-4"
   ]
  },
  {
   "cell_type": "code",
   "execution_count": 19,
   "id": "d498c140",
   "metadata": {},
   "outputs": [],
   "source": [
    "# trainer.fit(\n",
    "#     model=t_encoder_ptl,\n",
    "#     datamodule=mesh_dm\n",
    "# )"
   ]
  },
  {
   "cell_type": "code",
   "execution_count": 20,
   "id": "bc20cf89",
   "metadata": {},
   "outputs": [],
   "source": [
    "# EPOCH = 999\n",
    "# PATH = \"model2.pt\"\n",
    "# \n",
    "# torch.save({\n",
    "#     'epoch': EPOCH,\n",
    "#     'model_state_dict': t_encoder_ptl.state_dict(),\n",
    "#     'optimizer_state_dict': t_encoder_ptl.optimizers().state_dict(),\n",
    "#     # 'loss': LOSS,\n",
    "# }, PATH)"
   ]
  },
  {
   "cell_type": "code",
   "execution_count": 21,
   "id": "93389634",
   "metadata": {},
   "outputs": [],
   "source": [
    "# chkpt = torch.load(PATH)\n",
    "# model = "
   ]
  },
  {
   "cell_type": "code",
   "execution_count": 22,
   "id": "b6354789",
   "metadata": {},
   "outputs": [],
   "source": [
    "z = t_encoder(x.s_t)"
   ]
  },
  {
   "cell_type": "markdown",
   "id": "ea22b913",
   "metadata": {},
   "source": [
    "## Decoder"
   ]
  },
  {
   "cell_type": "code",
   "execution_count": 23,
   "id": "0bea7d77",
   "metadata": {},
   "outputs": [],
   "source": [
    "import importlib\n",
    "import models.Model3D\n",
    "import models.Model4D\n",
    "from models.Model3D import Decoder3DMesh\n",
    "from models.Model4D import DECODER_C_ARGS, DECODER_S_ARGS\n",
    "from models.Model4D import DecoderStyle, DecoderContent, DecoderTemporalSequence"
   ]
  },
  {
   "cell_type": "code",
   "execution_count": 24,
   "id": "da255f2e",
   "metadata": {},
   "outputs": [],
   "source": [
    "# models.Model4D = importlib.reload(models.Model4D)\n",
    "# models.Model3D = importlib.reload(models.Model3D)\n",
    "# Decoder3DMesh = models.Model3D.Decoder3DMesh\n",
    "# DecoderStyle, DecoderContent, DecoderTemporalSequence = models.Model4D.DecoderStyle, models.Model4D.DecoderContent, models.Model4D.DecoderTemporalSequence"
   ]
  },
  {
   "cell_type": "code",
   "execution_count": 25,
   "id": "e0f5ddfc",
   "metadata": {},
   "outputs": [],
   "source": [
    "coma_args.latent_dim_content = 9\n",
    "coma_args.latent_dim_style = 36"
   ]
  },
  {
   "cell_type": "code",
   "execution_count": 26,
   "id": "a1a2fb4d",
   "metadata": {},
   "outputs": [],
   "source": [
    "decoder_config_c = { k:v for k,v in coma_args.items() if k in DECODER_C_ARGS }\n",
    "decoder_config_s = { k:v for k,v in coma_args.items() if k in DECODER_S_ARGS }"
   ]
  },
  {
   "cell_type": "code",
   "execution_count": 27,
   "id": "7913f3e5",
   "metadata": {},
   "outputs": [],
   "source": [
    "decoder_content = DecoderContent(decoder_config_c)"
   ]
  },
  {
   "cell_type": "code",
   "execution_count": 28,
   "id": "c73b8f13",
   "metadata": {},
   "outputs": [],
   "source": [
    "decoder_content = DecoderContent(decoder_config_c)\n",
    "decoder_style = DecoderStyle(decoder_config_s, phase_embedding_method=\"exp\")\n",
    "t_decoder = DecoderTemporalSequence(decoder_content, decoder_style)"
   ]
  },
  {
   "cell_type": "markdown",
   "id": "685e1e99",
   "metadata": {},
   "source": [
    "## Autoencoder"
   ]
  },
  {
   "cell_type": "code",
   "execution_count": 29,
   "id": "325c4b02",
   "metadata": {},
   "outputs": [],
   "source": [
    "from models.Model4D import AutoencoderTemporalSequence"
   ]
  },
  {
   "cell_type": "code",
   "execution_count": 30,
   "id": "746fd9c1",
   "metadata": {},
   "outputs": [],
   "source": [
    "t_ae = AutoencoderTemporalSequence(\n",
    "    encoder=t_encoder,\n",
    "    decoder=t_decoder\n",
    ")"
   ]
  },
  {
   "cell_type": "code",
   "execution_count": 31,
   "id": "8c585cb0",
   "metadata": {},
   "outputs": [
    {
     "data": {
      "text/plain": [
       "81"
      ]
     },
     "execution_count": 31,
     "metadata": {},
     "output_type": "execute_result"
    }
   ],
   "source": [
    "decoder_style.decoder_3d.latent_dim"
   ]
  },
  {
   "cell_type": "code",
   "execution_count": 32,
   "id": "a1eed8cd",
   "metadata": {},
   "outputs": [],
   "source": [
    "from lightning.ComaLightningModule import CoMA_Lightning"
   ]
  },
  {
   "cell_type": "code",
   "execution_count": 33,
   "id": "4e099319",
   "metadata": {},
   "outputs": [],
   "source": [
    "lit_module = CoMA_Lightning(\n",
    "    model=t_ae, \n",
    "    loss_params=config.loss, \n",
    "    optimizer_params=config.optimizer,\n",
    "    additional_params=config\n",
    ")"
   ]
  },
  {
   "cell_type": "code",
   "execution_count": 34,
   "id": "a62e6af2",
   "metadata": {},
   "outputs": [
    {
     "data": {
      "text/plain": [
       "({'mu': tensor([[ 0.2229,  0.3197,  0.8176,  ..., -1.1384,  0.8628, -0.4558],\n",
       "          [ 0.2302,  0.3225,  0.8222,  ..., -1.1350,  0.8602, -0.4584],\n",
       "          [ 0.2227,  0.3063,  0.8234,  ..., -1.1430,  0.8607, -0.4614],\n",
       "          ...,\n",
       "          [ 0.2280,  0.3215,  0.8287,  ..., -1.1441,  0.8598, -0.4544],\n",
       "          [ 0.2334,  0.3226,  0.8179,  ..., -1.1429,  0.8616, -0.4650],\n",
       "          [ 0.2341,  0.3166,  0.8184,  ..., -1.1384,  0.8625, -0.4612]],\n",
       "         grad_fn=<AddmmBackward0>),\n",
       "  'log_var': None},\n",
       " tensor([[[ 2.7275e+00, -2.4742e+00,  1.3125e+00],\n",
       "          [ 6.8153e+00, -3.2494e+00,  7.1995e-01],\n",
       "          [ 5.9894e+00, -4.2064e+00,  1.0288e+00],\n",
       "          ...,\n",
       "          [-7.5765e-03,  1.2615e-01,  4.4216e-02],\n",
       "          [ 4.1539e-02,  4.1044e-01,  3.5074e-02],\n",
       "          [-1.2827e-01,  2.3531e+00,  2.7503e+00]],\n",
       " \n",
       "         [[ 2.7356e+00, -2.4614e+00,  1.3172e+00],\n",
       "          [ 6.8030e+00, -3.2516e+00,  7.1382e-01],\n",
       "          [ 5.9759e+00, -4.1892e+00,  1.0155e+00],\n",
       "          ...,\n",
       "          [-1.2374e-02,  1.2679e-01,  3.6836e-02],\n",
       "          [ 3.7413e-02,  4.0441e-01,  3.1315e-02],\n",
       "          [-1.3740e-01,  2.3485e+00,  2.7543e+00]],\n",
       " \n",
       "         [[ 2.7493e+00, -2.4964e+00,  1.3155e+00],\n",
       "          [ 6.8721e+00, -3.2608e+00,  7.2677e-01],\n",
       "          [ 6.0293e+00, -4.2370e+00,  1.0364e+00],\n",
       "          ...,\n",
       "          [ 8.4940e-03,  1.2882e-01,  4.0040e-02],\n",
       "          [ 5.3156e-02,  4.1772e-01,  3.9647e-02],\n",
       "          [-1.1671e-01,  2.3776e+00,  2.7718e+00]],\n",
       " \n",
       "         ...,\n",
       " \n",
       "         [[ 2.7511e+00, -2.4809e+00,  1.3272e+00],\n",
       "          [ 6.8712e+00, -3.2653e+00,  7.2718e-01],\n",
       "          [ 6.0259e+00, -4.2287e+00,  1.0390e+00],\n",
       "          ...,\n",
       "          [-1.5139e-03,  1.2795e-01,  4.6629e-02],\n",
       "          [ 4.5132e-02,  4.1343e-01,  3.6278e-02],\n",
       "          [-1.2369e-01,  2.3728e+00,  2.7754e+00]],\n",
       " \n",
       "         [[ 2.7221e+00, -2.4675e+00,  1.2970e+00],\n",
       "          [ 6.8203e+00, -3.2672e+00,  7.1980e-01],\n",
       "          [ 5.9641e+00, -4.2305e+00,  1.0233e+00],\n",
       "          ...,\n",
       "          [-5.8218e-03,  1.2424e-01,  5.1640e-02],\n",
       "          [ 4.1017e-02,  4.0749e-01,  3.2613e-02],\n",
       "          [-1.3416e-01,  2.3462e+00,  2.7591e+00]],\n",
       " \n",
       "         [[ 2.7385e+00, -2.4723e+00,  1.3090e+00],\n",
       "          [ 6.8015e+00, -3.2667e+00,  7.2102e-01],\n",
       "          [ 5.9727e+00, -4.1956e+00,  1.0131e+00],\n",
       "          ...,\n",
       "          [-1.4549e-02,  1.2850e-01,  2.8496e-02],\n",
       "          [ 3.7782e-02,  4.0195e-01,  3.1008e-02],\n",
       "          [-1.3696e-01,  2.3427e+00,  2.7537e+00]]], grad_fn=<AddBackward0>),\n",
       " tensor([[[[ 3.3692e+00, -7.6915e-01,  1.6103e+00],\n",
       "           [ 7.1429e+00, -2.2447e+00,  5.5625e-01],\n",
       "           [ 6.5456e+00, -3.0775e+00,  1.0334e+00],\n",
       "           ...,\n",
       "           [-2.0615e-01, -1.1781e-01,  3.5297e-01],\n",
       "           [ 2.5147e-02,  2.5597e-01,  2.3938e-01],\n",
       "           [ 8.3101e-02,  1.5788e+00,  4.1733e+00]],\n",
       " \n",
       "          [[ 3.2801e+00, -7.4455e-01,  1.2547e+00],\n",
       "           [ 7.2345e+00, -2.5870e+00,  3.7817e-01],\n",
       "           [ 6.4466e+00, -3.0446e+00,  1.0265e+00],\n",
       "           ...,\n",
       "           [-1.1291e-01,  4.1037e-03,  2.1553e-01],\n",
       "           [ 1.5926e-01,  2.3734e-01,  1.5046e-01],\n",
       "           [ 2.0993e-01,  1.4970e+00,  4.1200e+00]],\n",
       " \n",
       "          [[ 3.1790e+00, -6.6909e-01,  9.5185e-01],\n",
       "           [ 7.3169e+00, -2.9992e+00,  1.3351e-01],\n",
       "           [ 6.4973e+00, -3.0575e+00,  8.2952e-01],\n",
       "           ...,\n",
       "           [ 8.6049e-02, -6.5805e-02,  9.8367e-02],\n",
       "           [ 2.2453e-01,  1.6602e-01,  3.9188e-02],\n",
       "           [ 2.9197e-01,  1.4426e+00,  4.0796e+00]],\n",
       " \n",
       "          ...,\n",
       " \n",
       "          [[ 3.5295e+00, -1.8747e-01,  1.6504e+00],\n",
       "           [ 7.4712e+00, -1.7058e+00,  7.5345e-01],\n",
       "           [ 6.6679e+00, -2.2244e+00,  6.4494e-01],\n",
       "           ...,\n",
       "           [-3.5811e-01, -6.7032e-01,  1.0315e+00],\n",
       "           [-1.3571e-01, -2.5432e-01,  9.9508e-01],\n",
       "           [-1.0152e-01,  1.4439e+00,  4.7477e+00]],\n",
       " \n",
       "          [[ 3.4670e+00, -5.2183e-01,  1.7890e+00],\n",
       "           [ 7.3303e+00, -1.7938e+00,  5.9254e-01],\n",
       "           [ 6.7495e+00, -2.7155e+00,  8.9222e-01],\n",
       "           ...,\n",
       "           [-2.7361e-01, -6.1250e-01,  9.2771e-01],\n",
       "           [-5.4503e-02, -1.0677e-01,  7.6035e-01],\n",
       "           [ 1.0899e-01,  1.4914e+00,  4.4677e+00]],\n",
       " \n",
       "          [[ 3.4859e+00, -6.8416e-01,  1.7804e+00],\n",
       "           [ 7.2400e+00, -1.9698e+00,  5.7332e-01],\n",
       "           [ 6.6832e+00, -3.0097e+00,  1.0837e+00],\n",
       "           ...,\n",
       "           [-2.1014e-01, -4.7089e-01,  6.9863e-01],\n",
       "           [ 4.7701e-04,  8.2178e-02,  4.7584e-01],\n",
       "           [ 1.7297e-01,  1.6127e+00,  4.2865e+00]]],\n",
       " \n",
       " \n",
       "         [[[ 3.3715e+00, -7.4903e-01,  1.6046e+00],\n",
       "           [ 7.1266e+00, -2.2415e+00,  5.4551e-01],\n",
       "           [ 6.5422e+00, -3.0586e+00,  1.0204e+00],\n",
       "           ...,\n",
       "           [-2.1014e-01, -1.1565e-01,  3.4479e-01],\n",
       "           [ 1.7612e-02,  2.4892e-01,  2.3508e-01],\n",
       "           [ 7.7402e-02,  1.5723e+00,  4.1784e+00]],\n",
       " \n",
       "          [[ 3.2819e+00, -7.2371e-01,  1.2539e+00],\n",
       "           [ 7.2202e+00, -2.5819e+00,  3.7271e-01],\n",
       "           [ 6.4371e+00, -3.0240e+00,  1.0168e+00],\n",
       "           ...,\n",
       "           [-1.2394e-01,  1.1789e-03,  2.0738e-01],\n",
       "           [ 1.4475e-01,  2.3669e-01,  1.5537e-01],\n",
       "           [ 1.9811e-01,  1.4996e+00,  4.1298e+00]],\n",
       " \n",
       "          [[ 3.1814e+00, -6.4531e-01,  9.4806e-01],\n",
       "           [ 7.3005e+00, -2.9918e+00,  1.2305e-01],\n",
       "           [ 6.4845e+00, -3.0353e+00,  8.1490e-01],\n",
       "           ...,\n",
       "           [ 6.4666e-02, -4.9485e-02,  1.0156e-01],\n",
       "           [ 2.0695e-01,  1.7346e-01,  4.5149e-02],\n",
       "           [ 2.7667e-01,  1.4530e+00,  4.0885e+00]],\n",
       " \n",
       "          ...,\n",
       " \n",
       "          [[ 3.5384e+00, -1.6384e-01,  1.6560e+00],\n",
       "           [ 7.4580e+00, -1.6996e+00,  7.6291e-01],\n",
       "           [ 6.6575e+00, -2.2039e+00,  6.4245e-01],\n",
       "           ...,\n",
       "           [-3.6399e-01, -6.6494e-01,  1.0148e+00],\n",
       "           [-1.4070e-01, -2.5673e-01,  9.8372e-01],\n",
       "           [-1.1375e-01,  1.4402e+00,  4.7512e+00]],\n",
       " \n",
       "          [[ 3.4706e+00, -5.0297e-01,  1.7950e+00],\n",
       "           [ 7.3108e+00, -1.7895e+00,  5.9629e-01],\n",
       "           [ 6.7432e+00, -2.6895e+00,  8.8265e-01],\n",
       "           ...,\n",
       "           [-2.8089e-01, -6.1213e-01,  9.1962e-01],\n",
       "           [-6.2740e-02, -1.1589e-01,  7.5806e-01],\n",
       "           [ 9.4832e-02,  1.4834e+00,  4.4827e+00]],\n",
       " \n",
       "          [[ 3.4910e+00, -6.6740e-01,  1.7755e+00],\n",
       "           [ 7.2194e+00, -1.9654e+00,  5.6952e-01],\n",
       "           [ 6.6799e+00, -2.9904e+00,  1.0703e+00],\n",
       "           ...,\n",
       "           [-2.1025e-01, -4.7224e-01,  6.8932e-01],\n",
       "           [ 7.2174e-05,  7.4019e-02,  4.7001e-01],\n",
       "           [ 1.6771e-01,  1.6048e+00,  4.2932e+00]]],\n",
       " \n",
       " \n",
       "         [[[ 3.3899e+00, -7.9311e-01,  1.6130e+00],\n",
       "           [ 7.2001e+00, -2.2661e+00,  5.5349e-01],\n",
       "           [ 6.5796e+00, -3.1082e+00,  1.0344e+00],\n",
       "           ...,\n",
       "           [-1.9339e-01, -1.1541e-01,  3.4961e-01],\n",
       "           [ 3.6921e-02,  2.6306e-01,  2.4522e-01],\n",
       "           [ 9.8679e-02,  1.6032e+00,  4.1906e+00]],\n",
       " \n",
       "          [[ 3.2986e+00, -7.6924e-01,  1.2608e+00],\n",
       "           [ 7.2877e+00, -2.6070e+00,  3.7840e-01],\n",
       "           [ 6.4877e+00, -3.0732e+00,  1.0321e+00],\n",
       "           ...,\n",
       "           [-9.7731e-02,  7.2854e-03,  2.1290e-01],\n",
       "           [ 1.7316e-01,  2.4222e-01,  1.5236e-01],\n",
       "           [ 2.2590e-01,  1.5137e+00,  4.1379e+00]],\n",
       " \n",
       "          [[ 3.1979e+00, -6.8850e-01,  9.5476e-01],\n",
       "           [ 7.3743e+00, -3.0174e+00,  1.4302e-01],\n",
       "           [ 6.5448e+00, -3.0859e+00,  8.3586e-01],\n",
       "           ...,\n",
       "           [ 1.0810e-01, -7.4127e-02,  9.2750e-02],\n",
       "           [ 2.4244e-01,  1.6475e-01,  4.3314e-02],\n",
       "           [ 3.0739e-01,  1.4508e+00,  4.1026e+00]],\n",
       " \n",
       "          ...,\n",
       " \n",
       "          [[ 3.5514e+00, -2.1033e-01,  1.6543e+00],\n",
       "           [ 7.5292e+00, -1.7230e+00,  7.5068e-01],\n",
       "           [ 6.7040e+00, -2.2567e+00,  6.4536e-01],\n",
       "           ...,\n",
       "           [-3.4619e-01, -6.6268e-01,  1.0220e+00],\n",
       "           [-1.2321e-01, -2.4153e-01,  9.9483e-01],\n",
       "           [-8.1829e-02,  1.4756e+00,  4.7574e+00]],\n",
       " \n",
       "          [[ 3.4922e+00, -5.4762e-01,  1.7934e+00],\n",
       "           [ 7.3907e+00, -1.8097e+00,  5.9167e-01],\n",
       "           [ 6.7808e+00, -2.7472e+00,  8.9375e-01],\n",
       "           ...,\n",
       "           [-2.5948e-01, -6.0463e-01,  9.1536e-01],\n",
       "           [-4.1656e-02, -9.3279e-02,  7.5684e-01],\n",
       "           [ 1.2934e-01,  1.5260e+00,  4.4744e+00]],\n",
       " \n",
       "          [[ 3.5146e+00, -7.0524e-01,  1.7847e+00],\n",
       "           [ 7.2996e+00, -1.9834e+00,  5.7381e-01],\n",
       "           [ 6.7155e+00, -3.0447e+00,  1.0869e+00],\n",
       "           ...,\n",
       "           [-2.0081e-01, -4.6379e-01,  6.9048e-01],\n",
       "           [ 6.5656e-03,  9.1338e-02,  4.7970e-01],\n",
       "           [ 1.8909e-01,  1.6389e+00,  4.3011e+00]]],\n",
       " \n",
       " \n",
       "         ...,\n",
       " \n",
       " \n",
       "         [[[ 3.3870e+00, -7.7116e-01,  1.6129e+00],\n",
       "           [ 7.2023e+00, -2.2621e+00,  5.5870e-01],\n",
       "           [ 6.5902e+00, -3.0970e+00,  1.0337e+00],\n",
       "           ...,\n",
       "           [-1.9956e-01, -1.1594e-01,  3.5429e-01],\n",
       "           [ 3.0923e-02,  2.5812e-01,  2.3980e-01],\n",
       "           [ 9.4641e-02,  1.5925e+00,  4.2011e+00]],\n",
       " \n",
       "          [[ 3.3020e+00, -7.4697e-01,  1.2605e+00],\n",
       "           [ 7.2948e+00, -2.6025e+00,  3.8247e-01],\n",
       "           [ 6.4906e+00, -3.0572e+00,  1.0371e+00],\n",
       "           ...,\n",
       "           [-1.0920e-01,  4.3769e-03,  2.1912e-01],\n",
       "           [ 1.6117e-01,  2.4047e-01,  1.5097e-01],\n",
       "           [ 2.1513e-01,  1.5127e+00,  4.1477e+00]],\n",
       " \n",
       "          [[ 3.2041e+00, -6.6922e-01,  9.5831e-01],\n",
       "           [ 7.3756e+00, -3.0100e+00,  1.3852e-01],\n",
       "           [ 6.5394e+00, -3.0709e+00,  8.3868e-01],\n",
       "           ...,\n",
       "           [ 8.9072e-02, -6.0316e-02,  1.0257e-01],\n",
       "           [ 2.2525e-01,  1.7258e-01,  4.2070e-02],\n",
       "           [ 2.9579e-01,  1.4607e+00,  4.1117e+00]],\n",
       " \n",
       "          ...,\n",
       " \n",
       "          [[ 3.5469e+00, -1.8957e-01,  1.6608e+00],\n",
       "           [ 7.5379e+00, -1.7261e+00,  7.5569e-01],\n",
       "           [ 6.6981e+00, -2.2506e+00,  6.6208e-01],\n",
       "           ...,\n",
       "           [-3.5760e-01, -6.5547e-01,  1.0220e+00],\n",
       "           [-1.3367e-01, -2.4042e-01,  9.8941e-01],\n",
       "           [-9.1824e-02,  1.4724e+00,  4.7598e+00]],\n",
       " \n",
       "          [[ 3.4784e+00, -5.2381e-01,  1.8022e+00],\n",
       "           [ 7.3952e+00, -1.8117e+00,  6.0341e-01],\n",
       "           [ 6.7791e+00, -2.7413e+00,  9.0603e-01],\n",
       "           ...,\n",
       "           [-2.6921e-01, -6.0107e-01,  9.2016e-01],\n",
       "           [-5.0976e-02, -9.5836e-02,  7.5303e-01],\n",
       "           [ 1.2012e-01,  1.5160e+00,  4.4812e+00]],\n",
       " \n",
       "          [[ 3.5065e+00, -6.8319e-01,  1.7867e+00],\n",
       "           [ 7.3003e+00, -1.9828e+00,  5.7893e-01],\n",
       "           [ 6.7181e+00, -3.0323e+00,  1.0880e+00],\n",
       "           ...,\n",
       "           [-2.0326e-01, -4.6059e-01,  6.8988e-01],\n",
       "           [ 4.2129e-03,  8.6191e-02,  4.7466e-01],\n",
       "           [ 1.8525e-01,  1.6276e+00,  4.3118e+00]]],\n",
       " \n",
       " \n",
       "         [[[ 3.3626e+00, -7.5953e-01,  1.5881e+00],\n",
       "           [ 7.1453e+00, -2.2595e+00,  5.5358e-01],\n",
       "           [ 6.5251e+00, -3.1118e+00,  1.0251e+00],\n",
       "           ...,\n",
       "           [-1.9513e-01, -1.2274e-01,  3.5730e-01],\n",
       "           [ 3.5003e-02,  2.5190e-01,  2.3928e-01],\n",
       "           [ 8.9815e-02,  1.5727e+00,  4.1828e+00]],\n",
       " \n",
       "          [[ 3.2729e+00, -7.3799e-01,  1.2378e+00],\n",
       "           [ 7.2379e+00, -2.5979e+00,  3.8080e-01],\n",
       "           [ 6.4237e+00, -3.0711e+00,  1.0187e+00],\n",
       "           ...,\n",
       "           [-1.0335e-01,  3.8775e-03,  2.2586e-01],\n",
       "           [ 1.7207e-01,  2.3282e-01,  1.4855e-01],\n",
       "           [ 2.1220e-01,  1.4920e+00,  4.1280e+00]],\n",
       " \n",
       "          [[ 3.1731e+00, -6.5226e-01,  9.2894e-01],\n",
       "           [ 7.3254e+00, -3.0096e+00,  1.2647e-01],\n",
       "           [ 6.4735e+00, -3.0858e+00,  8.1610e-01],\n",
       "           ...,\n",
       "           [ 8.9774e-02, -6.8507e-02,  1.0578e-01],\n",
       "           [ 2.2841e-01,  1.6025e-01,  3.7035e-02],\n",
       "           [ 2.8758e-01,  1.4336e+00,  4.0910e+00]],\n",
       " \n",
       "          ...,\n",
       " \n",
       "          [[ 3.5198e+00, -1.8194e-01,  1.6358e+00],\n",
       "           [ 7.4867e+00, -1.7287e+00,  7.5749e-01],\n",
       "           [ 6.6384e+00, -2.2530e+00,  6.4105e-01],\n",
       "           ...,\n",
       "           [-3.4880e-01, -6.7233e-01,  1.0375e+00],\n",
       "           [-1.2990e-01, -2.5660e-01,  9.9186e-01],\n",
       "           [-1.0476e-01,  1.4312e+00,  4.7524e+00]],\n",
       " \n",
       "          [[ 3.4585e+00, -5.0941e-01,  1.7835e+00],\n",
       "           [ 7.3386e+00, -1.8141e+00,  5.9975e-01],\n",
       "           [ 6.7205e+00, -2.7403e+00,  8.8037e-01],\n",
       "           ...,\n",
       "           [-2.6351e-01, -6.1255e-01,  9.2968e-01],\n",
       "           [-4.7866e-02, -1.1077e-01,  7.5568e-01],\n",
       "           [ 1.0615e-01,  1.4796e+00,  4.4710e+00]],\n",
       " \n",
       "          [[ 3.4848e+00, -6.7268e-01,  1.7677e+00],\n",
       "           [ 7.2420e+00, -1.9856e+00,  5.8006e-01],\n",
       "           [ 6.6661e+00, -3.0351e+00,  1.0772e+00],\n",
       "           ...,\n",
       "           [-1.9824e-01, -4.7126e-01,  6.9978e-01],\n",
       "           [ 7.0234e-03,  7.5836e-02,  4.7504e-01],\n",
       "           [ 1.7172e-01,  1.6022e+00,  4.2928e+00]]],\n",
       " \n",
       " \n",
       "         [[[ 3.3738e+00, -7.6108e-01,  1.5977e+00],\n",
       "           [ 7.1234e+00, -2.2431e+00,  5.5293e-01],\n",
       "           [ 6.5408e+00, -3.0664e+00,  1.0147e+00],\n",
       "           ...,\n",
       "           [-2.0606e-01, -1.1041e-01,  3.3170e-01],\n",
       "           [ 2.3294e-02,  2.4725e-01,  2.3303e-01],\n",
       "           [ 8.2877e-02,  1.5680e+00,  4.1697e+00]],\n",
       " \n",
       "          [[ 3.2859e+00, -7.4387e-01,  1.2503e+00],\n",
       "           [ 7.2197e+00, -2.5900e+00,  3.8108e-01],\n",
       "           [ 6.4342e+00, -3.0365e+00,  1.0120e+00],\n",
       "           ...,\n",
       "           [-1.2062e-01,  4.6451e-03,  1.9811e-01],\n",
       "           [ 1.5340e-01,  2.3193e-01,  1.5125e-01],\n",
       "           [ 2.0423e-01,  1.4912e+00,  4.1218e+00]],\n",
       " \n",
       "          [[ 3.1807e+00, -6.6125e-01,  9.4687e-01],\n",
       "           [ 7.2950e+00, -2.9993e+00,  1.2814e-01],\n",
       "           [ 6.4794e+00, -3.0493e+00,  8.1144e-01],\n",
       "           ...,\n",
       "           [ 6.9628e-02, -5.0159e-02,  8.9008e-02],\n",
       "           [ 2.1536e-01,  1.6590e-01,  3.9435e-02],\n",
       "           [ 2.8302e-01,  1.4419e+00,  4.0818e+00]],\n",
       " \n",
       "          ...,\n",
       " \n",
       "          [[ 3.5405e+00, -1.7745e-01,  1.6451e+00],\n",
       "           [ 7.4556e+00, -1.7126e+00,  7.7143e-01],\n",
       "           [ 6.6564e+00, -2.2024e+00,  6.3621e-01],\n",
       "           ...,\n",
       "           [-3.6600e-01, -6.6704e-01,  1.0148e+00],\n",
       "           [-1.4468e-01, -2.6194e-01,  9.8899e-01],\n",
       "           [-1.2125e-01,  1.4281e+00,  4.7536e+00]],\n",
       " \n",
       "          [[ 3.4770e+00, -5.1751e-01,  1.7830e+00],\n",
       "           [ 7.3076e+00, -1.7986e+00,  5.9986e-01],\n",
       "           [ 6.7434e+00, -2.6879e+00,  8.7391e-01],\n",
       "           ...,\n",
       "           [-2.8075e-01, -6.0733e-01,  9.0933e-01],\n",
       "           [-6.1933e-02, -1.1574e-01,  7.5470e-01],\n",
       "           [ 9.1834e-02,  1.4776e+00,  4.4749e+00]],\n",
       " \n",
       "          [[ 3.4930e+00, -6.7964e-01,  1.7712e+00],\n",
       "           [ 7.2128e+00, -1.9718e+00,  5.7609e-01],\n",
       "           [ 6.6800e+00, -2.9916e+00,  1.0640e+00],\n",
       "           ...,\n",
       "           [-2.0700e-01, -4.6185e-01,  6.7077e-01],\n",
       "           [ 2.4038e-03,  7.4190e-02,  4.6694e-01],\n",
       "           [ 1.6529e-01,  1.6021e+00,  4.2856e+00]]]], grad_fn=<AddBackward0>))"
      ]
     },
     "execution_count": 34,
     "metadata": {},
     "output_type": "execute_result"
    }
   ],
   "source": [
    "t_ae(x.s_t)"
   ]
  },
  {
   "cell_type": "code",
   "execution_count": null,
   "id": "4e865d84",
   "metadata": {},
   "outputs": [
    {
     "name": "stderr",
     "output_type": "stream",
     "text": [
      "/home/user/miniconda/envs/cardiac_coma/lib/python3.9/site-packages/pytorch_lightning/core/datamodule.py:469: LightningDeprecationWarning: DataModule.setup has already been called, so it will not be called again. In v1.6 this behavior will change to always call DataModule.setup.\n",
      "  rank_zero_deprecation(\n",
      "LOCAL_RANK: 0 - CUDA_VISIBLE_DEVICES: [0]\n",
      "\n",
      "  | Name  | Type                        | Params\n",
      "------------------------------------------------------\n",
      "0 | model | AutoencoderTemporalSequence | 1.2 M \n",
      "------------------------------------------------------\n",
      "1.2 M     Trainable params\n",
      "0         Non-trainable params\n",
      "1.2 M     Total params\n",
      "2.421     Total estimated model params size (MB)\n"
     ]
    },
    {
     "data": {
      "application/vnd.jupyter.widget-view+json": {
       "model_id": "",
       "version_major": 2,
       "version_minor": 0
      },
      "text/plain": [
       "Validation sanity check: 0it [00:00, ?it/s]"
      ]
     },
     "metadata": {},
     "output_type": "display_data"
    },
    {
     "data": {
      "application/vnd.jupyter.widget-view+json": {
       "model_id": "6374363a4b984151a42d3fcf4813e4fa",
       "version_major": 2,
       "version_minor": 0
      },
      "text/plain": [
       "Training: 0it [00:00, ?it/s]"
      ]
     },
     "metadata": {},
     "output_type": "display_data"
    },
    {
     "name": "stderr",
     "output_type": "stream",
     "text": [
      "/home/user/miniconda/envs/cardiac_coma/lib/python3.9/site-packages/pytorch_lightning/loops/optimization/closure.py:35: LightningDeprecationWarning: One of the returned values {'training_recon_loss_s', 'training_recon_loss_c', 'training_kld_loss', 'training_recon_loss'} has a `grad_fn`. We will detach it automatically but this behaviour will change in v1.6. Please detach it manually: `return {'loss': ..., 'something': something.detach()}`\n",
      "  rank_zero_deprecation(\n"
     ]
    },
    {
     "data": {
      "application/vnd.jupyter.widget-view+json": {
       "model_id": "",
       "version_major": 2,
       "version_minor": 0
      },
      "text/plain": [
       "Validating: 0it [00:00, ?it/s]"
      ]
     },
     "metadata": {},
     "output_type": "display_data"
    },
    {
     "data": {
      "application/vnd.jupyter.widget-view+json": {
       "model_id": "",
       "version_major": 2,
       "version_minor": 0
      },
      "text/plain": [
       "Validating: 0it [00:00, ?it/s]"
      ]
     },
     "metadata": {},
     "output_type": "display_data"
    },
    {
     "data": {
      "application/vnd.jupyter.widget-view+json": {
       "model_id": "",
       "version_major": 2,
       "version_minor": 0
      },
      "text/plain": [
       "Validating: 0it [00:00, ?it/s]"
      ]
     },
     "metadata": {},
     "output_type": "display_data"
    },
    {
     "data": {
      "application/vnd.jupyter.widget-view+json": {
       "model_id": "",
       "version_major": 2,
       "version_minor": 0
      },
      "text/plain": [
       "Validating: 0it [00:00, ?it/s]"
      ]
     },
     "metadata": {},
     "output_type": "display_data"
    },
    {
     "data": {
      "application/vnd.jupyter.widget-view+json": {
       "model_id": "",
       "version_major": 2,
       "version_minor": 0
      },
      "text/plain": [
       "Validating: 0it [00:00, ?it/s]"
      ]
     },
     "metadata": {},
     "output_type": "display_data"
    },
    {
     "data": {
      "application/vnd.jupyter.widget-view+json": {
       "model_id": "",
       "version_major": 2,
       "version_minor": 0
      },
      "text/plain": [
       "Validating: 0it [00:00, ?it/s]"
      ]
     },
     "metadata": {},
     "output_type": "display_data"
    },
    {
     "data": {
      "application/vnd.jupyter.widget-view+json": {
       "model_id": "",
       "version_major": 2,
       "version_minor": 0
      },
      "text/plain": [
       "Validating: 0it [00:00, ?it/s]"
      ]
     },
     "metadata": {},
     "output_type": "display_data"
    },
    {
     "data": {
      "application/vnd.jupyter.widget-view+json": {
       "model_id": "",
       "version_major": 2,
       "version_minor": 0
      },
      "text/plain": [
       "Validating: 0it [00:00, ?it/s]"
      ]
     },
     "metadata": {},
     "output_type": "display_data"
    },
    {
     "data": {
      "application/vnd.jupyter.widget-view+json": {
       "model_id": "",
       "version_major": 2,
       "version_minor": 0
      },
      "text/plain": [
       "Validating: 0it [00:00, ?it/s]"
      ]
     },
     "metadata": {},
     "output_type": "display_data"
    },
    {
     "data": {
      "application/vnd.jupyter.widget-view+json": {
       "model_id": "",
       "version_major": 2,
       "version_minor": 0
      },
      "text/plain": [
       "Validating: 0it [00:00, ?it/s]"
      ]
     },
     "metadata": {},
     "output_type": "display_data"
    },
    {
     "data": {
      "application/vnd.jupyter.widget-view+json": {
       "model_id": "",
       "version_major": 2,
       "version_minor": 0
      },
      "text/plain": [
       "Validating: 0it [00:00, ?it/s]"
      ]
     },
     "metadata": {},
     "output_type": "display_data"
    },
    {
     "data": {
      "application/vnd.jupyter.widget-view+json": {
       "model_id": "",
       "version_major": 2,
       "version_minor": 0
      },
      "text/plain": [
       "Validating: 0it [00:00, ?it/s]"
      ]
     },
     "metadata": {},
     "output_type": "display_data"
    },
    {
     "data": {
      "application/vnd.jupyter.widget-view+json": {
       "model_id": "",
       "version_major": 2,
       "version_minor": 0
      },
      "text/plain": [
       "Validating: 0it [00:00, ?it/s]"
      ]
     },
     "metadata": {},
     "output_type": "display_data"
    },
    {
     "data": {
      "application/vnd.jupyter.widget-view+json": {
       "model_id": "",
       "version_major": 2,
       "version_minor": 0
      },
      "text/plain": [
       "Validating: 0it [00:00, ?it/s]"
      ]
     },
     "metadata": {},
     "output_type": "display_data"
    },
    {
     "data": {
      "application/vnd.jupyter.widget-view+json": {
       "model_id": "",
       "version_major": 2,
       "version_minor": 0
      },
      "text/plain": [
       "Validating: 0it [00:00, ?it/s]"
      ]
     },
     "metadata": {},
     "output_type": "display_data"
    },
    {
     "data": {
      "application/vnd.jupyter.widget-view+json": {
       "model_id": "",
       "version_major": 2,
       "version_minor": 0
      },
      "text/plain": [
       "Validating: 0it [00:00, ?it/s]"
      ]
     },
     "metadata": {},
     "output_type": "display_data"
    },
    {
     "data": {
      "application/vnd.jupyter.widget-view+json": {
       "model_id": "",
       "version_major": 2,
       "version_minor": 0
      },
      "text/plain": [
       "Validating: 0it [00:00, ?it/s]"
      ]
     },
     "metadata": {},
     "output_type": "display_data"
    },
    {
     "data": {
      "application/vnd.jupyter.widget-view+json": {
       "model_id": "",
       "version_major": 2,
       "version_minor": 0
      },
      "text/plain": [
       "Validating: 0it [00:00, ?it/s]"
      ]
     },
     "metadata": {},
     "output_type": "display_data"
    },
    {
     "data": {
      "application/vnd.jupyter.widget-view+json": {
       "model_id": "",
       "version_major": 2,
       "version_minor": 0
      },
      "text/plain": [
       "Validating: 0it [00:00, ?it/s]"
      ]
     },
     "metadata": {},
     "output_type": "display_data"
    },
    {
     "data": {
      "application/vnd.jupyter.widget-view+json": {
       "model_id": "",
       "version_major": 2,
       "version_minor": 0
      },
      "text/plain": [
       "Validating: 0it [00:00, ?it/s]"
      ]
     },
     "metadata": {},
     "output_type": "display_data"
    },
    {
     "data": {
      "application/vnd.jupyter.widget-view+json": {
       "model_id": "",
       "version_major": 2,
       "version_minor": 0
      },
      "text/plain": [
       "Validating: 0it [00:00, ?it/s]"
      ]
     },
     "metadata": {},
     "output_type": "display_data"
    },
    {
     "data": {
      "application/vnd.jupyter.widget-view+json": {
       "model_id": "",
       "version_major": 2,
       "version_minor": 0
      },
      "text/plain": [
       "Validating: 0it [00:00, ?it/s]"
      ]
     },
     "metadata": {},
     "output_type": "display_data"
    },
    {
     "data": {
      "application/vnd.jupyter.widget-view+json": {
       "model_id": "",
       "version_major": 2,
       "version_minor": 0
      },
      "text/plain": [
       "Validating: 0it [00:00, ?it/s]"
      ]
     },
     "metadata": {},
     "output_type": "display_data"
    },
    {
     "data": {
      "application/vnd.jupyter.widget-view+json": {
       "model_id": "",
       "version_major": 2,
       "version_minor": 0
      },
      "text/plain": [
       "Validating: 0it [00:00, ?it/s]"
      ]
     },
     "metadata": {},
     "output_type": "display_data"
    },
    {
     "data": {
      "application/vnd.jupyter.widget-view+json": {
       "model_id": "",
       "version_major": 2,
       "version_minor": 0
      },
      "text/plain": [
       "Validating: 0it [00:00, ?it/s]"
      ]
     },
     "metadata": {},
     "output_type": "display_data"
    },
    {
     "data": {
      "application/vnd.jupyter.widget-view+json": {
       "model_id": "",
       "version_major": 2,
       "version_minor": 0
      },
      "text/plain": [
       "Validating: 0it [00:00, ?it/s]"
      ]
     },
     "metadata": {},
     "output_type": "display_data"
    },
    {
     "data": {
      "application/vnd.jupyter.widget-view+json": {
       "model_id": "",
       "version_major": 2,
       "version_minor": 0
      },
      "text/plain": [
       "Validating: 0it [00:00, ?it/s]"
      ]
     },
     "metadata": {},
     "output_type": "display_data"
    },
    {
     "data": {
      "application/vnd.jupyter.widget-view+json": {
       "model_id": "",
       "version_major": 2,
       "version_minor": 0
      },
      "text/plain": [
       "Validating: 0it [00:00, ?it/s]"
      ]
     },
     "metadata": {},
     "output_type": "display_data"
    },
    {
     "data": {
      "application/vnd.jupyter.widget-view+json": {
       "model_id": "",
       "version_major": 2,
       "version_minor": 0
      },
      "text/plain": [
       "Validating: 0it [00:00, ?it/s]"
      ]
     },
     "metadata": {},
     "output_type": "display_data"
    },
    {
     "data": {
      "application/vnd.jupyter.widget-view+json": {
       "model_id": "",
       "version_major": 2,
       "version_minor": 0
      },
      "text/plain": [
       "Validating: 0it [00:00, ?it/s]"
      ]
     },
     "metadata": {},
     "output_type": "display_data"
    },
    {
     "data": {
      "application/vnd.jupyter.widget-view+json": {
       "model_id": "",
       "version_major": 2,
       "version_minor": 0
      },
      "text/plain": [
       "Validating: 0it [00:00, ?it/s]"
      ]
     },
     "metadata": {},
     "output_type": "display_data"
    },
    {
     "data": {
      "application/vnd.jupyter.widget-view+json": {
       "model_id": "",
       "version_major": 2,
       "version_minor": 0
      },
      "text/plain": [
       "Validating: 0it [00:00, ?it/s]"
      ]
     },
     "metadata": {},
     "output_type": "display_data"
    },
    {
     "data": {
      "application/vnd.jupyter.widget-view+json": {
       "model_id": "",
       "version_major": 2,
       "version_minor": 0
      },
      "text/plain": [
       "Validating: 0it [00:00, ?it/s]"
      ]
     },
     "metadata": {},
     "output_type": "display_data"
    },
    {
     "data": {
      "application/vnd.jupyter.widget-view+json": {
       "model_id": "",
       "version_major": 2,
       "version_minor": 0
      },
      "text/plain": [
       "Validating: 0it [00:00, ?it/s]"
      ]
     },
     "metadata": {},
     "output_type": "display_data"
    },
    {
     "data": {
      "application/vnd.jupyter.widget-view+json": {
       "model_id": "",
       "version_major": 2,
       "version_minor": 0
      },
      "text/plain": [
       "Validating: 0it [00:00, ?it/s]"
      ]
     },
     "metadata": {},
     "output_type": "display_data"
    },
    {
     "data": {
      "application/vnd.jupyter.widget-view+json": {
       "model_id": "",
       "version_major": 2,
       "version_minor": 0
      },
      "text/plain": [
       "Validating: 0it [00:00, ?it/s]"
      ]
     },
     "metadata": {},
     "output_type": "display_data"
    },
    {
     "data": {
      "application/vnd.jupyter.widget-view+json": {
       "model_id": "",
       "version_major": 2,
       "version_minor": 0
      },
      "text/plain": [
       "Validating: 0it [00:00, ?it/s]"
      ]
     },
     "metadata": {},
     "output_type": "display_data"
    },
    {
     "data": {
      "application/vnd.jupyter.widget-view+json": {
       "model_id": "",
       "version_major": 2,
       "version_minor": 0
      },
      "text/plain": [
       "Validating: 0it [00:00, ?it/s]"
      ]
     },
     "metadata": {},
     "output_type": "display_data"
    },
    {
     "data": {
      "application/vnd.jupyter.widget-view+json": {
       "model_id": "",
       "version_major": 2,
       "version_minor": 0
      },
      "text/plain": [
       "Validating: 0it [00:00, ?it/s]"
      ]
     },
     "metadata": {},
     "output_type": "display_data"
    },
    {
     "data": {
      "application/vnd.jupyter.widget-view+json": {
       "model_id": "",
       "version_major": 2,
       "version_minor": 0
      },
      "text/plain": [
       "Validating: 0it [00:00, ?it/s]"
      ]
     },
     "metadata": {},
     "output_type": "display_data"
    },
    {
     "data": {
      "application/vnd.jupyter.widget-view+json": {
       "model_id": "",
       "version_major": 2,
       "version_minor": 0
      },
      "text/plain": [
       "Validating: 0it [00:00, ?it/s]"
      ]
     },
     "metadata": {},
     "output_type": "display_data"
    },
    {
     "data": {
      "application/vnd.jupyter.widget-view+json": {
       "model_id": "",
       "version_major": 2,
       "version_minor": 0
      },
      "text/plain": [
       "Validating: 0it [00:00, ?it/s]"
      ]
     },
     "metadata": {},
     "output_type": "display_data"
    },
    {
     "data": {
      "application/vnd.jupyter.widget-view+json": {
       "model_id": "",
       "version_major": 2,
       "version_minor": 0
      },
      "text/plain": [
       "Validating: 0it [00:00, ?it/s]"
      ]
     },
     "metadata": {},
     "output_type": "display_data"
    },
    {
     "data": {
      "application/vnd.jupyter.widget-view+json": {
       "model_id": "",
       "version_major": 2,
       "version_minor": 0
      },
      "text/plain": [
       "Validating: 0it [00:00, ?it/s]"
      ]
     },
     "metadata": {},
     "output_type": "display_data"
    },
    {
     "data": {
      "application/vnd.jupyter.widget-view+json": {
       "model_id": "",
       "version_major": 2,
       "version_minor": 0
      },
      "text/plain": [
       "Validating: 0it [00:00, ?it/s]"
      ]
     },
     "metadata": {},
     "output_type": "display_data"
    },
    {
     "data": {
      "application/vnd.jupyter.widget-view+json": {
       "model_id": "",
       "version_major": 2,
       "version_minor": 0
      },
      "text/plain": [
       "Validating: 0it [00:00, ?it/s]"
      ]
     },
     "metadata": {},
     "output_type": "display_data"
    },
    {
     "data": {
      "application/vnd.jupyter.widget-view+json": {
       "model_id": "",
       "version_major": 2,
       "version_minor": 0
      },
      "text/plain": [
       "Validating: 0it [00:00, ?it/s]"
      ]
     },
     "metadata": {},
     "output_type": "display_data"
    },
    {
     "data": {
      "application/vnd.jupyter.widget-view+json": {
       "model_id": "",
       "version_major": 2,
       "version_minor": 0
      },
      "text/plain": [
       "Validating: 0it [00:00, ?it/s]"
      ]
     },
     "metadata": {},
     "output_type": "display_data"
    },
    {
     "data": {
      "application/vnd.jupyter.widget-view+json": {
       "model_id": "",
       "version_major": 2,
       "version_minor": 0
      },
      "text/plain": [
       "Validating: 0it [00:00, ?it/s]"
      ]
     },
     "metadata": {},
     "output_type": "display_data"
    },
    {
     "data": {
      "application/vnd.jupyter.widget-view+json": {
       "model_id": "",
       "version_major": 2,
       "version_minor": 0
      },
      "text/plain": [
       "Validating: 0it [00:00, ?it/s]"
      ]
     },
     "metadata": {},
     "output_type": "display_data"
    },
    {
     "data": {
      "application/vnd.jupyter.widget-view+json": {
       "model_id": "",
       "version_major": 2,
       "version_minor": 0
      },
      "text/plain": [
       "Validating: 0it [00:00, ?it/s]"
      ]
     },
     "metadata": {},
     "output_type": "display_data"
    },
    {
     "data": {
      "application/vnd.jupyter.widget-view+json": {
       "model_id": "",
       "version_major": 2,
       "version_minor": 0
      },
      "text/plain": [
       "Validating: 0it [00:00, ?it/s]"
      ]
     },
     "metadata": {},
     "output_type": "display_data"
    },
    {
     "data": {
      "application/vnd.jupyter.widget-view+json": {
       "model_id": "",
       "version_major": 2,
       "version_minor": 0
      },
      "text/plain": [
       "Validating: 0it [00:00, ?it/s]"
      ]
     },
     "metadata": {},
     "output_type": "display_data"
    },
    {
     "data": {
      "application/vnd.jupyter.widget-view+json": {
       "model_id": "",
       "version_major": 2,
       "version_minor": 0
      },
      "text/plain": [
       "Validating: 0it [00:00, ?it/s]"
      ]
     },
     "metadata": {},
     "output_type": "display_data"
    },
    {
     "data": {
      "application/vnd.jupyter.widget-view+json": {
       "model_id": "",
       "version_major": 2,
       "version_minor": 0
      },
      "text/plain": [
       "Validating: 0it [00:00, ?it/s]"
      ]
     },
     "metadata": {},
     "output_type": "display_data"
    },
    {
     "data": {
      "application/vnd.jupyter.widget-view+json": {
       "model_id": "",
       "version_major": 2,
       "version_minor": 0
      },
      "text/plain": [
       "Validating: 0it [00:00, ?it/s]"
      ]
     },
     "metadata": {},
     "output_type": "display_data"
    },
    {
     "data": {
      "application/vnd.jupyter.widget-view+json": {
       "model_id": "",
       "version_major": 2,
       "version_minor": 0
      },
      "text/plain": [
       "Validating: 0it [00:00, ?it/s]"
      ]
     },
     "metadata": {},
     "output_type": "display_data"
    },
    {
     "data": {
      "application/vnd.jupyter.widget-view+json": {
       "model_id": "",
       "version_major": 2,
       "version_minor": 0
      },
      "text/plain": [
       "Validating: 0it [00:00, ?it/s]"
      ]
     },
     "metadata": {},
     "output_type": "display_data"
    }
   ],
   "source": [
    "trainer.fit(lit_module, mesh_dm)"
   ]
  },
  {
   "cell_type": "code",
   "execution_count": null,
   "id": "3fe0f129",
   "metadata": {},
   "outputs": [],
   "source": []
  }
 ],
 "metadata": {
  "kernelspec": {
   "display_name": "Python 3 (ipykernel)",
   "language": "python",
   "name": "python3"
  },
  "language_info": {
   "codemirror_mode": {
    "name": "ipython",
    "version": 3
   },
   "file_extension": ".py",
   "mimetype": "text/x-python",
   "name": "python",
   "nbconvert_exporter": "python",
   "pygments_lexer": "ipython3",
   "version": "3.9.16"
  }
 },
 "nbformat": 4,
 "nbformat_minor": 5
}
