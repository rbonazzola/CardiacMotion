{
 "cells": [
  {
   "cell_type": "code",
   "execution_count": 1,
   "id": "6368940e-9dd8-4f56-b1f7-f4e6ba9dc077",
   "metadata": {},
   "outputs": [],
   "source": [
    "import pyvista as pv\n",
    "import numpy as np\n",
    "import os\n",
    "import sys; sys.path.append(\"..\")\n",
    "import utils.mesh_operations as meshops\n",
    "from utils.VTKHelpers.CardiacMesh import Cardiac3DMesh"
   ]
  },
  {
   "cell_type": "code",
   "execution_count": 4,
   "id": "d3731f8f-8525-4e86-8f79-1171152c11a0",
   "metadata": {},
   "outputs": [],
   "source": [
    "mesh = Cardiac3DMesh(\"../data/cached/cardio/Results/1000215/models/fhm_time001.vtk\")"
   ]
  },
  {
   "cell_type": "code",
   "execution_count": null,
   "id": "16574de7-e66c-45b9-b0df-2587f1e9eee1",
   "metadata": {},
   "outputs": [
    {
     "name": "stderr",
     "output_type": "stream",
     "text": [
      "100%|██████████████████████████████████████████████████████████████████████████████████████████████████████████████████████████████████████████████████████████| 1165434/1165434 [00:52<00:00, 22246.08it/s]\n"
     ]
    }
   ],
   "source": [
    "new_faces, mtx = meshops.qslim_decimator_transformer(mesh, factor=0.1)"
   ]
  }
 ],
 "metadata": {
  "kernelspec": {
   "display_name": "cardio",
   "language": "python",
   "name": "cardio"
  },
  "language_info": {
   "codemirror_mode": {
    "name": "ipython",
    "version": 3
   },
   "file_extension": ".py",
   "mimetype": "text/x-python",
   "name": "python",
   "nbconvert_exporter": "python",
   "pygments_lexer": "ipython3",
   "version": "3.9.12"
  }
 },
 "nbformat": 4,
 "nbformat_minor": 5
}
