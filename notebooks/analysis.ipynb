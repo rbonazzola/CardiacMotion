{
 "cells": [
  {
   "cell_type": "code",
   "execution_count": null,
   "id": "0",
   "metadata": {
    "tags": []
   },
   "outputs": [],
   "source": [
    "import mlflow\n",
    "import os, sys\n",
    "\n",
    "import torch\n",
    "import torch.nn.functional as F\n",
    "\n",
    "import ipywidgets as widgets\n",
    "from ipywidgets import interact\n",
    "from IPython.display import Image\n",
    "from mlflow.tracking import MlflowClient\n",
    "\n",
    "import pickle as pkl\n",
    "import pytorch_lightning as pl\n",
    "\n",
    "from argparse import Namespace\n",
    "import matplotlib.pyplot as plt\n",
    "\n",
    "import surgeon_pytorch\n",
    "from surgeon_pytorch import Inspect, get_layers\n",
    "\n",
    "import numpy as np\n",
    "from IPython import embed\n",
    "sys.path.insert(0, '..')"
   ]
  },
  {
   "cell_type": "markdown",
   "id": "1",
   "metadata": {},
   "source": [
    "# MLflow"
   ]
  },
  {
   "cell_type": "code",
   "execution_count": null,
   "id": "2",
   "metadata": {
    "tags": []
   },
   "outputs": [],
   "source": [
    "TRACKING_URI = \"file:///home/rodrigo/CISTIB/repos/CardiacMotionRL/mlruns\"\n",
    "mlflow.set_tracking_uri(TRACKING_URI)"
   ]
  },
  {
   "cell_type": "code",
   "execution_count": null,
   "id": "3",
   "metadata": {
    "tags": []
   },
   "outputs": [],
   "source": [
    "# default_experiment = \"Synthetic data\"\n",
    "default_experiment = \"Synthetic data 2\"\n",
    "\n",
    "experiment_w = widgets.Select(\n",
    "    options=[exp.name for exp in mlflow.list_experiments()],\n",
    "    value=default_experiment\n",
    ")\n",
    "display(experiment_w)"
   ]
  },
  {
   "cell_type": "code",
   "execution_count": null,
   "id": "4",
   "metadata": {
    "tags": []
   },
   "outputs": [],
   "source": [
    "exp_id = mlflow.get_experiment_by_name(experiment_w.value).experiment_id"
   ]
  },
  {
   "cell_type": "markdown",
   "id": "5",
   "metadata": {},
   "source": [
    "### Retrieving runs"
   ]
  },
  {
   "cell_type": "code",
   "execution_count": null,
   "id": "6",
   "metadata": {
    "tags": []
   },
   "outputs": [],
   "source": [
    "# runs_list = mlflow.search_runs(experiment_ids=[exp_id], output_format=\"list\")\n",
    "runs_df = mlflow.search_runs(experiment_ids=[exp_id],)\n",
    "runs_df = runs_df[runs_df.status == \"FINISHED\"].reset_index(drop=True)"
   ]
  },
  {
   "cell_type": "code",
   "execution_count": null,
   "id": "7",
   "metadata": {
    "tags": []
   },
   "outputs": [],
   "source": [
    "test_ratio_cols = runs_df.columns[runs_df.columns.str.contains(\"test.*ratio\")]\n",
    "runs_df[test_ratio_cols]"
   ]
  },
  {
   "cell_type": "markdown",
   "id": "8",
   "metadata": {},
   "source": [
    "### Getting artifacts"
   ]
  },
  {
   "cell_type": "code",
   "execution_count": null,
   "id": "9",
   "metadata": {
    "tags": []
   },
   "outputs": [],
   "source": [
    "client = MlflowClient()\n",
    "local_dir = \"/tmp/artifact_downloads\"\n",
    "\n",
    "if not os.path.exists(local_dir):\n",
    "    os.mkdir(local_dir)"
   ]
  },
  {
   "cell_type": "code",
   "execution_count": null,
   "id": "10",
   "metadata": {
    "tags": []
   },
   "outputs": [],
   "source": [
    "client._tracking_client.list_artifacts(\n",
    "    runs_df.run_id[12]\n",
    ")"
   ]
  },
  {
   "cell_type": "code",
   "execution_count": null,
   "id": "11",
   "metadata": {},
   "outputs": [],
   "source": []
  },
  {
   "cell_type": "code",
   "execution_count": null,
   "id": "12",
   "metadata": {
    "tags": []
   },
   "outputs": [],
   "source": [
    "def display_gif(i):\n",
    "    kk = client.download_artifacts(\n",
    "      runs_df.run_id[i], \n",
    "      \"animations\", \n",
    "      local_dir\n",
    "    )\n",
    "    gif_file = os.path.join(kk, os.listdir(kk)[0])\n",
    "    gif = Image(data=open(gif_file,'rb').read(), format='png')\n",
    "    print(runs_df[sorted(runs_df.columns[runs_df.columns.str.startswith(\"params\")])].iloc[i])\n",
    "    display(gif)    \n",
    "    \n",
    "run_id_w = widgets.IntSlider(min=0, max=12)\n",
    "interact(display_gif, i=run_id_w);"
   ]
  },
  {
   "cell_type": "code",
   "execution_count": null,
   "id": "13",
   "metadata": {},
   "outputs": [],
   "source": [
    "print(run_id_w.value)\n",
    "tmp_model_path = client.download_artifacts(\n",
    "    runs_df.run_id[run_id_w.value], \n",
    "    \"model\", \n",
    "    local_dir\n",
    ")"
   ]
  },
  {
   "cell_type": "code",
   "execution_count": null,
   "id": "14",
   "metadata": {},
   "outputs": [],
   "source": [
    "model_path = os.path.join(tmp_model_path, \"data/model.pth\")"
   ]
  },
  {
   "cell_type": "code",
   "execution_count": null,
   "id": "15",
   "metadata": {},
   "outputs": [],
   "source": [
    "# torch.load(os.path.basename(model))\n",
    "model = torch.load(model_path, map_location=torch.device('cpu'))"
   ]
  },
  {
   "cell_type": "code",
   "execution_count": null,
   "id": "16",
   "metadata": {},
   "outputs": [],
   "source": [
    "runs_df[runs_df.columns[runs_df.columns.str.startswith(\"params.dataset\")]]"
   ]
  },
  {
   "cell_type": "markdown",
   "id": "17",
   "metadata": {},
   "source": [
    "### Create (or retrieve) dataset"
   ]
  },
  {
   "cell_type": "code",
   "execution_count": null,
   "id": "18",
   "metadata": {},
   "outputs": [],
   "source": [
    "from data.synthetic.SyntheticMeshPopulation import SyntheticMeshPopulation\n",
    "from data.SyntheticDataModules import SyntheticMeshesDataset\n",
    "from torch.utils.data import DataLoader\n",
    "from main import get_datamodule"
   ]
  },
  {
   "cell_type": "markdown",
   "id": "19",
   "metadata": {},
   "source": [
    "Re-build configuration"
   ]
  },
  {
   "cell_type": "code",
   "execution_count": null,
   "id": "20",
   "metadata": {},
   "outputs": [],
   "source": [
    "runinfo = dict(runs_df.iloc[run_id_w.value])\n",
    "\n",
    "dataset_params = {\n",
    "    \"N\": 10,\n",
    "    \"amplitude_static_max\": float(runinfo[\"params.dataset_max_static_amplitude\"]),\n",
    "    \"amplitude_dynamic_max\": float(runinfo[\"params.dataset_max_dynamic_amplitude\"]),\n",
    "    \"T\": int(runinfo[\"params.dataset_n_timeframes\"]),\n",
    "    \"freq_max\": int(runinfo[\"params.dataset_freq_max\"]),\n",
    "    \"l_max\": int(runinfo[\"params.dataset_l_max\"]),\n",
    "    \"mesh_resolution\": int(runinfo[\"params.dataset_resolution\"]),\n",
    "    \"random_seed\": runinfo[\"params.dataset_random_seed\"]\n",
    "}    \n",
    "\n",
    "config = {\n",
    "    \"batch_size\": 32,\n",
    "    \"parameters\": dataset_params,\n",
    "    \"preprocessing\": Namespace(**{ \"center_around_mean\": False })\n",
    "}\n",
    "\n",
    "config = Namespace(**config)"
   ]
  },
  {
   "cell_type": "code",
   "execution_count": null,
   "id": "21",
   "metadata": {},
   "outputs": [],
   "source": [
    "mesh_popu = SyntheticMeshesDataset(config.parameters, config.preprocessing)\n",
    "meshes_loader = DataLoader(mesh_popu)"
   ]
  },
  {
   "cell_type": "markdown",
   "id": "22",
   "metadata": {},
   "source": [
    "Adapt model from PyTorch Geometric 2.0.3 to 2.0.4 (attribute `__explain__` changes to `_explain` producing an `AttributeError`)"
   ]
  },
  {
   "cell_type": "code",
   "execution_count": null,
   "id": "23",
   "metadata": {},
   "outputs": [],
   "source": [
    "def upgrade_pyg_model_203_to_204(model):\n",
    "    \n",
    "    for i, _ in enumerate(model.model.cheb_enc):\n",
    "        model.model.cheb_enc[i]._explain = model.model.cheb_enc[i].__explain__\n",
    "        \n",
    "    for i, _ in enumerate(model.model.cheb_dec_c):\n",
    "        model.model.cheb_dec_c[i]._explain = model.model.cheb_dec_c[i].__explain__\n",
    "    \n",
    "    for i, _ in enumerate(model.model.cheb_dec_s):\n",
    "        model.model.cheb_dec_s[i]._explain = model.model.cheb_dec_s[i].__explain__\n",
    "    \n",
    "    model.model.pool._explain = model.model.pool.__explain__\n",
    "    \n",
    "    return model"
   ]
  },
  {
   "cell_type": "code",
   "execution_count": null,
   "id": "24",
   "metadata": {},
   "outputs": [],
   "source": [
    "model = upgrade_pyg_model_203_to_204(model)"
   ]
  },
  {
   "cell_type": "code",
   "execution_count": null,
   "id": "25",
   "metadata": {},
   "outputs": [],
   "source": [
    "def get_temporal_z(model, x):\n",
    "    \n",
    "    '''\n",
    "    model: PyTorch Lightning Module.\n",
    "    x: temporal sequence of meshes (point clouds)\n",
    "    '''\n",
    "    \n",
    "    x = subject[0]\n",
    "\n",
    "    self = model.model\n",
    "    \n",
    "    if self.phase_input:\n",
    "        x = self.phase_tensor(x)\n",
    "    \n",
    "    n_timeframes = config.parameters[\"T\"]\n",
    "    x = x.reshape(1, n_timeframes, -1, 2*self.filters_enc[0])\n",
    "        \n",
    "    for i in range(self.n_layers):  \n",
    "        x = self.cheb_enc[i](x, self.A_edge_index[i], self.A_norm[i])\n",
    "        x = F.relu(x)\n",
    "        x = self.pool(x, self.downsample_matrices[i])\n",
    "        \n",
    "    \n",
    "    x = x.reshape(x.shape[0], self.n_timeframes, self._n_features_before_z)    \n",
    "    mu_c, mu_s = [], []\n",
    "    \n",
    "    # Iterate through time points\n",
    "    for i in range(n_timeframes):\n",
    "        mu = self.enc_lin_mu(x[:,i,:])\n",
    "        mu_c.append(mu[:,:self.z_c])\n",
    "        mu_s.append(mu[:,self.z_c:])\n",
    "        \n",
    "    # convert list of 1D-tensors to 2D numpy.array\n",
    "    z_c = np.array([kk.detach().numpy() for kk in mu_c])\n",
    "    z_s = np.array([kk.detach().numpy() for kk in mu_s])\n",
    "    \n",
    "    return {\"z_c\": z_c, \"z_s\": z_s}"
   ]
  },
  {
   "cell_type": "code",
   "execution_count": null,
   "id": "26",
   "metadata": {},
   "outputs": [],
   "source": [
    "for subject in meshes_loader:\n",
    "    break"
   ]
  },
  {
   "cell_type": "code",
   "execution_count": null,
   "id": "27",
   "metadata": {},
   "outputs": [],
   "source": [
    "x = subject[0]\n",
    "z = get_temporal_z(model, x)"
   ]
  },
  {
   "cell_type": "markdown",
   "id": "28",
   "metadata": {},
   "source": [
    "### Inspect intermediate layers with `surgeon_pytorch`"
   ]
  },
  {
   "cell_type": "code",
   "execution_count": null,
   "id": "29",
   "metadata": {},
   "outputs": [],
   "source": [
    "model_wrapped = Inspect(model, layer={'layer1': 'x1', 'layer2': 'x2'})"
   ]
  },
  {
   "cell_type": "code",
   "execution_count": null,
   "id": "30",
   "metadata": {},
   "outputs": [],
   "source": [
    "get_layers(model)"
   ]
  },
  {
   "cell_type": "markdown",
   "id": "31",
   "metadata": {},
   "source": [
    "#### "
   ]
  },
  {
   "cell_type": "code",
   "execution_count": null,
   "id": "32",
   "metadata": {},
   "outputs": [],
   "source": [
    "surgeon_pytorch.inspect.get_module(model, \"model.cheb_enc\")"
   ]
  },
  {
   "cell_type": "code",
   "execution_count": null,
   "id": "33",
   "metadata": {},
   "outputs": [],
   "source": [
    "surgeon_pytorch.inspect.get_module(model, \"model.cheb_enc\")"
   ]
  },
  {
   "cell_type": "code",
   "execution_count": null,
   "id": "34",
   "metadata": {},
   "outputs": [],
   "source": [
    "def plot_z_vs_t(i):\n",
    "    z_s = z[\"z_s\"]\n",
    "    plt.plot(z_s[:,0,i-1])\n",
    "    plt.ylabel(f'z_{i}')\n",
    "    plt.title(\"z(t) before temporal aggregation\")\n",
    "    plt.show()\n",
    "\n",
    "interact(plot_z_vs_t, i=widgets.IntSlider(min=1, max=z[\"z_s\"].shape[-1]));"
   ]
  }
 ],
 "metadata": {
  "kernelspec": {
   "display_name": "cardio",
   "language": "python",
   "name": "cardio"
  },
  "language_info": {
   "codemirror_mode": {
    "name": "ipython",
    "version": 3
   },
   "file_extension": ".py",
   "mimetype": "text/x-python",
   "name": "python",
   "nbconvert_exporter": "python",
   "pygments_lexer": "ipython3",
   "version": "3.9.12"
  }
 },
 "nbformat": 4,
 "nbformat_minor": 5
}
