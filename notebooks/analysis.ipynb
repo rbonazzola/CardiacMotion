{
 "cells": [
  {
   "cell_type": "code",
   "execution_count": 150,
   "id": "64e20ad4-79d1-42e4-9dba-2c215816dbd0",
   "metadata": {
    "tags": []
   },
   "outputs": [],
   "source": [
    "import mlflow\n",
    "import os, sys\n",
    "\n",
    "import torch\n",
    "import ipywidgets as widgets\n",
    "from ipywidgets import interact\n",
    "from IPython.display import Image\n",
    "from mlflow.tracking import MlflowClient"
   ]
  },
  {
   "cell_type": "markdown",
   "id": "88bc7673-d5df-4823-b2e2-24a34bfdeb45",
   "metadata": {},
   "source": [
    "Set MLflow tracking URI:"
   ]
  },
  {
   "cell_type": "code",
   "execution_count": 45,
   "id": "b63ddba5-872e-4f36-a0f2-a6ad06f1a1bb",
   "metadata": {
    "tags": []
   },
   "outputs": [],
   "source": [
    "TRACKING_URI = \"file:///home/rodrigo/CISTIB/repos/CardiacMotionRL/mlruns\"\n",
    "mlflow.set_tracking_uri(TRACKING_URI)"
   ]
  },
  {
   "cell_type": "code",
   "execution_count": 122,
   "id": "e91160e4-f130-41b8-8430-726110c6091a",
   "metadata": {
    "tags": []
   },
   "outputs": [
    {
     "data": {
      "application/vnd.jupyter.widget-view+json": {
       "model_id": "c9ace8d56f524683914901aba8dcd9b0",
       "version_major": 2,
       "version_minor": 0
      },
      "text/plain": [
       "A Jupyter Widget"
      ]
     },
     "metadata": {},
     "output_type": "display_data"
    }
   ],
   "source": [
    "experiment_w = widgets.Select(\n",
    "    options=[exp.name for exp in mlflow.list_experiments()]\n",
    ")\n",
    "display(experiment_w)"
   ]
  },
  {
   "cell_type": "code",
   "execution_count": 47,
   "id": "7a04e436-efab-4f37-9b29-5c004e762309",
   "metadata": {
    "tags": []
   },
   "outputs": [],
   "source": [
    "exp_id = mlflow.get_experiment_by_name(experiment_w.value).experiment_id"
   ]
  },
  {
   "cell_type": "markdown",
   "id": "fb2849f8-5d72-4d52-9816-861e71611896",
   "metadata": {},
   "source": [
    "# Retrieving runs"
   ]
  },
  {
   "cell_type": "code",
   "execution_count": 104,
   "id": "437bbd08-0c3a-401d-bc01-f4a4d0f37b7c",
   "metadata": {
    "tags": []
   },
   "outputs": [],
   "source": [
    "# runs_list = mlflow.search_runs(experiment_ids=[exp_id], output_format=\"list\")\n",
    "runs_df = mlflow.search_runs(experiment_ids=[exp_id],)\n",
    "runs_df = runs_df[runs_df.status == \"FINISHED\"].reset_index(drop=True)"
   ]
  },
  {
   "cell_type": "code",
   "execution_count": 105,
   "id": "18ece78c-9e56-4d85-b817-f7d468760b17",
   "metadata": {
    "tags": []
   },
   "outputs": [
    {
     "data": {
      "text/html": [
       "<div>\n",
       "<style scoped>\n",
       "    .dataframe tbody tr th:only-of-type {\n",
       "        vertical-align: middle;\n",
       "    }\n",
       "\n",
       "    .dataframe tbody tr th {\n",
       "        vertical-align: top;\n",
       "    }\n",
       "\n",
       "    .dataframe thead th {\n",
       "        text-align: right;\n",
       "    }\n",
       "</style>\n",
       "<table border=\"1\" class=\"dataframe\">\n",
       "  <thead>\n",
       "    <tr style=\"text-align: right;\">\n",
       "      <th></th>\n",
       "      <th>metrics.test_rec_ratio_to_pop_mean</th>\n",
       "      <th>metrics.test_rec_ratio_to_time_mean</th>\n",
       "      <th>metrics.test_rec_ratio_to_pop_mean_c</th>\n",
       "    </tr>\n",
       "  </thead>\n",
       "  <tbody>\n",
       "    <tr>\n",
       "      <th>0</th>\n",
       "      <td>1.953890</td>\n",
       "      <td>14.61279</td>\n",
       "      <td>0.122813</td>\n",
       "    </tr>\n",
       "    <tr>\n",
       "      <th>1</th>\n",
       "      <td>128416.752789</td>\n",
       "      <td>657839.50000</td>\n",
       "      <td>3367.385742</td>\n",
       "    </tr>\n",
       "  </tbody>\n",
       "</table>\n",
       "</div>"
      ],
      "text/plain": [
       "   metrics.test_rec_ratio_to_pop_mean  metrics.test_rec_ratio_to_time_mean  \\\n",
       "0                            1.953890                             14.61279   \n",
       "1                       128416.752789                         657839.50000   \n",
       "\n",
       "   metrics.test_rec_ratio_to_pop_mean_c  \n",
       "0                              0.122813  \n",
       "1                           3367.385742  "
      ]
     },
     "execution_count": 105,
     "metadata": {},
     "output_type": "execute_result"
    }
   ],
   "source": [
    "test_ratio_cols = runs_df.columns[runs_df.columns.str.contains(\"test.*ratio\")]\n",
    "runs_df[test_ratio_cols]"
   ]
  },
  {
   "cell_type": "markdown",
   "id": "5d10109d-feb0-44df-9421-ca9adf301c96",
   "metadata": {},
   "source": [
    "### Getting artifacts"
   ]
  },
  {
   "cell_type": "code",
   "execution_count": 51,
   "id": "44bfd8c7-c94f-49d2-9599-aafbb19e7d0e",
   "metadata": {
    "tags": []
   },
   "outputs": [],
   "source": [
    "client = MlflowClient()\n",
    "local_dir = \"/tmp/artifact_downloads\"\n",
    "\n",
    "if not os.path.exists(local_dir):\n",
    "    os.mkdir(local_dir)"
   ]
  },
  {
   "cell_type": "code",
   "execution_count": 111,
   "id": "6ad5c374-19f3-4ba7-aaaf-70288305a7d6",
   "metadata": {
    "tags": []
   },
   "outputs": [
    {
     "data": {
      "text/plain": [
       "[<FileInfo: file_size=None, is_dir=True, path='animations'>,\n",
       " <FileInfo: file_size=None, is_dir=True, path='images'>,\n",
       " <FileInfo: file_size=None, is_dir=True, path='model'>,\n",
       " <FileInfo: file_size=6899, is_dir=False, path='model_summary.txt'>,\n",
       " <FileInfo: file_size=None, is_dir=True, path='restored_model_checkpoint'>]"
      ]
     },
     "execution_count": 111,
     "metadata": {},
     "output_type": "execute_result"
    }
   ],
   "source": [
    "client._tracking_client.list_artifacts(\n",
    "    runs_df.run_id[1]\n",
    ")"
   ]
  },
  {
   "cell_type": "code",
   "execution_count": 148,
   "id": "2f2b2a55-e498-4512-b2e3-ed11019bbc93",
   "metadata": {
    "jupyter": {
     "source_hidden": true
    },
    "tags": []
   },
   "outputs": [],
   "source": [
    "def display_gif(i):\n",
    "    kk = client.download_artifacts(\n",
    "      runs_df.run_id[i], \n",
    "      \"animations\", \n",
    "      local_dir\n",
    "    )\n",
    "    gif_file = os.path.join(kk, os.listdir(kk)[0])\n",
    "    gif = Image(data=open(gif_file,'rb').read(), format='png')\n",
    "    display(gif)    \n",
    "    "
   ]
  },
  {
   "cell_type": "code",
   "execution_count": 149,
   "id": "2b67e95d-4996-4514-95ba-623aa42ec632",
   "metadata": {
    "jupyter": {
     "source_hidden": true
    },
    "tags": []
   },
   "outputs": [
    {
     "data": {
      "application/vnd.jupyter.widget-view+json": {
       "model_id": "dc7b2ba3ddb543d5a8073d11bb4cdfa6",
       "version_major": 2,
       "version_minor": 0
      },
      "text/plain": [
       "A Jupyter Widget"
      ]
     },
     "metadata": {},
     "output_type": "display_data"
    }
   ],
   "source": [
    "interact(display_gif, i=widgets.IntSlider(min=0, max=1));"
   ]
  },
  {
   "cell_type": "code",
   "execution_count": 126,
   "id": "f8e788a8-3727-4e58-bd1c-31e72066835e",
   "metadata": {},
   "outputs": [],
   "source": [
    "kk = client.download_artifacts(\n",
    "      runs_df.run_id[0], \n",
    "      \"model\", \n",
    "      local_dir\n",
    "    )"
   ]
  },
  {
   "cell_type": "code",
   "execution_count": 128,
   "id": "ba85ad7f-62dd-4bc3-b4d5-936efbbe97eb",
   "metadata": {},
   "outputs": [
    {
     "data": {
      "text/plain": [
       "['data', 'conda.yaml', 'MLmodel', 'requirements.txt']"
      ]
     },
     "execution_count": 128,
     "metadata": {},
     "output_type": "execute_result"
    }
   ],
   "source": [
    "os.listdir(kk)"
   ]
  },
  {
   "cell_type": "code",
   "execution_count": 129,
   "id": "a24d2934-999e-4434-86c9-63243f092428",
   "metadata": {},
   "outputs": [],
   "source": [
    "model = os.path.join(kk, \"data/model.pth\")"
   ]
  },
  {
   "cell_type": "code",
   "execution_count": 151,
   "id": "b854ca49-54dc-4dbf-9f0d-f21216007832",
   "metadata": {},
   "outputs": [
    {
     "ename": "ModuleNotFoundError",
     "evalue": "No module named 'models'",
     "output_type": "error",
     "traceback": [
      "\u001b[0;31m---------------------------------------------------------------------------\u001b[0m",
      "\u001b[0;31mModuleNotFoundError\u001b[0m                       Traceback (most recent call last)",
      "Input \u001b[0;32mIn [151]\u001b[0m, in \u001b[0;36m<cell line: 1>\u001b[0;34m()\u001b[0m\n\u001b[0;32m----> 1\u001b[0m \u001b[43mtorch\u001b[49m\u001b[38;5;241;43m.\u001b[39;49m\u001b[43mload\u001b[49m\u001b[43m(\u001b[49m\u001b[43mos\u001b[49m\u001b[38;5;241;43m.\u001b[39;49m\u001b[43mpath\u001b[49m\u001b[38;5;241;43m.\u001b[39;49m\u001b[43mbasename\u001b[49m\u001b[43m(\u001b[49m\u001b[43mmodel\u001b[49m\u001b[43m)\u001b[49m\u001b[43m)\u001b[49m\n",
      "File \u001b[0;32m~/anaconda3/envs/cardio/lib/python3.9/site-packages/torch/serialization.py:607\u001b[0m, in \u001b[0;36mload\u001b[0;34m(f, map_location, pickle_module, **pickle_load_args)\u001b[0m\n\u001b[1;32m    605\u001b[0m             opened_file\u001b[38;5;241m.\u001b[39mseek(orig_position)\n\u001b[1;32m    606\u001b[0m             \u001b[38;5;28;01mreturn\u001b[39;00m torch\u001b[38;5;241m.\u001b[39mjit\u001b[38;5;241m.\u001b[39mload(opened_file)\n\u001b[0;32m--> 607\u001b[0m         \u001b[38;5;28;01mreturn\u001b[39;00m \u001b[43m_load\u001b[49m\u001b[43m(\u001b[49m\u001b[43mopened_zipfile\u001b[49m\u001b[43m,\u001b[49m\u001b[43m \u001b[49m\u001b[43mmap_location\u001b[49m\u001b[43m,\u001b[49m\u001b[43m \u001b[49m\u001b[43mpickle_module\u001b[49m\u001b[43m,\u001b[49m\u001b[43m \u001b[49m\u001b[38;5;241;43m*\u001b[39;49m\u001b[38;5;241;43m*\u001b[39;49m\u001b[43mpickle_load_args\u001b[49m\u001b[43m)\u001b[49m\n\u001b[1;32m    608\u001b[0m \u001b[38;5;28;01mreturn\u001b[39;00m _legacy_load(opened_file, map_location, pickle_module, \u001b[38;5;241m*\u001b[39m\u001b[38;5;241m*\u001b[39mpickle_load_args)\n",
      "File \u001b[0;32m~/anaconda3/envs/cardio/lib/python3.9/site-packages/torch/serialization.py:882\u001b[0m, in \u001b[0;36m_load\u001b[0;34m(zip_file, map_location, pickle_module, pickle_file, **pickle_load_args)\u001b[0m\n\u001b[1;32m    880\u001b[0m unpickler \u001b[38;5;241m=\u001b[39m UnpicklerWrapper(data_file, \u001b[38;5;241m*\u001b[39m\u001b[38;5;241m*\u001b[39mpickle_load_args)\n\u001b[1;32m    881\u001b[0m unpickler\u001b[38;5;241m.\u001b[39mpersistent_load \u001b[38;5;241m=\u001b[39m persistent_load\n\u001b[0;32m--> 882\u001b[0m result \u001b[38;5;241m=\u001b[39m \u001b[43munpickler\u001b[49m\u001b[38;5;241;43m.\u001b[39;49m\u001b[43mload\u001b[49m\u001b[43m(\u001b[49m\u001b[43m)\u001b[49m\n\u001b[1;32m    884\u001b[0m torch\u001b[38;5;241m.\u001b[39m_utils\u001b[38;5;241m.\u001b[39m_validate_loaded_sparse_tensors()\n\u001b[1;32m    886\u001b[0m \u001b[38;5;28;01mreturn\u001b[39;00m result\n",
      "File \u001b[0;32m~/anaconda3/envs/cardio/lib/python3.9/site-packages/torch/serialization.py:875\u001b[0m, in \u001b[0;36m_load.<locals>.UnpicklerWrapper.find_class\u001b[0;34m(self, mod_name, name)\u001b[0m\n\u001b[1;32m    873\u001b[0m \u001b[38;5;28;01mdef\u001b[39;00m \u001b[38;5;21mfind_class\u001b[39m(\u001b[38;5;28mself\u001b[39m, mod_name, name):\n\u001b[1;32m    874\u001b[0m     mod_name \u001b[38;5;241m=\u001b[39m load_module_mapping\u001b[38;5;241m.\u001b[39mget(mod_name, mod_name)\n\u001b[0;32m--> 875\u001b[0m     \u001b[38;5;28;01mreturn\u001b[39;00m \u001b[38;5;28;43msuper\u001b[39;49m\u001b[43m(\u001b[49m\u001b[43m)\u001b[49m\u001b[38;5;241;43m.\u001b[39;49m\u001b[43mfind_class\u001b[49m\u001b[43m(\u001b[49m\u001b[43mmod_name\u001b[49m\u001b[43m,\u001b[49m\u001b[43m \u001b[49m\u001b[43mname\u001b[49m\u001b[43m)\u001b[49m\n",
      "\u001b[0;31mModuleNotFoundError\u001b[0m: No module named 'models'"
     ]
    }
   ],
   "source": [
    "torch.load(os.path.basename(model))"
   ]
  }
 ],
 "metadata": {
  "kernelspec": {
   "display_name": "cardio",
   "language": "python",
   "name": "cardio"
  },
  "language_info": {
   "codemirror_mode": {
    "name": "ipython",
    "version": 3
   },
   "file_extension": ".py",
   "mimetype": "text/x-python",
   "name": "python",
   "nbconvert_exporter": "python",
   "pygments_lexer": "ipython3",
   "version": "3.9.12"
  }
 },
 "nbformat": 4,
 "nbformat_minor": 5
}
