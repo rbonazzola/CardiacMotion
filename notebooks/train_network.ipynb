{
 "cells": [
  {
   "cell_type": "code",
   "execution_count": null,
   "id": "0",
   "metadata": {},
   "outputs": [],
   "source": [
    "from utils import mesh_operations\n",
    "from utils.helpers import *\n",
    "from config.load_config import load_yaml_config\n",
    "from models.Model4D import AutoencoderTemporalSequence\n",
    "from models.lightning.ComaLightningModule import CoMA_Lightning\n",
    "\n",
    "from main import get_coma_matrices, get_datamodule\n",
    "from data.DataModules import CardiacMeshPopulationDM\n",
    "from data.SyntheticDataModules import SyntheticMeshesDM\n",
    "from pytorch_lightning.loggers import MLFlowLogger\n",
    "\n",
    "import pytorch_lightning as pl\n",
    "from pytorch_lightning.callbacks.early_stopping import EarlyStopping\n",
    "\n",
    "from easydict import EasyDict\n",
    "from models.Model4D import ENCODER_ARGS, DECODER_C_ARGS, DECODER_S_ARGS\n",
    "\n",
    "import pytorch_lightning as pl\n",
    "from pytorch_lightning.loggers import MLFlowLogger\n",
    "\n",
    "import mlflow\n",
    "from mlflow.tracking import MlflowClient\n",
    "\n",
    "from config.cli_args import CLI_args, overwrite_config_items\n",
    "from config.load_config import load_yaml_config, to_dict\n",
    "\n",
    "from utils.helpers import *\n",
    "from utils.mlflow_helpers import get_mlflow_parameters, get_mlflow_dataset_params"
   ]
  },
  {
   "cell_type": "code",
   "execution_count": null,
   "id": "1",
   "metadata": {},
   "outputs": [],
   "source": [
    "config = load_yaml_config(\"config_folded_c_and_s.yaml\")\n",
    "dm = get_datamodule(config)\n",
    "coma_args = get_coma_args(config, dm)\n",
    "\n",
    "enc_config = {k: v for k, v in coma_args.items() if k in ENCODER_ARGS}\n",
    "dec_c_config = {k: v for k,v in coma_args.items() if k in DECODER_C_ARGS}\n",
    "dec_s_config = {k: v for k,v in coma_args.items() if k in DECODER_S_ARGS}\n",
    "\n",
    "ae = AutoencoderTemporalSequence(\n",
    "    enc_config, \n",
    "    dec_c_config, \n",
    "    dec_s_config,\n",
    "    z_aggr_function=config.network_architecture.z_aggr_function,\n",
    "    n_timeframes=config.dataset.parameters.T\n",
    ")"
   ]
  },
  {
   "cell_type": "code",
   "execution_count": null,
   "id": "2",
   "metadata": {},
   "outputs": [],
   "source": [
    "callbacks = [\n",
    "    EarlyStopping(monitor=\"val_loss\", mode=\"min\", patience=3),\n",
    "    #RichModelSummary(max_depth=-1)\n",
    "]\n",
    "\n",
    "trainer = pl.Trainer(callbacks=callbacks)"
   ]
  },
  {
   "cell_type": "code",
   "execution_count": null,
   "id": "3",
   "metadata": {},
   "outputs": [],
   "source": [
    "# Initialize PyTorch Lightning module\n",
    "ptl_module = CoMA_Lightning(ae, config)"
   ]
  },
  {
   "cell_type": "code",
   "execution_count": null,
   "id": "4",
   "metadata": {},
   "outputs": [],
   "source": [
    "trainer.fit(ptl_module, dm)"
   ]
  },
  {
   "cell_type": "code",
   "execution_count": null,
   "id": "5",
   "metadata": {},
   "outputs": [],
   "source": [
    "dm.test_dataset[0]['s_t'].shape"
   ]
  },
  {
   "cell_type": "code",
   "execution_count": null,
   "id": "6",
   "metadata": {},
   "outputs": [],
   "source": [
    "ptl_module.model"
   ]
  },
  {
   "cell_type": "code",
   "execution_count": null,
   "id": "7",
   "metadata": {},
   "outputs": [],
   "source": []
  },
  {
   "cell_type": "code",
   "execution_count": null,
   "id": "8",
   "metadata": {},
   "outputs": [],
   "source": []
  },
  {
   "cell_type": "code",
   "execution_count": null,
   "id": "9",
   "metadata": {},
   "outputs": [],
   "source": []
  }
 ],
 "metadata": {
  "kernelspec": {
   "display_name": "Python 3 (ipykernel)",
   "language": "python",
   "name": "python3"
  },
  "language_info": {
   "codemirror_mode": {
    "name": "ipython",
    "version": 3
   },
   "file_extension": ".py",
   "mimetype": "text/x-python",
   "name": "python",
   "nbconvert_exporter": "python",
   "pygments_lexer": "ipython3",
   "version": "3.9.12"
  }
 },
 "nbformat": 4,
 "nbformat_minor": 5
}
