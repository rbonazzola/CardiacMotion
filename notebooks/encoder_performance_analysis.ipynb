{
 "cells": [
  {
   "cell_type": "code",
   "execution_count": null,
   "id": "0",
   "metadata": {},
   "outputs": [],
   "source": [
    "import os, sys\n",
    "os.chdir(\"..\")\n",
    "sys.path.append(os.getcwd())"
   ]
  },
  {
   "cell_type": "code",
   "execution_count": null,
   "id": "1",
   "metadata": {},
   "outputs": [],
   "source": [
    "import mlflow\n",
    "import ipywidgets as widgets\n",
    "from ipywidgets import interact\n",
    "import os\n",
    "import glob\n",
    "import torch\n",
    "from pprint import pprint\n",
    "from easydict import EasyDict\n",
    "from tqdm import tqdm\n",
    "\n",
    "import numpy as np\n",
    "import torch\n",
    "\n",
    "from torch.utils.data import DataLoader\n",
    "from data.SyntheticDataModules import SyntheticMeshesDataset, SyntheticMeshesDM\n",
    "from utils.helpers import get_coma_args"
   ]
  },
  {
   "cell_type": "code",
   "execution_count": null,
   "id": "2",
   "metadata": {},
   "outputs": [],
   "source": [
    "from config.load_config import load_yaml_config\n",
    "config = load_yaml_config(\"config_files/config_folded_c_and_s.yaml\")\n",
    "config.dataset.random_seed = 135\n",
    "\n",
    "mesh_ds = SyntheticMeshesDataset(config.dataset.parameters, config.dataset.preprocessing)\n",
    "mesh_dl = DataLoader(mesh_ds)\n",
    "# mesh_dm = SyntheticMeshesDM(mesh_ds, )\n",
    "# mesh_dm.setup()"
   ]
  },
  {
   "cell_type": "code",
   "execution_count": null,
   "id": "3",
   "metadata": {},
   "outputs": [],
   "source": [
    "from torch_models import Encoder3DMesh, EncoderTemporalSequence, FCN_Aggregator"
   ]
  },
  {
   "cell_type": "code",
   "execution_count": null,
   "id": "4",
   "metadata": {},
   "outputs": [],
   "source": [
    "ckpt_path = \"/app/Rodrigo_repos/CardiacMotion/model.pt\"\n",
    "model_weights = torch.load(ckpt_path)[\"model_state_dict\"]\n",
    "model_weights = EasyDict(model_weights)"
   ]
  },
  {
   "cell_type": "code",
   "execution_count": null,
   "id": "5",
   "metadata": {},
   "outputs": [],
   "source": [
    "coma_args = get_coma_args(config, mesh_dl.dataset)\n",
    "x = EasyDict(next(iter(mesh_dl)))"
   ]
  },
  {
   "cell_type": "code",
   "execution_count": null,
   "id": "6",
   "metadata": {},
   "outputs": [],
   "source": [
    "enc_params = {\n",
    "    \"phase_input\" : False, \n",
    "    \"num_conv_filters_enc\" : [8, 8, 8, 8], \n",
    "    \"num_features\" : 3,\n",
    "    \"cheb_polynomial_order\" : [6, 6, 6, 6],\n",
    "    \"n_layers\" : 4,\n",
    "    \"n_nodes\" : coma_args.n_nodes,\n",
    "    \"is_variational\" : True,\n",
    "    \"latent_dim\" : len(x.z_c) + len(x.z_s),\n",
    "    \"template\": coma_args.template,\n",
    "    \"adjacency_matrices\": coma_args.adjacency_matrices,\n",
    "    \"downsample_matrices\": coma_args.downsample_matrices,\n",
    "    \"activation_layers\": [\"Sigmoid\", \"Sigmoid\", \"Sigmoid\", None]\n",
    "}\n",
    "\n",
    "enc_params = EasyDict(enc_params)\n",
    "\n",
    "encoder = Encoder3DMesh(**enc_params)\n",
    "\n",
    "h = encoder.forward_conv_stack(x.s_t, preserve_graph_structure=False)\n",
    "\n",
    "z_taggr = FCN_Aggregator(\n",
    "    features_in=20*h.shape[-1],\n",
    "    features_out=enc_params.latent_dim\n",
    ")\n",
    "\n",
    "t_encoder = EncoderTemporalSequence(\n",
    "    encoder3d=encoder,\n",
    "    z_aggr_function=z_taggr\n",
    ")\n",
    "\n",
    "#t_encoder_ptl = TemporalEncoderLightning(\n",
    "#  model=t_encoder,\n",
    "#  params=config\n",
    "#)\n",
    "\n",
    "# trainer = pl.Trainer(gpus=1)\n",
    "\n",
    "# z = encoder.forward_conv_stack(x.s_t, preserve_graph_structure=False)\n",
    "# z = z_taggr(z)\n",
    "# z.shape"
   ]
  },
  {
   "cell_type": "code",
   "execution_count": null,
   "id": "7",
   "metadata": {},
   "outputs": [],
   "source": [
    "# {k.replace(\"model.\", \"\"): v.shape for k, v in model_weights.items()}"
   ]
  },
  {
   "cell_type": "code",
   "execution_count": null,
   "id": "8",
   "metadata": {},
   "outputs": [],
   "source": [
    "mse_zc = []\n",
    "mse_zs = []\n",
    "\n",
    "for batch in tqdm(mesh_dl):\n",
    "    \n",
    "  z_c = torch.Tensor(batch[\"z_c\"])  \n",
    "  z_s = torch.Tensor(batch[\"z_s\"])  \n",
    "    \n",
    "  z_c_hat = t_encoder(batch[\"s_t\"])['mu'][0,:9]\n",
    "  z_s_hat = t_encoder(batch[\"s_t\"])['mu'][0,9:]  \n",
    "  \n",
    "  mse_zc.append(((z_c - z_c_hat)**2).detach().numpy())\n",
    "  mse_zs.append(((z_s - z_s_hat)**2).detach().numpy())\n",
    "    "
   ]
  },
  {
   "cell_type": "code",
   "execution_count": null,
   "id": "9",
   "metadata": {},
   "outputs": [],
   "source": [
    "np.array(mse_zc).mean(0)"
   ]
  },
  {
   "cell_type": "code",
   "execution_count": null,
   "id": "10",
   "metadata": {},
   "outputs": [],
   "source": [
    "np.array(mse_zs).mean(0)"
   ]
  },
  {
   "cell_type": "code",
   "execution_count": null,
   "id": "11",
   "metadata": {},
   "outputs": [],
   "source": [
    "@interact\n",
    "def get_ckptpath(run=run_w):\n",
    "    \n",
    "    # chkpt_dir = f\"{MLFLOW_TRACKING_URI}/{EXPERIMENT_ID}/{RUNID}/\"\n",
    "    \n",
    "    REPO_DIR = \"/app/Rodrigo_repos/CardiacMotion\"\n",
    "    global ckpt_path, model_weights    \n",
    "    ckpt_path = glob.glob(f\"{REPO_DIR}/1/{run}/checkpoints/*ckpt\")    \n",
    "    if len(ckpt_path) == 1:\n",
    "      ckpt_path = ckpt_path[0]\n",
    "    elif len(ckpt_path) == 0:\n",
    "      ckpt_path = None\n",
    "    \n",
    "    model_weights = torch.load(ckpt_path)[\"state_dict\"]\n",
    "    model_weights = EasyDict(model_weights)\n",
    "    \n",
    "    print(mlflow.get_run(run).data.metrics[\"test_rec_ratio_to_pop_mean\"])\n",
    "    return ckpt_path"
   ]
  },
  {
   "cell_type": "code",
   "execution_count": null,
   "id": "12",
   "metadata": {},
   "outputs": [],
   "source": [
    "n_params = 0\n",
    "\n",
    "for module_name, weights in model_weights.items():\n",
    "    module_name = module_name.replace(\"model.\", \"\")\n",
    "    n_params += np.prod(weights.shape)\n",
    "    # print(f'{module_name}: {weights.shape}')\n",
    "    \n",
    "n_params"
   ]
  },
  {
   "cell_type": "code",
   "execution_count": null,
   "id": "13",
   "metadata": {},
   "outputs": [],
   "source": []
  }
 ],
 "metadata": {
  "kernelspec": {
   "display_name": "Python 3 (ipykernel)",
   "language": "python",
   "name": "python3"
  },
  "language_info": {
   "codemirror_mode": {
    "name": "ipython",
    "version": 3
   },
   "file_extension": ".py",
   "mimetype": "text/x-python",
   "name": "python",
   "nbconvert_exporter": "python",
   "pygments_lexer": "ipython3",
   "version": "3.9.16"
  }
 },
 "nbformat": 4,
 "nbformat_minor": 5
}
