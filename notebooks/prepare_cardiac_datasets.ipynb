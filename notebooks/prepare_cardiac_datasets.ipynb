{
 "cells": [
  {
   "cell_type": "code",
   "execution_count": 30,
   "id": "c4bcbf75-017d-40ab-98af-452e1610d219",
   "metadata": {},
   "outputs": [],
   "source": [
    "import os, sys\n",
    "HOME = os.environ[\"HOME\"]\n",
    "CARDIAC_GWAS_REPO = f\"{HOME}/01_repos/CardiacGWAS\"\n",
    "CARDIAC_COMA_REPO = f\"{HOME}/01_repos/CardiacCOMA\"\n",
    "CARDIAC_MOTION_REPO = f\"{HOME}/01_repos/CardiacMotionRL\"\n",
    "MLRUNS_DIR = f\"{CARDIAC_MOTION_REPO}/mlruns\"\n",
    "os.chdir(CARDIAC_MOTION_REPO)\n",
    "\n",
    "from easydict import EasyDict\n",
    "\n",
    "import re\n",
    "import glob\n",
    "\n",
    "import mlflow\n",
    "from mlflow.tracking import MlflowClient\n",
    "\n",
    "import torch\n",
    "import torch.nn.functional as F\n",
    "\n",
    "import ipywidgets as widgets\n",
    "from ipywidgets import interact, interactive, fixed, interact_manual\n",
    "from IPython.display import Image\n",
    "from IPython import embed\n",
    "\n",
    "import numpy as np\n",
    "import pandas as pd\n",
    "import shlex\n",
    "from subprocess import check_output\n",
    "\n",
    "import pickle as pkl\n",
    "import pytorch_lightning as ptl\n",
    "\n",
    "from argparse import Namespace\n",
    "import matplotlib.pyplot as plt\n",
    "\n",
    "from copy import copy, deepcopy\n",
    "from pprint import pprint\n",
    "from tqdm import tqdm\n",
    "\n",
    "sys.path.insert(0, '..')\n",
    "\n",
    "from config.cli_args import overwrite_config_items\n",
    "import pyvista as pv\n",
    "# from utils.mlflow_helpers import get_model_pretrained_weights\n"
   ]
  },
  {
   "cell_type": "code",
   "execution_count": 31,
   "id": "4f291e8b-1905-4a35-b331-512b7d35b0c8",
   "metadata": {},
   "outputs": [],
   "source": [
    "from utils.CardioMesh.CardiacMesh import Cardiac3DMesh, transform_mesh\n",
    "\n",
    "from models.Model3D import Autoencoder3DMesh\n",
    "from models.lightning.ComaLightningModule import CoMA_Lightning\n",
    "from config.load_config import load_yaml_config, to_dict\n",
    "\n",
    "from scipy.linalg import orthogonal_procrustes\n",
    "from typing import Dict, List\n",
    "from IPython import embed\n",
    "import logging\n",
    "\n",
    "from trimesh import Trimesh\n",
    "import ipywidgets as widgets\n",
    "from ipywidgets import interact"
   ]
  },
  {
   "cell_type": "code",
   "execution_count": 32,
   "id": "6da4048a-258f-4877-a2fb-da0b581efea1",
   "metadata": {},
   "outputs": [],
   "source": [
    "def mse(s1, s2=None):\n",
    "    if s2 is None:\n",
    "        s2 = torch.zeros_like(s1)\n",
    "    return ((s1-s2)**2).sum(-1).mean(-1)\n",
    "\n",
    "def get_3d_mesh(ids, root_folder):\n",
    "    \n",
    "    for id in ids:\n",
    "        npy_file = f\"{root_folder}/{id}/models/fhm_time001.npy\"\n",
    "        pc  = np.load(npy_file)\n",
    "        yield id, pc\n",
    "        \n",
    "\n",
    "def get_4d_mesh(ids, root_folder, timepoints=list(range(1,51))):\n",
    "    \n",
    "    for id in ids:\n",
    "        for t in timepoints:\n",
    "            npy_file = f\"{root_folder}/{id}/models/fhm_time{str(t).zfill(3)}.npy\"\n",
    "            pc  = np.load(npy_file)\n",
    "        yield id, pc\n",
    "\n",
    "        \n",
    "def generalisedProcrustes(point_clouds: np.array, ids: List, template_mesh=None, scaling=False, logger=logging.getLogger()):\n",
    "\n",
    "\n",
    "    logger.info(\"Performing Procrustes analysis with scaling\")\n",
    "    if template_mesh is None:\n",
    "        template_mesh = point_clouds[0]\n",
    "\n",
    "    old_disparity, disparity = 0, 1  # random values\n",
    "    it_count = 0\n",
    "    \n",
    "    transforms = {}            \n",
    "\n",
    "    centroids = point_clouds.mean(axis=1)\n",
    "    for i, id in enumerate(ids):\n",
    "        point_clouds[i] -= centroids[i] \n",
    "        transforms[id] = {}\n",
    "        transforms[id][\"traslation\"] = centroids[i]\n",
    "\n",
    "\n",
    "    while abs(old_disparity - disparity) / disparity > 1e-2 and disparity:\n",
    "\n",
    "        old_disparity = disparity\n",
    "        disparity = []\n",
    "\n",
    "        for i, id in enumerate(ids):\n",
    "\n",
    "            # Docs: https://docs.scipy.org/doc/scipy/reference/generated/scipy.spatial.procrustes.html\n",
    "            if scaling:\n",
    "                mtx1, mtx2, _disparity = procrustes(template_mesh, point_clouds[i])\n",
    "                point_clouds[i] = np.array(mtx2)  # if self.procrustes_scaling else np.array(mtx1)\n",
    "\n",
    "            else:\n",
    "                # Docs: https://docs.scipy.org/doc/scipy/reference/generated/scipy.linalg.orthogonal_procrustes.html\n",
    "                # Note that the arguments are swapped with respect to the previous @procrustes function\n",
    "                R, s = orthogonal_procrustes(point_clouds[i], template_mesh)\n",
    "                # Rotate\n",
    "                point_clouds[i] = np.dot(point_clouds[i], R)  # * s\n",
    "                # Mean point-wise MSE\n",
    "                _disparity = mse(point_clouds[i], template_mesh) \n",
    "                disparity.append(_disparity)\n",
    "\n",
    "                if it_count == 0:\n",
    "                    transforms[id][\"rotation\"] = R #, \"scaling\": s}\n",
    "                else:\n",
    "                    transforms[id][\"rotation\"] = R.dot(transforms[id][\"rotation\"]) #, \"scaling\": transforms[i][\"scaling\"] * s}\n",
    "\n",
    "        template_mesh = point_clouds.mean(axis=0)\n",
    "        disparity = np.array(disparity).mean(axis=0)\n",
    "        it_count += 1\n",
    "        \n",
    "    #self.procrustes_aligned = True\n",
    "    logger.info(\n",
    "        \"Generalized Procrustes analysis with scaling performed after %s iterations\"\n",
    "        % it_count\n",
    "    )\n",
    "\n",
    "    return transforms"
   ]
  },
  {
   "cell_type": "code",
   "execution_count": null,
   "id": "3fea271a-eb5d-4605-a392-e91a1e9073f9",
   "metadata": {},
   "outputs": [],
   "source": [
    "# PROCRUSTES_ORIGINAL_FILE = f\"{CARDIAC_COMA_REPO}/data/procrustes_transforms_35k.pkl\"\n",
    "# MESHES_ORIGINAL_FILE = f\"{CARDIAC_COMA_REPO}/data/LV_meshes_at_ED_35k.pkl\"\n",
    "# \n",
    "# MESHES_REPLICATION_FILE = f\"{CARDIAC_COMA_REPO}/data/LV_meshes_at_ED_replication_25k.pkl\"\n",
    "#     \n",
    "# procrustes_original = pkl.load(open(PROCRUSTES_ORIGINAL_FILE, \"rb\"))\n",
    "# meshes_original = pkl.load(open(MESHES_ORIGINAL_FILE, \"rb\"))\n",
    "# meshes_original_aligned = np.array([transform_mesh(meshes_original[id], **procrustes_original[id]) for id in meshes_original])\n",
    "# \n",
    "# template_mesh = meshes_original_aligned.mean(axis=0)\n",
    "# \n",
    "# PROCRUSTES_REPLICATION_FILE = f\"{CARDIAC_COMA_REPO}/data/procrustes_transforms_LV_25k_new_meshes.pkl\"\n",
    "# procrustes_replication = pkl.load(open(PROCRUSTES_REPLICATION_FILE, \"rb\"))\n",
    "# \n",
    "# procrustes_all = { k:v for k,v in procrustes_replication.items() if k not in procrustes_original }\n",
    "# procrustes_all.update(procrustes_original)\n",
    "# procrustes_all"
   ]
  },
  {
   "cell_type": "markdown",
   "id": "ba120c0f-0acd-49b8-808c-5089aed1c6f0",
   "metadata": {},
   "source": [
    "# Generate reference shapes for each partition"
   ]
  },
  {
   "cell_type": "markdown",
   "id": "6bbc6192-dd06-4948-b3d0-813b43e236fb",
   "metadata": {},
   "source": [
    "1. Generate reference shape for FHM mesh.\n",
    "2. Read subpart IDs for each part. Transform it into a downsampling matrix.\n",
    "3. For each FHM point cloud, extract the partitions."
   ]
  },
  {
   "cell_type": "code",
   "execution_count": 5,
   "id": "7cda46e1-4413-4cf4-a949-a57d0f5c98c4",
   "metadata": {},
   "outputs": [],
   "source": [
    "## ALREADY CACHED\n",
    "\n",
    "# MESHES_FHM_FILE = \"/home/user/01_repos/CardiacCOMA/data/FHM_meshes_at_ED_all_my_segmentation_61225.pkl\"\n",
    "# meshes = pkl.load(open(MESHES_FHM_FILE, \"rb\"))\n",
    "# \n",
    "PROCRUSTES_FILE = \"utils/CardioMesh/data/procrustes_transforms_FHM_61k.pkl\"\n",
    "procrustes_transforms = pkl.load(open(PROCRUSTES_FILE, \"rb\"))\n",
    "\n",
    "# meshes_original_aligned = []\n",
    "# for id in tqdm(procrustes_transforms):\n",
    "#    meshes_original_aligned.append(transform_mesh(meshes[id], **procrustes_transforms[id]))\n",
    "\n",
    "# MESHES_ALIGNED_FHM_FILE = \"/home/user/01_repos/CardiacCOMA/data/FHM_meshes_at_ED_all_my_segmentation_61225_aligned.pkl\"\n",
    "# meshes_original_aligned = np.array(meshes_original_aligned)\n",
    "# pkl.dump(meshes_original_aligned, open(MESHES_ALIGNED_FHM_FILE, \"wb\"))"
   ]
  },
  {
   "cell_type": "code",
   "execution_count": null,
   "id": "9af6cadf-98e0-4715-9b49-dc7e5f8bb6c5",
   "metadata": {},
   "outputs": [],
   "source": [
    "MESHES_ALIGNED_FHM_FILE = \"/home/user/01_repos/CardiacCOMA/data/FHM_meshes_at_ED_all_my_segmentation_61225_aligned.pkl\"\n",
    "meshes_original_aligned = pkl.load(open(MESHES_ALIGNED_FHM_FILE, \"rb\"))"
   ]
  },
  {
   "cell_type": "code",
   "execution_count": 6,
   "id": "46170baf-71fe-4da7-a0d3-b073680ee265",
   "metadata": {},
   "outputs": [],
   "source": [
    "ID = \"1000511\"\n",
    "\n",
    "fhm_mesh = Cardiac3DMesh(\n",
    "    filename=f\"/mnt/data/workshop/workshop-user1/datasets/meshes/Results_Yan/{ID}/models/FHM_res_0.1_time001.npy\",\n",
    "    faces_filename=\"/home/user/01_repos/CardioMesh/data/faces_fhm_10pct_decimation.csv\",\n",
    "    subpart_id_filename=\"/home/user/01_repos/CardioMesh/data/subpartIDs_FHM_10pct.txt\"\n",
    ")\n",
    "\n",
    "fhm_mesh.points = transform_mesh(fhm_mesh.points, **procrustes_transforms[\"1000511\"])"
   ]
  },
  {
   "cell_type": "markdown",
   "id": "342ce51e-d70c-46ea-a3eb-2f92a51df64b",
   "metadata": {},
   "source": [
    "### Generate subsetting matrices"
   ]
  },
  {
   "cell_type": "code",
   "execution_count": 7,
   "id": "a2bbc3ae-1823-44ef-b275-a3198903c8c0",
   "metadata": {},
   "outputs": [],
   "source": [
    "from scipy import sparse as sp"
   ]
  },
  {
   "cell_type": "code",
   "execution_count": 8,
   "id": "fe489e64-2ec8-4f57-843c-141dbd0a892e",
   "metadata": {},
   "outputs": [],
   "source": [
    "partitions = {\n",
    "  \"left_atrium\" : (\"LA\", \"MVP\", \"PV1\", \"PV2\", \"PV3\", \"PV4\", \"PV5\"),\n",
    "  \"right_atrium\" : (\"RA\", \"TVP\", \"PV6\", \"PV7\"),\n",
    "  \"left_ventricle\" : (\"LV\", \"AVP\", \"MVP\"),\n",
    "  \"right_ventricle\" : (\"RV\", \"PVP\", \"TVP\"),\n",
    "  \"biventricle\" : (\"LV\", \"AVP\", \"MVP\", \"RV\", \"PVP\", \"TVP\"),\n",
    "  \"aorta\" : (\"aorta\",)\n",
    "}\n",
    "\n",
    "small_subpart_names = [\"LV\", \"AVP\", \"LA\", \"MVP\", \"RV\", \"PVP\", \"PV1\", \"PV2\", \"PV3\", \"PV4\", \"PV5\", \"RA\", \"TVP\", \"PV6\", \"PV7\", \"aorta\"]\n",
    "\n",
    "subpart_df = pd.read_csv(\"/home/user/01_repos/CardioMesh/data/subpartIDs_FHM_10pct.txt\", header=None)\n",
    "subpart_df.columns = [\"partition\"]\n",
    "\n",
    "for subpart_name in small_subpart_names:\n",
    "    subpart_df[subpart_name] = subpart_df.partition == subpart_name\n",
    "    \n",
    "indices = {}    \n",
    "for composite_partition in partitions:\n",
    "    small_partitions = list(partitions[composite_partition])\n",
    "    indices[composite_partition] = subpart_df[small_partitions].apply(any, axis=1)    "
   ]
  },
  {
   "cell_type": "code",
   "execution_count": 9,
   "id": "a1c65b5d-ed8a-4c9d-99f3-0e791d996cea",
   "metadata": {},
   "outputs": [
    {
     "name": "stderr",
     "output_type": "stream",
     "text": [
      "  0%|                                                                                                                  | 0/6 [00:00<?, ?it/s]\n"
     ]
    },
    {
     "ename": "NameError",
     "evalue": "name 'meshes_original_aligned' is not defined",
     "output_type": "error",
     "traceback": [
      "\u001b[0;31m---------------------------------------------------------------------------\u001b[0m",
      "\u001b[0;31mNameError\u001b[0m                                 Traceback (most recent call last)",
      "Cell \u001b[0;32mIn[9], line 18\u001b[0m\n\u001b[1;32m     16\u001b[0m \u001b[38;5;66;03m# N = len(meshes_original_aligned)\u001b[39;00m\n\u001b[1;32m     17\u001b[0m M \u001b[38;5;241m=\u001b[39m subsetting_mtx\u001b[38;5;241m.\u001b[39mshape[\u001b[38;5;241m0\u001b[39m]\n\u001b[0;32m---> 18\u001b[0m subsetted_meshes \u001b[38;5;241m=\u001b[39m np\u001b[38;5;241m.\u001b[39mtensordot(subsetting_mtx\u001b[38;5;241m.\u001b[39mtodense(), \u001b[43mmeshes_original_aligned\u001b[49m[:N], axes\u001b[38;5;241m=\u001b[39m([\u001b[38;5;241m1\u001b[39m], [\u001b[38;5;241m1\u001b[39m]))\n\u001b[1;32m     19\u001b[0m \u001b[38;5;66;03m# subsetted_meshes = subsetted_meshes.reshape(N, M, 3)\u001b[39;00m\n\u001b[1;32m     21\u001b[0m centroids \u001b[38;5;241m=\u001b[39m subsetted_meshes\u001b[38;5;241m.\u001b[39mmean(\u001b[38;5;241m0\u001b[39m)\n",
      "\u001b[0;31mNameError\u001b[0m: name 'meshes_original_aligned' is not defined"
     ]
    }
   ],
   "source": [
    "for partition in tqdm(partitions):\n",
    "    \n",
    "    col_ind = indices[partition].index[indices[partition]].to_list()\n",
    "    row_ind = list(range(len(col_ind)))\n",
    "    \n",
    "    subsetting_mtx = sp.csc_matrix(\n",
    "      (np.ones(len(col_ind)), (row_ind, col_ind)), \n",
    "      shape=(len(col_ind), subpart_df.shape[0])\n",
    "    )\n",
    "    \n",
    "    subsetting_mtx_file = f\"/home/user/01_repos/CardioMesh/data/cached/subsetting_matrix_{partition}.npy\"\n",
    "    # np.save(subsetting_mtx_file, subsetting_mtx) # \n",
    "    pkl.dump(subsetting_mtx, open(subsetting_mtx_file, \"wb\"))\n",
    "    \n",
    "    N = 10000\n",
    "    # N = len(meshes_original_aligned)\n",
    "    M = subsetting_mtx.shape[0]\n",
    "    subsetted_meshes = np.tensordot(subsetting_mtx.todense(), meshes_original_aligned[:N], axes=([1], [1]))\n",
    "    # subsetted_meshes = subsetted_meshes.reshape(N, M, 3)\n",
    "    \n",
    "    centroids = subsetted_meshes.mean(0)\n",
    "    centroids = centroids.reshape(1, N, 3)\n",
    "    subsetted_meshes_aligned = subsetted_meshes - centroids\n",
    "    mean_shape = subsetted_meshes_aligned.mean(1)\n",
    "    \n",
    "    mean_shape_file = f\"/home/user/01_repos/CardioMesh/data/cached/mean_shape_{partition}.npy\"\n",
    "    # pkl.dump(mean_shape, open(mean_shape_file, \"wb\"))\n",
    "    np.save(mean_shape_file, mean_shape)"
   ]
  },
  {
   "cell_type": "markdown",
   "id": "c7f5cdcc-7fe3-4026-a4ad-3b939e488b4f",
   "metadata": {},
   "source": [
    "Compute Procrustes transforms"
   ]
  },
  {
   "cell_type": "code",
   "execution_count": 10,
   "id": "917529de-dbea-46ec-8ebb-a7ac5c419009",
   "metadata": {},
   "outputs": [],
   "source": [
    "MESHES_FHM_FILE = \"/home/user/01_repos/CardiacCOMA/data/FHM_meshes_at_ED_all_my_segmentation_61225.pkl\"\n",
    "fhm_meshes = pkl.load(open(MESHES_FHM_FILE, \"rb\"))\n",
    "ids = list(fhm_meshes.keys())\n",
    "meshes = list(fhm_meshes.values())\n",
    "# meshes = np.array(list(fhm_meshes.values()))"
   ]
  },
  {
   "cell_type": "code",
   "execution_count": null,
   "id": "ce4bf78b-307d-453f-b8b6-94ec2226b81e",
   "metadata": {},
   "outputs": [],
   "source": [
    "# meshes = np.array(meshes)"
   ]
  },
  {
   "cell_type": "code",
   "execution_count": null,
   "id": "000f4a3d-9df2-4f7a-a992-a21cf0f9b998",
   "metadata": {},
   "outputs": [],
   "source": [
    "# for partition in tqdm(partitions):\n",
    "#     \n",
    "#     subsetting_mtx_file = f\"/home/user/01_repos/CardioMesh/data/cached/subsetting_matrix_{partition}.pkl\"\n",
    "#     subsetting_mtx = pkl.load(open(subsetting_mtx_file, \"rb\"))\n",
    "#     # print(subsetting_mtx)\n",
    "#     subsetted_meshes = np.tensordot(subsetting_mtx.todense(), meshes, axes=([1], [1])).swapaxes(0, 1)\n",
    "#     print(partition)\n",
    "#     \n",
    "#     template_shape = np.load(f\"/home/user/01_repos/CardioMesh/data/cached/mean_shape_{partition}.npy\", allow_pickle=True)\n",
    "#     \n",
    "#     procrustes_transforms = generalisedProcrustes(subsetted_meshes, ids, template_shape)\n",
    "#     \n",
    "#     pkl.dump(procrustes_transforms, open(f\"/home/user/01_repos/CardioMesh/data/cached/procrustes_transforms_{partition}.pkl\", \"wb\"))"
   ]
  },
  {
   "cell_type": "markdown",
   "id": "95efdb43-6dab-4d5a-b3d3-6dda402cbb71",
   "metadata": {},
   "source": [
    "___"
   ]
  },
  {
   "cell_type": "code",
   "execution_count": null,
   "id": "29861d8d-63db-4c30-bd54-7338b6908775",
   "metadata": {},
   "outputs": [],
   "source": [
    "# sphere = vedo.Sphere(res=params[\"mesh_resolution\"]).to_trimesh()\n",
    "# conn = sphere.faces # connectivity\n",
    "# conn = np.c_[np.ones(conn.shape[0]) * 3, conn].astype(int)  # add column of 3, as required by PyVista\n",
    "\n",
    "import random\n",
    "\n",
    "pv.set_plot_theme(\"document\")\n",
    "\n",
    "procrustes_transforms = pkl.load(open(f\"/home/user/01_repos/CardioMesh/data/cached/procrustes_transforms_{partition}.pkl\", \"rb\"))\n",
    "# faces, _ = pkl.load(open(\"faces_and_downsampling_mtx_frac_0.1_LV.pkl\", \"rb\")).values()\n",
    "faces = fhm_mesh[partitions[partition]].f\n",
    "faces = np.c_[np.ones(faces.shape[0]) * 3, faces].astype(int)\n",
    "\n",
    "color_palette = list(pv.colors.color_names.values())\n",
    "random.shuffle(color_palette)\n",
    "\n",
    "subsetting_mtx = pkl.load(open(subsetting_mtx_file, \"rb\"))"
   ]
  },
  {
   "cell_type": "code",
   "execution_count": null,
   "id": "c2aa2931-2105-4c7b-91d9-2c5b45181fb5",
   "metadata": {},
   "outputs": [],
   "source": [
    "# Trimesh(mesh, faces[:,1:4]).show()"
   ]
  },
  {
   "cell_type": "code",
   "execution_count": null,
   "id": "c19d8e4f-85b4-4819-9cd4-ae5b8fd7c271",
   "metadata": {},
   "outputs": [],
   "source": [
    "pl = pv.Plotter(notebook=True, off_screen=False, polygon_smoothing=False)\n",
    "\n",
    "for i, id in enumerate(ids[:20]):\n",
    "    mesh = meshes[i]\n",
    "    mesh = subsetting_mtx * mesh\n",
    "    mesh = transform_mesh(mesh, **procrustes_transforms[id])    \n",
    "    # mesh = pv.PolyData(mesh, faces)\n",
    "    pl.add_mesh(mesh, show_edges=False, point_size=1.5, color=color_palette[i], opacity=0.5)\n",
    "\n",
    "    pl.show(interactive=True, interactive_update=True)    "
   ]
  },
  {
   "cell_type": "code",
   "execution_count": null,
   "id": "d85f0d63-e7ae-453b-a898-feda77cc1d04",
   "metadata": {},
   "outputs": [],
   "source": [
    "def f(ids, rotated, traslated):\n",
    "                \n",
    "    pl = pv.Plotter(notebook=True, off_screen=False, polygon_smoothing=False)\n",
    "    \n",
    "    for i, id in enumerate(ids):\n",
    "      \n",
    "      mesh = meshes[i]\n",
    "      mesh = subsetting_mtx * mesh\n",
    "      if rotated and not traslated:\n",
    "        mesh = transform_mesh(mesh, rotation=procrustes_transforms[id][\"rotation\"])\n",
    "      elif traslated and not rotated:\n",
    "        mesh = transform_mesh(mesh, traslation=procrustes_transforms[id][\"traslation\"])\n",
    "      elif traslated and rotated:\n",
    "        mesh = transform_mesh(mesh, **procrustes_transforms[id])\n",
    "      mesh = pv.PolyData(mesh, faces)\n",
    "        \n",
    "      pl.add_mesh(mesh, show_edges=False, point_size=1.5, color=color_palette[i], opacity=0.5)\n",
    "    pl.show(interactive=True, interactive_update=True)\n",
    "    \n",
    "#interact(f, i=widgets.IntSlider(min=1,max=N))\n",
    "interact(f, \n",
    "  ids=widgets.SelectMultiple(options=ids[:20]),\n",
    "  rotated=widgets.ToggleButton(),\n",
    "  traslated=widgets.ToggleButton()\n",
    ");"
   ]
  },
  {
   "cell_type": "markdown",
   "id": "06f5653d-f6c2-4140-898d-7af181f66482",
   "metadata": {},
   "source": [
    "___"
   ]
  },
  {
   "cell_type": "markdown",
   "id": "54fc77ee-c04e-4012-9588-e31a61d54b51",
   "metadata": {},
   "source": [
    "Test transforms"
   ]
  },
  {
   "cell_type": "code",
   "execution_count": 11,
   "id": "4b3760db-706e-42fd-b96d-2fea93771652",
   "metadata": {},
   "outputs": [],
   "source": [
    "transforms = pkl.load(open(\"/home/user/01_repos/CardioMesh/data/cached/procrustes_transforms_biventricle.pkl\", \"rb\"))"
   ]
  },
  {
   "cell_type": "code",
   "execution_count": 12,
   "id": "e8960cc8-0e38-4978-ae27-d991284c98fc",
   "metadata": {},
   "outputs": [],
   "source": [
    "subsetting_mtx_file = f\"/home/user/01_repos/CardioMesh/data/cached/subsetting_matrix_biventricle.pkl\"\n",
    "subsetting_mtx = pkl.load(open(subsetting_mtx_file, \"rb\"))"
   ]
  },
  {
   "cell_type": "code",
   "execution_count": 13,
   "id": "1b5432af-f599-4579-9e25-8c3e0dfe97e0",
   "metadata": {},
   "outputs": [],
   "source": [
    "ID = '2653145'"
   ]
  },
  {
   "cell_type": "code",
   "execution_count": 14,
   "id": "a81dded3-3516-48c4-80e0-76a3246fb2c3",
   "metadata": {
    "tags": []
   },
   "outputs": [],
   "source": [
    "subsetted_mesh = subsetting_mtx * fhm_meshes[ID]"
   ]
  },
  {
   "cell_type": "markdown",
   "id": "872d4f95-5324-410e-bcb0-e2b48e8c8860",
   "metadata": {},
   "source": [
    "___"
   ]
  },
  {
   "cell_type": "code",
   "execution_count": null,
   "id": "96d507ae-cfb1-4052-b756-39bf9fceee03",
   "metadata": {},
   "outputs": [],
   "source": [
    "faces = fhm_mesh[partitions[PARTITION]].f\n",
    "i = 13\n",
    "Trimesh(subsetted_meshes_aligned[:,i,:], faces).show()"
   ]
  },
  {
   "cell_type": "markdown",
   "id": "1d59dbb0-5cca-4fd8-b541-0f1db2e84efd",
   "metadata": {},
   "source": [
    "___"
   ]
  },
  {
   "cell_type": "code",
   "execution_count": null,
   "id": "42ad4672-a399-45d4-9fd4-c7ec633c73a6",
   "metadata": {},
   "outputs": [],
   "source": [
    "extract_partition_and_downsample = lambda shape: subsetting_mtx * shape.reshape(-1, 3)"
   ]
  },
  {
   "cell_type": "code",
   "execution_count": null,
   "id": "bf66c9dd-3603-49ac-8475-5338c5759e2c",
   "metadata": {
    "tags": []
   },
   "outputs": [],
   "source": [
    "@interact\n",
    "# def show_partition(partition=widgets.Select(options=partitions, value=('LV'), 'AVP', 'MVP'))):\n",
    "def show_partition(partition=widgets.Select(options=partitions, value=partitions[\"left_ventricle\"])):\n",
    "    \n",
    "    print(partition)\n",
    "    partition_mesh = fhm_mesh[partition]\n",
    "    return Trimesh(partition_mesh.v, partition_mesh.f).show()"
   ]
  },
  {
   "cell_type": "markdown",
   "id": "fd768bb0-0f42-4c98-9e45-2475db968684",
   "metadata": {},
   "source": [
    "___"
   ]
  },
  {
   "cell_type": "markdown",
   "id": "fce4ad64-491c-4c48-afdf-f5765cb2cd8a",
   "metadata": {},
   "source": [
    "### Compute temporal population means"
   ]
  },
  {
   "cell_type": "code",
   "execution_count": 15,
   "id": "e5351c4e-d9e8-4559-81c4-fd12da269ecf",
   "metadata": {},
   "outputs": [
    {
     "name": "stdout",
     "output_type": "stream",
     "text": [
      "['..', '/home/user/01_repos/CardiacMotionRL/notebooks', '/home/user/miniconda/envs/cardiac_coma/lib/python39.zip', '/home/user/miniconda/envs/cardiac_coma/lib/python3.9', '/home/user/miniconda/envs/cardiac_coma/lib/python3.9/lib-dynload', '', '/home/user/miniconda/envs/cardiac_coma/lib/python3.9/site-packages', '/home/user/01_repos/CardiacMotion', '/home/user/01_repos/CardiacMotion/utils', '/home/user/01_repos/CardioMesh', '/home/user/01_repos/CardiacMotionRL', '/home/user/01_repos/CardiacMotionRL/data']\n"
     ]
    }
   ],
   "source": [
    "from main_autoencoder_cardiac import CardiacMeshPopulationDataset, CardiacMeshPopulationDM"
   ]
  },
  {
   "cell_type": "code",
   "execution_count": 16,
   "id": "fcc6556b-6394-4b4d-adfe-33ac253b726b",
   "metadata": {},
   "outputs": [],
   "source": [
    "root_path = \"/mnt/data/workshop/workshop-user1/datasets/meshes/Results_Yan/\"\n",
    "MEAN_ACROSS_CYCLE_FILE = f\"utils/CardioMesh/data/cached/mean_shape_time_avg__{partition}.npy\""
   ]
  },
  {
   "cell_type": "code",
   "execution_count": 17,
   "id": "86985755-d7f1-4f9c-a6fb-c56ec9652fd3",
   "metadata": {
    "collapsed": true,
    "jupyter": {
     "outputs_hidden": true
    },
    "tags": []
   },
   "outputs": [
    {
     "name": "stderr",
     "output_type": "stream",
     "text": [
      "100%|██████████████████████████████████████████████████████████████████████████████████████████████████| 2000/2000 [00:01<00:00, 1560.00it/s]\n",
      "  4%|███▊                                                                                                  | 72/1956 [00:05<02:16, 13.80it/s]\n"
     ]
    },
    {
     "ename": "KeyboardInterrupt",
     "evalue": "",
     "output_type": "error",
     "traceback": [
      "\u001b[0;31m---------------------------------------------------------------------------\u001b[0m",
      "\u001b[0;31mKeyboardInterrupt\u001b[0m                         Traceback (most recent call last)",
      "Cell \u001b[0;32mIn[17], line 17\u001b[0m\n\u001b[1;32m     14\u001b[0m \u001b[38;5;66;03m# cardiac_dataset[7].s_t[0].mean(0)\u001b[39;00m\n\u001b[1;32m     16\u001b[0m pp \u001b[38;5;241m=\u001b[39m []\n\u001b[0;32m---> 17\u001b[0m \u001b[38;5;28;01mfor\u001b[39;00m k \u001b[38;5;129;01min\u001b[39;00m tqdm(cardiac_dataset):\n\u001b[1;32m     18\u001b[0m     pp\u001b[38;5;241m.\u001b[39mappend(k[\u001b[38;5;124m\"\u001b[39m\u001b[38;5;124mtime_avg_s\u001b[39m\u001b[38;5;124m\"\u001b[39m])\n\u001b[1;32m     20\u001b[0m s_popmean \u001b[38;5;241m=\u001b[39m torch\u001b[38;5;241m.\u001b[39mstack(pp)\u001b[38;5;241m.\u001b[39mmean(\u001b[38;5;241m0\u001b[39m)\u001b[38;5;241m.\u001b[39mnumpy()\n",
      "File \u001b[0;32m~/miniconda/envs/cardiac_coma/lib/python3.9/site-packages/tqdm/std.py:1195\u001b[0m, in \u001b[0;36mtqdm.__iter__\u001b[0;34m(self)\u001b[0m\n\u001b[1;32m   1192\u001b[0m time \u001b[38;5;241m=\u001b[39m \u001b[38;5;28mself\u001b[39m\u001b[38;5;241m.\u001b[39m_time\n\u001b[1;32m   1194\u001b[0m \u001b[38;5;28;01mtry\u001b[39;00m:\n\u001b[0;32m-> 1195\u001b[0m     \u001b[38;5;28;01mfor\u001b[39;00m obj \u001b[38;5;129;01min\u001b[39;00m iterable:\n\u001b[1;32m   1196\u001b[0m         \u001b[38;5;28;01myield\u001b[39;00m obj\n\u001b[1;32m   1197\u001b[0m         \u001b[38;5;66;03m# Update and possibly print the progressbar.\u001b[39;00m\n\u001b[1;32m   1198\u001b[0m         \u001b[38;5;66;03m# Note: does not call self.update(1) for speed optimisation.\u001b[39;00m\n",
      "File \u001b[0;32m~/01_repos/CardiacMotionRL/main_autoencoder_cardiac.py:130\u001b[0m, in \u001b[0;36mCardiacMeshPopulationDataset.__getitem__\u001b[0;34m(self, idx)\u001b[0m\n\u001b[1;32m    128\u001b[0m     \u001b[38;5;28;01mif\u001b[39;00m \u001b[38;5;28mself\u001b[39m\u001b[38;5;241m.\u001b[39msubsetting_matrix \u001b[38;5;129;01mis\u001b[39;00m \u001b[38;5;129;01mnot\u001b[39;00m \u001b[38;5;28;01mNone\u001b[39;00m:\n\u001b[1;32m    129\u001b[0m         s \u001b[38;5;241m=\u001b[39m \u001b[38;5;28mself\u001b[39m\u001b[38;5;241m.\u001b[39msubsetting_matrix \u001b[38;5;241m*\u001b[39m s\n\u001b[0;32m--> 130\u001b[0m     s \u001b[38;5;241m=\u001b[39m \u001b[43mtransform_mesh\u001b[49m\u001b[43m(\u001b[49m\u001b[43ms\u001b[49m\u001b[43m,\u001b[49m\u001b[43m \u001b[49m\u001b[38;5;241;43m*\u001b[39;49m\u001b[38;5;241;43m*\u001b[39;49m\u001b[43mprocrustes_transforms\u001b[49m\u001b[43m)\u001b[49m \n\u001b[1;32m    131\u001b[0m     s_t\u001b[38;5;241m.\u001b[39mappend(s)\n\u001b[1;32m    133\u001b[0m s_t \u001b[38;5;241m=\u001b[39m Tensor(np\u001b[38;5;241m.\u001b[39marray(s_t))\n",
      "File \u001b[0;32m~/01_repos/CardiacMotionRL/utils/CardioMesh/CardiacMesh.py:940\u001b[0m, in \u001b[0;36mtransform_mesh\u001b[0;34m(mesh, rotation, traslation)\u001b[0m\n\u001b[1;32m    938\u001b[0m     centroid \u001b[38;5;241m=\u001b[39m mesh\u001b[38;5;241m.\u001b[39mmean(axis\u001b[38;5;241m=\u001b[39m\u001b[38;5;241m0\u001b[39m)\n\u001b[1;32m    939\u001b[0m     mesh \u001b[38;5;241m-\u001b[39m\u001b[38;5;241m=\u001b[39m centroid\n\u001b[0;32m--> 940\u001b[0m     mesh \u001b[38;5;241m=\u001b[39m \u001b[43mmesh\u001b[49m\u001b[38;5;241;43m.\u001b[39;49m\u001b[43mdot\u001b[49m\u001b[43m(\u001b[49m\u001b[43mrotation\u001b[49m\u001b[43m)\u001b[49m\n\u001b[1;32m    941\u001b[0m     mesh \u001b[38;5;241m+\u001b[39m\u001b[38;5;241m=\u001b[39m centroid\n\u001b[1;32m    943\u001b[0m \u001b[38;5;28;01mreturn\u001b[39;00m mesh\n",
      "\u001b[0;31mKeyboardInterrupt\u001b[0m: "
     ]
    }
   ],
   "source": [
    "# partition = \"aorta\"\n",
    "for partition in partitions:\n",
    "    \n",
    "    subsetting_mtx_file = f\"/home/user/01_repos/CardioMesh/data/cached/subsetting_matrix_{partition}.npy\"\n",
    "    subsetting_matrix = np.load(subsetting_mtx_file, allow_pickle=True)\n",
    "    \n",
    "    cardiac_dataset = CardiacMeshPopulationDataset(\n",
    "        root_path, \n",
    "        procrustes_transforms=f\"utils/CardioMesh/data/cached/procrustes_transforms_{partition}.pkl\",\n",
    "        faces=fhm_mesh[partitions[partition]].f,\n",
    "        subsetting_matrix=subsetting_matrix,\n",
    "        N_subj=2000\n",
    "    )\n",
    "    # cardiac_dataset[7].s_t[0].mean(0)\n",
    "    \n",
    "    pp = []\n",
    "    for k in tqdm(cardiac_dataset):\n",
    "        pp.append(k[\"time_avg_s\"])\n",
    "        \n",
    "    s_popmean = torch.stack(pp).mean(0).numpy()\n",
    "    POPMEAN_SHAPE = f\"utils/CardioMesh/data/cached/mean_shape_time_avg__{partition}.npy\"\n",
    "    np.save(POPMEAN_SHAPE, s_popmean)"
   ]
  },
  {
   "cell_type": "code",
   "execution_count": 29,
   "id": "d638f551-4845-49ae-a723-936e899f2800",
   "metadata": {},
   "outputs": [
    {
     "name": "stderr",
     "output_type": "stream",
     "text": [
      "100%|████████████████████████████████████████████████████████████████████████████████████████████████| 63007/63007 [00:54<00:00, 1161.38it/s]\n"
     ]
    }
   ],
   "source": [
    "PARTITION = \"left_ventricle\"\n",
    "PARTITION = \"right_ventricle\"\n",
    "subsetting_mtx_file = f\"/home/user/01_repos/CardioMesh/data/cached/subsetting_matrix_{PARTITION}.npy\"\n",
    "subsetting_matrix = np.load(subsetting_mtx_file, allow_pickle=True)\n",
    "\n",
    "procrustes_transforms_file = f\"utils/CardioMesh/data/cached/procrustes_transforms_{PARTITION}.pkl\"\n",
    "mean_shape = np.load(f\"utils/CardioMesh/data/cached/mean_shape_time_avg__{PARTITION}.npy\")\n",
    "faces = fhm_mesh[partitions[PARTITION]].f\n",
    "\n",
    "T = 50\n",
    "\n",
    "cardiac_dataset = CardiacMeshPopulationDataset(\n",
    "    root_path, \n",
    "    procrustes_transforms=procrustes_transforms_file,\n",
    "    faces=faces,\n",
    "    subsetting_matrix=subsetting_matrix,\n",
    "    template_mesh= EasyDict({\n",
    "        \"v\": mean_shape,\n",
    "        \"f\": faces\n",
    "    }),\n",
    "    N_subj=None,\n",
    "    phases_filter= 1 + (50/T)*np.array(range(T))\n",
    ")"
   ]
  },
  {
   "cell_type": "code",
   "execution_count": 28,
   "id": "856c09d0-6029-417b-95fc-924eb4a79656",
   "metadata": {},
   "outputs": [
    {
     "name": "stdout",
     "output_type": "stream",
     "text": [
      "4.39 s ± 80.8 ms per loop (mean ± std. dev. of 7 runs, 1 loop each)\n"
     ]
    }
   ],
   "source": [
    "%%timeit\n",
    "cardiac_dm = CardiacMeshPopulationDM(dataset=cardiac_dataset, num_workers=1)\n",
    "cardiac_dm.setup()\n",
    "kk = next(iter(cardiac_dm.train_dataloader()))"
   ]
  },
  {
   "cell_type": "code",
   "execution_count": null,
   "id": "6ebf4f95-25f6-403f-bbc1-59c7bbb6e795",
   "metadata": {},
   "outputs": [],
   "source": []
  }
 ],
 "metadata": {
  "kernelspec": {
   "display_name": "Python 3 (ipykernel)",
   "language": "python",
   "name": "python3"
  },
  "language_info": {
   "codemirror_mode": {
    "name": "ipython",
    "version": 3
   },
   "file_extension": ".py",
   "mimetype": "text/x-python",
   "name": "python",
   "nbconvert_exporter": "python",
   "pygments_lexer": "ipython3",
   "version": "3.9.16"
  }
 },
 "nbformat": 4,
 "nbformat_minor": 5
}
