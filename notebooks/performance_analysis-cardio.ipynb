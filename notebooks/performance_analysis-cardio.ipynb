{
 "cells": [
  {
   "cell_type": "code",
   "execution_count": 1,
   "id": "6f48f640",
   "metadata": {
    "ExecuteTime": {
     "end_time": "2023-04-21T12:35:36.872847Z",
     "start_time": "2023-04-21T12:35:35.084718Z"
    }
   },
   "outputs": [],
   "source": [
    "import pandas"
   ]
  },
  {
   "cell_type": "code",
   "execution_count": 2,
   "id": "9eb6f208",
   "metadata": {
    "ExecuteTime": {
     "end_time": "2023-04-21T12:35:38.379408Z",
     "start_time": "2023-04-21T12:35:36.875107Z"
    }
   },
   "outputs": [],
   "source": [
    "import mlflow\n",
    "import ipywidgets as widgets\n",
    "from ipywidgets import interact\n",
    "import os\n",
    "import glob\n",
    "import torch\n",
    "from pprint import pprint\n",
    "from easydict import EasyDict\n",
    "\n",
    "import numpy as np\n",
    "import torch\n",
    "import yaml"
   ]
  },
  {
   "cell_type": "code",
   "execution_count": 3,
   "id": "f16b211d",
   "metadata": {
    "ExecuteTime": {
     "end_time": "2023-04-21T12:35:38.384833Z",
     "start_time": "2023-04-21T12:35:38.381733Z"
    }
   },
   "outputs": [],
   "source": [
    "MLFLOW_TRACKING_URI = \"/home/home01/scrb/01_repos/CardiacMotion/mlruns/\"\n",
    "EXPERIMENT_NAME = \"Synthetic data\"\n",
    "EXPERIMENT_NAME = \"test\"\n",
    "\n",
    "mlflow.set_tracking_uri(MLFLOW_TRACKING_URI)"
   ]
  },
  {
   "cell_type": "code",
   "execution_count": 4,
   "id": "da0e5e26-e9c1-4473-9cb1-c914fbf21478",
   "metadata": {
    "ExecuteTime": {
     "end_time": "2023-04-21T12:35:38.415264Z",
     "start_time": "2023-04-21T12:35:38.388014Z"
    }
   },
   "outputs": [],
   "source": [
    "MLFLOW_URI = mlflow.tracking.get_tracking_uri()\n",
    "EXPERIMENT_ID = mlflow.get_experiment_by_name(EXPERIMENT_NAME).experiment_id\n",
    "\n",
    "PREFIX = f\"{MLFLOW_URI}/{EXPERIMENT_ID}\""
   ]
  },
  {
   "cell_type": "code",
   "execution_count": 5,
   "id": "430afed9-a53b-4ea4-b929-3af14304ca97",
   "metadata": {
    "ExecuteTime": {
     "end_time": "2023-04-21T12:35:38.531870Z",
     "start_time": "2023-04-21T12:35:38.416726Z"
    }
   },
   "outputs": [],
   "source": [
    "meta_yamls = [f\"{PREFIX}/{run}/meta.yaml\" for run in os.listdir(PREFIX) if os.path.exists(f\"{PREFIX}/{run}/meta.yaml\")]\n",
    "\n",
    "count = 0\n",
    "for meta_yaml_path in meta_yamls:\n",
    "    meta_yaml = yaml.safe_load(open(meta_yaml_path))    \n",
    "    if meta_yaml['experiment_id'] != EXPERIMENT_ID:\n",
    "        meta_yaml['experiment_id'] = EXPERIMENT_ID\n",
    "        count += 1\n",
    "        yaml.dump(meta_yaml, open(meta_yaml_path, \"wt\"))\n",
    "        \n",
    "if count != 0:\n",
    "    print(f\"{count} runs's experiments were fixed to match the experiment of the parent folder\")"
   ]
  },
  {
   "cell_type": "code",
   "execution_count": 6,
   "id": "ad4d12e4",
   "metadata": {
    "ExecuteTime": {
     "end_time": "2023-04-21T12:35:40.699518Z",
     "start_time": "2023-04-21T12:35:38.533304Z"
    }
   },
   "outputs": [
    {
     "data": {
      "text/html": [
       "<div>\n",
       "<style scoped>\n",
       "    .dataframe tbody tr th:only-of-type {\n",
       "        vertical-align: middle;\n",
       "    }\n",
       "\n",
       "    .dataframe tbody tr th {\n",
       "        vertical-align: top;\n",
       "    }\n",
       "\n",
       "    .dataframe thead th {\n",
       "        text-align: right;\n",
       "    }\n",
       "</style>\n",
       "<table border=\"1\" class=\"dataframe\">\n",
       "  <thead>\n",
       "    <tr style=\"text-align: right;\">\n",
       "      <th></th>\n",
       "      <th>run_id</th>\n",
       "      <th>experiment_id</th>\n",
       "      <th>status</th>\n",
       "      <th>artifact_uri</th>\n",
       "      <th>start_time</th>\n",
       "      <th>end_time</th>\n",
       "      <th>metrics.val_rec_ratio_to_pop_mean</th>\n",
       "      <th>metrics.training_recon_loss_s</th>\n",
       "      <th>metrics.val_recon_loss_s</th>\n",
       "      <th>metrics.training_recon_loss_c</th>\n",
       "      <th>...</th>\n",
       "      <th>params.platform</th>\n",
       "      <th>params.min_delta</th>\n",
       "      <th>params.dataset_complexity</th>\n",
       "      <th>params.dataset_complexity_c</th>\n",
       "      <th>tags.mlflow.log-model.history</th>\n",
       "      <th>tags.mlflow.source.type</th>\n",
       "      <th>tags.mlflow.source.git.commit</th>\n",
       "      <th>tags.Mode</th>\n",
       "      <th>tags.mlflow.user</th>\n",
       "      <th>tags.mlflow.source.name</th>\n",
       "    </tr>\n",
       "  </thead>\n",
       "  <tbody>\n",
       "    <tr>\n",
       "      <th>1</th>\n",
       "      <td>6a4d73fb59f24d97b37764afdedd4185</td>\n",
       "      <td>2</td>\n",
       "      <td>FINISHED</td>\n",
       "      <td>/root/Rodrigo_repos/CardiacMotion/mlruns/2/6a4...</td>\n",
       "      <td>2023-03-31 11:49:30.571000+00:00</td>\n",
       "      <td>2023-04-01 06:02:43.379000+00:00</td>\n",
       "      <td>0.120440</td>\n",
       "      <td>1.647883</td>\n",
       "      <td>2.157799</td>\n",
       "      <td>1.445723</td>\n",
       "      <td>...</td>\n",
       "      <td>b3910956944c</td>\n",
       "      <td>-0.0</td>\n",
       "      <td>36</td>\n",
       "      <td>9</td>\n",
       "      <td>[{\"run_id\": \"6a4d73fb59f24d97b37764afdedd4185\"...</td>\n",
       "      <td>LOCAL</td>\n",
       "      <td>7503005beeed87c75dfdd7289540bfd8074f1221</td>\n",
       "      <td>testing</td>\n",
       "      <td>root</td>\n",
       "      <td>main_autoencoder_cardiac.py</td>\n",
       "    </tr>\n",
       "    <tr>\n",
       "      <th>21</th>\n",
       "      <td>063d59b768a846be94c27e2fcb0f8cfe</td>\n",
       "      <td>2</td>\n",
       "      <td>FINISHED</td>\n",
       "      <td>/root/Rodrigo_repos/CardiacMotion/mlruns/2/063...</td>\n",
       "      <td>2023-03-23 10:00:30.673000+00:00</td>\n",
       "      <td>2023-03-24 02:34:12.351000+00:00</td>\n",
       "      <td>0.144234</td>\n",
       "      <td>0.002296</td>\n",
       "      <td>0.002706</td>\n",
       "      <td>0.002451</td>\n",
       "      <td>...</td>\n",
       "      <td>332c5cd2476e</td>\n",
       "      <td>-0.0</td>\n",
       "      <td>36</td>\n",
       "      <td>9</td>\n",
       "      <td>[{\"run_id\": \"063d59b768a846be94c27e2fcb0f8cfe\"...</td>\n",
       "      <td>LOCAL</td>\n",
       "      <td>7503005beeed87c75dfdd7289540bfd8074f1221</td>\n",
       "      <td>testing</td>\n",
       "      <td>root</td>\n",
       "      <td>main_autoencoder.py</td>\n",
       "    </tr>\n",
       "  </tbody>\n",
       "</table>\n",
       "<p>2 rows × 85 columns</p>\n",
       "</div>"
      ],
      "text/plain": [
       "                              run_id experiment_id    status  \\\n",
       "1   6a4d73fb59f24d97b37764afdedd4185             2  FINISHED   \n",
       "21  063d59b768a846be94c27e2fcb0f8cfe             2  FINISHED   \n",
       "\n",
       "                                         artifact_uri  \\\n",
       "1   /root/Rodrigo_repos/CardiacMotion/mlruns/2/6a4...   \n",
       "21  /root/Rodrigo_repos/CardiacMotion/mlruns/2/063...   \n",
       "\n",
       "                         start_time                         end_time  \\\n",
       "1  2023-03-31 11:49:30.571000+00:00 2023-04-01 06:02:43.379000+00:00   \n",
       "21 2023-03-23 10:00:30.673000+00:00 2023-03-24 02:34:12.351000+00:00   \n",
       "\n",
       "    metrics.val_rec_ratio_to_pop_mean  metrics.training_recon_loss_s  \\\n",
       "1                            0.120440                       1.647883   \n",
       "21                           0.144234                       0.002296   \n",
       "\n",
       "    metrics.val_recon_loss_s  metrics.training_recon_loss_c  ...  \\\n",
       "1                   2.157799                       1.445723  ...   \n",
       "21                  0.002706                       0.002451  ...   \n",
       "\n",
       "    params.platform  params.min_delta  params.dataset_complexity  \\\n",
       "1      b3910956944c              -0.0                         36   \n",
       "21     332c5cd2476e              -0.0                         36   \n",
       "\n",
       "    params.dataset_complexity_c  \\\n",
       "1                             9   \n",
       "21                            9   \n",
       "\n",
       "                        tags.mlflow.log-model.history  \\\n",
       "1   [{\"run_id\": \"6a4d73fb59f24d97b37764afdedd4185\"...   \n",
       "21  [{\"run_id\": \"063d59b768a846be94c27e2fcb0f8cfe\"...   \n",
       "\n",
       "    tags.mlflow.source.type             tags.mlflow.source.git.commit  \\\n",
       "1                     LOCAL  7503005beeed87c75dfdd7289540bfd8074f1221   \n",
       "21                    LOCAL  7503005beeed87c75dfdd7289540bfd8074f1221   \n",
       "\n",
       "    tags.Mode  tags.mlflow.user      tags.mlflow.source.name  \n",
       "1     testing              root  main_autoencoder_cardiac.py  \n",
       "21    testing              root          main_autoencoder.py  \n",
       "\n",
       "[2 rows x 85 columns]"
      ]
     },
     "execution_count": 6,
     "metadata": {},
     "output_type": "execute_result"
    }
   ],
   "source": [
    "df = mlflow.search_runs(experiment_ids=[EXPERIMENT_ID])\n",
    "df = df[df[\"metrics.test_rec_ratio_to_time_mean\"] < 0.9]\n",
    "df"
   ]
  },
  {
   "cell_type": "markdown",
   "id": "2853378a",
   "metadata": {},
   "source": [
    "___"
   ]
  },
  {
   "cell_type": "code",
   "execution_count": 7,
   "id": "7d1c00e5",
   "metadata": {
    "ExecuteTime": {
     "end_time": "2023-04-21T12:35:40.706837Z",
     "start_time": "2023-04-21T12:35:40.702786Z"
    }
   },
   "outputs": [],
   "source": [
    "### Select runs with $T=1$\n",
    "\n",
    "# row_index = (df[\"params.dataset_n_timeframes\"] == \"1\")\n",
    "# \n",
    "# # Select runs with performance better than random\n",
    "# row_index &= (df[\"metrics.test_rec_ratio_to_pop_mean\"] < 1)"
   ]
  },
  {
   "cell_type": "code",
   "execution_count": 8,
   "id": "2b8012b0",
   "metadata": {
    "ExecuteTime": {
     "end_time": "2023-04-21T12:35:40.719066Z",
     "start_time": "2023-04-21T12:35:40.709600Z"
    }
   },
   "outputs": [],
   "source": [
    "# columns\n",
    "normalized_metrics = df.columns[df.columns.str.startswith(\"metrics.test_\") & df.columns.str.contains(\"ratio\")]\n",
    "\n",
    "dataset_params = df.columns[df.columns.str.startswith(\"params.dataset_\")].to_list()\n",
    "\n",
    "params = df.columns[df.columns.str.startswith(\"params.\")].to_list()\n",
    "\n",
    "arch_params = [\n",
    "    'params.n_channels_enc', \n",
    "    'params.n_channels_dec_c', \n",
    "    'params.n_channels_dec_s', \n",
    "    'params.latent_dim_c', \n",
    "    'params.latent_dim_s',\n",
    "    'params.z_aggr_function',\n",
    "    'params.reduction_factors',\n",
    "]\n",
    "\n",
    "# To not display columns that have the same value for all rows\n",
    "# https://stackoverflow.com/questions/57365283/how-to-show-columns-that-have-different-values-in-rows\n",
    "def diff_cols(df):\n",
    "    my_cols = []\n",
    "    for col in df.columns:\n",
    "        if df[col].nunique(dropna=False) > 1:\n",
    "            my_cols.append(col)\n",
    "    return df[my_cols].copy()"
   ]
  },
  {
   "cell_type": "code",
   "execution_count": 9,
   "id": "c2b6c331",
   "metadata": {
    "ExecuteTime": {
     "end_time": "2023-04-21T12:35:40.743938Z",
     "start_time": "2023-04-21T12:35:40.721655Z"
    }
   },
   "outputs": [
    {
     "data": {
      "text/html": [
       "<div>\n",
       "<style scoped>\n",
       "    .dataframe tbody tr th:only-of-type {\n",
       "        vertical-align: middle;\n",
       "    }\n",
       "\n",
       "    .dataframe tbody tr th {\n",
       "        vertical-align: top;\n",
       "    }\n",
       "\n",
       "    .dataframe thead th {\n",
       "        text-align: right;\n",
       "    }\n",
       "</style>\n",
       "<table border=\"1\" class=\"dataframe\">\n",
       "  <thead>\n",
       "    <tr style=\"text-align: right;\">\n",
       "      <th></th>\n",
       "      <th>run_id</th>\n",
       "      <th>params.lr</th>\n",
       "      <th>params.latent_dim_s</th>\n",
       "      <th>params.reduction_factors</th>\n",
       "      <th>params.dataset_n_timeframes</th>\n",
       "      <th>params.latent_dim_c</th>\n",
       "      <th>params.w_s</th>\n",
       "      <th>params.platform</th>\n",
       "      <th>metrics.test_rec_ratio_to_time_mean</th>\n",
       "      <th>metrics.test_rec_ratio_to_pop_mean_c</th>\n",
       "      <th>metrics.test_rec_ratio_to_pop_mean</th>\n",
       "    </tr>\n",
       "  </thead>\n",
       "  <tbody>\n",
       "    <tr>\n",
       "      <th>0</th>\n",
       "      <td>6a4d73fb59f24d97b37764afdedd4185</td>\n",
       "      <td>0.0001</td>\n",
       "      <td>16</td>\n",
       "      <td>[3, 3, 3, 3]</td>\n",
       "      <td>50</td>\n",
       "      <td>8</td>\n",
       "      <td>0.1</td>\n",
       "      <td>b3910956944c</td>\n",
       "      <td>0.854538</td>\n",
       "      <td>0.002284</td>\n",
       "      <td>0.113931</td>\n",
       "    </tr>\n",
       "    <tr>\n",
       "      <th>1</th>\n",
       "      <td>063d59b768a846be94c27e2fcb0f8cfe</td>\n",
       "      <td>3e-05</td>\n",
       "      <td>36</td>\n",
       "      <td>[2, 2, 2, 2]</td>\n",
       "      <td>20</td>\n",
       "      <td>9</td>\n",
       "      <td>1.0</td>\n",
       "      <td>332c5cd2476e</td>\n",
       "      <td>0.629545</td>\n",
       "      <td>0.007206</td>\n",
       "      <td>0.106766</td>\n",
       "    </tr>\n",
       "  </tbody>\n",
       "</table>\n",
       "</div>"
      ],
      "text/plain": [
       "                             run_id params.lr params.latent_dim_s  \\\n",
       "0  6a4d73fb59f24d97b37764afdedd4185    0.0001                  16   \n",
       "1  063d59b768a846be94c27e2fcb0f8cfe     3e-05                  36   \n",
       "\n",
       "  params.reduction_factors params.dataset_n_timeframes params.latent_dim_c  \\\n",
       "0             [3, 3, 3, 3]                          50                   8   \n",
       "1             [2, 2, 2, 2]                          20                   9   \n",
       "\n",
       "  params.w_s params.platform  metrics.test_rec_ratio_to_time_mean  \\\n",
       "0        0.1    b3910956944c                             0.854538   \n",
       "1        1.0    332c5cd2476e                             0.629545   \n",
       "\n",
       "   metrics.test_rec_ratio_to_pop_mean_c  metrics.test_rec_ratio_to_pop_mean  \n",
       "0                              0.002284                            0.113931  \n",
       "1                              0.007206                            0.106766  "
      ]
     },
     "execution_count": 9,
     "metadata": {},
     "output_type": "execute_result"
    }
   ],
   "source": [
    "columns = [\"run_id\"] + params + normalized_metrics.tolist()\n",
    "\n",
    "diff_cols(\n",
    "    df[columns].reset_index(drop=True)\n",
    ")"
   ]
  },
  {
   "cell_type": "code",
   "execution_count": 10,
   "id": "f173e5a8",
   "metadata": {
    "ExecuteTime": {
     "end_time": "2023-04-21T12:35:40.757331Z",
     "start_time": "2023-04-21T12:35:40.746150Z"
    }
   },
   "outputs": [],
   "source": [
    "good_runs = df.run_id.values\n",
    "run_w = widgets.Select(options=good_runs)"
   ]
  },
  {
   "cell_type": "markdown",
   "id": "90769260",
   "metadata": {},
   "source": [
    "### Get run IDs based on metrics "
   ]
  },
  {
   "cell_type": "code",
   "execution_count": 11,
   "id": "7a646bee",
   "metadata": {
    "ExecuteTime": {
     "end_time": "2023-04-21T12:35:40.764987Z",
     "start_time": "2023-04-21T12:35:40.759444Z"
    }
   },
   "outputs": [
    {
     "data": {
      "application/vnd.jupyter.widget-view+json": {
       "model_id": "0561a21fa17c45d7b9683f4443d2b3bf",
       "version_major": 2,
       "version_minor": 0
      },
      "text/plain": [
       "Select(options=('6a4d73fb59f24d97b37764afdedd4185', '063d59b768a846be94c27e2fcb0f8cfe'), value='6a4d73fb59f24d…"
      ]
     },
     "metadata": {},
     "output_type": "display_data"
    }
   ],
   "source": [
    "# run_w = widgets.Select(options=[\"6a4d73fb59f24d97b37764afdedd4185\"])\n",
    "run_w"
   ]
  },
  {
   "cell_type": "markdown",
   "id": "4ff2dff5",
   "metadata": {},
   "source": [
    "### Load weights"
   ]
  },
  {
   "cell_type": "code",
   "execution_count": 12,
   "id": "0b8fbd73-b0f0-4eb6-8b36-32b7ed4e8f35",
   "metadata": {
    "ExecuteTime": {
     "end_time": "2023-04-21T12:35:40.770299Z",
     "start_time": "2023-04-21T12:35:40.766974Z"
    }
   },
   "outputs": [],
   "source": [
    "# ckpt_dir = f\"/root/Rodrigo_repos/CardiacMotion/2/{run_w.value}/checkpoints\"\n",
    "# ckpt_path = f\"{ckpt_dir}/{os.listdir(ckpt_dir)[0]}\"\n",
    "ckpt_dir = f\"{os.environ['HOME']}/01_repos/CardiacMotion/mlruns/2/{run_w.value}/artifacts/restored_model_checkpoint\"\n",
    "ckpt_path = f\"{ckpt_dir}/{os.listdir(ckpt_dir)[0]}\""
   ]
  },
  {
   "cell_type": "code",
   "execution_count": 13,
   "id": "bcb3a8bb",
   "metadata": {
    "ExecuteTime": {
     "end_time": "2023-04-21T12:35:40.827734Z",
     "start_time": "2023-04-21T12:35:40.775481Z"
    }
   },
   "outputs": [
    {
     "name": "stdout",
     "output_type": "stream",
     "text": [
      "Loaded weights from checkpoint:\n",
      " /home/home01/scrb/01_repos/CardiacMotion/mlruns/2/6a4d73fb59f24d97b37764afdedd4185/artifacts/restored_model_checkpoint/epoch=334-step=38524.ckpt\n"
     ]
    }
   ],
   "source": [
    "# ckpt_path = f\"/root/Rodrigo_repos/CardiacMotion/2/{run_w.value}/checkpoints/epoch=334-step=38524.ckpt\"\n",
    "model_weights = torch.load(ckpt_path, map_location=torch.device('cpu'))[\"state_dict\"]\n",
    "print(f\"Loaded weights from checkpoint:\\n {ckpt_path}\")\n",
    "model_weights = EasyDict(model_weights)"
   ]
  },
  {
   "cell_type": "markdown",
   "id": "c5ad4a19",
   "metadata": {},
   "source": [
    "### Initialize weights"
   ]
  },
  {
   "cell_type": "code",
   "execution_count": 14,
   "id": "e54626cd",
   "metadata": {
    "ExecuteTime": {
     "end_time": "2023-04-21T12:35:42.914025Z",
     "start_time": "2023-04-21T12:35:40.829584Z"
    }
   },
   "outputs": [],
   "source": [
    "import sys\n",
    "import pickle as pkl\n",
    "import os\n",
    "\n",
    "os.environ[\"HOME\"] = \"/home/home01/scrb\"\n",
    "os.environ['CARDIAC_MOTION_REPO'] = os.environ[\"HOME\"] + \"/01_repos/CardiacMotion\"\n",
    "os.chdir(os.environ['CARDIAC_MOTION_REPO'])\n",
    "\n",
    "sys.path.append(os.environ['CARDIAC_MOTION_REPO'])\n",
    "\n",
    "from main_autoencoder_cardiac import *\n",
    "from config.load_config import load_yaml_config"
   ]
  },
  {
   "cell_type": "markdown",
   "id": "a8878339-819a-4235-936c-f4de00466ae2",
   "metadata": {},
   "source": [
    "#### Cardiac dataset"
   ]
  },
  {
   "cell_type": "code",
   "execution_count": 15,
   "id": "9548efb4-265d-435b-857e-bceabfec3011",
   "metadata": {
    "ExecuteTime": {
     "end_time": "2023-04-21T12:35:42.925519Z",
     "start_time": "2023-04-21T12:35:42.919023Z"
    }
   },
   "outputs": [],
   "source": [
    "from main_autoencoder_cardiac import *"
   ]
  },
  {
   "cell_type": "code",
   "execution_count": 16,
   "id": "c19fc62f",
   "metadata": {
    "ExecuteTime": {
     "end_time": "2023-04-21T12:35:42.950925Z",
     "start_time": "2023-04-21T12:35:42.928485Z"
    }
   },
   "outputs": [],
   "source": [
    "POLYNOMIAL_DEGREE = 6\n",
    "DOWNSAMPLING = 2\n",
    "\n",
    "config = load_yaml_config(\"config_folded_c_and_s.yaml\")\n",
    "config.network_architecture.convolution.parameters.polynomial_degree = [POLYNOMIAL_DEGREE] * 4\n",
    "config.network_architecture.pooling.parameters.downsampling_factors = [DOWNSAMPLING] * 4"
   ]
  },
  {
   "cell_type": "code",
   "execution_count": 17,
   "id": "50386028",
   "metadata": {
    "ExecuteTime": {
     "end_time": "2023-04-21T12:36:16.833693Z",
     "start_time": "2023-04-21T12:35:42.953510Z"
    }
   },
   "outputs": [],
   "source": [
    "faces = EasyDict(\n",
    "        pkl.load(open(\"utils/VTKHelpers/data/faces_and_downsampling_mtx_frac_0.1_LV.pkl\", \"rb\"))\n",
    ").new_faces\n",
    "\n",
    "template = EasyDict({\n",
    "  \"v\": np.load(f\"{os.environ['CARDIAC_MOTION_REPO']}/data/LV_shape_mean_across_timepoints.npy\"),\n",
    "  \"f\": faces\n",
    "})\n",
    "\n",
    "\n",
    "cardiac_dataset = CardiacMeshPopulationDataset(\n",
    "    root_path=f\"{os.environ['HOME']}/01_repos/CardiacMotion/data/cardio/Results\", \n",
    "    procrustes_transforms=\"utils/VTKHelpers/data/procrustes_transforms_35k.pkl\",\n",
    "    faces=faces,\n",
    "    template_mesh=template,        \n",
    ")"
   ]
  },
  {
   "cell_type": "code",
   "execution_count": 19,
   "id": "80abe0e7",
   "metadata": {
    "ExecuteTime": {
     "end_time": "2023-04-21T12:39:07.118681Z",
     "start_time": "2023-04-21T12:36:22.634978Z"
    }
   },
   "outputs": [],
   "source": [
    "mesh_dm = CardiacMeshPopulationDM(cardiac_dataset, batch_size=32)\n",
    "\n",
    "# datamodule = get_datamodule(config.dataset, batch_size=config.batch_size)\n",
    "\n",
    "config.network_architecture.latent_dim_c = 8 \n",
    "config.network_architecture.latent_dim_s = 16\n",
    "\n",
    "mesh_dm.setup()\n",
    "x = EasyDict(next(iter(mesh_dm.train_dataloader())))\n",
    "\n",
    "mesh_template = mesh_dm.dataset.template_mesh\n",
    "coma_args = get_coma_args(config)\n",
    "coma_matrices = get_coma_matrices(config, mesh_template)\n",
    "coma_args.update(coma_matrices)"
   ]
  },
  {
   "cell_type": "code",
   "execution_count": 20,
   "id": "300de235",
   "metadata": {
    "ExecuteTime": {
     "end_time": "2023-04-21T12:39:23.196965Z",
     "start_time": "2023-04-21T12:39:07.466242Z"
    }
   },
   "outputs": [
    {
     "ename": "OSError",
     "evalue": "/lib64/libm.so.6: version `GLIBC_2.27' not found (required by /nobackup/scrb/.conda/envs/cardio/lib/python3.9/site-packages/torch_spline_conv/_basis_cuda.so)",
     "output_type": "error",
     "traceback": [
      "\u001b[0;31m---------------------------------------------------------------------------\u001b[0m",
      "\u001b[0;31mOSError\u001b[0m                                   Traceback (most recent call last)",
      "Cell \u001b[0;32mIn [20], line 1\u001b[0m\n\u001b[0;32m----> 1\u001b[0m \u001b[38;5;28;01mfrom\u001b[39;00m \u001b[38;5;21;01mmodels\u001b[39;00m\u001b[38;5;21;01m.\u001b[39;00m\u001b[38;5;21;01mModel3D\u001b[39;00m \u001b[38;5;28;01mimport\u001b[39;00m Encoder3DMesh, Decoder3DMesh\n\u001b[1;32m      2\u001b[0m \u001b[38;5;28;01mfrom\u001b[39;00m \u001b[38;5;21;01mmodels\u001b[39;00m\u001b[38;5;21;01m.\u001b[39;00m\u001b[38;5;21;01mModel4D\u001b[39;00m \u001b[38;5;28;01mimport\u001b[39;00m DECODER_C_ARGS, DECODER_S_ARGS, ENCODER_ARGS\n\u001b[1;32m      3\u001b[0m \u001b[38;5;28;01mfrom\u001b[39;00m \u001b[38;5;21;01mmodels\u001b[39;00m\u001b[38;5;21;01m.\u001b[39;00m\u001b[38;5;21;01mModel4D\u001b[39;00m \u001b[38;5;28;01mimport\u001b[39;00m DecoderStyle, DecoderContent, DecoderTemporalSequence \n",
      "File \u001b[0;32m/nobackup/scrb/src/CardiacMotion/models/Model3D.py:5\u001b[0m\n\u001b[1;32m      3\u001b[0m \u001b[38;5;28;01mfrom\u001b[39;00m \u001b[38;5;21;01mtorch\u001b[39;00m \u001b[38;5;28;01mimport\u001b[39;00m nn\n\u001b[1;32m      4\u001b[0m \u001b[38;5;28;01mfrom\u001b[39;00m \u001b[38;5;21;01mtorch\u001b[39;00m\u001b[38;5;21;01m.\u001b[39;00m\u001b[38;5;21;01mnn\u001b[39;00m \u001b[38;5;28;01mimport\u001b[39;00m ModuleList, ModuleDict\n\u001b[0;32m----> 5\u001b[0m \u001b[38;5;28;01mfrom\u001b[39;00m \u001b[38;5;21;01m.\u001b[39;00m\u001b[38;5;21;01mlayers\u001b[39;00m \u001b[38;5;28;01mimport\u001b[39;00m ChebConv_Coma, Pool\n\u001b[1;32m      6\u001b[0m \u001b[38;5;28;01mfrom\u001b[39;00m \u001b[38;5;21;01mcopy\u001b[39;00m \u001b[38;5;28;01mimport\u001b[39;00m copy\n\u001b[1;32m      7\u001b[0m \u001b[38;5;28;01mfrom\u001b[39;00m \u001b[38;5;21;01mtyping\u001b[39;00m \u001b[38;5;28;01mimport\u001b[39;00m Sequence, Union, List\n",
      "File \u001b[0;32m/nobackup/scrb/src/CardiacMotion/models/layers.py:4\u001b[0m\n\u001b[1;32m      2\u001b[0m \u001b[38;5;28;01mimport\u001b[39;00m \u001b[38;5;21;01mtorch\u001b[39;00m\n\u001b[1;32m      3\u001b[0m \u001b[38;5;28;01mfrom\u001b[39;00m \u001b[38;5;21;01mtorch_scatter\u001b[39;00m \u001b[38;5;28;01mimport\u001b[39;00m scatter_add\n\u001b[0;32m----> 4\u001b[0m \u001b[38;5;28;01mfrom\u001b[39;00m \u001b[38;5;21;01mtorch_geometric\u001b[39;00m\u001b[38;5;21;01m.\u001b[39;00m\u001b[38;5;21;01mnn\u001b[39;00m\u001b[38;5;21;01m.\u001b[39;00m\u001b[38;5;21;01mconv\u001b[39;00m \u001b[38;5;28;01mimport\u001b[39;00m MessagePassing\n\u001b[1;32m      5\u001b[0m \u001b[38;5;28;01mfrom\u001b[39;00m \u001b[38;5;21;01mtorch_geometric\u001b[39;00m\u001b[38;5;21;01m.\u001b[39;00m\u001b[38;5;21;01mnn\u001b[39;00m\u001b[38;5;21;01m.\u001b[39;00m\u001b[38;5;21;01mconv\u001b[39;00m\u001b[38;5;21;01m.\u001b[39;00m\u001b[38;5;21;01mcheb_conv\u001b[39;00m \u001b[38;5;28;01mimport\u001b[39;00m ChebConv\n\u001b[1;32m      6\u001b[0m \u001b[38;5;28;01mfrom\u001b[39;00m \u001b[38;5;21;01mtorch_geometric\u001b[39;00m\u001b[38;5;21;01m.\u001b[39;00m\u001b[38;5;21;01mutils\u001b[39;00m \u001b[38;5;28;01mimport\u001b[39;00m remove_self_loops\n",
      "File \u001b[0;32m~/.conda/envs/cardio/lib/python3.9/site-packages/torch_geometric/nn/__init__.py:3\u001b[0m\n\u001b[1;32m      1\u001b[0m \u001b[38;5;28;01mfrom\u001b[39;00m \u001b[38;5;21;01m.\u001b[39;00m\u001b[38;5;21;01mmeta\u001b[39;00m \u001b[38;5;28;01mimport\u001b[39;00m MetaLayer\n\u001b[1;32m      2\u001b[0m \u001b[38;5;28;01mfrom\u001b[39;00m \u001b[38;5;21;01m.\u001b[39;00m\u001b[38;5;21;01mreshape\u001b[39;00m \u001b[38;5;28;01mimport\u001b[39;00m Reshape\n\u001b[0;32m----> 3\u001b[0m \u001b[38;5;28;01mfrom\u001b[39;00m \u001b[38;5;21;01m.\u001b[39;00m\u001b[38;5;21;01msequential\u001b[39;00m \u001b[38;5;28;01mimport\u001b[39;00m Sequential\n\u001b[1;32m      4\u001b[0m \u001b[38;5;28;01mfrom\u001b[39;00m \u001b[38;5;21;01m.\u001b[39;00m\u001b[38;5;21;01mdata_parallel\u001b[39;00m \u001b[38;5;28;01mimport\u001b[39;00m DataParallel\n\u001b[1;32m      5\u001b[0m \u001b[38;5;28;01mfrom\u001b[39;00m \u001b[38;5;21;01m.\u001b[39;00m\u001b[38;5;21;01mto_hetero_transformer\u001b[39;00m \u001b[38;5;28;01mimport\u001b[39;00m to_hetero\n",
      "File \u001b[0;32m~/.conda/envs/cardio/lib/python3.9/site-packages/torch_geometric/nn/sequential.py:9\u001b[0m\n\u001b[1;32m      6\u001b[0m \u001b[38;5;28;01mimport\u001b[39;00m \u001b[38;5;21;01mtorch\u001b[39;00m\n\u001b[1;32m      7\u001b[0m \u001b[38;5;28;01mfrom\u001b[39;00m \u001b[38;5;21;01mjinja2\u001b[39;00m \u001b[38;5;28;01mimport\u001b[39;00m Template\n\u001b[0;32m----> 9\u001b[0m \u001b[38;5;28;01mfrom\u001b[39;00m \u001b[38;5;21;01mtorch_geometric\u001b[39;00m\u001b[38;5;21;01m.\u001b[39;00m\u001b[38;5;21;01mnn\u001b[39;00m\u001b[38;5;21;01m.\u001b[39;00m\u001b[38;5;21;01mconv\u001b[39;00m\u001b[38;5;21;01m.\u001b[39;00m\u001b[38;5;21;01mutils\u001b[39;00m\u001b[38;5;21;01m.\u001b[39;00m\u001b[38;5;21;01mjit\u001b[39;00m \u001b[38;5;28;01mimport\u001b[39;00m class_from_module_repr\n\u001b[1;32m     12\u001b[0m \u001b[38;5;28;01mdef\u001b[39;00m \u001b[38;5;21mSequential\u001b[39m(\n\u001b[1;32m     13\u001b[0m     input_args: \u001b[38;5;28mstr\u001b[39m,\n\u001b[1;32m     14\u001b[0m     modules: List[Union[Tuple[Callable, \u001b[38;5;28mstr\u001b[39m], Callable]],\n\u001b[1;32m     15\u001b[0m ) \u001b[38;5;241m-\u001b[39m\u001b[38;5;241m>\u001b[39m torch\u001b[38;5;241m.\u001b[39mnn\u001b[38;5;241m.\u001b[39mModule:\n\u001b[1;32m     16\u001b[0m     \u001b[38;5;124mr\u001b[39m\u001b[38;5;124;03m\"\"\"An extension of the :class:`torch.nn.Sequential` container in order to\u001b[39;00m\n\u001b[1;32m     17\u001b[0m \u001b[38;5;124;03m    define a sequential GNN model.\u001b[39;00m\n\u001b[1;32m     18\u001b[0m \u001b[38;5;124;03m    Since GNN operators take in multiple input arguments,\u001b[39;00m\n\u001b[0;32m   (...)\u001b[0m\n\u001b[1;32m     67\u001b[0m \u001b[38;5;124;03m            be passed.\u001b[39;00m\n\u001b[1;32m     68\u001b[0m \u001b[38;5;124;03m    \"\"\"\u001b[39;00m\n",
      "File \u001b[0;32m~/.conda/envs/cardio/lib/python3.9/site-packages/torch_geometric/nn/conv/__init__.py:25\u001b[0m\n\u001b[1;32m     23\u001b[0m \u001b[38;5;28;01mfrom\u001b[39;00m \u001b[38;5;21;01m.\u001b[39;00m\u001b[38;5;21;01mpoint_conv\u001b[39;00m \u001b[38;5;28;01mimport\u001b[39;00m PointNetConv, PointConv\n\u001b[1;32m     24\u001b[0m \u001b[38;5;28;01mfrom\u001b[39;00m \u001b[38;5;21;01m.\u001b[39;00m\u001b[38;5;21;01mgmm_conv\u001b[39;00m \u001b[38;5;28;01mimport\u001b[39;00m GMMConv\n\u001b[0;32m---> 25\u001b[0m \u001b[38;5;28;01mfrom\u001b[39;00m \u001b[38;5;21;01m.\u001b[39;00m\u001b[38;5;21;01mspline_conv\u001b[39;00m \u001b[38;5;28;01mimport\u001b[39;00m SplineConv\n\u001b[1;32m     26\u001b[0m \u001b[38;5;28;01mfrom\u001b[39;00m \u001b[38;5;21;01m.\u001b[39;00m\u001b[38;5;21;01mnn_conv\u001b[39;00m \u001b[38;5;28;01mimport\u001b[39;00m NNConv, ECConv\n\u001b[1;32m     27\u001b[0m \u001b[38;5;28;01mfrom\u001b[39;00m \u001b[38;5;21;01m.\u001b[39;00m\u001b[38;5;21;01mcg_conv\u001b[39;00m \u001b[38;5;28;01mimport\u001b[39;00m CGConv\n",
      "File \u001b[0;32m~/.conda/envs/cardio/lib/python3.9/site-packages/torch_geometric/nn/conv/spline_conv.py:16\u001b[0m\n\u001b[1;32m     13\u001b[0m \u001b[38;5;28;01mfrom\u001b[39;00m \u001b[38;5;21;01m.\u001b[39;00m\u001b[38;5;21;01m.\u001b[39;00m\u001b[38;5;21;01minits\u001b[39;00m \u001b[38;5;28;01mimport\u001b[39;00m uniform, zeros\n\u001b[1;32m     15\u001b[0m \u001b[38;5;28;01mtry\u001b[39;00m:\n\u001b[0;32m---> 16\u001b[0m     \u001b[38;5;28;01mfrom\u001b[39;00m \u001b[38;5;21;01mtorch_spline_conv\u001b[39;00m \u001b[38;5;28;01mimport\u001b[39;00m spline_basis, spline_weighting\n\u001b[1;32m     17\u001b[0m \u001b[38;5;28;01mexcept\u001b[39;00m \u001b[38;5;167;01mImportError\u001b[39;00m:\n\u001b[1;32m     18\u001b[0m     spline_basis \u001b[38;5;241m=\u001b[39m \u001b[38;5;28;01mNone\u001b[39;00m\n",
      "File \u001b[0;32m~/.conda/envs/cardio/lib/python3.9/site-packages/torch_spline_conv/__init__.py:15\u001b[0m\n\u001b[1;32m     13\u001b[0m spec \u001b[38;5;241m=\u001b[39m cuda_spec \u001b[38;5;129;01mor\u001b[39;00m cpu_spec\n\u001b[1;32m     14\u001b[0m \u001b[38;5;28;01mif\u001b[39;00m spec \u001b[38;5;129;01mis\u001b[39;00m \u001b[38;5;129;01mnot\u001b[39;00m \u001b[38;5;28;01mNone\u001b[39;00m:\n\u001b[0;32m---> 15\u001b[0m     \u001b[43mtorch\u001b[49m\u001b[38;5;241;43m.\u001b[39;49m\u001b[43mops\u001b[49m\u001b[38;5;241;43m.\u001b[39;49m\u001b[43mload_library\u001b[49m\u001b[43m(\u001b[49m\u001b[43mspec\u001b[49m\u001b[38;5;241;43m.\u001b[39;49m\u001b[43morigin\u001b[49m\u001b[43m)\u001b[49m\n\u001b[1;32m     16\u001b[0m \u001b[38;5;28;01melse\u001b[39;00m:  \u001b[38;5;66;03m# pragma: no cover\u001b[39;00m\n\u001b[1;32m     17\u001b[0m     \u001b[38;5;28;01mraise\u001b[39;00m \u001b[38;5;167;01mImportError\u001b[39;00m(\u001b[38;5;124mf\u001b[39m\u001b[38;5;124m\"\u001b[39m\u001b[38;5;124mCould not find module \u001b[39m\u001b[38;5;124m'\u001b[39m\u001b[38;5;132;01m{\u001b[39;00mlibrary\u001b[38;5;132;01m}\u001b[39;00m\u001b[38;5;124m_cpu\u001b[39m\u001b[38;5;124m'\u001b[39m\u001b[38;5;124m in \u001b[39m\u001b[38;5;124m\"\u001b[39m\n\u001b[1;32m     18\u001b[0m                       \u001b[38;5;124mf\u001b[39m\u001b[38;5;124m\"\u001b[39m\u001b[38;5;132;01m{\u001b[39;00mosp\u001b[38;5;241m.\u001b[39mdirname(\u001b[38;5;18m__file__\u001b[39m)\u001b[38;5;132;01m}\u001b[39;00m\u001b[38;5;124m\"\u001b[39m)\n",
      "File \u001b[0;32m~/.conda/envs/cardio/lib/python3.9/site-packages/torch/_ops.py:110\u001b[0m, in \u001b[0;36m_Ops.load_library\u001b[0;34m(self, path)\u001b[0m\n\u001b[1;32m    105\u001b[0m path \u001b[38;5;241m=\u001b[39m torch\u001b[38;5;241m.\u001b[39m_utils_internal\u001b[38;5;241m.\u001b[39mresolve_library_path(path)\n\u001b[1;32m    106\u001b[0m \u001b[38;5;28;01mwith\u001b[39;00m dl_open_guard():\n\u001b[1;32m    107\u001b[0m     \u001b[38;5;66;03m# Import the shared library into the process, thus running its\u001b[39;00m\n\u001b[1;32m    108\u001b[0m     \u001b[38;5;66;03m# static (global) initialization code in order to register custom\u001b[39;00m\n\u001b[1;32m    109\u001b[0m     \u001b[38;5;66;03m# operators with the JIT.\u001b[39;00m\n\u001b[0;32m--> 110\u001b[0m     \u001b[43mctypes\u001b[49m\u001b[38;5;241;43m.\u001b[39;49m\u001b[43mCDLL\u001b[49m\u001b[43m(\u001b[49m\u001b[43mpath\u001b[49m\u001b[43m)\u001b[49m\n\u001b[1;32m    111\u001b[0m \u001b[38;5;28mself\u001b[39m\u001b[38;5;241m.\u001b[39mloaded_libraries\u001b[38;5;241m.\u001b[39madd(path)\n",
      "File \u001b[0;32m~/.conda/envs/cardio/lib/python3.9/ctypes/__init__.py:382\u001b[0m, in \u001b[0;36mCDLL.__init__\u001b[0;34m(self, name, mode, handle, use_errno, use_last_error, winmode)\u001b[0m\n\u001b[1;32m    379\u001b[0m \u001b[38;5;28mself\u001b[39m\u001b[38;5;241m.\u001b[39m_FuncPtr \u001b[38;5;241m=\u001b[39m _FuncPtr\n\u001b[1;32m    381\u001b[0m \u001b[38;5;28;01mif\u001b[39;00m handle \u001b[38;5;129;01mis\u001b[39;00m \u001b[38;5;28;01mNone\u001b[39;00m:\n\u001b[0;32m--> 382\u001b[0m     \u001b[38;5;28mself\u001b[39m\u001b[38;5;241m.\u001b[39m_handle \u001b[38;5;241m=\u001b[39m \u001b[43m_dlopen\u001b[49m\u001b[43m(\u001b[49m\u001b[38;5;28;43mself\u001b[39;49m\u001b[38;5;241;43m.\u001b[39;49m\u001b[43m_name\u001b[49m\u001b[43m,\u001b[49m\u001b[43m \u001b[49m\u001b[43mmode\u001b[49m\u001b[43m)\u001b[49m\n\u001b[1;32m    383\u001b[0m \u001b[38;5;28;01melse\u001b[39;00m:\n\u001b[1;32m    384\u001b[0m     \u001b[38;5;28mself\u001b[39m\u001b[38;5;241m.\u001b[39m_handle \u001b[38;5;241m=\u001b[39m handle\n",
      "\u001b[0;31mOSError\u001b[0m: /lib64/libm.so.6: version `GLIBC_2.27' not found (required by /nobackup/scrb/.conda/envs/cardio/lib/python3.9/site-packages/torch_spline_conv/_basis_cuda.so)"
     ]
    }
   ],
   "source": [
    "from models.Model3D import Encoder3DMesh, Decoder3DMesh\n",
    "from models.Model4D import DECODER_C_ARGS, DECODER_S_ARGS, ENCODER_ARGS\n",
    "from models.Model4D import DecoderStyle, DecoderContent, DecoderTemporalSequence \n",
    "from models.Model4D import EncoderTemporalSequence, AutoencoderTemporalSequence\n",
    "from lightning.ComaLightningModule import CoMA_Lightning\n",
    "\n",
    "from models.lightning.EncoderLightningModule import TemporalEncoderLightning\n",
    "from models.TemporalAggregators import TemporalAggregator, FCN_Aggregator\n",
    "\n",
    "enc_config = EasyDict({k: v for k, v in coma_args.items() if k in ENCODER_ARGS})\n",
    "encoder = Encoder3DMesh(**enc_config)\n",
    "\n",
    "enc_config.latent_dim = config.network_architecture.latent_dim_c + config.network_architecture.latent_dim_s \n",
    "\n",
    "h = encoder.forward_conv_stack(x.s_t, preserve_graph_structure=False)\n",
    "\n",
    "NT = 50 # config.dataset.parameters.T\n",
    "    \n",
    "z_aggr = FCN_Aggregator(\n",
    "    features_in = NT*h.shape[-1],\n",
    "    features_out= enc_config.latent_dim\n",
    ")\n",
    "\n",
    "t_encoder = EncoderTemporalSequence(\n",
    "    encoder3d = encoder,\n",
    "    z_aggr_function=z_aggr\n",
    ")\n",
    "\n",
    "decoder_config_c = EasyDict({ k:v for k,v in coma_args.items() if k in DECODER_C_ARGS })\n",
    "decoder_config_s = EasyDict({ k:v for k,v in coma_args.items() if k in DECODER_S_ARGS })    \n",
    "decoder_content = DecoderContent(decoder_config_c)\n",
    "decoder_style = DecoderStyle(decoder_config_s, phase_embedding_method=\"exp_v1\")\n",
    "t_decoder = DecoderTemporalSequence(decoder_content, decoder_style)\n",
    "    \n",
    "t_ae = AutoencoderTemporalSequence(\n",
    "    encoder=t_encoder,\n",
    "    decoder=t_decoder\n",
    ")"
   ]
  },
  {
   "cell_type": "code",
   "execution_count": null,
   "id": "228fae46",
   "metadata": {
    "ExecuteTime": {
     "end_time": "2023-04-21T12:39:24.731823Z",
     "start_time": "2023-04-21T12:39:24.731809Z"
    }
   },
   "outputs": [],
   "source": [
    "model_weights = EasyDict({k.replace(\"model.\", \"\"): v for k, v in model_weights.items()})"
   ]
  },
  {
   "cell_type": "code",
   "execution_count": null,
   "id": "698b3242",
   "metadata": {
    "ExecuteTime": {
     "end_time": "2023-04-21T12:39:24.733178Z",
     "start_time": "2023-04-21T12:39:24.733165Z"
    }
   },
   "outputs": [],
   "source": [
    "t_ae.load_state_dict(model_weights)"
   ]
  },
  {
   "cell_type": "code",
   "execution_count": null,
   "id": "34836078",
   "metadata": {
    "ExecuteTime": {
     "end_time": "2023-04-21T12:39:24.734014Z",
     "start_time": "2023-04-21T12:39:24.734003Z"
    }
   },
   "outputs": [],
   "source": [
    "lit_module = CoMA_Lightning(\n",
    "    model=t_ae, \n",
    "    loss_params=config.loss, \n",
    "    optimizer_params=config.optimizer,\n",
    "    additional_params=config,\n",
    "    mesh_template=mesh_template\n",
    ")"
   ]
  },
  {
   "cell_type": "markdown",
   "id": "6ebdc90c",
   "metadata": {},
   "source": [
    "### Load input meshes"
   ]
  },
  {
   "cell_type": "code",
   "execution_count": null,
   "id": "a30258cd",
   "metadata": {
    "ExecuteTime": {
     "end_time": "2023-04-21T12:39:24.734934Z",
     "start_time": "2023-04-21T12:39:24.734922Z"
    }
   },
   "outputs": [],
   "source": [
    "x = next(iter(mesh_dm.val_dataloader()))"
   ]
  },
  {
   "cell_type": "code",
   "execution_count": null,
   "id": "01705e09",
   "metadata": {
    "ExecuteTime": {
     "end_time": "2023-04-21T12:39:24.735825Z",
     "start_time": "2023-04-21T12:39:24.735811Z"
    }
   },
   "outputs": [],
   "source": [
    "output = t_ae(x[\"s_t\"])"
   ]
  },
  {
   "cell_type": "markdown",
   "id": "a30c2570",
   "metadata": {},
   "source": [
    "### Generate animation"
   ]
  },
  {
   "cell_type": "code",
   "execution_count": null,
   "id": "a2030895",
   "metadata": {
    "ExecuteTime": {
     "end_time": "2023-04-21T12:39:24.736838Z",
     "start_time": "2023-04-21T12:39:24.736826Z"
    }
   },
   "outputs": [],
   "source": [
    "s_t, s_hat_t = x[\"s_t\"], output[2]"
   ]
  },
  {
   "cell_type": "code",
   "execution_count": null,
   "id": "76bc3b08",
   "metadata": {
    "ExecuteTime": {
     "end_time": "2023-04-21T12:39:24.738031Z",
     "start_time": "2023-04-21T12:39:24.738019Z"
    }
   },
   "outputs": [],
   "source": [
    "# subj_idx_w = widgets.IntSlider(min=1, max=len(cardiac_dataset))\n",
    "\n",
    "def generate_gif(mesh4D, faces, filename, camera_position='xy', show_edges=False, **kwargs):\n",
    "        \n",
    "        '''\n",
    "        Produces a gif file representing the motion of the input mesh.\n",
    "        \n",
    "        params:\n",
    "          ::mesh4D:: a sequence of Trimesh mesh objects.\n",
    "          ::faces:: array of F x 3 containing the indices of the mesh's triangular faces.\n",
    "          ::filename:: the name of the output gif file.\n",
    "          ::camera_position:: camera position for pyvista plotter (check relevant docs)\n",
    "          \n",
    "        return:\n",
    "          None, only produces the gif file.\n",
    "        '''\n",
    "\n",
    "        import pyvista as pv\n",
    "        \n",
    "        connectivity = np.c_[np.ones(faces.shape[0]) * 3, faces].astype(int)\n",
    "                \n",
    "        pv.set_plot_theme(\"document\")\n",
    "        os.makedirs(os.path.dirname(\"./\"+filename) , exist_ok=True)\n",
    "        \n",
    "        # plotter = pv.Plotter(shape=(1, len(camera_positions)), notebook=False, off_screen=True)\n",
    "        pv.start_xvfb()\n",
    "        plotter = pv.Plotter(notebook=False, off_screen=True)\n",
    "            \n",
    "        # Open a gif\n",
    "        plotter.open_gif(filename)\n",
    "\n",
    "        try:\n",
    "            # if mesh3D is torch.Tensor, this your should run OK\n",
    "            mesh4D = mesh4D.cpu().numpy()[0].astype(\"float32\")\n",
    "        except AttributeError:\n",
    "            pass\n",
    "\n",
    "        kk = pv.PolyData(mesh4D[0], connectivity)\n",
    "        # plotter.add_mesh(kk, smooth_shading=True, opacity=0.5 )#, show_edges=True)\n",
    "        plotter.add_mesh(kk, show_edges=show_edges, opacity=0.5, color=\"red\") \n",
    "        \n",
    "        for t, _ in tqdm(enumerate(mesh4D)):\n",
    "            # print(t)\n",
    "            kk = pv.PolyData(mesh4D[t], connectivity)\n",
    "            plotter.camera_position = camera_position\n",
    "            plotter.update_coordinates(kk.points, render=False)\n",
    "            plotter.render()             \n",
    "            plotter.write_frame()\n",
    "        \n",
    "        plotter.close()\n",
    "        \n",
    "        return filename"
   ]
  },
  {
   "cell_type": "code",
   "execution_count": null,
   "id": "5e6c11d8",
   "metadata": {
    "ExecuteTime": {
     "end_time": "2023-04-21T12:39:24.739091Z",
     "start_time": "2023-04-21T12:39:24.739080Z"
    }
   },
   "outputs": [],
   "source": [
    "from tqdm.notebook import trange, tqdm"
   ]
  },
  {
   "cell_type": "code",
   "execution_count": null,
   "id": "b1abfdfe",
   "metadata": {
    "ExecuteTime": {
     "end_time": "2023-04-21T12:39:24.739912Z",
     "start_time": "2023-04-21T12:39:24.739901Z"
    }
   },
   "outputs": [],
   "source": [
    "import numpy as np\n",
    "from PIL import Image\n",
    "import imageio\n",
    "\n",
    "def merge_gifs_horizontally(gif_file1, gif_file2, output_file):\n",
    "    # Create reader object for the gif\n",
    "    gif1 = imageio.get_reader(gif_file1)\n",
    "    gif2 = imageio.get_reader(gif_file2)\n",
    "\n",
    "    # Create writer object\n",
    "    new_gif = imageio.get_writer(output_file)\n",
    "\n",
    "    for frame_number in range(gif1.get_length()):\n",
    "        img1 = gif1.get_next_data()\n",
    "        img2 = gif2.get_next_data()\n",
    "        # here is the magic\n",
    "        new_image = np.hstack((img1, img2))\n",
    "        new_gif.append_data(new_image)\n",
    "\n",
    "    gif1.close()\n",
    "    gif2.close()\n",
    "    new_gif.close()"
   ]
  },
  {
   "cell_type": "markdown",
   "id": "37fba0cd",
   "metadata": {},
   "source": [
    "### Generate gif's"
   ]
  },
  {
   "cell_type": "code",
   "execution_count": null,
   "id": "59feda10",
   "metadata": {
    "ExecuteTime": {
     "end_time": "2023-04-21T12:39:24.740791Z",
     "start_time": "2023-04-21T12:39:24.740781Z"
    }
   },
   "outputs": [],
   "source": [
    "subj_ids = list(range(64))"
   ]
  },
  {
   "cell_type": "code",
   "execution_count": null,
   "id": "30509d69",
   "metadata": {
    "ExecuteTime": {
     "end_time": "2023-04-21T12:39:24.741664Z",
     "start_time": "2023-04-21T12:39:24.741654Z"
    }
   },
   "outputs": [],
   "source": [
    "for subj_id in subj_ids:\n",
    "        \n",
    "    mesh4D = s_hat_t.detach().cpu().numpy().astype(\"float32\")[subj_id]    \n",
    "    for camera in [\"xz\", \"xy\", \"yz\"]:    \n",
    "        gifpath = generate_gif(\n",
    "            mesh4D,\n",
    "            faces, \n",
    "            camera_position=camera,\n",
    "            filename=f\"id{subj_id}_reconstruction_{camera}.gif\"\n",
    "        )\n",
    "        \n",
    "       #b64 = base64.b64encode(\n",
    "       #  open(gifpath,'rb').read()\n",
    "       #).decode('ascii')\n",
    "        \n",
    "                \n",
    "    mesh4D = s_t.detach().cpu().numpy().astype(\"float32\")[subj_id]        \n",
    "    for camera in [\"xz\", \"xy\", \"yz\"]:    \n",
    "        gifpath = generate_gif(\n",
    "            mesh4D,\n",
    "            faces, \n",
    "            camera_position=camera,\n",
    "            filename=f\"id{subj_id}_original_{camera}.gif\", \n",
    "        )\n",
    "    \n",
    "        #b64 = base64.b64encode(\n",
    "        #    open(gifpath,'rb').read()\n",
    "        #).decode('ascii')\n",
    "    \n",
    "    for camera in [\"xz\", \"xy\", \"yz\"]: \n",
    "        \n",
    "        merge_gifs_horizontally(\n",
    "            f\"id{subj_id}_original_{camera}.gif\", \n",
    "            f\"id{subj_id}_reconstruction_{camera}.gif\", \n",
    "            f\"id{subj_id}_{camera}.gif\"\n",
    "        )\n",
    "        \n",
    "        os.remove(f\"id{subj_id}_original_{camera}.gif\")\n",
    "        os.remove(f\"id{subj_id}_reconstruction_{camera}.gif\")"
   ]
  },
  {
   "cell_type": "code",
   "execution_count": null,
   "id": "e8730602",
   "metadata": {
    "ExecuteTime": {
     "end_time": "2023-04-21T12:39:24.742630Z",
     "start_time": "2023-04-21T12:39:24.742619Z"
    }
   },
   "outputs": [],
   "source": [
    "@interact\n",
    "def show_gif(subj_id=widgets.IntSlider(min=0,max=63)):\n",
    "    \n",
    "    from IPython.display import HTML\n",
    "    import base64\n",
    "   \n",
    "    \n",
    "    \n",
    "    display(HTML(f'<img src=\"data:image/gif;base64,{b64}\" />'))"
   ]
  },
  {
   "cell_type": "code",
   "execution_count": null,
   "id": "df6e4ce7",
   "metadata": {
    "ExecuteTime": {
     "end_time": "2023-04-21T12:39:24.743467Z",
     "start_time": "2023-04-21T12:39:24.743457Z"
    },
    "hide_input": true
   },
   "outputs": [],
   "source": [
    "subj_id = \"15\"\n"
   ]
  }
 ],
 "metadata": {
  "hide_input": false,
  "kernelspec": {
   "display_name": "Python 3 (ipykernel)",
   "language": "python",
   "name": "python3"
  },
  "language_info": {
   "codemirror_mode": {
    "name": "ipython",
    "version": 3
   },
   "file_extension": ".py",
   "mimetype": "text/x-python",
   "name": "python",
   "nbconvert_exporter": "python",
   "pygments_lexer": "ipython3",
   "version": "3.9.12"
  },
  "toc": {
   "base_numbering": 1,
   "nav_menu": {},
   "number_sections": true,
   "sideBar": true,
   "skip_h1_title": false,
   "title_cell": "Table of Contents",
   "title_sidebar": "Contents",
   "toc_cell": false,
   "toc_position": {},
   "toc_section_display": true,
   "toc_window_display": false
  },
  "varInspector": {
   "cols": {
    "lenName": 16,
    "lenType": 16,
    "lenVar": 40
   },
   "kernels_config": {
    "python": {
     "delete_cmd_postfix": "",
     "delete_cmd_prefix": "del ",
     "library": "var_list.py",
     "varRefreshCmd": "print(var_dic_list())"
    },
    "r": {
     "delete_cmd_postfix": ") ",
     "delete_cmd_prefix": "rm(",
     "library": "var_list.r",
     "varRefreshCmd": "cat(var_dic_list()) "
    }
   },
   "types_to_exclude": [
    "module",
    "function",
    "builtin_function_or_method",
    "instance",
    "_Feature"
   ],
   "window_display": false
  }
 },
 "nbformat": 4,
 "nbformat_minor": 5
}
