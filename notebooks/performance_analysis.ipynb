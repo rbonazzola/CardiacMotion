{
 "cells": [
  {
   "cell_type": "code",
   "execution_count": 1,
   "id": "e6c1de28",
   "metadata": {
    "ExecuteTime": {
     "end_time": "2023-04-21T10:45:58.082300Z",
     "start_time": "2023-04-21T10:45:46.980168Z"
    }
   },
   "outputs": [],
   "source": [
    "import pandas"
   ]
  },
  {
   "cell_type": "code",
   "execution_count": 2,
   "id": "9eb6f208",
   "metadata": {
    "ExecuteTime": {
     "end_time": "2023-04-21T10:46:17.349973Z",
     "start_time": "2023-04-21T10:46:00.001683Z"
    }
   },
   "outputs": [],
   "source": [
    "import mlflow\n",
    "import ipywidgets as widgets\n",
    "from ipywidgets import interact\n",
    "import os\n",
    "import glob\n",
    "import torch\n",
    "from pprint import pprint\n",
    "from easydict import EasyDict\n",
    "\n",
    "import numpy as np\n",
    "import torch\n",
    "import yaml"
   ]
  },
  {
   "cell_type": "code",
   "execution_count": 4,
   "id": "f16b211d",
   "metadata": {
    "ExecuteTime": {
     "end_time": "2023-04-21T10:46:36.747929Z",
     "start_time": "2023-04-21T10:46:36.679904Z"
    }
   },
   "outputs": [],
   "source": [
    "MLFLOW_TRACKING_URI = \"/home/home01/scrb/01_repos/CardiacMotion/mlruns/\"\n",
    "EXPERIMENT_NAME = \"Synthetic data\"\n",
    "EXPERIMENT_NAME = \"test\"\n",
    "\n",
    "mlflow.set_tracking_uri(MLFLOW_TRACKING_URI)"
   ]
  },
  {
   "cell_type": "code",
   "execution_count": 5,
   "id": "da0e5e26-e9c1-4473-9cb1-c914fbf21478",
   "metadata": {
    "ExecuteTime": {
     "end_time": "2023-04-21T10:46:39.409904Z",
     "start_time": "2023-04-21T10:46:37.974746Z"
    }
   },
   "outputs": [],
   "source": [
    "MLFLOW_URI = mlflow.tracking.get_tracking_uri()\n",
    "EXPERIMENT_ID = mlflow.get_experiment_by_name(EXPERIMENT_NAME).experiment_id\n",
    "\n",
    "PREFIX = f\"{MLFLOW_URI}/{EXPERIMENT_ID}\""
   ]
  },
  {
   "cell_type": "code",
   "execution_count": 6,
   "id": "430afed9-a53b-4ea4-b929-3af14304ca97",
   "metadata": {
    "ExecuteTime": {
     "end_time": "2023-04-21T10:46:46.462427Z",
     "start_time": "2023-04-21T10:46:43.611476Z"
    }
   },
   "outputs": [],
   "source": [
    "meta_yamls = [f\"{PREFIX}/{run}/meta.yaml\" for run in os.listdir(PREFIX) if os.path.exists(f\"{PREFIX}/{run}/meta.yaml\")]\n",
    "\n",
    "count = 0\n",
    "for meta_yaml_path in meta_yamls:\n",
    "    meta_yaml = yaml.safe_load(open(meta_yaml_path))    \n",
    "    if meta_yaml['experiment_id'] != EXPERIMENT_ID:\n",
    "        meta_yaml['experiment_id'] = EXPERIMENT_ID\n",
    "        count += 1\n",
    "        yaml.dump(meta_yaml, open(meta_yaml_path, \"wt\"))\n",
    "        \n",
    "if count != 0:\n",
    "    print(f\"{count} runs's experiments were fixed to match the experiment of the parent folder\")"
   ]
  },
  {
   "cell_type": "code",
   "execution_count": 7,
   "id": "ad4d12e4",
   "metadata": {
    "ExecuteTime": {
     "end_time": "2023-04-21T10:48:19.871928Z",
     "start_time": "2023-04-21T10:46:48.111228Z"
    }
   },
   "outputs": [
    {
     "data": {
      "text/html": [
       "<div>\n",
       "<style scoped>\n",
       "    .dataframe tbody tr th:only-of-type {\n",
       "        vertical-align: middle;\n",
       "    }\n",
       "\n",
       "    .dataframe tbody tr th {\n",
       "        vertical-align: top;\n",
       "    }\n",
       "\n",
       "    .dataframe thead th {\n",
       "        text-align: right;\n",
       "    }\n",
       "</style>\n",
       "<table border=\"1\" class=\"dataframe\">\n",
       "  <thead>\n",
       "    <tr style=\"text-align: right;\">\n",
       "      <th></th>\n",
       "      <th>run_id</th>\n",
       "      <th>experiment_id</th>\n",
       "      <th>status</th>\n",
       "      <th>artifact_uri</th>\n",
       "      <th>start_time</th>\n",
       "      <th>end_time</th>\n",
       "      <th>metrics.val_loss</th>\n",
       "      <th>metrics.test_recon_loss</th>\n",
       "      <th>metrics.test_loss</th>\n",
       "      <th>metrics.val_recon_loss</th>\n",
       "      <th>...</th>\n",
       "      <th>params.w_kl</th>\n",
       "      <th>params.latent_dim_s</th>\n",
       "      <th>params.eps</th>\n",
       "      <th>params.patience</th>\n",
       "      <th>tags.Mode</th>\n",
       "      <th>tags.mlflow.source.name</th>\n",
       "      <th>tags.mlflow.log-model.history</th>\n",
       "      <th>tags.mlflow.source.type</th>\n",
       "      <th>tags.mlflow.user</th>\n",
       "      <th>tags.mlflow.source.git.commit</th>\n",
       "    </tr>\n",
       "  </thead>\n",
       "  <tbody>\n",
       "    <tr>\n",
       "      <th>1</th>\n",
       "      <td>6a4d73fb59f24d97b37764afdedd4185</td>\n",
       "      <td>2</td>\n",
       "      <td>FINISHED</td>\n",
       "      <td>/root/Rodrigo_repos/CardiacMotion/mlruns/2/6a4...</td>\n",
       "      <td>2023-03-31 11:49:30.571000+00:00</td>\n",
       "      <td>2023-04-01 06:02:43.379000+00:00</td>\n",
       "      <td>2.190634</td>\n",
       "      <td>1.859366</td>\n",
       "      <td>1.859366</td>\n",
       "      <td>2.190634</td>\n",
       "      <td>...</td>\n",
       "      <td>1</td>\n",
       "      <td>16</td>\n",
       "      <td>1e-08</td>\n",
       "      <td>20</td>\n",
       "      <td>testing</td>\n",
       "      <td>main_autoencoder_cardiac.py</td>\n",
       "      <td>[{\"run_id\": \"6a4d73fb59f24d97b37764afdedd4185\"...</td>\n",
       "      <td>LOCAL</td>\n",
       "      <td>root</td>\n",
       "      <td>7503005beeed87c75dfdd7289540bfd8074f1221</td>\n",
       "    </tr>\n",
       "    <tr>\n",
       "      <th>21</th>\n",
       "      <td>063d59b768a846be94c27e2fcb0f8cfe</td>\n",
       "      <td>2</td>\n",
       "      <td>FINISHED</td>\n",
       "      <td>/root/Rodrigo_repos/CardiacMotion/mlruns/2/063...</td>\n",
       "      <td>2023-03-23 10:00:30.673000+00:00</td>\n",
       "      <td>2023-03-24 02:34:12.351000+00:00</td>\n",
       "      <td>0.005370</td>\n",
       "      <td>0.004538</td>\n",
       "      <td>0.004538</td>\n",
       "      <td>0.005370</td>\n",
       "      <td>...</td>\n",
       "      <td>1</td>\n",
       "      <td>36</td>\n",
       "      <td>1e-08</td>\n",
       "      <td>20</td>\n",
       "      <td>testing</td>\n",
       "      <td>main_autoencoder.py</td>\n",
       "      <td>[{\"run_id\": \"063d59b768a846be94c27e2fcb0f8cfe\"...</td>\n",
       "      <td>LOCAL</td>\n",
       "      <td>root</td>\n",
       "      <td>7503005beeed87c75dfdd7289540bfd8074f1221</td>\n",
       "    </tr>\n",
       "  </tbody>\n",
       "</table>\n",
       "<p>2 rows × 85 columns</p>\n",
       "</div>"
      ],
      "text/plain": [
       "                              run_id experiment_id    status  \\\n",
       "1   6a4d73fb59f24d97b37764afdedd4185             2  FINISHED   \n",
       "21  063d59b768a846be94c27e2fcb0f8cfe             2  FINISHED   \n",
       "\n",
       "                                         artifact_uri  \\\n",
       "1   /root/Rodrigo_repos/CardiacMotion/mlruns/2/6a4...   \n",
       "21  /root/Rodrigo_repos/CardiacMotion/mlruns/2/063...   \n",
       "\n",
       "                         start_time                         end_time  \\\n",
       "1  2023-03-31 11:49:30.571000+00:00 2023-04-01 06:02:43.379000+00:00   \n",
       "21 2023-03-23 10:00:30.673000+00:00 2023-03-24 02:34:12.351000+00:00   \n",
       "\n",
       "    metrics.val_loss  metrics.test_recon_loss  metrics.test_loss  \\\n",
       "1           2.190634                 1.859366           1.859366   \n",
       "21          0.005370                 0.004538           0.004538   \n",
       "\n",
       "    metrics.val_recon_loss  ...  params.w_kl  params.latent_dim_s  params.eps  \\\n",
       "1                 2.190634  ...            1                   16       1e-08   \n",
       "21                0.005370  ...            1                   36       1e-08   \n",
       "\n",
       "    params.patience  tags.Mode      tags.mlflow.source.name  \\\n",
       "1                20    testing  main_autoencoder_cardiac.py   \n",
       "21               20    testing          main_autoencoder.py   \n",
       "\n",
       "                        tags.mlflow.log-model.history  \\\n",
       "1   [{\"run_id\": \"6a4d73fb59f24d97b37764afdedd4185\"...   \n",
       "21  [{\"run_id\": \"063d59b768a846be94c27e2fcb0f8cfe\"...   \n",
       "\n",
       "    tags.mlflow.source.type  tags.mlflow.user  \\\n",
       "1                     LOCAL              root   \n",
       "21                    LOCAL              root   \n",
       "\n",
       "               tags.mlflow.source.git.commit  \n",
       "1   7503005beeed87c75dfdd7289540bfd8074f1221  \n",
       "21  7503005beeed87c75dfdd7289540bfd8074f1221  \n",
       "\n",
       "[2 rows x 85 columns]"
      ]
     },
     "execution_count": 7,
     "metadata": {},
     "output_type": "execute_result"
    }
   ],
   "source": [
    "df = mlflow.search_runs(experiment_ids=[EXPERIMENT_ID])\n",
    "df = df[df[\"metrics.test_rec_ratio_to_time_mean\"] < 0.9]\n",
    "df"
   ]
  },
  {
   "cell_type": "markdown",
   "id": "2853378a",
   "metadata": {},
   "source": [
    "___"
   ]
  },
  {
   "cell_type": "code",
   "execution_count": null,
   "id": "7d1c00e5",
   "metadata": {},
   "outputs": [],
   "source": [
    "### Select runs with $T=1$\n",
    "\n",
    "# row_index = (df[\"params.dataset_n_timeframes\"] == \"1\")\n",
    "# \n",
    "# # Select runs with performance better than random\n",
    "# row_index &= (df[\"metrics.test_rec_ratio_to_pop_mean\"] < 1)"
   ]
  },
  {
   "cell_type": "code",
   "execution_count": 8,
   "id": "2b8012b0",
   "metadata": {
    "ExecuteTime": {
     "end_time": "2023-04-21T10:48:43.981737Z",
     "start_time": "2023-04-21T10:48:43.822671Z"
    }
   },
   "outputs": [],
   "source": [
    "# columns\n",
    "normalized_metrics = df.columns[df.columns.str.startswith(\"metrics.test_\") & df.columns.str.contains(\"ratio\")]\n",
    "\n",
    "dataset_params = df.columns[df.columns.str.startswith(\"params.dataset_\")].to_list()\n",
    "\n",
    "params = df.columns[df.columns.str.startswith(\"params.\")].to_list()\n",
    "\n",
    "arch_params = [\n",
    "    'params.n_channels_enc', \n",
    "    'params.n_channels_dec_c', \n",
    "    'params.n_channels_dec_s', \n",
    "    'params.latent_dim_c', \n",
    "    'params.latent_dim_s',\n",
    "    'params.z_aggr_function',\n",
    "    'params.reduction_factors',\n",
    "]\n",
    "\n",
    "# To not display columns that have the same value for all rows\n",
    "# https://stackoverflow.com/questions/57365283/how-to-show-columns-that-have-different-values-in-rows\n",
    "def diff_cols(df):\n",
    "    my_cols = []\n",
    "    for col in df.columns:\n",
    "        if df[col].nunique(dropna=False) > 1:\n",
    "            my_cols.append(col)\n",
    "    return df[my_cols].copy()"
   ]
  },
  {
   "cell_type": "code",
   "execution_count": 9,
   "id": "c2b6c331",
   "metadata": {
    "ExecuteTime": {
     "end_time": "2023-04-21T10:48:45.309408Z",
     "start_time": "2023-04-21T10:48:45.153231Z"
    }
   },
   "outputs": [
    {
     "data": {
      "text/html": [
       "<div>\n",
       "<style scoped>\n",
       "    .dataframe tbody tr th:only-of-type {\n",
       "        vertical-align: middle;\n",
       "    }\n",
       "\n",
       "    .dataframe tbody tr th {\n",
       "        vertical-align: top;\n",
       "    }\n",
       "\n",
       "    .dataframe thead th {\n",
       "        text-align: right;\n",
       "    }\n",
       "</style>\n",
       "<table border=\"1\" class=\"dataframe\">\n",
       "  <thead>\n",
       "    <tr style=\"text-align: right;\">\n",
       "      <th></th>\n",
       "      <th>run_id</th>\n",
       "      <th>params.latent_dim_c</th>\n",
       "      <th>params.platform</th>\n",
       "      <th>params.reduction_factors</th>\n",
       "      <th>params.dataset_n_timeframes</th>\n",
       "      <th>params.w_s</th>\n",
       "      <th>params.lr</th>\n",
       "      <th>params.latent_dim_s</th>\n",
       "      <th>metrics.test_rec_ratio_to_pop_mean_c</th>\n",
       "      <th>metrics.test_rec_ratio_to_pop_mean</th>\n",
       "      <th>metrics.test_rec_ratio_to_time_mean</th>\n",
       "    </tr>\n",
       "  </thead>\n",
       "  <tbody>\n",
       "    <tr>\n",
       "      <th>0</th>\n",
       "      <td>6a4d73fb59f24d97b37764afdedd4185</td>\n",
       "      <td>8</td>\n",
       "      <td>b3910956944c</td>\n",
       "      <td>[3, 3, 3, 3]</td>\n",
       "      <td>50</td>\n",
       "      <td>0.1</td>\n",
       "      <td>0.0001</td>\n",
       "      <td>16</td>\n",
       "      <td>0.002284</td>\n",
       "      <td>0.113931</td>\n",
       "      <td>0.854538</td>\n",
       "    </tr>\n",
       "    <tr>\n",
       "      <th>1</th>\n",
       "      <td>063d59b768a846be94c27e2fcb0f8cfe</td>\n",
       "      <td>9</td>\n",
       "      <td>332c5cd2476e</td>\n",
       "      <td>[2, 2, 2, 2]</td>\n",
       "      <td>20</td>\n",
       "      <td>1.0</td>\n",
       "      <td>3e-05</td>\n",
       "      <td>36</td>\n",
       "      <td>0.007206</td>\n",
       "      <td>0.106766</td>\n",
       "      <td>0.629545</td>\n",
       "    </tr>\n",
       "  </tbody>\n",
       "</table>\n",
       "</div>"
      ],
      "text/plain": [
       "                             run_id params.latent_dim_c params.platform  \\\n",
       "0  6a4d73fb59f24d97b37764afdedd4185                   8    b3910956944c   \n",
       "1  063d59b768a846be94c27e2fcb0f8cfe                   9    332c5cd2476e   \n",
       "\n",
       "  params.reduction_factors params.dataset_n_timeframes params.w_s params.lr  \\\n",
       "0             [3, 3, 3, 3]                          50        0.1    0.0001   \n",
       "1             [2, 2, 2, 2]                          20        1.0     3e-05   \n",
       "\n",
       "  params.latent_dim_s  metrics.test_rec_ratio_to_pop_mean_c  \\\n",
       "0                  16                              0.002284   \n",
       "1                  36                              0.007206   \n",
       "\n",
       "   metrics.test_rec_ratio_to_pop_mean  metrics.test_rec_ratio_to_time_mean  \n",
       "0                            0.113931                             0.854538  \n",
       "1                            0.106766                             0.629545  "
      ]
     },
     "execution_count": 9,
     "metadata": {},
     "output_type": "execute_result"
    }
   ],
   "source": [
    "columns = [\"run_id\"] + params + normalized_metrics.tolist()\n",
    "\n",
    "diff_cols(\n",
    "    df[columns].reset_index(drop=True)\n",
    ")"
   ]
  },
  {
   "cell_type": "code",
   "execution_count": 10,
   "id": "f173e5a8",
   "metadata": {
    "ExecuteTime": {
     "end_time": "2023-04-21T10:48:50.294412Z",
     "start_time": "2023-04-21T10:48:50.276494Z"
    }
   },
   "outputs": [],
   "source": [
    "good_runs = df.run_id.values\n",
    "run_w = widgets.Select(options=good_runs)"
   ]
  },
  {
   "cell_type": "code",
   "execution_count": null,
   "id": "404660f0",
   "metadata": {},
   "outputs": [],
   "source": [
    "# @interact\n",
    "# def get_ckptpath(run=run_w):\n",
    "#     \n",
    "#     # chkpt_dir = f\"{MLFLOW_TRACKING_URI}/{EXPERIMENT_ID}/{RUNID}/\"\n",
    "#     \n",
    "#     REPO_DIR = \"/root/Rodrigo_repos/CardiacMotion\"\n",
    "#     global ckpt_path, model_weights    \n",
    "#     ckpt_path = glob.glob(f\"{REPO_DIR}/1/{run}/checkpoints/*ckpt\")    \n",
    "#     if len(ckpt_path) == 1:\n",
    "#       ckpt_path = ckpt_path[0]\n",
    "#     elif len(ckpt_path) == 0:\n",
    "#       ckpt_path = None\n",
    "#     \n",
    "#     model_weights = torch.load(ckpt_path)[\"state_dict\"]\n",
    "#     model_weights = EasyDict(model_weights)\n",
    "#     \n",
    "#     print(mlflow.get_run(run).data.metrics[\"test_rec_ratio_to_pop_mean\"])\n",
    "#     return ckpt_path"
   ]
  },
  {
   "cell_type": "code",
   "execution_count": 11,
   "id": "ec44be2a",
   "metadata": {
    "ExecuteTime": {
     "end_time": "2023-04-21T10:48:57.105230Z",
     "start_time": "2023-04-21T10:48:56.315113Z"
    }
   },
   "outputs": [
    {
     "ename": "NameError",
     "evalue": "name 'model_weights' is not defined",
     "output_type": "error",
     "traceback": [
      "\u001b[0;31m---------------------------------------------------------------------------\u001b[0m",
      "\u001b[0;31mNameError\u001b[0m                                 Traceback (most recent call last)",
      "Cell \u001b[0;32mIn [11], line 3\u001b[0m\n\u001b[1;32m      1\u001b[0m n_params \u001b[38;5;241m=\u001b[39m \u001b[38;5;241m0\u001b[39m\n\u001b[0;32m----> 3\u001b[0m \u001b[38;5;28;01mfor\u001b[39;00m module_name, weights \u001b[38;5;129;01min\u001b[39;00m \u001b[43mmodel_weights\u001b[49m\u001b[38;5;241m.\u001b[39mitems():\n\u001b[1;32m      4\u001b[0m     module_name \u001b[38;5;241m=\u001b[39m module_name\u001b[38;5;241m.\u001b[39mreplace(\u001b[38;5;124m\"\u001b[39m\u001b[38;5;124mmodel.\u001b[39m\u001b[38;5;124m\"\u001b[39m, \u001b[38;5;124m\"\u001b[39m\u001b[38;5;124m\"\u001b[39m)\n\u001b[1;32m      5\u001b[0m     n_params \u001b[38;5;241m+\u001b[39m\u001b[38;5;241m=\u001b[39m np\u001b[38;5;241m.\u001b[39mprod(weights\u001b[38;5;241m.\u001b[39mshape)\n",
      "\u001b[0;31mNameError\u001b[0m: name 'model_weights' is not defined"
     ]
    }
   ],
   "source": [
    "n_params = 0\n",
    "\n",
    "for module_name, weights in model_weights.items():\n",
    "    module_name = module_name.replace(\"model.\", \"\")\n",
    "    n_params += np.prod(weights.shape)\n",
    "    # print(f'{module_name}: {weights.shape}')\n",
    "    \n",
    "n_params"
   ]
  },
  {
   "cell_type": "markdown",
   "id": "90769260",
   "metadata": {},
   "source": [
    "### Get run IDs based on metrics "
   ]
  },
  {
   "cell_type": "code",
   "execution_count": 14,
   "id": "7a646bee",
   "metadata": {
    "ExecuteTime": {
     "end_time": "2023-04-21T10:49:30.938964Z",
     "start_time": "2023-04-21T10:49:30.930081Z"
    }
   },
   "outputs": [
    {
     "data": {
      "application/vnd.jupyter.widget-view+json": {
       "model_id": "051848b9e75a4ec3ad2e704c35906433",
       "version_major": 2,
       "version_minor": 0
      },
      "text/plain": [
       "Select(options=('6a4d73fb59f24d97b37764afdedd4185', '063d59b768a846be94c27e2fcb0f8cfe'), value='6a4d73fb59f24d…"
      ]
     },
     "metadata": {},
     "output_type": "display_data"
    }
   ],
   "source": [
    "# run_w = widgets.Select(options=[\"6a4d73fb59f24d97b37764afdedd4185\"])\n",
    "run_w"
   ]
  },
  {
   "cell_type": "markdown",
   "id": "4ff2dff5",
   "metadata": {},
   "source": [
    "### Load weights"
   ]
  },
  {
   "cell_type": "code",
   "execution_count": 15,
   "id": "0b8fbd73-b0f0-4eb6-8b36-32b7ed4e8f35",
   "metadata": {
    "ExecuteTime": {
     "end_time": "2023-04-21T10:50:03.726879Z",
     "start_time": "2023-04-21T10:50:03.694321Z"
    }
   },
   "outputs": [
    {
     "ename": "FileNotFoundError",
     "evalue": "[Errno 2] No such file or directory: '/home/home01/scrb/01_repos/CardiacMotion/mlruns/2/6a4d73fb59f24d97b37764afdedd4185/checkpoints'",
     "output_type": "error",
     "traceback": [
      "\u001b[0;31m---------------------------------------------------------------------------\u001b[0m",
      "\u001b[0;31mFileNotFoundError\u001b[0m                         Traceback (most recent call last)",
      "Cell \u001b[0;32mIn [15], line 2\u001b[0m\n\u001b[1;32m      1\u001b[0m ckpt_dir \u001b[38;5;241m=\u001b[39m \u001b[38;5;124mf\u001b[39m\u001b[38;5;124m\"\u001b[39m\u001b[38;5;124m/home/home01/scrb/01_repos/CardiacMotion/mlruns/2/\u001b[39m\u001b[38;5;132;01m{\u001b[39;00mrun_w\u001b[38;5;241m.\u001b[39mvalue\u001b[38;5;132;01m}\u001b[39;00m\u001b[38;5;124m/checkpoints\u001b[39m\u001b[38;5;124m\"\u001b[39m\n\u001b[0;32m----> 2\u001b[0m ckpt_path \u001b[38;5;241m=\u001b[39m \u001b[38;5;124mf\u001b[39m\u001b[38;5;124m\"\u001b[39m\u001b[38;5;132;01m{\u001b[39;00mckpt_dir\u001b[38;5;132;01m}\u001b[39;00m\u001b[38;5;124m/\u001b[39m\u001b[38;5;132;01m{\u001b[39;00mos\u001b[38;5;241m.\u001b[39mlistdir(ckpt_dir)[\u001b[38;5;241m0\u001b[39m]\u001b[38;5;132;01m}\u001b[39;00m\u001b[38;5;124m\"\u001b[39m\n",
      "\u001b[0;31mFileNotFoundError\u001b[0m: [Errno 2] No such file or directory: '/home/home01/scrb/01_repos/CardiacMotion/mlruns/2/6a4d73fb59f24d97b37764afdedd4185/checkpoints'"
     ]
    }
   ],
   "source": [
    "ckpt_dir = f\"/home/home01/scrb/01_repos/CardiacMotion/mlruns/1//{run_w.value}/checkpoints\"\n",
    "ckpt_path = f\"{ckpt_dir}/{os.listdir(ckpt_dir)[0]}\""
   ]
  },
  {
   "cell_type": "code",
   "execution_count": null,
   "id": "bcb3a8bb",
   "metadata": {},
   "outputs": [],
   "source": [
    "# ckpt_path = f\"/root/Rodrigo_repos/CardiacMotion/2/{run_w.value}/checkpoints/epoch=334-step=38524.ckpt\"\n",
    "model_weights = torch.load(ckpt_path)[\"state_dict\"]\n",
    "print(f\"Loaded weights from checkpoint:\\n {ckpt_path}\")\n",
    "model_weights = EasyDict(model_weights)"
   ]
  },
  {
   "cell_type": "markdown",
   "id": "c5ad4a19",
   "metadata": {},
   "source": [
    "### Initialize weights"
   ]
  },
  {
   "cell_type": "code",
   "execution_count": null,
   "id": "e54626cd",
   "metadata": {},
   "outputs": [],
   "source": [
    "import sys\n",
    "import pickle as pkl\n",
    "import os\n",
    "\n",
    "os.environ[\"HOME\"] = \"/root\"\n",
    "os.environ['CARDIAC_MOTION_REPO'] = os.environ[\"HOME\"] + \"/Rodrigo_repos/CardiacMotion\"\n",
    "os.chdir(os.environ['CARDIAC_MOTION_REPO'])\n",
    "\n",
    "sys.path.append(os.environ['CARDIAC_MOTION_REPO'])\n",
    "\n",
    "from main_autoencoder_cardiac import *\n",
    "from config.load_config import load_yaml_config"
   ]
  },
  {
   "cell_type": "markdown",
   "id": "637208d0-e68c-451c-8946-49fd0e41ceb0",
   "metadata": {},
   "source": [
    "#### Synthetic dataset"
   ]
  },
  {
   "cell_type": "code",
   "execution_count": null,
   "id": "ce195adc-a154-4da4-bd17-749f44966e62",
   "metadata": {},
   "outputs": [],
   "source": [
    "from utils.helpers import get_coma_args"
   ]
  },
  {
   "cell_type": "code",
   "execution_count": null,
   "id": "0ac25ec6-0a8b-4215-836e-69fb73cf098f",
   "metadata": {},
   "outputs": [],
   "source": [
    "config = load_yaml_config(\"config_files/config_folded_c_and_s.yaml\")"
   ]
  },
  {
   "cell_type": "code",
   "execution_count": null,
   "id": "ef6b2aba-cd46-44b5-b38f-378f529ea2aa",
   "metadata": {},
   "outputs": [],
   "source": [
    "from data.SyntheticDataModules import SyntheticMeshesDataset"
   ]
  },
  {
   "cell_type": "code",
   "execution_count": null,
   "id": "01ae7ba0-8f6a-4f16-8d25-8805b30c90d4",
   "metadata": {},
   "outputs": [],
   "source": [
    "from config.load_config import load_yaml_config\n",
    "config = load_yaml_config(\"config_files/config_folded_c_and_s.yaml\")\n",
    "config.dataset.parameters.N = 1280\n",
    "config.dataset.parameters.T = 20\n",
    "config.dataset.random_seed = 135\n",
    "\n",
    "mesh_ds = SyntheticMeshesDataset(config.dataset.parameters, config.dataset.preprocessing)\n",
    "mesh_dl = DataLoader(mesh_ds, batch_size=16)"
   ]
  },
  {
   "cell_type": "code",
   "execution_count": null,
   "id": "2253420d-0e83-40a5-8d02-17f9c4d30f05",
   "metadata": {},
   "outputs": [],
   "source": [
    "config.network_architecture.latent_dim_c = 9\n",
    "config.network_architecture.latent_dim_s = 36\n",
    "\n",
    "POLYNOMIAL_DEGREE = 10\n",
    "DOWNSAMPLING = 2\n",
    "config.network_architecture.convolution.parameters.polynomial_degree = [POLYNOMIAL_DEGREE] * 4\n",
    "config.network_architecture.pooling.parameters.downsampling_factors = [DOWNSAMPLING] * 4\n",
    "\n",
    "coma_args = get_coma_args(config, mesh_dl.dataset)\n",
    "x = EasyDict(next(iter(mesh_dl)))\n",
    "mesh_template = mesh_ds.mesh_popu.template # mesh_dm.dataset.template_mesh\n",
    "\n",
    "from models.Model3D import Encoder3DMesh, Decoder3DMesh\n",
    "from models.Model4D import DECODER_C_ARGS, DECODER_S_ARGS, ENCODER_ARGS\n",
    "from models.Model4D import DecoderStyle, DecoderContent, DecoderTemporalSequence \n",
    "from models.Model4D import EncoderTemporalSequence, AutoencoderTemporalSequence\n",
    "from lightning.ComaLightningModule import CoMA_Lightning\n",
    "\n",
    "from models.lightning.EncoderLightningModule import TemporalEncoderLightning\n",
    "from models.TemporalAggregators import TemporalAggregator, FCN_Aggregator\n",
    "\n",
    "enc_config = EasyDict({k: v for k, v in coma_args.items() if k in ENCODER_ARGS})\n",
    "encoder = Encoder3DMesh(**enc_config)\n",
    "\n",
    "enc_config.latent_dim = config.network_architecture.latent_dim_c + config.network_architecture.latent_dim_s \n",
    "\n",
    "h = encoder.forward_conv_stack(x.s_t, preserve_graph_structure=False)\n",
    "\n",
    "NT = 20 # config.dataset.parameters.T\n",
    "    \n",
    "z_aggr = FCN_Aggregator(\n",
    "    features_in = NT*h.shape[-1],\n",
    "    features_out= enc_config.latent_dim\n",
    ")\n",
    "\n",
    "t_encoder = EncoderTemporalSequence(\n",
    "    encoder3d = encoder,\n",
    "    z_aggr_function=z_aggr\n",
    ")\n",
    "\n",
    "decoder_config_c = EasyDict({ k:v for k,v in coma_args.items() if k in DECODER_C_ARGS })\n",
    "decoder_config_s = EasyDict({ k:v for k,v in coma_args.items() if k in DECODER_S_ARGS })    \n",
    "decoder_content = DecoderContent(decoder_config_c)\n",
    "decoder_style = DecoderStyle(decoder_config_s, phase_embedding_method=\"exp_v1\")\n",
    "t_decoder = DecoderTemporalSequence(decoder_content, decoder_style)\n",
    "    \n",
    "t_ae = AutoencoderTemporalSequence(\n",
    "    encoder=t_encoder,\n",
    "    decoder=t_decoder\n",
    ")"
   ]
  },
  {
   "cell_type": "code",
   "execution_count": null,
   "id": "5ed80051-79f8-4964-8991-be7a357a32e8",
   "metadata": {},
   "outputs": [],
   "source": [
    "model_weights_aliased = {k.replace(\"model.\", \"\"):v for k,v in model_weights.items()}"
   ]
  },
  {
   "cell_type": "code",
   "execution_count": null,
   "id": "5d6c910e-80df-4cd5-aef2-d6b457ae835d",
   "metadata": {},
   "outputs": [],
   "source": [
    "t_ae.load_state_dict(model_weights_aliased)"
   ]
  },
  {
   "cell_type": "code",
   "execution_count": null,
   "id": "051a9843-d78c-4114-b805-831971b79afb",
   "metadata": {},
   "outputs": [],
   "source": [
    "torch.device = \"cuda:0\""
   ]
  },
  {
   "cell_type": "code",
   "execution_count": null,
   "id": "ab21b72f-31b6-4497-8405-eda33bbccbab",
   "metadata": {},
   "outputs": [],
   "source": [
    "t_ae = t_ae.cuda()"
   ]
  },
  {
   "cell_type": "code",
   "execution_count": null,
   "id": "bd9bc568-5711-4904-babc-ba299711665f",
   "metadata": {},
   "outputs": [],
   "source": [
    "z_hat = []\n",
    "for i, batch in enumerate(mesh_dl):\n",
    "    # print(i)\n",
    "    x = batch[\"s_t\"].cuda()\n",
    "    z = t_ae(x)[0]['mu'].cpu()\n",
    "    z_hat.append(z)        "
   ]
  },
  {
   "cell_type": "code",
   "execution_count": null,
   "id": "ff84ee8a-4dbf-496c-9b56-16bd5f0fbe69",
   "metadata": {},
   "outputs": [],
   "source": [
    "z_hat = torch.concat(z_hat)"
   ]
  },
  {
   "cell_type": "code",
   "execution_count": null,
   "id": "7f3e99d9-7e99-4ff5-bf32-5779ba8fb5ac",
   "metadata": {},
   "outputs": [],
   "source": [
    "z_c_list = []\n",
    "z_s_list = []\n",
    "\n",
    "for i, batch in enumerate(mesh_dl):\n",
    "    z_c = batch['z_c']\n",
    "    z_s = batch['z_s']\n",
    "    z_c = torch.concat([z.unsqueeze(0) for z in z_c])\n",
    "    z_s = torch.concat([z.unsqueeze(0) for z in z_s])\n",
    "    z_c_list.append(z_c)\n",
    "    z_s_list.append(z_s)\n",
    "    \n",
    "z_c = torch.concat(z_c_list, axis=1).T\n",
    "z_s = torch.concat(z_s_list, axis=1).T"
   ]
  },
  {
   "cell_type": "code",
   "execution_count": null,
   "id": "4e2972a9-65da-4e7e-aeb2-e8727870e57d",
   "metadata": {},
   "outputs": [],
   "source": [
    "from sklearn.cross_decomposition import CCA\n",
    "from ipywidgets import interact\n",
    "import matplotlib.pyplot as plt"
   ]
  },
  {
   "cell_type": "code",
   "execution_count": null,
   "id": "02f797c7-116d-4565-bbb1-d710c9fcdf4c",
   "metadata": {},
   "outputs": [],
   "source": [
    "z = torch.concat([z_c, z_s], axis=1)"
   ]
  },
  {
   "cell_type": "code",
   "execution_count": null,
   "id": "1b36f03d-be42-4aad-9a6a-b6ed3c5458d3",
   "metadata": {},
   "outputs": [],
   "source": [
    "@interact\n",
    "def scatter_cca(component=widgets.IntSlider(min=0,max=44), which_plot=widgets.Select(options=[\"correlation\", \"weights\"])):\n",
    "    \n",
    "    X, Y = z.detach().numpy(), z_hat.detach().numpy()\n",
    "    Y = Y[:, component]\n",
    "    cca = CCA(n_components=1) \n",
    "    real_z, pred_z = cca.fit_transform(X, Y)\n",
    "    \n",
    "    if which_plot == \"correlation\":\n",
    "      plt.scatter(real_z, pred_z);\n",
    "      plt.xlabel(\"real z\")\n",
    "      plt.ylabel(\"best linear combination of predicted z's\")\n",
    "    \n",
    "    elif which_plot == \"weights\":\n",
    "      plt.plot(cca.x_weights_);"
   ]
  },
  {
   "cell_type": "code",
   "execution_count": null,
   "id": "2edc687f-bda2-4161-963b-15b604fe3bb0",
   "metadata": {},
   "outputs": [],
   "source": [
    "kk[1].shape"
   ]
  },
  {
   "cell_type": "code",
   "execution_count": null,
   "id": "efba4528-0388-4001-a00e-56689a07bfdc",
   "metadata": {},
   "outputs": [],
   "source": [
    "cca.fit_transform"
   ]
  },
  {
   "cell_type": "code",
   "execution_count": null,
   "id": "13fa2bb3-21e4-4723-b6a0-a269f69385fe",
   "metadata": {},
   "outputs": [],
   "source": [
    "z_s.shape"
   ]
  },
  {
   "cell_type": "code",
   "execution_count": null,
   "id": "b2464cb4-8fd0-438f-8403-081db12d98f5",
   "metadata": {},
   "outputs": [],
   "source": [
    "z_hat"
   ]
  },
  {
   "cell_type": "code",
   "execution_count": null,
   "id": "f027a54e-d857-4bf4-9b3a-b2c0eaa589f7",
   "metadata": {},
   "outputs": [],
   "source": [
    "z_hat = torch.concat(z_hat).shape"
   ]
  },
  {
   "cell_type": "markdown",
   "id": "87da7e3f-4ad6-43c9-978f-e695d08fcf99",
   "metadata": {},
   "source": [
    "___"
   ]
  },
  {
   "cell_type": "markdown",
   "id": "a8878339-819a-4235-936c-f4de00466ae2",
   "metadata": {},
   "source": [
    "#### Cardiac dataset"
   ]
  },
  {
   "cell_type": "code",
   "execution_count": null,
   "id": "9548efb4-265d-435b-857e-bceabfec3011",
   "metadata": {},
   "outputs": [],
   "source": [
    "from main_autoencoder_cardiac import *"
   ]
  },
  {
   "cell_type": "code",
   "execution_count": null,
   "id": "c19fc62f",
   "metadata": {},
   "outputs": [],
   "source": [
    "POLYNOMIAL_DEGREE = 6\n",
    "DOWNSAMPLING = 2\n",
    "\n",
    "config = load_yaml_config(\"config_files/config_folded_c_and_s.yaml\")\n",
    "config.network_architecture.convolution.parameters.polynomial_degree = [POLYNOMIAL_DEGREE] * 4\n",
    "config.network_architecture.pooling.parameters.downsampling_factors = [DOWNSAMPLING] * 4"
   ]
  },
  {
   "cell_type": "code",
   "execution_count": null,
   "id": "300de235",
   "metadata": {},
   "outputs": [],
   "source": [
    "faces = EasyDict(\n",
    "        pkl.load(open(\"utils/VTKHelpers/data/faces_and_downsampling_mtx_frac_0.1_LV.pkl\", \"rb\"))\n",
    ").new_faces\n",
    "\n",
    "template = EasyDict({\n",
    "  \"v\": np.load(f\"{os.environ['CARDIAC_MOTION_REPO']}/data/LV_shape_mean_across_timepoints.npy\"),\n",
    "  \"f\": faces\n",
    "})\n",
    "\n",
    "\n",
    "cardiac_dataset = CardiacMeshPopulationDataset(\n",
    "    root_path=\"data/cardio/Results\", \n",
    "    procrustes_transforms=\"utils/VTKHelpers/data/procrustes_transforms_FHM_35k.pkl\",\n",
    "    faces=faces,\n",
    "    template_mesh=template,        \n",
    ")\n",
    "\n",
    "mesh_dm = CardiacMeshPopulationDM(cardiac_dataset, batch_size=32)\n",
    "\n",
    "# datamodule = get_datamodule(config.dataset, batch_size=config.batch_size)\n",
    "\n",
    "config.network_architecture.latent_dim_c = 8 \n",
    "config.network_architecture.latent_dim_s = 16\n",
    "\n",
    "mesh_dm.setup()\n",
    "x = EasyDict(next(iter(mesh_dm.train_dataloader())))\n",
    "\n",
    "mesh_template = mesh_dm.dataset.template_mesh\n",
    "coma_args = get_coma_args(config)\n",
    "coma_matrices = get_coma_matrices(config, mesh_template)\n",
    "coma_args.update(coma_matrices)\n",
    "\n",
    "from models.Model3D import Encoder3DMesh, Decoder3DMesh\n",
    "from models.Model4D import DECODER_C_ARGS, DECODER_S_ARGS, ENCODER_ARGS\n",
    "from models.Model4D import DecoderStyle, DecoderContent, DecoderTemporalSequence \n",
    "from models.Model4D import EncoderTemporalSequence, AutoencoderTemporalSequence\n",
    "from lightning.ComaLightningModule import CoMA_Lightning\n",
    "\n",
    "from models.lightning.EncoderLightningModule import TemporalEncoderLightning\n",
    "from models.TemporalAggregators import TemporalAggregator, FCN_Aggregator\n",
    "\n",
    "enc_config = EasyDict({k: v for k, v in coma_args.items() if k in ENCODER_ARGS})\n",
    "encoder = Encoder3DMesh(**enc_config)\n",
    "\n",
    "enc_config.latent_dim = config.network_architecture.latent_dim_c + config.network_architecture.latent_dim_s \n",
    "\n",
    "h = encoder.forward_conv_stack(x.s_t, preserve_graph_structure=False)\n",
    "\n",
    "NT = 50 # config.dataset.parameters.T\n",
    "    \n",
    "z_aggr = FCN_Aggregator(\n",
    "    features_in = NT*h.shape[-1],\n",
    "    features_out= enc_config.latent_dim\n",
    ")\n",
    "\n",
    "t_encoder = EncoderTemporalSequence(\n",
    "    encoder3d = encoder,\n",
    "    z_aggr_function=z_aggr\n",
    ")\n",
    "\n",
    "decoder_config_c = EasyDict({ k:v for k,v in coma_args.items() if k in DECODER_C_ARGS })\n",
    "decoder_config_s = EasyDict({ k:v for k,v in coma_args.items() if k in DECODER_S_ARGS })    \n",
    "decoder_content = DecoderContent(decoder_config_c)\n",
    "decoder_style = DecoderStyle(decoder_config_s, phase_embedding_method=\"exp_v1\")\n",
    "t_decoder = DecoderTemporalSequence(decoder_content, decoder_style)\n",
    "    \n",
    "t_ae = AutoencoderTemporalSequence(\n",
    "    encoder=t_encoder,\n",
    "    decoder=t_decoder\n",
    ")"
   ]
  },
  {
   "cell_type": "code",
   "execution_count": null,
   "id": "228fae46",
   "metadata": {},
   "outputs": [],
   "source": [
    "model_weights = EasyDict({k.replace(\"model.\", \"\"): v for k, v in model_weights.items()})"
   ]
  },
  {
   "cell_type": "code",
   "execution_count": null,
   "id": "698b3242",
   "metadata": {},
   "outputs": [],
   "source": [
    "t_ae.load_state_dict(model_weights)"
   ]
  },
  {
   "cell_type": "code",
   "execution_count": null,
   "id": "34836078",
   "metadata": {},
   "outputs": [],
   "source": [
    "lit_module = CoMA_Lightning(\n",
    "    model=t_ae, \n",
    "    loss_params=config.loss, \n",
    "    optimizer_params=config.optimizer,\n",
    "    additional_params=config,\n",
    "    mesh_template=mesh_template\n",
    ")"
   ]
  },
  {
   "cell_type": "markdown",
   "id": "6ebdc90c",
   "metadata": {},
   "source": [
    "### Load input meshes"
   ]
  },
  {
   "cell_type": "code",
   "execution_count": null,
   "id": "a30258cd",
   "metadata": {},
   "outputs": [],
   "source": [
    "x = next(iter(mesh_dm.val_dataloader()))"
   ]
  },
  {
   "cell_type": "code",
   "execution_count": null,
   "id": "01705e09",
   "metadata": {},
   "outputs": [],
   "source": [
    "output = t_ae(x[\"s_t\"])"
   ]
  },
  {
   "cell_type": "markdown",
   "id": "a30c2570",
   "metadata": {},
   "source": [
    "### Generate animation"
   ]
  },
  {
   "cell_type": "code",
   "execution_count": null,
   "id": "a2030895",
   "metadata": {},
   "outputs": [],
   "source": [
    "s_t, s_hat_t = x[\"s_t\"], output[2]"
   ]
  },
  {
   "cell_type": "code",
   "execution_count": null,
   "id": "76bc3b08",
   "metadata": {},
   "outputs": [],
   "source": [
    "# subj_idx_w = widgets.IntSlider(min=1, max=len(cardiac_dataset))\n",
    "\n",
    "def generate_gif(mesh4D, faces, filename, camera_position='xy', show_edges=False, **kwargs):\n",
    "        \n",
    "        '''\n",
    "        Produces a gif file representing the motion of the input mesh.\n",
    "        \n",
    "        params:\n",
    "          ::mesh4D:: a sequence of Trimesh mesh objects.\n",
    "          ::faces:: array of F x 3 containing the indices of the mesh's triangular faces.\n",
    "          ::filename:: the name of the output gif file.\n",
    "          ::camera_position:: camera position for pyvista plotter (check relevant docs)\n",
    "          \n",
    "        return:\n",
    "          None, only produces the gif file.\n",
    "        '''\n",
    "\n",
    "        import pyvista as pv\n",
    "        \n",
    "        connectivity = np.c_[np.ones(faces.shape[0]) * 3, faces].astype(int)\n",
    "                \n",
    "        pv.set_plot_theme(\"document\")\n",
    "        os.makedirs(os.path.dirname(\"./\"+filename) , exist_ok=True)\n",
    "        \n",
    "        # plotter = pv.Plotter(shape=(1, len(camera_positions)), notebook=False, off_screen=True)\n",
    "        pv.start_xvfb()\n",
    "        plotter = pv.Plotter(notebook=False, off_screen=True)\n",
    "            \n",
    "        # Open a gif\n",
    "        plotter.open_gif(filename)\n",
    "\n",
    "        try:\n",
    "            # if mesh3D is torch.Tensor, this your should run OK\n",
    "            mesh4D = mesh4D.cpu().numpy()[0].astype(\"float32\")\n",
    "        except AttributeError:\n",
    "            pass\n",
    "\n",
    "        kk = pv.PolyData(mesh4D[0], connectivity)\n",
    "        # plotter.add_mesh(kk, smooth_shading=True, opacity=0.5 )#, show_edges=True)\n",
    "        plotter.add_mesh(kk, show_edges=show_edges, opacity=0.5, color=\"red\") \n",
    "        \n",
    "        for t, _ in tqdm(enumerate(mesh4D)):\n",
    "            # print(t)\n",
    "            kk = pv.PolyData(mesh4D[t], connectivity)\n",
    "            plotter.camera_position = camera_position\n",
    "            plotter.update_coordinates(kk.points, render=False)\n",
    "            plotter.render()             \n",
    "            plotter.write_frame()\n",
    "        \n",
    "        plotter.close()\n",
    "        \n",
    "        return filename"
   ]
  },
  {
   "cell_type": "code",
   "execution_count": null,
   "id": "5e6c11d8",
   "metadata": {},
   "outputs": [],
   "source": [
    "from tqdm.notebook import trange, tqdm"
   ]
  },
  {
   "cell_type": "code",
   "execution_count": null,
   "id": "b1abfdfe",
   "metadata": {},
   "outputs": [],
   "source": [
    "import numpy as np\n",
    "from PIL import Image\n",
    "import imageio\n",
    "\n",
    "def merge_gifs_horizontally(gif_file1, gif_file2, output_file):\n",
    "    # Create reader object for the gif\n",
    "    gif1 = imageio.get_reader(gif_file1)\n",
    "    gif2 = imageio.get_reader(gif_file2)\n",
    "\n",
    "    # Create writer object\n",
    "    new_gif = imageio.get_writer(output_file)\n",
    "\n",
    "    for frame_number in range(gif1.get_length()):\n",
    "        img1 = gif1.get_next_data()\n",
    "        img2 = gif2.get_next_data()\n",
    "        # here is the magic\n",
    "        new_image = np.hstack((img1, img2))\n",
    "        new_gif.append_data(new_image)\n",
    "\n",
    "    gif1.close()\n",
    "    gif2.close()\n",
    "    new_gif.close()"
   ]
  },
  {
   "cell_type": "markdown",
   "id": "37fba0cd",
   "metadata": {},
   "source": [
    "### Generate gif's"
   ]
  },
  {
   "cell_type": "code",
   "execution_count": null,
   "id": "59feda10",
   "metadata": {},
   "outputs": [],
   "source": [
    "subj_ids = list(range(64))"
   ]
  },
  {
   "cell_type": "code",
   "execution_count": null,
   "id": "30509d69",
   "metadata": {},
   "outputs": [],
   "source": [
    "for subj_id in subj_ids:\n",
    "        \n",
    "    mesh4D = s_hat_t.detach().cpu().numpy().astype(\"float32\")[subj_id]    \n",
    "    for camera in [\"xz\", \"xy\", \"yz\"]:    \n",
    "        gifpath = generate_gif(\n",
    "            mesh4D,\n",
    "            faces, \n",
    "            camera_position=camera,\n",
    "            filename=f\"id{subj_id}_reconstruction_{camera}.gif\"\n",
    "        )\n",
    "        \n",
    "       #b64 = base64.b64encode(\n",
    "       #  open(gifpath,'rb').read()\n",
    "       #).decode('ascii')\n",
    "        \n",
    "                \n",
    "    mesh4D = s_t.detach().cpu().numpy().astype(\"float32\")[subj_id]        \n",
    "    for camera in [\"xz\", \"xy\", \"yz\"]:    \n",
    "        gifpath = generate_gif(\n",
    "            mesh4D,\n",
    "            faces, \n",
    "            camera_position=camera,\n",
    "            filename=f\"id{subj_id}_original_{camera}.gif\", \n",
    "        )\n",
    "    \n",
    "        #b64 = base64.b64encode(\n",
    "        #    open(gifpath,'rb').read()\n",
    "        #).decode('ascii')\n",
    "    \n",
    "    for camera in [\"xz\", \"xy\", \"yz\"]: \n",
    "        \n",
    "        merge_gifs_horizontally(\n",
    "            f\"id{subj_id}_original_{camera}.gif\", \n",
    "            f\"id{subj_id}_reconstruction_{camera}.gif\", \n",
    "            f\"id{subj_id}_{camera}.gif\"\n",
    "        )\n",
    "        \n",
    "        os.remove(f\"id{subj_id}_original_{camera}.gif\")\n",
    "        os.remove(f\"id{subj_id}_reconstruction_{camera}.gif\")"
   ]
  },
  {
   "cell_type": "code",
   "execution_count": null,
   "id": "e8730602",
   "metadata": {},
   "outputs": [],
   "source": [
    "@interact\n",
    "def show_gif(subj_id=widgets.IntSlider(min=0,max=63)):\n",
    "    \n",
    "    from IPython.display import HTML\n",
    "    import base64\n",
    "   \n",
    "    \n",
    "    \n",
    "    display(HTML(f'<img src=\"data:image/gif;base64,{b64}\" />'))"
   ]
  },
  {
   "cell_type": "code",
   "execution_count": null,
   "id": "df6e4ce7",
   "metadata": {},
   "outputs": [],
   "source": [
    "subj_id = \"15\"\n"
   ]
  }
 ],
 "metadata": {
  "hide_input": false,
  "kernelspec": {
   "display_name": "Python 3 (ipykernel)",
   "language": "python",
   "name": "python3"
  },
  "language_info": {
   "codemirror_mode": {
    "name": "ipython",
    "version": 3
   },
   "file_extension": ".py",
   "mimetype": "text/x-python",
   "name": "python",
   "nbconvert_exporter": "python",
   "pygments_lexer": "ipython3",
   "version": "3.9.12"
  },
  "toc": {
   "base_numbering": 1,
   "nav_menu": {},
   "number_sections": true,
   "sideBar": true,
   "skip_h1_title": false,
   "title_cell": "Table of Contents",
   "title_sidebar": "Contents",
   "toc_cell": false,
   "toc_position": {},
   "toc_section_display": true,
   "toc_window_display": false
  },
  "varInspector": {
   "cols": {
    "lenName": 16,
    "lenType": 16,
    "lenVar": 40
   },
   "kernels_config": {
    "python": {
     "delete_cmd_postfix": "",
     "delete_cmd_prefix": "del ",
     "library": "var_list.py",
     "varRefreshCmd": "print(var_dic_list())"
    },
    "r": {
     "delete_cmd_postfix": ") ",
     "delete_cmd_prefix": "rm(",
     "library": "var_list.r",
     "varRefreshCmd": "cat(var_dic_list()) "
    }
   },
   "types_to_exclude": [
    "module",
    "function",
    "builtin_function_or_method",
    "instance",
    "_Feature"
   ],
   "window_display": false
  }
 },
 "nbformat": 4,
 "nbformat_minor": 5
}
