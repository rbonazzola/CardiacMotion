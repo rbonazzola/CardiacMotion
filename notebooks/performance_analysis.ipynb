{
 "cells": [
  {
   "cell_type": "code",
   "execution_count": 1,
   "id": "9eb6f208",
   "metadata": {},
   "outputs": [],
   "source": [
    "import mlflow\n",
    "import ipywidgets as widgets\n",
    "from ipywidgets import interact\n",
    "import os\n",
    "import glob\n",
    "import torch\n",
    "from pprint import pprint\n",
    "from easydict import EasyDict\n",
    "\n",
    "import numpy as np\n",
    "import torch"
   ]
  },
  {
   "cell_type": "code",
   "execution_count": 2,
   "id": "f16b211d",
   "metadata": {},
   "outputs": [],
   "source": [
    "MLFLOW_TRACKING_URI = \"/app/mlruns/\"\n",
    "EXPERIMENT_NAME = \"Synthetic data\"\n",
    "\n",
    "mlflow.set_tracking_uri(MLFLOW_TRACKING_URI)"
   ]
  },
  {
   "cell_type": "code",
   "execution_count": 3,
   "id": "ad4d12e4",
   "metadata": {},
   "outputs": [],
   "source": [
    "EXPERIMENT_ID = mlflow.get_experiment_by_name(EXPERIMENT_NAME).experiment_id\n",
    "df = mlflow.search_runs(experiment_ids=[EXPERIMENT_ID])"
   ]
  },
  {
   "cell_type": "markdown",
   "id": "2853378a",
   "metadata": {},
   "source": [
    "___"
   ]
  },
  {
   "cell_type": "markdown",
   "id": "c89deb16",
   "metadata": {},
   "source": [
    "### Select runs with $T=1$"
   ]
  },
  {
   "cell_type": "code",
   "execution_count": 4,
   "id": "7d1c00e5",
   "metadata": {},
   "outputs": [],
   "source": [
    "row_index = (df[\"params.dataset_n_timeframes\"] == \"1\")\n",
    "\n",
    "# Select runs with performance better than random\n",
    "row_index &= (df[\"metrics.test_rec_ratio_to_pop_mean\"] < 1)"
   ]
  },
  {
   "cell_type": "code",
   "execution_count": 5,
   "id": "2b8012b0",
   "metadata": {},
   "outputs": [],
   "source": [
    "# columns\n",
    "normalized_metrics = df.columns[df.columns.str.startswith(\"metrics.test_\") & df.columns.str.contains(\"ratio\")]\n",
    "\n",
    "dataset_params = df.columns[df.columns.str.startswith(\"params.dataset_\")].to_list()\n",
    "\n",
    "params = df.columns[df.columns.str.startswith(\"params.\")].to_list()\n",
    "\n",
    "arch_params = [\n",
    "    'params.n_channels_enc', \n",
    "    'params.n_channels_dec_c', \n",
    "    'params.n_channels_dec_s', \n",
    "    'params.latent_dim_c', \n",
    "    'params.latent_dim_s',\n",
    "    'params.z_aggr_function',\n",
    "    'params.reduction_factors',\n",
    "]\n",
    "\n",
    "# To not display columns that have the same value for all rows\n",
    "# https://stackoverflow.com/questions/57365283/how-to-show-columns-that-have-different-values-in-rows\n",
    "def diff_cols(df):\n",
    "    my_cols = []\n",
    "    for col in df.columns:\n",
    "        if df[col].nunique(dropna=False) > 1:\n",
    "            my_cols.append(col)\n",
    "    return df[my_cols].copy()"
   ]
  },
  {
   "cell_type": "code",
   "execution_count": 6,
   "id": "c2b6c331",
   "metadata": {},
   "outputs": [
    {
     "data": {
      "text/html": [
       "<div>\n",
       "<style scoped>\n",
       "    .dataframe tbody tr th:only-of-type {\n",
       "        vertical-align: middle;\n",
       "    }\n",
       "\n",
       "    .dataframe tbody tr th {\n",
       "        vertical-align: top;\n",
       "    }\n",
       "\n",
       "    .dataframe thead th {\n",
       "        text-align: right;\n",
       "    }\n",
       "</style>\n",
       "<table border=\"1\" class=\"dataframe\">\n",
       "  <thead>\n",
       "    <tr style=\"text-align: right;\">\n",
       "      <th></th>\n",
       "      <th>run_id</th>\n",
       "      <th>params.patience</th>\n",
       "      <th>params.latent_dim_s</th>\n",
       "      <th>params.epochs</th>\n",
       "      <th>params.latent_dim_c</th>\n",
       "      <th>params.lr</th>\n",
       "      <th>params.platform</th>\n",
       "      <th>metrics.test_rec_ratio_to_pop_mean_c</th>\n",
       "      <th>metrics.test_rec_ratio_to_time_mean</th>\n",
       "      <th>metrics.test_rec_ratio_to_pop_mean</th>\n",
       "    </tr>\n",
       "  </thead>\n",
       "  <tbody>\n",
       "    <tr>\n",
       "      <th>0</th>\n",
       "      <td>e43d2ee35025439d99999ca384c17380</td>\n",
       "      <td>20</td>\n",
       "      <td>32</td>\n",
       "      <td>2000</td>\n",
       "      <td>16</td>\n",
       "      <td>0.0003</td>\n",
       "      <td>f6dd0d45d567</td>\n",
       "      <td>0.016688</td>\n",
       "      <td>1.074090</td>\n",
       "      <td>0.154649</td>\n",
       "    </tr>\n",
       "    <tr>\n",
       "      <th>1</th>\n",
       "      <td>113ac3571ed9449f8c228a107aa0eb00</td>\n",
       "      <td>20</td>\n",
       "      <td>32</td>\n",
       "      <td>2000</td>\n",
       "      <td>16</td>\n",
       "      <td>0.0003</td>\n",
       "      <td>f6dd0d45d567</td>\n",
       "      <td>0.014107</td>\n",
       "      <td>1.065081</td>\n",
       "      <td>0.137841</td>\n",
       "    </tr>\n",
       "    <tr>\n",
       "      <th>2</th>\n",
       "      <td>97f869d0d5004886842fc63699df8ac0</td>\n",
       "      <td>20</td>\n",
       "      <td>32</td>\n",
       "      <td>2000</td>\n",
       "      <td>16</td>\n",
       "      <td>0.003</td>\n",
       "      <td>f6dd0d45d567</td>\n",
       "      <td>0.036501</td>\n",
       "      <td>3.403358</td>\n",
       "      <td>0.583607</td>\n",
       "    </tr>\n",
       "    <tr>\n",
       "      <th>3</th>\n",
       "      <td>0def8b8729754ae49aca6e868e9ecd2c</td>\n",
       "      <td>10</td>\n",
       "      <td>16</td>\n",
       "      <td>1000</td>\n",
       "      <td>16</td>\n",
       "      <td>0.003</td>\n",
       "      <td>f6dd0d45d567</td>\n",
       "      <td>0.036892</td>\n",
       "      <td>3.983048</td>\n",
       "      <td>0.673120</td>\n",
       "    </tr>\n",
       "    <tr>\n",
       "      <th>4</th>\n",
       "      <td>10a359ba5f79444d9bd641c77c431ef2</td>\n",
       "      <td>10</td>\n",
       "      <td>16</td>\n",
       "      <td>1000</td>\n",
       "      <td>16</td>\n",
       "      <td>0.0003</td>\n",
       "      <td>b5cc16a9c258</td>\n",
       "      <td>0.017136</td>\n",
       "      <td>1.252234</td>\n",
       "      <td>0.198890</td>\n",
       "    </tr>\n",
       "    <tr>\n",
       "      <th>5</th>\n",
       "      <td>9491c5fa1b014fceb48fabea0385e8d5</td>\n",
       "      <td>10</td>\n",
       "      <td>8</td>\n",
       "      <td>1000</td>\n",
       "      <td>8</td>\n",
       "      <td>0.0003</td>\n",
       "      <td>b5cc16a9c258</td>\n",
       "      <td>0.025837</td>\n",
       "      <td>2.270566</td>\n",
       "      <td>0.348402</td>\n",
       "    </tr>\n",
       "  </tbody>\n",
       "</table>\n",
       "</div>"
      ],
      "text/plain": [
       "                             run_id params.patience params.latent_dim_s  \\\n",
       "0  e43d2ee35025439d99999ca384c17380              20                  32   \n",
       "1  113ac3571ed9449f8c228a107aa0eb00              20                  32   \n",
       "2  97f869d0d5004886842fc63699df8ac0              20                  32   \n",
       "3  0def8b8729754ae49aca6e868e9ecd2c              10                  16   \n",
       "4  10a359ba5f79444d9bd641c77c431ef2              10                  16   \n",
       "5  9491c5fa1b014fceb48fabea0385e8d5              10                   8   \n",
       "\n",
       "  params.epochs params.latent_dim_c params.lr params.platform  \\\n",
       "0          2000                  16    0.0003    f6dd0d45d567   \n",
       "1          2000                  16    0.0003    f6dd0d45d567   \n",
       "2          2000                  16     0.003    f6dd0d45d567   \n",
       "3          1000                  16     0.003    f6dd0d45d567   \n",
       "4          1000                  16    0.0003    b5cc16a9c258   \n",
       "5          1000                   8    0.0003    b5cc16a9c258   \n",
       "\n",
       "   metrics.test_rec_ratio_to_pop_mean_c  metrics.test_rec_ratio_to_time_mean  \\\n",
       "0                              0.016688                             1.074090   \n",
       "1                              0.014107                             1.065081   \n",
       "2                              0.036501                             3.403358   \n",
       "3                              0.036892                             3.983048   \n",
       "4                              0.017136                             1.252234   \n",
       "5                              0.025837                             2.270566   \n",
       "\n",
       "   metrics.test_rec_ratio_to_pop_mean  \n",
       "0                            0.154649  \n",
       "1                            0.137841  \n",
       "2                            0.583607  \n",
       "3                            0.673120  \n",
       "4                            0.198890  \n",
       "5                            0.348402  "
      ]
     },
     "execution_count": 6,
     "metadata": {},
     "output_type": "execute_result"
    }
   ],
   "source": [
    "columns = [\"run_id\"] + params + normalized_metrics.tolist()\n",
    "\n",
    "diff_cols(\n",
    "    df[columns][row_index].reset_index(drop=True)\n",
    ")"
   ]
  },
  {
   "cell_type": "code",
   "execution_count": 7,
   "id": "f173e5a8",
   "metadata": {},
   "outputs": [],
   "source": [
    "good_runs = df[row_index].run_id.values\n",
    "run_w = widgets.Select(options=good_runs)"
   ]
  },
  {
   "cell_type": "code",
   "execution_count": 8,
   "id": "404660f0",
   "metadata": {},
   "outputs": [
    {
     "data": {
      "application/vnd.jupyter.widget-view+json": {
       "model_id": "cc0ea7e61c2b471d9acca7f6616f1370",
       "version_major": 2,
       "version_minor": 0
      },
      "text/plain": [
       "interactive(children=(Select(description='run', options=('e43d2ee35025439d99999ca384c17380', '113ac3571ed9449f…"
      ]
     },
     "metadata": {},
     "output_type": "display_data"
    }
   ],
   "source": [
    "@interact\n",
    "def get_ckptpath(run=run_w):\n",
    "    \n",
    "    # chkpt_dir = f\"{MLFLOW_TRACKING_URI}/{EXPERIMENT_ID}/{RUNID}/\"\n",
    "    \n",
    "    REPO_DIR = \"/app/Rodrigo_repos/CardiacMotion\"\n",
    "    global ckpt_path, model_weights    \n",
    "    ckpt_path = glob.glob(f\"{REPO_DIR}/1/{run}/checkpoints/*ckpt\")    \n",
    "    if len(ckpt_path) == 1:\n",
    "      ckpt_path = ckpt_path[0]\n",
    "    elif len(ckpt_path) == 0:\n",
    "      ckpt_path = None\n",
    "    \n",
    "    model_weights = torch.load(ckpt_path)[\"state_dict\"]\n",
    "    model_weights = EasyDict(model_weights)\n",
    "    \n",
    "    print(mlflow.get_run(run).data.metrics[\"test_rec_ratio_to_pop_mean\"])\n",
    "    return ckpt_path"
   ]
  },
  {
   "cell_type": "code",
   "execution_count": 9,
   "id": "ec44be2a",
   "metadata": {},
   "outputs": [
    {
     "data": {
      "text/plain": [
       "633840"
      ]
     },
     "execution_count": 9,
     "metadata": {},
     "output_type": "execute_result"
    }
   ],
   "source": [
    "n_params = 0\n",
    "\n",
    "for module_name, weights in model_weights.items():\n",
    "    module_name = module_name.replace(\"model.\", \"\")\n",
    "    n_params += np.prod(weights.shape)\n",
    "    # print(f'{module_name}: {weights.shape}')\n",
    "    \n",
    "n_params"
   ]
  },
  {
   "cell_type": "code",
   "execution_count": null,
   "id": "a2030895",
   "metadata": {},
   "outputs": [],
   "source": []
  }
 ],
 "metadata": {
  "kernelspec": {
   "display_name": "Python 3 (ipykernel)",
   "language": "python",
   "name": "python3"
  },
  "language_info": {
   "codemirror_mode": {
    "name": "ipython",
    "version": 3
   },
   "file_extension": ".py",
   "mimetype": "text/x-python",
   "name": "python",
   "nbconvert_exporter": "python",
   "pygments_lexer": "ipython3",
   "version": "3.9.16"
  }
 },
 "nbformat": 4,
 "nbformat_minor": 5
}
