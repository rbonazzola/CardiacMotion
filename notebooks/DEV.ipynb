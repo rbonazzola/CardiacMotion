{
 "cells": [
  {
   "cell_type": "markdown",
   "id": "691868f6",
   "metadata": {},
   "source": [
    "# Development"
   ]
  },
  {
   "cell_type": "code",
   "execution_count": 6,
   "id": "743e1e6d",
   "metadata": {},
   "outputs": [],
   "source": [
    "import sys, os\n",
    "\n",
    "import utils.VTKHelpers\n",
    "sys.path.append(\"utils/VTKHelpers/\")\n",
    "\n",
    "from config.load_config import load_config\n",
    "from CardiacMesh import Cardiac3DMesh, Cardiac4DMesh, CardiacMeshPopulation\n",
    "from models import layers\n",
    "\n",
    "import pickle as pkl\n",
    "import yaml\n",
    "from pprint import pprint\n",
    "from argparse import Namespace\n",
    "import logging\n",
    "\n",
    "import numpy as np\n",
    "import torch\n",
    "from torch.utils.data import TensorDataset, DataLoader, random_split\n",
    "import pytorch_lightning as pl\n",
    "\n",
    "import ipywidgets as widgets\n",
    "from IPython.display import display, HTML\n",
    "\n",
    "import os\n",
    "import pickle as pkl\n",
    "from utils import mesh_operations\n",
    "from utils.helpers import *"
   ]
  },
  {
   "cell_type": "code",
   "execution_count": 7,
   "id": "dd8e955a",
   "metadata": {},
   "outputs": [],
   "source": [
    "import mlflow.pytorch\n",
    "from mlflow.tracking import MlflowClient"
   ]
  },
  {
   "cell_type": "code",
   "execution_count": 8,
   "id": "650a153a",
   "metadata": {},
   "outputs": [
    {
     "data": {
      "application/javascript": [
       "$('<div id=\"toc\"></div>').css({position: 'fixed', top: '120px', left: 0}).appendTo(document.body);\n",
       "$.getScript('https://kmahelona.github.io/ipython_notebook_goodies/ipython_notebook_toc.js');\n"
      ],
      "text/plain": [
       "<IPython.core.display.Javascript object>"
      ]
     },
     "metadata": {},
     "output_type": "display_data"
    }
   ],
   "source": [
    "%%javascript\n",
    "$('<div id=\"toc\"></div>').css({position: 'fixed', top: '120px', left: 0}).appendTo(document.body);\n",
    "$.getScript('https://kmahelona.github.io/ipython_notebook_goodies/ipython_notebook_toc.js');"
   ]
  },
  {
   "cell_type": "markdown",
   "id": "5d15130f",
   "metadata": {},
   "source": [
    "Select configuration file"
   ]
  },
  {
   "cell_type": "code",
   "execution_count": 5,
   "id": "e5674f07",
   "metadata": {},
   "outputs": [
    {
     "data": {
      "application/vnd.jupyter.widget-view+json": {
       "model_id": "6c680be9042a4bcab7e4bfe0e7ce108f",
       "version_major": 2,
       "version_minor": 0
      },
      "text/plain": [
       "Dropdown(index=1, options=('config_template.yaml', 'config.yaml'), value='config.yaml')"
      ]
     },
     "metadata": {},
     "output_type": "display_data"
    }
   ],
   "source": [
    "config_files_w = widgets.Dropdown(\n",
    "    options=[x for x in os.listdir(\"config\") if x.endswith(\"yaml\")],\n",
    "    value=\"config.yaml\"\n",
    ")\n",
    "display(config_files_w)"
   ]
  },
  {
   "cell_type": "code",
   "execution_count": 6,
   "id": "02d8b337",
   "metadata": {},
   "outputs": [],
   "source": [
    "config = load_config(os.path.join(\"config\", config_files_w.value))"
   ]
  },
  {
   "cell_type": "markdown",
   "id": "58f2a6d1",
   "metadata": {},
   "source": [
    "## PyTorch Lightning DataModule"
   ]
  },
  {
   "cell_type": "code",
   "execution_count": 8,
   "id": "c4a9d168",
   "metadata": {},
   "outputs": [],
   "source": [
    "# To cache data\n",
    "# popu = CardiacMeshPopulation(config.root_folder, N_subj=200)\n",
    "# kk = {\"meshes\": popu.as_numpy_array(), \"ids\": popu.ids}\n",
    "# with open(\"data/cached/cardiac_population_200_meshes.pkl\", \"wb\") as ff:\n",
    "#     pkl.dump(kk, ff)"
   ]
  },
  {
   "cell_type": "markdown",
   "id": "40ea71c4",
   "metadata": {},
   "source": [
    "### Synthetic Meshes"
   ]
  },
  {
   "cell_type": "code",
   "execution_count": 12,
   "id": "ade9a6af",
   "metadata": {},
   "outputs": [],
   "source": [
    "from data.SyntheticDataModules import SyntheticMeshesDM\n",
    "from data.DataModules import CardiacMeshPopulationDataset, CardiacMeshPopulationDM\n",
    "import vedo\n",
    "from utils import mesh_operations\n",
    "\n",
    "sphere = vedo.Sphere()\n",
    "template_mesh = \"data/vedo_sphere_template.vtk\"\n",
    "sphere.write(template_mesh, binary=False)\n",
    "\n",
    "M, A, D, U = mesh_operations.generate_transform_matrices(\n",
    "    Cardiac3DMesh(template_mesh), \n",
    "    config.network_architecture.pooling.parameters.downsampling_factors\n",
    ")\n",
    "\n",
    "A_t, D_t, U_t = ([scipy_to_torch_sparse(x) for x in X] for X in (A, D, U))\n",
    "n_nodes = [len(M[i].v) for i in range(len(M))]\n",
    "\n",
    "dm = SyntheticMeshesDM()"
   ]
  },
  {
   "cell_type": "markdown",
   "id": "15404289",
   "metadata": {},
   "source": [
    "### Cardiac meshes"
   ]
  },
  {
   "cell_type": "code",
   "execution_count": 13,
   "id": "6f4fc0a1",
   "metadata": {},
   "outputs": [],
   "source": [
    "# with open(\"data/cached/cardiac_population_200_meshes.pkl\", \"rb\") as ff:\n",
    "#     kk = pkl.load(ff)\n",
    "#     \n",
    "# dm = CardiacMeshPopulationDM(\n",
    "#     cardiac_population=kk, \n",
    "#     batch_size=2\n",
    "# )\n",
    "# \n",
    "# A_t, D_t, U_t, n_nodes = pkl.load(open(\"data/cached/matrices.pkl\", \"rb\"))"
   ]
  },
  {
   "cell_type": "code",
   "execution_count": null,
   "id": "05091694",
   "metadata": {},
   "outputs": [
    {
     "name": "stderr",
     "output_type": "stream",
     "text": [
      "GPU available: False, used: False\n",
      "TPU available: False, using: 0 TPU cores\n",
      "\n",
      "  | Name  | Type   | Params\n",
      "---------------------------------\n",
      "0 | model | Coma4D | 412 K \n",
      "---------------------------------\n",
      "412 K     Trainable params\n",
      "0         Non-trainable params\n",
      "412 K     Total params\n",
      "1.652     Total estimated model params size (MB)\n"
     ]
    },
    {
     "data": {
      "application/vnd.jupyter.widget-view+json": {
       "model_id": "",
       "version_major": 2,
       "version_minor": 0
      },
      "text/plain": [
       "HBox(children=(FloatProgress(value=1.0, bar_style='info', description='Validation sanity check', layout=Layout…"
      ]
     },
     "metadata": {},
     "output_type": "display_data"
    },
    {
     "name": "stderr",
     "output_type": "stream",
     "text": [
      "/home/rodrigo/anaconda3/envs/pytorch_coma/lib/python3.6/site-packages/pytorch_lightning/trainer/properties.py:249: UserWarning: The progress bar already tracks a metric with the name(s) 'loss' and `self.log('loss', ..., prog_bar=True)` will overwrite this value.  If this is undesired, change the name or override `get_progress_bar_dict()` in `LightingModule`.\n",
      "  f\" in `LightingModule`.\", UserWarning\n"
     ]
    },
    {
     "data": {
      "application/vnd.jupyter.widget-view+json": {
       "model_id": "f038a995a2e54c2c9d46dbbb252578dc",
       "version_major": 2,
       "version_minor": 0
      },
      "text/plain": [
       "HBox(children=(FloatProgress(value=1.0, bar_style='info', description='Training', layout=Layout(flex='2'), max…"
      ]
     },
     "metadata": {},
     "output_type": "display_data"
    }
   ],
   "source": [
    "coma_args = {\n",
    "  \"num_features\": config.network_architecture.n_features,\n",
    "  \"n_layers\": len(config.network_architecture.convolution.parameters.channels), # REDUNDANT\n",
    "  \"num_conv_filters\": config.network_architecture.convolution.parameters.channels,\n",
    "  \"polygon_order\": config.network_architecture.convolution.parameters.polynomial_degree,\n",
    "  \"latent_dim\": config.network_architecture.latent_dim,\n",
    "  \"is_variational\": config.loss.regularization_loss.weight != 0,\n",
    "  \"downsample_matrices\": D_t,\n",
    "  \"upsample_matrices\": U_t, \n",
    "  \"adjacency_matrices\": A_t,\n",
    "  \"n_nodes\": n_nodes, \n",
    "  \"mode\": \"testing\"\n",
    "}\n",
    "\n",
    "from models.model import Coma4D\n",
    "from models.coma_ml_module import CoMA\n",
    "coma4D = Coma4D(**coma_args)\n",
    "model = CoMA(coma4D, config)\n",
    "\n",
    "# train\n",
    "trainer = pl.Trainer()\n",
    "trainer.fit(model, datamodule=dm)"
   ]
  },
  {
   "cell_type": "markdown",
   "id": "39a03500",
   "metadata": {},
   "source": [
    "## PyTorch Lightning Module"
   ]
  },
  {
   "cell_type": "markdown",
   "id": "c735beb4",
   "metadata": {},
   "source": [
    "### Testing PL module"
   ]
  },
  {
   "cell_type": "code",
   "execution_count": null,
   "id": "5f31a3dc",
   "metadata": {},
   "outputs": [],
   "source": [
    "# train\n",
    "trainer = pl.Trainer()\n",
    "trainer.fit(model, datamodule=dm)"
   ]
  },
  {
   "cell_type": "markdown",
   "id": "4ef4feaa",
   "metadata": {},
   "source": [
    "## Load data"
   ]
  },
  {
   "cell_type": "code",
   "execution_count": null,
   "id": "df9942da",
   "metadata": {},
   "outputs": [],
   "source": [
    "# import objgraph\n",
    "# objgraph.show_refs(config, max_depth=2, )"
   ]
  },
  {
   "cell_type": "code",
   "execution_count": null,
   "id": "d10d840e",
   "metadata": {},
   "outputs": [],
   "source": [
    "popu = CardiacMeshPopulation(config.root_folder)\n",
    "print(popu.as_numpy_array().shape)"
   ]
  }
 ],
 "metadata": {
  "kernelspec": {
   "display_name": "Coma",
   "language": "python",
   "name": "coma"
  },
  "language_info": {
   "codemirror_mode": {
    "name": "ipython",
    "version": 3
   },
   "file_extension": ".py",
   "mimetype": "text/x-python",
   "name": "python",
   "nbconvert_exporter": "python",
   "pygments_lexer": "ipython3",
   "version": "3.6.10"
  }
 },
 "nbformat": 4,
 "nbformat_minor": 5
}
