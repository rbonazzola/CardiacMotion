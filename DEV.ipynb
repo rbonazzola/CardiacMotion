{
 "cells": [
  {
   "cell_type": "markdown",
   "id": "691868f6",
   "metadata": {},
   "source": [
    "# Development"
   ]
  },
  {
   "cell_type": "code",
   "execution_count": 1,
   "id": "743e1e6d",
   "metadata": {},
   "outputs": [],
   "source": [
    "import sys\n",
    "sys.path.append(\"utils/VTKHelpers/\")\n",
    "from CardiacMesh import Cardiac3DMesh, Cardiac4DMesh, CardiacMeshPopulation\n",
    "from models import layers\n",
    "\n",
    "import yaml\n",
    "from pprint import pprint\n",
    "from argparse import Namespace\n",
    "import logging\n",
    "\n",
    "import numpy as np\n",
    "import torch\n",
    "from torch.utils.data import TensorDataset, DataLoader, random_split\n",
    "import pytorch_lightning as pl\n",
    "\n",
    "import ipywidgets as widgets\n",
    "from IPython.display import display, HTML"
   ]
  },
  {
   "cell_type": "code",
   "execution_count": 2,
   "id": "1e4ad2da",
   "metadata": {},
   "outputs": [
    {
     "data": {
      "text/html": [
       "<script>$(\"div.input\").show()</script>"
      ],
      "text/plain": [
       "<IPython.core.display.HTML object>"
      ]
     },
     "metadata": {},
     "output_type": "display_data"
    },
    {
     "data": {
      "application/vnd.jupyter.widget-view+json": {
       "model_id": "ef9edc4a43a3451cba7613b45f065289",
       "version_major": 2,
       "version_minor": 0
      },
      "text/plain": [
       "ToggleButton(value=True, description='Hide code')"
      ]
     },
     "metadata": {},
     "output_type": "display_data"
    }
   ],
   "source": [
    "javascript_functions = {False: \"hide()\", True: \"show()\"}\n",
    "button_descriptions  = {False: \"Show code\", True: \"Hide code\"}\n",
    "\n",
    "\n",
    "def toggle_code(state):\n",
    "\n",
    "    \"\"\"\n",
    "    Toggles the JavaScript show()/hide() function on the div.input element.\n",
    "    \"\"\"\n",
    "\n",
    "    output_string = \"<script>$(\\\"div.input\\\").{}</script>\"\n",
    "    output_args   = (javascript_functions[state],)\n",
    "    output        = output_string.format(*output_args)\n",
    "\n",
    "    display(HTML(output))\n",
    "\n",
    "\n",
    "def button_action(value):\n",
    "\n",
    "    \"\"\"\n",
    "    Calls the toggle_code function and updates the button description.\n",
    "    \"\"\"\n",
    "\n",
    "    state = value.new\n",
    "\n",
    "    toggle_code(state)\n",
    "\n",
    "    value.owner.description = button_descriptions[state]\n",
    "\n",
    "\n",
    "state = True\n",
    "toggle_code(state)\n",
    "\n",
    "button = widgets.ToggleButton(state, description = button_descriptions[state])\n",
    "button.observe(button_action, \"value\")\n",
    "display(button)"
   ]
  },
  {
   "cell_type": "markdown",
   "id": "58f2a6d1",
   "metadata": {},
   "source": [
    "# PyTorch Lightning DataModule"
   ]
  },
  {
   "cell_type": "code",
   "execution_count": 3,
   "id": "ac160fbd",
   "metadata": {},
   "outputs": [],
   "source": [
    "from utils.VTKHelpers.CardiacMesh import CardiacMeshPopulation, Cardiac3DMesh\n",
    "from torch.utils.data import TensorDataset, DataLoader, random_split\n",
    "from typing import Any, List, Mapping, Optional, Sequence, Tuple, Union\n",
    "\n",
    "\n",
    "class CardiacMeshPopulationDataset(TensorDataset):\n",
    "    \n",
    "    '''\n",
    "    PyTorch dataset wrapping the CardiacMeshPopulation class\n",
    "    '''\n",
    "    \n",
    "    def __init__(\n",
    "        self, \n",
    "        cardiac_population: Union[CardiacMeshPopulation, None]=None, \n",
    "        root_dir: Union[str,None]=None, \n",
    "        context=Namespace(logger=logging.getLogger())\n",
    "    ):\n",
    "        \n",
    "        if cardiac_population is None and root_dir is None:            \n",
    "            raise ValueError(\"Provide either cardiac_population or root_dir as argument\")\n",
    "        elif cardiac_population is not None and root_dir is not None:\n",
    "            raise ValueError(\"Provide only one of cardiac_population or root_dir as argument\")\n",
    "        \n",
    "        if root_dir is not None:\n",
    "            cardiac_population = CardiacMeshPopulation(root_dir)\n",
    "            \n",
    "        self.ids = cardiac_population.ids\n",
    "        self.data = torch.Tensor(cardiac_population.as_numpy_array())\n",
    "        \n",
    "        #TODO: check that this does not produce a copy of self.data (I think it does not)\n",
    "        self._data_dict = { \n",
    "            self.ids[i]:self.data[i] for i, _ in enumerate(self.data) \n",
    "        }\n",
    "        \n",
    "    def __getitem__(self, id):        \n",
    "        return self._data_dict[self.ids[id]]\n",
    "        \n",
    "    def __len__(self):\n",
    "        return len(self.ids)\n",
    "\n",
    "\n",
    "class CardiacMeshPopulationDM(pl.LightningDataModule):    \n",
    "    \n",
    "    '''\n",
    "    PyTorch datamodule wrapping the CardiacMeshPopulation class\n",
    "    '''\n",
    "    \n",
    "    def __init__(self, data_dir: str = \"path/to/dir\", \n",
    "                 batch_size: int = 32,\n",
    "                 split_lengths: List[int]=[7, 3, 3]):\n",
    "        \n",
    "        super().__init__()\n",
    "        self.data_dir = data_dir\n",
    "        self.batch_size = batch_size\n",
    "        self.split_lengths = split_lengths\n",
    "\n",
    "    def setup(self, stage: Optional[str] = None):\n",
    "        popu = CardiacMeshPopulationDataset(root_dir=self.data_dir)\n",
    "        self.train_dataset, self.val_dataset, self.test_dataset = random_split(popu, self.split_lengths)        \n",
    "\n",
    "    def train_dataloader(self):\n",
    "        return torch.utils.data.DataLoader(self.train_dataset, batch_size=self.batch_size, num_workers=8)\n",
    "\n",
    "    def val_dataloader(self):\n",
    "        return torch.utils.data.DataLoader(self.val_dataset, batch_size=1, num_workers=8)\n",
    "\n",
    "    def test_dataloader(self):\n",
    "        return torch.utils.data.DataLoader(self.test_dataset, batch_size=1, num_workers=8)\n"
   ]
  },
  {
   "cell_type": "markdown",
   "id": "39a03500",
   "metadata": {},
   "source": [
    "# PyTorch Lightning Module"
   ]
  },
  {
   "cell_type": "code",
   "execution_count": 4,
   "id": "67ddc291",
   "metadata": {},
   "outputs": [
    {
     "data": {
      "text/plain": [
       "<function pytorch_lightning.core.hooks.ModelHooks.on_train_epoch_start(self) -> None>"
      ]
     },
     "execution_count": 4,
     "metadata": {},
     "output_type": "execute_result"
    }
   ],
   "source": [
    "pl.LightningModule.on_train_epoch_start"
   ]
  },
  {
   "cell_type": "code",
   "execution_count": 5,
   "id": "81e74165",
   "metadata": {
    "slideshow": {
     "slide_type": "-"
    }
   },
   "outputs": [],
   "source": [
    "class CoMA(pl.LightningModule):\n",
    "    \n",
    "    def __init__(self, model, params):\n",
    "        super(CoMA, self).__init__()\n",
    "        self.model = model\n",
    "        self.params = params\n",
    "                \n",
    "    \n",
    "    def forward(self, input: torch.Tensor, **kwargs) -> torch.Tensor:\n",
    "        return self.model(input, **kwargs)\n",
    "    \n",
    "    def on_train_epoch_start(self):\n",
    "        self.model.set_mode(\"training\")\n",
    "    \n",
    "    def training_step(self, batch, batch_idx):\n",
    "        \n",
    "        print(\"holaaa\")\n",
    "        out = self(batch)#, mode=\"training\") #\n",
    "        train_loss = loss_function(out, batch)\n",
    "        \n",
    "        #Why not just passing\n",
    "        self.logger.experiment.log({\n",
    "            key: val.item() for key, val in train_loss.items()\n",
    "        })\n",
    "    \n",
    "    \n",
    "        return losses\n",
    "\n",
    "    \n",
    "    def training_epoch_end(self, outputs):\n",
    "        # Aggregate metrics from each batch    \n",
    "        avg_loss = torch.stack([x['loss'] for x in outputs]).mean()\n",
    "        self.log({\"train_loss\":avg_loss})\n",
    "        pass\n",
    "    \n",
    "    \n",
    "    def on_validation_epoch_start(self):\n",
    "        self.model.set_mode(\"testing\")\n",
    "\n",
    "        \n",
    "    def validation_step(self, batch, batch_idx):                \n",
    "        \n",
    "        out = self(batch)#, mode=\"training\") #\n",
    "        train_loss = loss_function(out, batch)\n",
    "        \n",
    "        #Why not just passing train_loss here?\n",
    "        self.logger.experiment.log({\n",
    "            key: val.item() for key, val in train_loss.items()\n",
    "        })        \n",
    "\n",
    "    \n",
    "    def validation_epoch_end(self):\n",
    "        avg_loss = torch.stack([x['loss'] for x in outputs]).mean()\n",
    "        self.log({\"val_loss\":avg_loss})\n",
    "        pass\n",
    "    \n",
    "    \n",
    "    # def test_step(self):\n",
    "    \n",
    "    def test_epoch_end(self):\n",
    "        avg_loss = torch.stack([x['loss'] for x in outputs]).mean()\n",
    "        self.log({\"val_loss\":avg_loss})\n",
    "        pass\n",
    "    \n",
    "    \n",
    "    #TODO: Select optimizer from menu (dict)\n",
    "    def configure_optimizers(self):\n",
    "        \n",
    "        algorithm = config.optimizer.algorithm\n",
    "        algorithm = torch.optim.__dict__[algorithm]\n",
    "        parameters = vars(config.optimizer.parameters)\n",
    "        optimizer = algorithm(self.model.parameters(), **parameters)      \n",
    "        return optimizer    "
   ]
  },
  {
   "cell_type": "markdown",
   "id": "c735beb4",
   "metadata": {},
   "source": [
    "### Testing PL module"
   ]
  },
  {
   "cell_type": "code",
   "execution_count": 6,
   "id": "66bc7450",
   "metadata": {},
   "outputs": [],
   "source": [
    "from utils.generics import recursive_namespace"
   ]
  },
  {
   "cell_type": "code",
   "execution_count": 7,
   "id": "cea6c09a",
   "metadata": {},
   "outputs": [],
   "source": [
    "def load_config(yaml_config_file):\n",
    "    import yaml\n",
    "    with open(yaml_config_file) as config:\n",
    "        config = yaml.safe_load(config)    \n",
    "        # I am using a namespace instead of a dictionary mainly because it enables auto-completion\n",
    "        config = recursive_namespace(config)\n",
    "    \n",
    "    config.network_architecture.convolution.parameters.polynomial_degree = \\\n",
    "    [int(x) for x in config.network_architecture.convolution.parameters.polynomial_degree.split()]\n",
    "    \n",
    "    config.network_architecture.pooling.parameters.downsampling_factors = \\\n",
    "    [int(x) for x in config.network_architecture.pooling.parameters.downsampling_factors.split()]\n",
    "    \n",
    "    config.network_architecture.convolution.parameters.channels = \\\n",
    "    [int(x) for x in config.network_architecture.convolution.parameters.channels.split()]\n",
    "    \n",
    "    return config"
   ]
  },
  {
   "cell_type": "code",
   "execution_count": 8,
   "id": "726d687d",
   "metadata": {},
   "outputs": [],
   "source": [
    "config = load_config(\"config/config.yaml\")"
   ]
  },
  {
   "cell_type": "code",
   "execution_count": 9,
   "id": "b693f85b",
   "metadata": {},
   "outputs": [],
   "source": [
    "dm = CardiacMeshPopulationDM(config.root_folder, batch_size=2)"
   ]
  },
  {
   "cell_type": "code",
   "execution_count": 10,
   "id": "5a5d409e",
   "metadata": {},
   "outputs": [],
   "source": [
    "from utils import mesh_operations\n",
    "from utils.helpers import *"
   ]
  },
  {
   "cell_type": "code",
   "execution_count": 11,
   "id": "47bb61d0",
   "metadata": {},
   "outputs": [],
   "source": [
    "import os"
   ]
  },
  {
   "cell_type": "code",
   "execution_count": 12,
   "id": "fa5661b3",
   "metadata": {},
   "outputs": [],
   "source": [
    "# tmesh = Cardiac3DMesh(os.path.join(os.getcwd(), config.network_architecture.pooling.parameters.template_mesh))"
   ]
  },
  {
   "cell_type": "code",
   "execution_count": 13,
   "id": "b88c8e37",
   "metadata": {},
   "outputs": [],
   "source": [
    "tmesh = Cardiac3DMesh(config.network_architecture.pooling.parameters.template_mesh)\n",
    "\n",
    "M, A, D, U = mesh_operations.generate_transform_matrices(\n",
    "    mesh=tmesh, \n",
    "    factors=config.network_architecture.pooling.parameters.downsampling_factors\n",
    ")\n",
    "\n",
    "A_t, D_t, U_t = ([scipy_to_torch_sparse(x) for x in X] for X in (A, D, U))\n",
    "n_nodes = [len(m.v) for m in M]"
   ]
  },
  {
   "cell_type": "code",
   "execution_count": 14,
   "id": "e243c723",
   "metadata": {},
   "outputs": [
    {
     "ename": "SyntaxError",
     "evalue": "invalid syntax (model.py, line 21)",
     "output_type": "error",
     "traceback": [
      "Traceback \u001b[0;36m(most recent call last)\u001b[0m:\n",
      "  File \u001b[1;32m\"/home/rodrigo/anaconda3/envs/pytorch_coma/lib/python3.6/site-packages/IPython/core/interactiveshell.py\"\u001b[0m, line \u001b[1;32m3343\u001b[0m, in \u001b[1;35mrun_code\u001b[0m\n    exec(code_obj, self.user_global_ns, self.user_ns)\n",
      "\u001b[0;36m  File \u001b[0;32m\"<ipython-input-14-271738e5204a>\"\u001b[0;36m, line \u001b[0;32m17\u001b[0;36m, in \u001b[0;35m<module>\u001b[0;36m\u001b[0m\n\u001b[0;31m    from models.model import Coma\u001b[0m\n",
      "\u001b[0;36m  File \u001b[0;32m\"/home/rodrigo/data/doctorado/repos/CardiacMotionRL/models/model.py\"\u001b[0;36m, line \u001b[0;32m21\u001b[0m\n\u001b[0;31m    z_aggr_function=lambda x: torch.Tensor.mean(x, axis=0)\u001b[0m\n\u001b[0m                  ^\u001b[0m\n\u001b[0;31mSyntaxError\u001b[0m\u001b[0;31m:\u001b[0m invalid syntax\n"
     ]
    }
   ],
   "source": [
    "# init model\n",
    "\n",
    "coma_args = {\n",
    "  \"num_features\": config.network_architecture.n_features,\n",
    "  \"n_layers\": len(config.network_architecture.convolution.parameters.channels), # REDUNDANT\n",
    "  \"num_conv_filters\": config.network_architecture.convolution.parameters.channels,\n",
    "  \"polygon_order\": config.network_architecture.convolution.parameters.polynomial_degree,\n",
    "  \"latent_dim\": config.network_architecture.latent_dim,\n",
    "  \"is_variational\": config.loss.regularization_loss.weight != 0,\n",
    "  \"downsample_matrices\": D_t,\n",
    "  \"upsample_matrices\": U_t, \n",
    "  \"adjacency_matrices\": A_t,\n",
    "  \"n_nodes\": n_nodes, \n",
    "  \"mode\": \"testing\"\n",
    "}\n",
    "\n",
    "from models.model import Coma\n",
    "coma = Coma4D(**coma_args)\n",
    "model = CoMA(coma4D, config)"
   ]
  },
  {
   "cell_type": "code",
   "execution_count": null,
   "id": "5f31a3dc",
   "metadata": {},
   "outputs": [],
   "source": [
    "# train\n",
    "trainer = pl.Trainer()\n",
    "trainer.fit(model, datamodule=dm)"
   ]
  },
  {
   "cell_type": "code",
   "execution_count": null,
   "id": "06b2efa0",
   "metadata": {},
   "outputs": [],
   "source": [
    "from pytorch_lightning.callbacks import Callback\n",
    "from pytorch_lightning.callbacks import ModelCheckpoint"
   ]
  },
  {
   "cell_type": "markdown",
   "id": "4ef4feaa",
   "metadata": {},
   "source": [
    "## Load data"
   ]
  },
  {
   "cell_type": "code",
   "execution_count": null,
   "id": "df9942da",
   "metadata": {},
   "outputs": [],
   "source": [
    "# import objgraph\n",
    "# objgraph.show_refs(config, max_depth=2, )"
   ]
  },
  {
   "cell_type": "code",
   "execution_count": null,
   "id": "d10d840e",
   "metadata": {},
   "outputs": [],
   "source": [
    "popu = CardiacMesh.CardiacMeshPopulation(config.root_folder)\n",
    "print(popu.as_numpy_array().shape)"
   ]
  },
  {
   "cell_type": "code",
   "execution_count": null,
   "id": "e452c316",
   "metadata": {},
   "outputs": [],
   "source": [
    "exp_it = [(np.sin(2*np.pi*i/len(popu.time_frames)), np.cos(2*np.pi*i/len(popu.time_frames))) for i in range(len(popu.time_frames))]\n",
    "exp_it = np.array(exp_it)\n",
    "exp_it = np.expand_dims(exp_it, axis=(0,2))\n",
    "popu_array = popu.as_numpy_array()\n",
    "\n",
    "time_embedded_shape = [\n",
    "  np.array([\n",
    "    exp_it[0,i,0,0]*popu_array[:,i,:,:], \n",
    "    exp_it[0,i,0,1]*popu_array[:,i,:,:]\n",
    "  ]) for i in range(exp_it.shape[1])\n",
    "]"
   ]
  },
  {
   "cell_type": "code",
   "execution_count": null,
   "id": "5070c4a4",
   "metadata": {},
   "outputs": [],
   "source": [
    "time_embedded_shape = np.array(time_embedded_shape)\n",
    "time_embedded_shape = time_embedded_shape.reshape([time_embedded_shape.shape[i] for i in (2,0,3,4,1)])"
   ]
  },
  {
   "cell_type": "code",
   "execution_count": null,
   "id": "4c849118",
   "metadata": {},
   "outputs": [],
   "source": [
    "time_embedded_shape.shape"
   ]
  },
  {
   "cell_type": "markdown",
   "id": "fd2a41b9",
   "metadata": {},
   "source": [
    "## Network definition"
   ]
  },
  {
   "cell_type": "code",
   "execution_count": null,
   "id": "45ac5e6c",
   "metadata": {},
   "outputs": [],
   "source": []
  },
  {
   "cell_type": "code",
   "execution_count": null,
   "id": "83b73d24",
   "metadata": {},
   "outputs": [],
   "source": []
  },
  {
   "cell_type": "code",
   "execution_count": null,
   "id": "56edafa4",
   "metadata": {},
   "outputs": [],
   "source": []
  },
  {
   "cell_type": "code",
   "execution_count": null,
   "id": "0d0dd9ab",
   "metadata": {},
   "outputs": [],
   "source": []
  },
  {
   "cell_type": "code",
   "execution_count": null,
   "id": "7271ee2d",
   "metadata": {},
   "outputs": [],
   "source": []
  },
  {
   "cell_type": "markdown",
   "id": "23fe87a2",
   "metadata": {},
   "source": [
    "## Optimizer definition"
   ]
  },
  {
   "cell_type": "code",
   "execution_count": null,
   "id": "638d7d0f",
   "metadata": {},
   "outputs": [],
   "source": []
  },
  {
   "cell_type": "code",
   "execution_count": null,
   "id": "9428da86",
   "metadata": {},
   "outputs": [],
   "source": []
  },
  {
   "cell_type": "code",
   "execution_count": null,
   "id": "e6d8aa69",
   "metadata": {},
   "outputs": [],
   "source": []
  },
  {
   "cell_type": "code",
   "execution_count": null,
   "id": "d904a3f9",
   "metadata": {},
   "outputs": [],
   "source": []
  },
  {
   "cell_type": "code",
   "execution_count": null,
   "id": "753873e7",
   "metadata": {},
   "outputs": [],
   "source": []
  },
  {
   "cell_type": "markdown",
   "id": "9d7a8b32",
   "metadata": {},
   "source": [
    "## Network training"
   ]
  },
  {
   "cell_type": "code",
   "execution_count": null,
   "id": "5740958f",
   "metadata": {},
   "outputs": [],
   "source": []
  }
 ],
 "metadata": {
  "kernelspec": {
   "display_name": "Coma",
   "language": "python",
   "name": "coma"
  },
  "language_info": {
   "codemirror_mode": {
    "name": "ipython",
    "version": 3
   },
   "file_extension": ".py",
   "mimetype": "text/x-python",
   "name": "python",
   "nbconvert_exporter": "python",
   "pygments_lexer": "ipython3",
   "version": "3.6.10"
  }
 },
 "nbformat": 4,
 "nbformat_minor": 5
}
