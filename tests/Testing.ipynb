{
 "cells": [
  {
   "cell_type": "code",
   "execution_count": 146,
   "metadata": {},
   "outputs": [],
   "source": [
    "import os, sys\n",
    "sys.path.append(\"..\")\n",
    "from config.load_config import load_yaml_config, to_dict, recursive_namespace\n",
    "import torch\n",
    "import numpy as np\n",
    "from torch import Tensor\n",
    "from importlib import reload\n",
    "\n",
    "import pytorch_lightning as pl"
   ]
  },
  {
   "cell_type": "markdown",
   "metadata": {},
   "source": [
    "### Generate dataset"
   ]
  },
  {
   "cell_type": "code",
   "execution_count": 147,
   "metadata": {},
   "outputs": [],
   "source": [
    "from data.synthetic.SyntheticMeshPopulation import SyntheticMeshPopulation\n",
    "from data.SyntheticDataModules import SyntheticMeshesDataset\n",
    "from torch.utils.data import DataLoader\n",
    "from utils.helpers import get_datamodule, get_coma_args"
   ]
  },
  {
   "cell_type": "code",
   "execution_count": 148,
   "metadata": {},
   "outputs": [
    {
     "name": "stdout",
     "output_type": "stream",
     "text": [
      "Retrieving synthetic population from cached file.\n"
     ]
    }
   ],
   "source": [
    "config = load_yaml_config(\"../config_files/config_folded_c_and_s.yaml\")\n",
    "dm = get_datamodule(config)\n",
    "coma_args = get_coma_args(config, dm)\n",
    "coma_args[\"phase_input\"] = False\n"
   ]
  },
  {
   "cell_type": "markdown",
   "metadata": {},
   "source": [
    "### Load (or reload) modules"
   ]
  },
  {
   "cell_type": "code",
   "execution_count": 149,
   "metadata": {},
   "outputs": [],
   "source": [
    "import models.Model3D as Model3D; Model3D = reload(module=Model3D)\n",
    "import models.Model4D as Model4D; Model4D = reload(module=Model4D)\n",
    "import models.EncoderPLModule as EncoderPLModule\n",
    "\n",
    "EncoderPLModule = reload(module=EncoderPLModule)\n",
    "EncoderTemporalSequence = Model4D.EncoderTemporalSequence\n",
    "CineComaEncoder = EncoderPLModule.CineComaEncoder\n",
    "DecoderStyle = Model4D.DecoderStyle\n",
    "AutoencoderTemporalSequence = Model4D.AutoencoderTemporalSequence"
   ]
  },
  {
   "cell_type": "code",
   "execution_count": 150,
   "metadata": {},
   "outputs": [],
   "source": [
    "enc_config = {k: v for k,v in coma_args.items() if k in Model3D.ENCODER_ARGS}"
   ]
  },
  {
   "cell_type": "markdown",
   "metadata": {},
   "source": [
    "___"
   ]
  },
  {
   "cell_type": "markdown",
   "metadata": {},
   "source": [
    "### `EncoderTemporalSequence`"
   ]
  },
  {
   "cell_type": "code",
   "execution_count": 151,
   "metadata": {},
   "outputs": [],
   "source": [
    "cine_encoder = EncoderTemporalSequence(enc_config, z_aggr_function=\"DFT\", n_timeframes=20)"
   ]
  },
  {
   "cell_type": "markdown",
   "metadata": {},
   "source": [
    "Let's test the model on a single datapoint:"
   ]
  },
  {
   "cell_type": "code",
   "execution_count": 152,
   "metadata": {},
   "outputs": [],
   "source": [
    "datapoint = next(iter(dm.train_dataloader()))\n",
    "s_t = datapoint[\"s_t\"]\n",
    "mu = cine_encoder(s_t)[\"mu\"]"
   ]
  },
  {
   "cell_type": "code",
   "execution_count": null,
   "metadata": {},
   "outputs": [],
   "source": []
  },
  {
   "cell_type": "code",
   "execution_count": 157,
   "metadata": {},
   "outputs": [
    {
     "data": {
      "text/plain": [
       "torch.Size([16, 4])"
      ]
     },
     "execution_count": 157,
     "metadata": {},
     "output_type": "execute_result"
    }
   ],
   "source": [
    "mu.shape"
   ]
  },
  {
   "cell_type": "code",
   "execution_count": null,
   "metadata": {},
   "outputs": [],
   "source": []
  },
  {
   "cell_type": "code",
   "execution_count": null,
   "metadata": {},
   "outputs": [],
   "source": []
  },
  {
   "cell_type": "markdown",
   "metadata": {},
   "source": [
    "___"
   ]
  },
  {
   "cell_type": "markdown",
   "metadata": {},
   "source": [
    "### `DecoderStyle`"
   ]
  },
  {
   "cell_type": "code",
   "execution_count": 153,
   "metadata": {},
   "outputs": [],
   "source": [
    "dec_s_config = {k: v for k,v in coma_args.items() if k in Model4D.DECODER_S_ARGS}"
   ]
  },
  {
   "cell_type": "code",
   "execution_count": 154,
   "metadata": {},
   "outputs": [],
   "source": [
    "decoder_s = DecoderStyle(dec_s_config, phase_embedding_method=\"exp\")"
   ]
  },
  {
   "cell_type": "code",
   "execution_count": 158,
   "metadata": {},
   "outputs": [
    {
     "data": {
      "text/plain": [
       "DecoderStyle(\n",
       "  (phase_tensor): PhaseTensor()\n",
       "  (decoder_3d): Decoder3DMesh(\n",
       "    (dec_lin): Linear(in_features=12, out_features=2016, bias=True)\n",
       "    (layers): ModuleDict(\n",
       "      (layer_0): ModuleDict(\n",
       "        (activation_function): ReLU()\n",
       "        (pool): Pool()\n",
       "        (graph_conv): ChebConv_Coma(32, 32, K=6, normalization=None)\n",
       "      )\n",
       "      (layer_1): ModuleDict(\n",
       "        (activation_function): ReLU()\n",
       "        (pool): Pool()\n",
       "        (graph_conv): ChebConv_Coma(32, 16, K=6, normalization=None)\n",
       "      )\n",
       "      (layer_2): ModuleDict(\n",
       "        (activation_function): ReLU()\n",
       "        (pool): Pool()\n",
       "        (graph_conv): ChebConv_Coma(16, 16, K=6, normalization=None)\n",
       "      )\n",
       "      (layer_3): ModuleDict(\n",
       "        (activation_function): ReLU()\n",
       "        (pool): Pool()\n",
       "        (graph_conv): ChebConv_Coma(16, 3, K=6, normalization=None)\n",
       "      )\n",
       "    )\n",
       "  )\n",
       ")"
      ]
     },
     "execution_count": 158,
     "metadata": {},
     "output_type": "execute_result"
    }
   ],
   "source": [
    "decoder_s"
   ]
  },
  {
   "cell_type": "code",
   "execution_count": 155,
   "metadata": {},
   "outputs": [],
   "source": [
    "zc_dim = dec_s_config[\"latent_dim_content\"]\n",
    "zs_dim = dec_s_config[\"latent_dim_style\"]\n",
    "zc = Tensor(np.random.random(zc_dim)).unsqueeze(0)\n",
    "zs = Tensor(np.random.random(zs_dim)).unsqueeze(0)\n",
    "s_hat = decoder_s(zc, zs, coma_args[\"n_timeframes\"])"
   ]
  },
  {
   "cell_type": "code",
   "execution_count": null,
   "metadata": {},
   "outputs": [],
   "source": []
  },
  {
   "cell_type": "code",
   "execution_count": 156,
   "metadata": {},
   "outputs": [
    {
     "data": {
      "text/plain": [
       "torch.Size([1, 20, 1002, 3])"
      ]
     },
     "execution_count": 156,
     "metadata": {},
     "output_type": "execute_result"
    }
   ],
   "source": [
    "s_hat.shape"
   ]
  },
  {
   "cell_type": "code",
   "execution_count": null,
   "metadata": {},
   "outputs": [],
   "source": [
    "DecoderStyle()"
   ]
  },
  {
   "cell_type": "code",
   "execution_count": null,
   "metadata": {},
   "outputs": [],
   "source": []
  },
  {
   "cell_type": "markdown",
   "metadata": {},
   "source": [
    "### `DecoderTemporalSequence`"
   ]
  },
  {
   "cell_type": "code",
   "execution_count": null,
   "metadata": {},
   "outputs": [],
   "source": []
  },
  {
   "cell_type": "code",
   "execution_count": null,
   "metadata": {},
   "outputs": [],
   "source": []
  },
  {
   "cell_type": "code",
   "execution_count": null,
   "metadata": {},
   "outputs": [],
   "source": []
  },
  {
   "cell_type": "markdown",
   "metadata": {},
   "source": [
    "___"
   ]
  },
  {
   "cell_type": "code",
   "execution_count": null,
   "metadata": {},
   "outputs": [],
   "source": [
    "PLEncoder = CineComaEncoder(cine_encoder, config)\n",
    "trainer = pl.Trainer()"
   ]
  },
  {
   "cell_type": "code",
   "execution_count": null,
   "metadata": {},
   "outputs": [],
   "source": [
    "trainer.fit(PLEncoder, dm)"
   ]
  },
  {
   "cell_type": "markdown",
   "metadata": {},
   "source": [
    "___"
   ]
  },
  {
   "cell_type": "markdown",
   "metadata": {},
   "source": [
    "### `AutoencoderTemporalSequence`"
   ]
  },
  {
   "cell_type": "code",
   "execution_count": null,
   "metadata": {},
   "outputs": [],
   "source": []
  }
 ],
 "metadata": {
  "kernelspec": {
   "display_name": "cardio",
   "language": "python",
   "name": "cardio"
  },
  "language_info": {
   "codemirror_mode": {
    "name": "ipython",
    "version": 3
   },
   "file_extension": ".py",
   "mimetype": "text/x-python",
   "name": "python",
   "nbconvert_exporter": "python",
   "pygments_lexer": "ipython3",
   "version": "3.9.12"
  }
 },
 "nbformat": 4,
 "nbformat_minor": 4
}
