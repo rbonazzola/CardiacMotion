{
 "cells": [
  {
   "cell_type": "code",
   "execution_count": 1,
   "metadata": {},
   "outputs": [],
   "source": [
    "import os, sys\n",
    "sys.path.append(\"..\")"
   ]
  },
  {
   "cell_type": "code",
   "execution_count": 2,
   "metadata": {},
   "outputs": [],
   "source": [
    "from config.load_config import load_yaml_config, to_dict"
   ]
  },
  {
   "cell_type": "markdown",
   "metadata": {},
   "source": [
    "### Generate dataset"
   ]
  },
  {
   "cell_type": "code",
   "execution_count": 3,
   "metadata": {},
   "outputs": [],
   "source": [
    "from data.synthetic.SyntheticMeshPopulation import SyntheticMeshPopulation\n",
    "from data.SyntheticDataModules import SyntheticMeshesDataset\n",
    "from torch.utils.data import DataLoader\n",
    "from utils.helpers import get_datamodule"
   ]
  },
  {
   "cell_type": "code",
   "execution_count": 4,
   "metadata": {},
   "outputs": [],
   "source": [
    "config = load_yaml_config(\"../config_files/config_unfolded.yaml\")"
   ]
  },
  {
   "cell_type": "code",
   "execution_count": 5,
   "metadata": {},
   "outputs": [
    {
     "name": "stdout",
     "output_type": "stream",
     "text": [
      "Retrieving synthetic population from cached file.\n"
     ]
    }
   ],
   "source": [
    "dm = get_datamodule(config)"
   ]
  },
  {
   "cell_type": "markdown",
   "metadata": {},
   "source": [
    "___"
   ]
  },
  {
   "cell_type": "markdown",
   "metadata": {},
   "source": [
    "`Encoder3DMesh`"
   ]
  },
  {
   "cell_type": "code",
   "execution_count": 6,
   "metadata": {},
   "outputs": [],
   "source": [
    "from models.Model import Encoder3DMesh"
   ]
  },
  {
   "cell_type": "code",
   "execution_count": 7,
   "metadata": {},
   "outputs": [],
   "source": [
    "from utils.helpers import get_coma_args"
   ]
  },
  {
   "cell_type": "code",
   "execution_count": 8,
   "metadata": {},
   "outputs": [],
   "source": [
    "coma_args = get_coma_args(config, dm)\n",
    "coma_args[\"phase_input\"] = False"
   ]
  },
  {
   "cell_type": "code",
   "execution_count": 23,
   "metadata": {},
   "outputs": [],
   "source": [
    "encoder_args = [\n",
    "    \"num_features\", \n",
    "    \"n_layers\", \n",
    "    \"n_nodes\",\n",
    "    \"num_conv_filters_enc\", \n",
    "    \"polygon_order\", \n",
    "    \"latent_dim_content\", \n",
    "    \"is_variational\", \n",
    "    \"phase_input\", \n",
    "    \"downsample_matrices\",\n",
    "    \"adjacency_matrices\",\n",
    "    \"activation_layers\"\n",
    "]\n",
    "\n",
    "decoder_args = [\n",
    "    \"num_features\", \n",
    "    \"n_layers\", \n",
    "    \"n_nodes\",\n",
    "    \"num_conv_filters_dec\", \n",
    "    \"polygon_order\", \n",
    "    \"latent_dim_content\", \n",
    "    \"is_variational\", \n",
    "    \"phase_input\", \n",
    "    \"upsample_matrices\",\n",
    "    \"adjacency_matrices\",\n",
    "    \"activation_layers\" \n",
    "]\n",
    "\n",
    "enc_config = {k: v for k,v in coma_args.items() if k in encoder_args}\n",
    "dec_config = {k: v for k,v in coma_args.items() if k in decoder_args}"
   ]
  },
  {
   "cell_type": "code",
   "execution_count": 26,
   "metadata": {},
   "outputs": [
    {
     "data": {
      "text/plain": [
       "{'num_features': 3,\n",
       " 'n_layers': 4,\n",
       " 'num_conv_filters_enc': [3, 3, 3, 3, 16, 16, 32, 32],\n",
       " 'polygon_order': [6, 6, 6, 6],\n",
       " 'latent_dim_content': 4,\n",
       " 'is_variational': True,\n",
       " 'phase_input': False,\n",
       " 'downsample_matrices': [tensor(indices=tensor([[   0,    1,    2,  ...,  498,  499,  500],\n",
       "                         [   4,    8,    9,  ...,  998, 1000, 1001]]),\n",
       "         values=tensor([1., 1., 1., 1., 1., 1., 1., 1., 1., 1., 1., 1., 1., 1.,\n",
       "                        1., 1., 1., 1., 1., 1., 1., 1., 1., 1., 1., 1., 1., 1.,\n",
       "                        1., 1., 1., 1., 1., 1., 1., 1., 1., 1., 1., 1., 1., 1.,\n",
       "                        1., 1., 1., 1., 1., 1., 1., 1., 1., 1., 1., 1., 1., 1.,\n",
       "                        1., 1., 1., 1., 1., 1., 1., 1., 1., 1., 1., 1., 1., 1.,\n",
       "                        1., 1., 1., 1., 1., 1., 1., 1., 1., 1., 1., 1., 1., 1.,\n",
       "                        1., 1., 1., 1., 1., 1., 1., 1., 1., 1., 1., 1., 1., 1.,\n",
       "                        1., 1., 1., 1., 1., 1., 1., 1., 1., 1., 1., 1., 1., 1.,\n",
       "                        1., 1., 1., 1., 1., 1., 1., 1., 1., 1., 1., 1., 1., 1.,\n",
       "                        1., 1., 1., 1., 1., 1., 1., 1., 1., 1., 1., 1., 1., 1.,\n",
       "                        1., 1., 1., 1., 1., 1., 1., 1., 1., 1., 1., 1., 1., 1.,\n",
       "                        1., 1., 1., 1., 1., 1., 1., 1., 1., 1., 1., 1., 1., 1.,\n",
       "                        1., 1., 1., 1., 1., 1., 1., 1., 1., 1., 1., 1., 1., 1.,\n",
       "                        1., 1., 1., 1., 1., 1., 1., 1., 1., 1., 1., 1., 1., 1.,\n",
       "                        1., 1., 1., 1., 1., 1., 1., 1., 1., 1., 1., 1., 1., 1.,\n",
       "                        1., 1., 1., 1., 1., 1., 1., 1., 1., 1., 1., 1., 1., 1.,\n",
       "                        1., 1., 1., 1., 1., 1., 1., 1., 1., 1., 1., 1., 1., 1.,\n",
       "                        1., 1., 1., 1., 1., 1., 1., 1., 1., 1., 1., 1., 1., 1.,\n",
       "                        1., 1., 1., 1., 1., 1., 1., 1., 1., 1., 1., 1., 1., 1.,\n",
       "                        1., 1., 1., 1., 1., 1., 1., 1., 1., 1., 1., 1., 1., 1.,\n",
       "                        1., 1., 1., 1., 1., 1., 1., 1., 1., 1., 1., 1., 1., 1.,\n",
       "                        1., 1., 1., 1., 1., 1., 1., 1., 1., 1., 1., 1., 1., 1.,\n",
       "                        1., 1., 1., 1., 1., 1., 1., 1., 1., 1., 1., 1., 1., 1.,\n",
       "                        1., 1., 1., 1., 1., 1., 1., 1., 1., 1., 1., 1., 1., 1.,\n",
       "                        1., 1., 1., 1., 1., 1., 1., 1., 1., 1., 1., 1., 1., 1.,\n",
       "                        1., 1., 1., 1., 1., 1., 1., 1., 1., 1., 1., 1., 1., 1.,\n",
       "                        1., 1., 1., 1., 1., 1., 1., 1., 1., 1., 1., 1., 1., 1.,\n",
       "                        1., 1., 1., 1., 1., 1., 1., 1., 1., 1., 1., 1., 1., 1.,\n",
       "                        1., 1., 1., 1., 1., 1., 1., 1., 1., 1., 1., 1., 1., 1.,\n",
       "                        1., 1., 1., 1., 1., 1., 1., 1., 1., 1., 1., 1., 1., 1.,\n",
       "                        1., 1., 1., 1., 1., 1., 1., 1., 1., 1., 1., 1., 1., 1.,\n",
       "                        1., 1., 1., 1., 1., 1., 1., 1., 1., 1., 1., 1., 1., 1.,\n",
       "                        1., 1., 1., 1., 1., 1., 1., 1., 1., 1., 1., 1., 1., 1.,\n",
       "                        1., 1., 1., 1., 1., 1., 1., 1., 1., 1., 1., 1., 1., 1.,\n",
       "                        1., 1., 1., 1., 1., 1., 1., 1., 1., 1., 1., 1., 1., 1.,\n",
       "                        1., 1., 1., 1., 1., 1., 1., 1., 1., 1., 1.]),\n",
       "         size=(501, 1002), nnz=501, layout=torch.sparse_coo),\n",
       "  tensor(indices=tensor([[  0,   1,   2,   3,   4,   5,   6,   7,   8,   9,  10,\n",
       "                           11,  12,  13,  14,  15,  16,  17,  18,  19,  20,  21,\n",
       "                           22,  23,  24,  25,  26,  27,  28,  29,  30,  31,  32,\n",
       "                           33,  34,  35,  36,  37,  38,  39,  40,  41,  42,  43,\n",
       "                           44,  45,  46,  47,  48,  49,  50,  51,  52,  53,  54,\n",
       "                           55,  56,  57,  58,  59,  60,  61,  62,  63,  64,  65,\n",
       "                           66,  67,  68,  69,  70,  71,  72,  73,  74,  75,  76,\n",
       "                           77,  78,  79,  80,  81,  82,  83,  84,  85,  86,  87,\n",
       "                           88,  89,  90,  91,  92,  93,  94,  95,  96,  97,  98,\n",
       "                           99, 100, 101, 102, 103, 104, 105, 106, 107, 108, 109,\n",
       "                          110, 111, 112, 113, 114, 115, 116, 117, 118, 119, 120,\n",
       "                          121, 122, 123, 124, 125, 126, 127, 128, 129, 130, 131,\n",
       "                          132, 133, 134, 135, 136, 137, 138, 139, 140, 141, 142,\n",
       "                          143, 144, 145, 146, 147, 148, 149, 150, 151, 152, 153,\n",
       "                          154, 155, 156, 157, 158, 159, 160, 161, 162, 163, 164,\n",
       "                          165, 166, 167, 168, 169, 170, 171, 172, 173, 174, 175,\n",
       "                          176, 177, 178, 179, 180, 181, 182, 183, 184, 185, 186,\n",
       "                          187, 188, 189, 190, 191, 192, 193, 194, 195, 196, 197,\n",
       "                          198, 199, 200, 201, 202, 203, 204, 205, 206, 207, 208,\n",
       "                          209, 210, 211, 212, 213, 214, 215, 216, 217, 218, 219,\n",
       "                          220, 221, 222, 223, 224, 225, 226, 227, 228, 229, 230,\n",
       "                          231, 232, 233, 234, 235, 236, 237, 238, 239, 240, 241,\n",
       "                          242, 243, 244, 245, 246, 247, 248, 249, 250],\n",
       "                         [  0,   5,   6,   9,  13,  15,  16,  17,  18,  20,  21,\n",
       "                           26,  30,  32,  33,  35,  36,  37,  38,  39,  40,  42,\n",
       "                           44,  47,  49,  50,  52,  55,  57,  60,  62,  63,  64,\n",
       "                           65,  66,  72,  75,  76,  77,  78,  79,  80,  82,  85,\n",
       "                           87,  89,  90,  91,  92,  93,  97,  99, 101, 102, 103,\n",
       "                          104, 105, 106, 107, 108, 109, 120, 125, 127, 128, 132,\n",
       "                          134, 135, 136, 137, 138, 139, 143, 144, 145, 147, 148,\n",
       "                          150, 152, 154, 156, 157, 159, 160, 163, 167, 168, 169,\n",
       "                          170, 175, 176, 177, 178, 180, 181, 183, 184, 185, 189,\n",
       "                          190, 194, 196, 202, 203, 204, 205, 212, 213, 214, 216,\n",
       "                          217, 223, 224, 225, 226, 228, 230, 237, 239, 246, 248,\n",
       "                          249, 251, 256, 257, 259, 261, 262, 264, 268, 269, 270,\n",
       "                          271, 272, 273, 274, 275, 276, 279, 280, 281, 282, 284,\n",
       "                          288, 289, 294, 295, 296, 298, 300, 302, 304, 307, 310,\n",
       "                          312, 313, 314, 319, 321, 322, 323, 324, 329, 331, 332,\n",
       "                          333, 335, 339, 340, 342, 344, 348, 349, 351, 353, 357,\n",
       "                          358, 359, 360, 363, 364, 368, 369, 370, 372, 373, 374,\n",
       "                          375, 376, 377, 378, 379, 380, 383, 384, 386, 387, 388,\n",
       "                          389, 392, 396, 400, 401, 402, 405, 408, 409, 410, 411,\n",
       "                          412, 417, 418, 419, 421, 422, 425, 426, 432, 433, 436,\n",
       "                          437, 442, 443, 444, 445, 447, 450, 451, 453, 454, 456,\n",
       "                          457, 458, 459, 460, 466, 469, 470, 471, 472, 473, 474,\n",
       "                          475, 478, 482, 489, 495, 496, 498, 499, 500]]),\n",
       "         values=tensor([1., 1., 1., 1., 1., 1., 1., 1., 1., 1., 1., 1., 1., 1.,\n",
       "                        1., 1., 1., 1., 1., 1., 1., 1., 1., 1., 1., 1., 1., 1.,\n",
       "                        1., 1., 1., 1., 1., 1., 1., 1., 1., 1., 1., 1., 1., 1.,\n",
       "                        1., 1., 1., 1., 1., 1., 1., 1., 1., 1., 1., 1., 1., 1.,\n",
       "                        1., 1., 1., 1., 1., 1., 1., 1., 1., 1., 1., 1., 1., 1.,\n",
       "                        1., 1., 1., 1., 1., 1., 1., 1., 1., 1., 1., 1., 1., 1.,\n",
       "                        1., 1., 1., 1., 1., 1., 1., 1., 1., 1., 1., 1., 1., 1.,\n",
       "                        1., 1., 1., 1., 1., 1., 1., 1., 1., 1., 1., 1., 1., 1.,\n",
       "                        1., 1., 1., 1., 1., 1., 1., 1., 1., 1., 1., 1., 1., 1.,\n",
       "                        1., 1., 1., 1., 1., 1., 1., 1., 1., 1., 1., 1., 1., 1.,\n",
       "                        1., 1., 1., 1., 1., 1., 1., 1., 1., 1., 1., 1., 1., 1.,\n",
       "                        1., 1., 1., 1., 1., 1., 1., 1., 1., 1., 1., 1., 1., 1.,\n",
       "                        1., 1., 1., 1., 1., 1., 1., 1., 1., 1., 1., 1., 1., 1.,\n",
       "                        1., 1., 1., 1., 1., 1., 1., 1., 1., 1., 1., 1., 1., 1.,\n",
       "                        1., 1., 1., 1., 1., 1., 1., 1., 1., 1., 1., 1., 1., 1.,\n",
       "                        1., 1., 1., 1., 1., 1., 1., 1., 1., 1., 1., 1., 1., 1.,\n",
       "                        1., 1., 1., 1., 1., 1., 1., 1., 1., 1., 1., 1., 1., 1.,\n",
       "                        1., 1., 1., 1., 1., 1., 1., 1., 1., 1., 1., 1., 1.]),\n",
       "         size=(251, 501), nnz=251, layout=torch.sparse_coo),\n",
       "  tensor(indices=tensor([[  0,   1,   2,   3,   4,   5,   6,   7,   8,   9,  10,\n",
       "                           11,  12,  13,  14,  15,  16,  17,  18,  19,  20,  21,\n",
       "                           22,  23,  24,  25,  26,  27,  28,  29,  30,  31,  32,\n",
       "                           33,  34,  35,  36,  37,  38,  39,  40,  41,  42,  43,\n",
       "                           44,  45,  46,  47,  48,  49,  50,  51,  52,  53,  54,\n",
       "                           55,  56,  57,  58,  59,  60,  61,  62,  63,  64,  65,\n",
       "                           66,  67,  68,  69,  70,  71,  72,  73,  74,  75,  76,\n",
       "                           77,  78,  79,  80,  81,  82,  83,  84,  85,  86,  87,\n",
       "                           88,  89,  90,  91,  92,  93,  94,  95,  96,  97,  98,\n",
       "                           99, 100, 101, 102, 103, 104, 105, 106, 107, 108, 109,\n",
       "                          110, 111, 112, 113, 114, 115, 116, 117, 118, 119, 120,\n",
       "                          121, 122, 123, 124, 125],\n",
       "                         [ 11,  12,  13,  16,  18,  19,  22,  23,  26,  27,  33,\n",
       "                           35,  37,  38,  42,  43,  46,  47,  51,  52,  53,  56,\n",
       "                           57,  58,  61,  62,  65,  66,  69,  72,  73,  75,  76,\n",
       "                           79,  80,  81,  82,  84,  86,  90,  91,  96,  97, 100,\n",
       "                          101, 103, 104, 105, 106, 107, 108, 109, 110, 114, 116,\n",
       "                          118, 121, 122, 123, 128, 130, 132, 133, 134, 138, 140,\n",
       "                          142, 143, 144, 146, 147, 149, 151, 152, 153, 159, 162,\n",
       "                          165, 167, 168, 171, 172, 175, 178, 179, 181, 183, 185,\n",
       "                          187, 188, 189, 192, 193, 194, 197, 198, 200, 201, 203,\n",
       "                          205, 208, 209, 210, 211, 212, 213, 214, 216, 218, 219,\n",
       "                          222, 223, 226, 229, 230, 232, 233, 234, 235, 237, 238,\n",
       "                          245, 246, 247, 248, 249]]),\n",
       "         values=tensor([1., 1., 1., 1., 1., 1., 1., 1., 1., 1., 1., 1., 1., 1.,\n",
       "                        1., 1., 1., 1., 1., 1., 1., 1., 1., 1., 1., 1., 1., 1.,\n",
       "                        1., 1., 1., 1., 1., 1., 1., 1., 1., 1., 1., 1., 1., 1.,\n",
       "                        1., 1., 1., 1., 1., 1., 1., 1., 1., 1., 1., 1., 1., 1.,\n",
       "                        1., 1., 1., 1., 1., 1., 1., 1., 1., 1., 1., 1., 1., 1.,\n",
       "                        1., 1., 1., 1., 1., 1., 1., 1., 1., 1., 1., 1., 1., 1.,\n",
       "                        1., 1., 1., 1., 1., 1., 1., 1., 1., 1., 1., 1., 1., 1.,\n",
       "                        1., 1., 1., 1., 1., 1., 1., 1., 1., 1., 1., 1., 1., 1.,\n",
       "                        1., 1., 1., 1., 1., 1., 1., 1., 1., 1., 1., 1., 1., 1.]),\n",
       "         size=(126, 251), nnz=126, layout=torch.sparse_coo),\n",
       "  tensor(indices=tensor([[  0,   1,   2,   3,   4,   5,   6,   7,   8,   9,  10,\n",
       "                           11,  12,  13,  14,  15,  16,  17,  18,  19,  20,  21,\n",
       "                           22,  23,  24,  25,  26,  27,  28,  29,  30,  31,  32,\n",
       "                           33,  34,  35,  36,  37,  38,  39,  40,  41,  42,  43,\n",
       "                           44,  45,  46,  47,  48,  49,  50,  51,  52,  53,  54,\n",
       "                           55,  56,  57,  58,  59,  60,  61,  62],\n",
       "                         [  1,   3,   4,   5,   8,  10,  12,  13,  14,  20,  21,\n",
       "                           22,  24,  25,  27,  28,  29,  33,  35,  36,  37,  39,\n",
       "                           41,  43,  48,  51,  53,  54,  56,  57,  62,  64,  66,\n",
       "                           72,  73,  76,  78,  79,  82,  83,  85,  87,  88,  91,\n",
       "                           93,  94,  95,  97,  99, 101, 107, 108, 109, 110, 112,\n",
       "                          114, 115, 116, 120, 122, 123, 124, 125]]),\n",
       "         values=tensor([1., 1., 1., 1., 1., 1., 1., 1., 1., 1., 1., 1., 1., 1.,\n",
       "                        1., 1., 1., 1., 1., 1., 1., 1., 1., 1., 1., 1., 1., 1.,\n",
       "                        1., 1., 1., 1., 1., 1., 1., 1., 1., 1., 1., 1., 1., 1.,\n",
       "                        1., 1., 1., 1., 1., 1., 1., 1., 1., 1., 1., 1., 1., 1.,\n",
       "                        1., 1., 1., 1., 1., 1., 1.]),\n",
       "         size=(63, 126), nnz=63, layout=torch.sparse_coo)],\n",
       " 'adjacency_matrices': [tensor(indices=tensor([[  10,   32,  203,  ...,  619,  802,  860],\n",
       "                         [   0,    0,    0,  ..., 1001, 1001, 1001]]),\n",
       "         values=tensor([2., 2., 2.,  ..., 2., 2., 2.]),\n",
       "         size=(1002, 1002), nnz=6000, layout=torch.sparse_coo),\n",
       "  tensor(indices=tensor([[ 51,  95, 144,  ..., 186, 308, 443],\n",
       "                         [  0,   0,   0,  ..., 500, 500, 500]]),\n",
       "         values=tensor([2., 2., 2.,  ..., 2., 2., 2.]),\n",
       "         size=(501, 501), nnz=2994, layout=torch.sparse_coo),\n",
       "  tensor(indices=tensor([[ 32,  73, 143,  ...,  86, 122, 222],\n",
       "                         [  0,   0,   0,  ..., 250, 250, 250]]),\n",
       "         values=tensor([2., 2., 2.,  ..., 2., 2., 2.]),\n",
       "         size=(251, 251), nnz=1494, layout=torch.sparse_coo),\n",
       "  tensor(indices=tensor([[ 19,  23,  42,  ...,  69,  96, 114],\n",
       "                         [  0,   0,   0,  ..., 125, 125, 125]]),\n",
       "         values=tensor([2., 2., 2., 2., 2., 2., 2., 2., 2., 2., 2., 2., 2., 2.,\n",
       "                        2., 2., 2., 2., 2., 2., 2., 2., 2., 2., 2., 2., 2., 2.,\n",
       "                        2., 2., 2., 2., 2., 2., 2., 2., 2., 2., 2., 2., 2., 2.,\n",
       "                        2., 2., 2., 2., 2., 2., 2., 2., 2., 2., 2., 2., 2., 2.,\n",
       "                        2., 2., 2., 2., 2., 2., 2., 2., 2., 2., 2., 2., 2., 2.,\n",
       "                        2., 2., 2., 2., 2., 2., 2., 2., 2., 2., 2., 2., 2., 2.,\n",
       "                        2., 2., 2., 2., 2., 2., 2., 2., 2., 2., 2., 2., 2., 2.,\n",
       "                        2., 2., 2., 2., 2., 2., 2., 2., 2., 2., 2., 2., 2., 2.,\n",
       "                        2., 2., 2., 2., 2., 2., 2., 2., 2., 2., 2., 2., 2., 2.,\n",
       "                        2., 2., 2., 2., 2., 2., 2., 2., 2., 2., 2., 2., 2., 2.,\n",
       "                        2., 2., 2., 2., 2., 2., 2., 2., 2., 2., 2., 2., 2., 2.,\n",
       "                        2., 2., 2., 2., 2., 2., 2., 2., 2., 2., 2., 2., 2., 2.,\n",
       "                        2., 2., 2., 2., 2., 2., 2., 2., 2., 2., 2., 2., 2., 2.,\n",
       "                        2., 2., 2., 2., 2., 2., 2., 2., 2., 2., 2., 2., 2., 2.,\n",
       "                        2., 2., 2., 2., 2., 2., 2., 2., 2., 2., 2., 2., 2., 2.,\n",
       "                        2., 2., 2., 2., 2., 2., 2., 2., 2., 2., 2., 2., 2., 2.,\n",
       "                        2., 2., 2., 2., 2., 2., 2., 2., 2., 2., 2., 2., 2., 2.,\n",
       "                        2., 2., 2., 2., 2., 2., 2., 2., 2., 2., 2., 2., 2., 2.,\n",
       "                        2., 2., 2., 2., 2., 2., 2., 2., 2., 2., 2., 2., 2., 2.,\n",
       "                        2., 2., 2., 2., 2., 2., 2., 2., 2., 2., 2., 2., 2., 2.,\n",
       "                        2., 2., 2., 2., 2., 2., 2., 2., 2., 2., 2., 2., 2., 2.,\n",
       "                        2., 2., 2., 2., 2., 2., 2., 2., 2., 2., 2., 2., 2., 2.,\n",
       "                        2., 2., 2., 2., 2., 2., 2., 2., 2., 2., 2., 2., 2., 2.,\n",
       "                        2., 2., 2., 2., 2., 2., 2., 2., 2., 2., 2., 2., 2., 2.,\n",
       "                        2., 2., 2., 2., 2., 2., 2., 2., 2., 2., 2., 2., 2., 2.,\n",
       "                        2., 2., 2., 2., 2., 2., 2., 2., 2., 2., 2., 2., 2., 2.,\n",
       "                        2., 2., 2., 2., 2., 2., 2., 2., 2., 2., 2., 2., 2., 2.,\n",
       "                        2., 2., 2., 2., 2., 2., 2., 2., 2., 2., 2., 2., 2., 2.,\n",
       "                        2., 2., 2., 2., 2., 2., 2., 2., 2., 2., 2., 2., 2., 2.,\n",
       "                        2., 2., 2., 2., 2., 2., 2., 2., 2., 2., 2., 2., 2., 2.,\n",
       "                        2., 2., 2., 2., 2., 2., 2., 2., 2., 2., 2., 2., 2., 2.,\n",
       "                        2., 2., 2., 2., 2., 2., 2., 2., 2., 2., 2., 2., 2., 2.,\n",
       "                        2., 2., 2., 2., 2., 2., 2., 2., 2., 2., 2., 2., 2., 2.,\n",
       "                        2., 2., 2., 2., 2., 2., 2., 2., 2., 2., 2., 2., 2., 2.,\n",
       "                        2., 2., 2., 2., 2., 2., 2., 2., 2., 2., 2., 2., 2., 2.,\n",
       "                        2., 2., 2., 2., 2., 2., 2., 2., 2., 2., 2., 2., 2., 2.,\n",
       "                        2., 2., 2., 2., 2., 2., 2., 2., 2., 2., 2., 2., 2., 2.,\n",
       "                        2., 2., 2., 2., 2., 2., 2., 2., 2., 2., 2., 2., 2., 2.,\n",
       "                        2., 2., 2., 2., 2., 2., 2., 2., 2., 2., 2., 2., 2., 2.,\n",
       "                        2., 2., 2., 2., 2., 2., 2., 2., 2., 2., 2., 2., 2., 2.,\n",
       "                        2., 2., 2., 2., 2., 2., 2., 2., 2., 2., 2., 2., 2., 2.,\n",
       "                        2., 2., 2., 2., 2., 2., 2., 2., 2., 2., 2., 2., 2., 2.,\n",
       "                        2., 2., 2., 2., 2., 2., 2., 2., 2., 2., 2., 2., 2., 2.,\n",
       "                        2., 2., 2., 2., 2., 2., 2., 2., 2., 2., 2., 2., 2., 2.,\n",
       "                        2., 2., 2., 2., 2., 2., 2., 2., 2., 2., 2., 2., 2., 2.,\n",
       "                        2., 2., 2., 2., 2., 2., 2., 2., 2., 2., 2., 2., 2., 2.,\n",
       "                        2., 2., 2., 2., 2., 2., 2., 2., 2., 2., 2., 2., 2., 2.,\n",
       "                        2., 2., 2., 2., 2., 2., 2., 2., 2., 2., 2., 2., 2., 2.,\n",
       "                        2., 2., 2., 2., 2., 2., 2., 2., 2., 2., 2., 2., 2., 2.,\n",
       "                        2., 2., 2., 2., 2., 2., 2., 2., 2., 2., 2., 2., 2., 2.,\n",
       "                        2., 2., 2., 2., 2., 2., 2., 2., 2., 2., 2., 2., 2., 2.,\n",
       "                        2., 2., 2., 2., 2., 2., 2., 2., 2., 2., 2., 2., 2., 2.,\n",
       "                        2., 2., 2., 2., 2., 2., 2., 2., 2., 2., 2., 2., 2., 2.,\n",
       "                        2., 2.]),\n",
       "         size=(126, 126), nnz=744, layout=torch.sparse_coo),\n",
       "  tensor(indices=tensor([[ 2,  8, 20, 33, 43, 57, 12, 15, 17, 18, 28, 61,  0,  4,\n",
       "                           5,  8, 15, 31, 43, 25, 35, 42, 49, 54,  2, 14, 15, 18,\n",
       "                          22, 43, 45,  2, 15, 31, 46, 61,  9, 13, 27, 39, 51, 52,\n",
       "                          57, 10, 12, 24, 37, 48, 61,  0,  2, 19, 31, 33, 40,  6,\n",
       "                          11, 22, 52, 57,  7, 21, 37, 44, 48, 62,  9, 22, 23, 52,\n",
       "                           1,  7, 24, 28, 41, 61,  6, 16, 27, 29, 49, 52, 53,  4,\n",
       "                          17, 18, 22, 36,  1,  2,  4,  5, 18, 61, 13, 23, 29, 52,\n",
       "                          60,  1, 14, 18, 28, 36, 50,  1,  4, 14, 15, 17,  8, 32,\n",
       "                          33, 34, 40, 47, 54,  0, 30, 33, 39, 51, 57, 10, 32, 44,\n",
       "                          48, 56,  4,  9, 11, 14, 23, 36, 45, 57, 11, 16, 22, 36,\n",
       "                          50, 52, 60,  7, 12, 37, 41, 59,  3, 34, 42, 44, 54, 55,\n",
       "                          29, 38, 55, 58, 59, 60, 62,  6, 13, 35, 39, 49,  1, 12,\n",
       "                          17, 41, 50, 13, 16, 26, 53, 58, 60, 20, 33, 39, 47,  2,\n",
       "                           5,  8, 40, 46, 19, 21, 34, 40, 46, 48, 56,  0,  8, 19,\n",
       "                          20, 30, 47, 19, 25, 32, 44, 54, 56,  3, 27, 39, 47, 49,\n",
       "                          54, 14, 17, 22, 23, 50,  7, 10, 24, 59, 62, 26, 41, 50,\n",
       "                          59, 60,  6, 20, 27, 30, 35, 47, 51,  8, 19, 31, 32, 46,\n",
       "                          12, 24, 28, 38, 50, 59,  3, 25, 49, 53, 55, 58,  0,  2,\n",
       "                           4, 45, 57, 10, 21, 25, 34, 55, 56, 62,  4, 22, 43, 57,\n",
       "                           5, 31, 32, 40, 48, 61, 19, 30, 33, 35, 39, 54,  7, 10,\n",
       "                          21, 32, 46, 61,  3, 13, 27, 35, 42, 53, 17, 23, 28, 36,\n",
       "                          38, 41, 60,  6, 20, 39, 57,  6,  9, 11, 13, 16, 23, 13,\n",
       "                          29, 42, 49, 58,  3, 19, 25, 34, 35, 47, 25, 26, 42, 44,\n",
       "                          58, 62, 21, 32, 34, 44,  0,  6,  9, 20, 22, 43, 45, 51,\n",
       "                          26, 29, 42, 53, 55, 24, 26, 37, 38, 41, 62, 16, 23, 26,\n",
       "                          29, 38, 50,  1,  5,  7, 12, 15, 46, 48, 10, 26, 37, 44,\n",
       "                          55, 59],\n",
       "                         [ 0,  0,  0,  0,  0,  0,  1,  1,  1,  1,  1,  1,  2,  2,\n",
       "                           2,  2,  2,  2,  2,  3,  3,  3,  3,  3,  4,  4,  4,  4,\n",
       "                           4,  4,  4,  5,  5,  5,  5,  5,  6,  6,  6,  6,  6,  6,\n",
       "                           6,  7,  7,  7,  7,  7,  7,  8,  8,  8,  8,  8,  8,  9,\n",
       "                           9,  9,  9,  9, 10, 10, 10, 10, 10, 10, 11, 11, 11, 11,\n",
       "                          12, 12, 12, 12, 12, 12, 13, 13, 13, 13, 13, 13, 13, 14,\n",
       "                          14, 14, 14, 14, 15, 15, 15, 15, 15, 15, 16, 16, 16, 16,\n",
       "                          16, 17, 17, 17, 17, 17, 17, 18, 18, 18, 18, 18, 19, 19,\n",
       "                          19, 19, 19, 19, 19, 20, 20, 20, 20, 20, 20, 21, 21, 21,\n",
       "                          21, 21, 22, 22, 22, 22, 22, 22, 22, 22, 23, 23, 23, 23,\n",
       "                          23, 23, 23, 24, 24, 24, 24, 24, 25, 25, 25, 25, 25, 25,\n",
       "                          26, 26, 26, 26, 26, 26, 26, 27, 27, 27, 27, 27, 28, 28,\n",
       "                          28, 28, 28, 29, 29, 29, 29, 29, 29, 30, 30, 30, 30, 31,\n",
       "                          31, 31, 31, 31, 32, 32, 32, 32, 32, 32, 32, 33, 33, 33,\n",
       "                          33, 33, 33, 34, 34, 34, 34, 34, 34, 35, 35, 35, 35, 35,\n",
       "                          35, 36, 36, 36, 36, 36, 37, 37, 37, 37, 37, 38, 38, 38,\n",
       "                          38, 38, 39, 39, 39, 39, 39, 39, 39, 40, 40, 40, 40, 40,\n",
       "                          41, 41, 41, 41, 41, 41, 42, 42, 42, 42, 42, 42, 43, 43,\n",
       "                          43, 43, 43, 44, 44, 44, 44, 44, 44, 44, 45, 45, 45, 45,\n",
       "                          46, 46, 46, 46, 46, 46, 47, 47, 47, 47, 47, 47, 48, 48,\n",
       "                          48, 48, 48, 48, 49, 49, 49, 49, 49, 49, 50, 50, 50, 50,\n",
       "                          50, 50, 50, 51, 51, 51, 51, 52, 52, 52, 52, 52, 52, 53,\n",
       "                          53, 53, 53, 53, 54, 54, 54, 54, 54, 54, 55, 55, 55, 55,\n",
       "                          55, 55, 56, 56, 56, 56, 57, 57, 57, 57, 57, 57, 57, 57,\n",
       "                          58, 58, 58, 58, 58, 59, 59, 59, 59, 59, 59, 60, 60, 60,\n",
       "                          60, 60, 60, 61, 61, 61, 61, 61, 61, 61, 62, 62, 62, 62,\n",
       "                          62, 62]]),\n",
       "         values=tensor([2., 2., 2., 2., 2., 2., 2., 2., 2., 2., 2., 2., 2., 2.,\n",
       "                        2., 2., 2., 2., 2., 2., 2., 2., 2., 2., 2., 2., 2., 2.,\n",
       "                        2., 2., 2., 2., 2., 2., 2., 2., 2., 2., 2., 2., 2., 2.,\n",
       "                        2., 2., 2., 2., 2., 2., 2., 2., 2., 2., 2., 2., 2., 2.,\n",
       "                        2., 2., 2., 2., 2., 2., 2., 2., 2., 2., 2., 2., 2., 2.,\n",
       "                        2., 2., 2., 2., 2., 2., 2., 2., 2., 2., 2., 2., 2., 2.,\n",
       "                        2., 2., 2., 2., 2., 2., 2., 2., 2., 2., 2., 2., 2., 2.,\n",
       "                        2., 2., 2., 2., 2., 2., 2., 2., 2., 2., 2., 2., 2., 2.,\n",
       "                        2., 2., 2., 2., 2., 2., 2., 2., 2., 2., 2., 2., 2., 2.,\n",
       "                        2., 2., 2., 2., 2., 2., 2., 2., 2., 2., 2., 2., 2., 2.,\n",
       "                        2., 2., 2., 2., 2., 2., 2., 2., 2., 2., 2., 2., 2., 2.,\n",
       "                        2., 2., 2., 2., 2., 2., 2., 2., 2., 2., 2., 2., 2., 2.,\n",
       "                        2., 2., 2., 2., 2., 2., 2., 2., 2., 2., 2., 2., 2., 2.,\n",
       "                        2., 2., 2., 2., 2., 2., 2., 2., 2., 2., 2., 2., 2., 2.,\n",
       "                        2., 2., 2., 2., 2., 2., 2., 2., 2., 2., 2., 2., 2., 2.,\n",
       "                        2., 2., 2., 2., 2., 2., 2., 2., 2., 2., 2., 2., 2., 2.,\n",
       "                        2., 2., 2., 2., 2., 2., 2., 2., 2., 2., 2., 2., 2., 2.,\n",
       "                        2., 2., 2., 2., 2., 2., 2., 2., 2., 2., 2., 2., 2., 2.,\n",
       "                        2., 2., 2., 2., 2., 2., 2., 2., 2., 2., 2., 2., 2., 2.,\n",
       "                        2., 2., 2., 2., 2., 2., 2., 2., 2., 2., 2., 2., 2., 2.,\n",
       "                        2., 2., 2., 2., 2., 2., 2., 2., 2., 2., 2., 2., 2., 2.,\n",
       "                        2., 2., 2., 2., 2., 2., 2., 2., 2., 2., 2., 2., 2., 2.,\n",
       "                        2., 2., 2., 2., 2., 2., 2., 2., 2., 2., 2., 2., 2., 2.,\n",
       "                        2., 2., 2., 2., 2., 2., 2., 2., 2., 2., 2., 2., 2., 2.,\n",
       "                        2., 2., 2., 2., 2., 2., 2., 2., 2., 2., 2., 2., 2., 2.,\n",
       "                        2., 2., 2., 2., 2., 2., 2., 2., 2., 2., 2., 2., 2., 2.,\n",
       "                        2., 2.]),\n",
       "         size=(63, 63), nnz=366, layout=torch.sparse_coo)],\n",
       " 'n_nodes': [1002, 501, 251, 126, 63]}"
      ]
     },
     "execution_count": 26,
     "metadata": {},
     "output_type": "execute_result"
    }
   ],
   "source": [
    "enc_config"
   ]
  },
  {
   "cell_type": "code",
   "execution_count": 25,
   "metadata": {},
   "outputs": [
    {
     "name": "stdout",
     "output_type": "stream",
     "text": [
      "Unexpected exception formatting exception. Falling back to standard exception\n"
     ]
    },
    {
     "name": "stderr",
     "output_type": "stream",
     "text": [
      "Traceback (most recent call last):\n",
      "  File \"/home/rodrigo/anaconda3/envs/cardio/lib/python3.9/site-packages/IPython/core/interactiveshell.py\", line 3369, in run_code\n",
      "    exec(code_obj, self.user_global_ns, self.user_ns)\n",
      "  File \"/tmp/ipykernel_16663/3835399914.py\", line 1, in <cell line: 1>\n",
      "    encoder_model = Encoder3DMesh(**enc_config)\n",
      "  File \"/home/rodrigo/CISTIB/repos/CardiacMotionRL/tests/../models/Model.py\", line 178, in __init__\n",
      "    self._n_features_before_z = self.upsample_matrices[-1].shape[0] * self.filters_enc[-1]\n",
      "  File \"/home/rodrigo/CISTIB/repos/CardiacMotionRL/tests/../models/Model.py\", line 188, in _build_encoder\n",
      "  File \"/home/rodrigo/CISTIB/repos/CardiacMotionRL/tests/../models/Model.py\", line 236, in _build_cheb_conv_layers\n",
      "  File \"/home/rodrigo/CISTIB/repos/CardiacMotionRL/tests/../models/Model.py\", line 240, in <listcomp>\n",
      "IndexError: list index out of range\n",
      "\n",
      "During handling of the above exception, another exception occurred:\n",
      "\n",
      "Traceback (most recent call last):\n",
      "  File \"/home/rodrigo/anaconda3/envs/cardio/lib/python3.9/site-packages/IPython/core/interactiveshell.py\", line 1982, in showtraceback\n",
      "    stb = self.InteractiveTB.structured_traceback(\n",
      "  File \"/home/rodrigo/anaconda3/envs/cardio/lib/python3.9/site-packages/IPython/core/ultratb.py\", line 1118, in structured_traceback\n",
      "    return FormattedTB.structured_traceback(\n",
      "  File \"/home/rodrigo/anaconda3/envs/cardio/lib/python3.9/site-packages/IPython/core/ultratb.py\", line 1012, in structured_traceback\n",
      "    return VerboseTB.structured_traceback(\n",
      "  File \"/home/rodrigo/anaconda3/envs/cardio/lib/python3.9/site-packages/IPython/core/ultratb.py\", line 865, in structured_traceback\n",
      "    formatted_exception = self.format_exception_as_a_whole(etype, evalue, etb, number_of_lines_of_context,\n",
      "  File \"/home/rodrigo/anaconda3/envs/cardio/lib/python3.9/site-packages/IPython/core/ultratb.py\", line 818, in format_exception_as_a_whole\n",
      "    frames.append(self.format_record(r))\n",
      "  File \"/home/rodrigo/anaconda3/envs/cardio/lib/python3.9/site-packages/IPython/core/ultratb.py\", line 736, in format_record\n",
      "    result += ''.join(_format_traceback_lines(frame_info.lines, Colors, self.has_colors, lvals))\n",
      "  File \"/home/rodrigo/anaconda3/envs/cardio/lib/python3.9/site-packages/stack_data/utils.py\", line 145, in cached_property_wrapper\n",
      "    value = obj.__dict__[self.func.__name__] = self.func(obj)\n",
      "  File \"/home/rodrigo/anaconda3/envs/cardio/lib/python3.9/site-packages/stack_data/core.py\", line 698, in lines\n",
      "    pieces = self.included_pieces\n",
      "  File \"/home/rodrigo/anaconda3/envs/cardio/lib/python3.9/site-packages/stack_data/utils.py\", line 145, in cached_property_wrapper\n",
      "    value = obj.__dict__[self.func.__name__] = self.func(obj)\n",
      "  File \"/home/rodrigo/anaconda3/envs/cardio/lib/python3.9/site-packages/stack_data/core.py\", line 649, in included_pieces\n",
      "    pos = scope_pieces.index(self.executing_piece)\n",
      "  File \"/home/rodrigo/anaconda3/envs/cardio/lib/python3.9/site-packages/stack_data/utils.py\", line 145, in cached_property_wrapper\n",
      "    value = obj.__dict__[self.func.__name__] = self.func(obj)\n",
      "  File \"/home/rodrigo/anaconda3/envs/cardio/lib/python3.9/site-packages/stack_data/core.py\", line 628, in executing_piece\n",
      "    return only(\n",
      "  File \"/home/rodrigo/anaconda3/envs/cardio/lib/python3.9/site-packages/executing/executing.py\", line 164, in only\n",
      "    raise NotOneValueFound('Expected one value, found 0')\n",
      "executing.executing.NotOneValueFound: Expected one value, found 0\n"
     ]
    }
   ],
   "source": [
    "encoder_model = Encoder3DMesh(**enc_config)"
   ]
  },
  {
   "cell_type": "code",
   "execution_count": 20,
   "metadata": {},
   "outputs": [
    {
     "name": "stdout",
     "output_type": "stream",
     "text": [
      "Unexpected exception formatting exception. Falling back to standard exception\n"
     ]
    },
    {
     "name": "stderr",
     "output_type": "stream",
     "text": [
      "Traceback (most recent call last):\n",
      "  File \"/home/rodrigo/anaconda3/envs/cardio/lib/python3.9/site-packages/IPython/core/interactiveshell.py\", line 3369, in run_code\n",
      "    exec(code_obj, self.user_global_ns, self.user_ns)\n",
      "  File \"/tmp/ipykernel_16663/2634880888.py\", line 1, in <cell line: 1>\n",
      "    encoder_model = Encoder3DMesh(**enc_config)\n",
      "  File \"/home/rodrigo/CISTIB/repos/CardiacMotionRL/tests/../models/Model.py\", line 178, in __init__\n",
      "    self._n_features_before_z = self.upsample_matrices[-1].shape[0] * self.filters_enc[-1]\n",
      "  File \"/home/rodrigo/CISTIB/repos/CardiacMotionRL/tests/../models/Model.py\", line 188, in _build_encoder\n",
      "  File \"/home/rodrigo/CISTIB/repos/CardiacMotionRL/tests/../models/Model.py\", line 236, in _build_cheb_conv_layers\n",
      "  File \"/home/rodrigo/CISTIB/repos/CardiacMotionRL/tests/../models/Model.py\", line 240, in <listcomp>\n",
      "IndexError: list index out of range\n",
      "\n",
      "During handling of the above exception, another exception occurred:\n",
      "\n",
      "Traceback (most recent call last):\n",
      "  File \"/home/rodrigo/anaconda3/envs/cardio/lib/python3.9/site-packages/IPython/core/interactiveshell.py\", line 1982, in showtraceback\n",
      "    stb = self.InteractiveTB.structured_traceback(\n",
      "  File \"/home/rodrigo/anaconda3/envs/cardio/lib/python3.9/site-packages/IPython/core/ultratb.py\", line 1118, in structured_traceback\n",
      "    return FormattedTB.structured_traceback(\n",
      "  File \"/home/rodrigo/anaconda3/envs/cardio/lib/python3.9/site-packages/IPython/core/ultratb.py\", line 1012, in structured_traceback\n",
      "    return VerboseTB.structured_traceback(\n",
      "  File \"/home/rodrigo/anaconda3/envs/cardio/lib/python3.9/site-packages/IPython/core/ultratb.py\", line 865, in structured_traceback\n",
      "    formatted_exception = self.format_exception_as_a_whole(etype, evalue, etb, number_of_lines_of_context,\n",
      "  File \"/home/rodrigo/anaconda3/envs/cardio/lib/python3.9/site-packages/IPython/core/ultratb.py\", line 818, in format_exception_as_a_whole\n",
      "    frames.append(self.format_record(r))\n",
      "  File \"/home/rodrigo/anaconda3/envs/cardio/lib/python3.9/site-packages/IPython/core/ultratb.py\", line 736, in format_record\n",
      "    result += ''.join(_format_traceback_lines(frame_info.lines, Colors, self.has_colors, lvals))\n",
      "  File \"/home/rodrigo/anaconda3/envs/cardio/lib/python3.9/site-packages/stack_data/utils.py\", line 145, in cached_property_wrapper\n",
      "    value = obj.__dict__[self.func.__name__] = self.func(obj)\n",
      "  File \"/home/rodrigo/anaconda3/envs/cardio/lib/python3.9/site-packages/stack_data/core.py\", line 698, in lines\n",
      "    pieces = self.included_pieces\n",
      "  File \"/home/rodrigo/anaconda3/envs/cardio/lib/python3.9/site-packages/stack_data/utils.py\", line 145, in cached_property_wrapper\n",
      "    value = obj.__dict__[self.func.__name__] = self.func(obj)\n",
      "  File \"/home/rodrigo/anaconda3/envs/cardio/lib/python3.9/site-packages/stack_data/core.py\", line 649, in included_pieces\n",
      "    pos = scope_pieces.index(self.executing_piece)\n",
      "  File \"/home/rodrigo/anaconda3/envs/cardio/lib/python3.9/site-packages/stack_data/utils.py\", line 145, in cached_property_wrapper\n",
      "    value = obj.__dict__[self.func.__name__] = self.func(obj)\n",
      "  File \"/home/rodrigo/anaconda3/envs/cardio/lib/python3.9/site-packages/stack_data/core.py\", line 628, in executing_piece\n",
      "    return only(\n",
      "  File \"/home/rodrigo/anaconda3/envs/cardio/lib/python3.9/site-packages/executing/executing.py\", line 164, in only\n",
      "    raise NotOneValueFound('Expected one value, found 0')\n",
      "executing.executing.NotOneValueFound: Expected one value, found 0\n"
     ]
    }
   ],
   "source": [
    "\n",
    "decoder_model = Decoder3DMesh(**dec_config)"
   ]
  },
  {
   "cell_type": "code",
   "execution_count": 19,
   "metadata": {},
   "outputs": [],
   "source": [
    "datapoint = next(iter(dm.train_dataloader()))"
   ]
  },
  {
   "cell_type": "code",
   "execution_count": 12,
   "metadata": {},
   "outputs": [],
   "source": [
    "x = datapoint[0][:,0,:,:]"
   ]
  },
  {
   "cell_type": "code",
   "execution_count": 17,
   "metadata": {},
   "outputs": [],
   "source": [
    "z = encoder_model(x[0])"
   ]
  },
  {
   "cell_type": "code",
   "execution_count": null,
   "metadata": {},
   "outputs": [],
   "source": []
  },
  {
   "cell_type": "markdown",
   "metadata": {},
   "source": [
    "___"
   ]
  },
  {
   "cell_type": "markdown",
   "metadata": {},
   "source": [
    "`EncoderTemporalSequence`"
   ]
  },
  {
   "cell_type": "code",
   "execution_count": 14,
   "metadata": {},
   "outputs": [],
   "source": [
    "from models.Model import EncoderTemporalSequence"
   ]
  },
  {
   "cell_type": "markdown",
   "metadata": {},
   "source": [
    "___"
   ]
  },
  {
   "cell_type": "markdown",
   "metadata": {},
   "source": [
    "`Coma4D_C_and_S`"
   ]
  },
  {
   "cell_type": "code",
   "execution_count": 15,
   "metadata": {},
   "outputs": [],
   "source": [
    "from models.Model import Coma4D_C_and_S"
   ]
  },
  {
   "cell_type": "markdown",
   "metadata": {},
   "source": [
    "___"
   ]
  },
  {
   "cell_type": "markdown",
   "metadata": {},
   "source": [
    "`ContentDecoder`"
   ]
  },
  {
   "cell_type": "code",
   "execution_count": 16,
   "metadata": {},
   "outputs": [
    {
     "ename": "ImportError",
     "evalue": "cannot import name 'ContentDecoder' from 'models.Model' (/home/rodrigo/CISTIB/repos/CardiacMotionRL/tests/../models/Model.py)",
     "output_type": "error",
     "traceback": [
      "\u001b[0;31m---------------------------------------------------------------------------\u001b[0m",
      "\u001b[0;31mImportError\u001b[0m                               Traceback (most recent call last)",
      "Input \u001b[0;32mIn [16]\u001b[0m, in \u001b[0;36m<cell line: 1>\u001b[0;34m()\u001b[0m\n\u001b[0;32m----> 1\u001b[0m \u001b[38;5;28;01mfrom\u001b[39;00m \u001b[38;5;21;01mmodels\u001b[39;00m\u001b[38;5;21;01m.\u001b[39;00m\u001b[38;5;21;01mModel\u001b[39;00m \u001b[38;5;28;01mimport\u001b[39;00m ContentDecoder\n",
      "\u001b[0;31mImportError\u001b[0m: cannot import name 'ContentDecoder' from 'models.Model' (/home/rodrigo/CISTIB/repos/CardiacMotionRL/tests/../models/Model.py)"
     ]
    }
   ],
   "source": [
    "from models.Model import ContentDecoder"
   ]
  },
  {
   "cell_type": "markdown",
   "metadata": {},
   "source": [
    "`StyleDecoder`"
   ]
  },
  {
   "cell_type": "code",
   "execution_count": null,
   "metadata": {},
   "outputs": [],
   "source": [
    "from models.Model import StyleDecoder"
   ]
  }
 ],
 "metadata": {
  "kernelspec": {
   "display_name": "cardio",
   "language": "python",
   "name": "cardio"
  },
  "language_info": {
   "codemirror_mode": {
    "name": "ipython",
    "version": 3
   },
   "file_extension": ".py",
   "mimetype": "text/x-python",
   "name": "python",
   "nbconvert_exporter": "python",
   "pygments_lexer": "ipython3",
   "version": "3.9.12"
  }
 },
 "nbformat": 4,
 "nbformat_minor": 4
}
