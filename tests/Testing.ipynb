{
 "cells": [
  {
   "cell_type": "code",
   "execution_count": null,
   "metadata": {},
   "outputs": [],
   "source": [
    "import os, sys\n",
    "sys.path.append(\"..\")\n",
    "from config.load_config import load_yaml_config, to_dict, recursive_namespace\n",
    "import torch"
   ]
  },
  {
   "cell_type": "markdown",
   "metadata": {},
   "source": [
    "### Generate dataset"
   ]
  },
  {
   "cell_type": "code",
   "execution_count": 4,
   "metadata": {},
   "outputs": [],
   "source": [
    "from data.synthetic.SyntheticMeshPopulation import SyntheticMeshPopulation\n",
    "from data.SyntheticDataModules import SyntheticMeshesDataset\n",
    "from torch.utils.data import DataLoader\n",
    "from utils.helpers import get_datamodule"
   ]
  },
  {
   "cell_type": "code",
   "execution_count": 5,
   "metadata": {},
   "outputs": [],
   "source": [
    "config = load_yaml_config(\"../config_files/config_folded_c_and_s.yaml\")"
   ]
  },
  {
   "cell_type": "code",
   "execution_count": 6,
   "metadata": {},
   "outputs": [
    {
     "name": "stdout",
     "output_type": "stream",
     "text": [
      "Retrieving synthetic population from cached file.\n"
     ]
    }
   ],
   "source": [
    "dm = get_datamodule(config)"
   ]
  },
  {
   "cell_type": "markdown",
   "metadata": {},
   "source": [
    "___"
   ]
  },
  {
   "cell_type": "markdown",
   "metadata": {},
   "source": [
    "### `Encoder3DMesh`"
   ]
  },
  {
   "cell_type": "code",
   "execution_count": 7,
   "metadata": {},
   "outputs": [],
   "source": [
    "from models.Model import Encoder3DMesh"
   ]
  },
  {
   "cell_type": "code",
   "execution_count": 8,
   "metadata": {},
   "outputs": [],
   "source": [
    "from utils.helpers import get_coma_args"
   ]
  },
  {
   "cell_type": "code",
   "execution_count": 9,
   "metadata": {},
   "outputs": [],
   "source": [
    "coma_args = get_coma_args(config, dm)\n",
    "coma_args[\"phase_input\"] = False"
   ]
  },
  {
   "cell_type": "code",
   "execution_count": 10,
   "metadata": {},
   "outputs": [],
   "source": [
    "encoder_args = [\n",
    "    \"num_features\", \n",
    "    \"n_layers\", \n",
    "    \"n_nodes\",\n",
    "    \"num_conv_filters_enc\", \n",
    "    \"cheb_polynomial_order\", \n",
    "    \"latent_dim_content\", \n",
    "    \"is_variational\", \n",
    "    \"phase_input\", \n",
    "    \"downsample_matrices\",\n",
    "    \"adjacency_matrices\",\n",
    "    \"activation_layers\"\n",
    "]\n",
    "\n",
    "decoder_args = [\n",
    "    \"num_features\", \n",
    "    \"n_layers\", \n",
    "    \"n_nodes\",\n",
    "    \"num_conv_filters_dec\", \n",
    "    \"cheb_polynomial_order\", \n",
    "    \"latent_dim_content\", \n",
    "    \"is_variational\", \n",
    "    \"phase_input\", \n",
    "    \"upsample_matrices\",\n",
    "    \"adjacency_matrices\",\n",
    "    \"activation_layers\" \n",
    "]\n",
    "\n",
    "enc_config = {k: v for k,v in coma_args.items() if k in encoder_args}\n",
    "dec_config = {k: v for k,v in coma_args.items() if k in decoder_args}"
   ]
  },
  {
   "cell_type": "code",
   "execution_count": 11,
   "metadata": {},
   "outputs": [],
   "source": [
    "enc_config[\"latent_dim_content\"] = 45"
   ]
  },
  {
   "cell_type": "code",
   "execution_count": 12,
   "metadata": {},
   "outputs": [],
   "source": [
    "# encoder_model = Encoder3DMesh(**enc_config)"
   ]
  },
  {
   "cell_type": "code",
   "execution_count": 13,
   "metadata": {},
   "outputs": [],
   "source": [
    "# decoder_model = Decoder3DMesh(**dec_config)"
   ]
  },
  {
   "cell_type": "code",
   "execution_count": 14,
   "metadata": {},
   "outputs": [
    {
     "data": {
      "text/plain": [
       "(20, 1002, 3)"
      ]
     },
     "execution_count": 14,
     "metadata": {},
     "output_type": "execute_result"
    }
   ],
   "source": [
    "dm.train_dataset[1][\"s_t\"].shape"
   ]
  },
  {
   "cell_type": "code",
   "execution_count": 15,
   "metadata": {},
   "outputs": [],
   "source": [
    "datapoint = next(iter(dm.train_dataloader()))\n",
    "# x = datapoint[0][:,0,:,:]\n",
    "# z = encoder_model(x[0])\n",
    "# z"
   ]
  },
  {
   "cell_type": "markdown",
   "metadata": {},
   "source": [
    "___"
   ]
  },
  {
   "cell_type": "markdown",
   "metadata": {},
   "source": [
    "### `EncoderTemporalSequence`"
   ]
  },
  {
   "cell_type": "code",
   "execution_count": 16,
   "metadata": {},
   "outputs": [],
   "source": [
    "from models.Model4D import EncoderTemporalSequence"
   ]
  },
  {
   "cell_type": "code",
   "execution_count": 17,
   "metadata": {},
   "outputs": [],
   "source": [
    "cine_encoder = EncoderTemporalSequence(enc_config, z_aggr_function=\"DFT\", n_timeframes=20)"
   ]
  },
  {
   "cell_type": "code",
   "execution_count": 18,
   "metadata": {},
   "outputs": [],
   "source": [
    "s_t = datapoint[\"s_t\"]"
   ]
  },
  {
   "cell_type": "code",
   "execution_count": 19,
   "metadata": {},
   "outputs": [
    {
     "data": {
      "text/plain": [
       "tensor([[ 6.0417e-01,  6.5462e+00, -2.2564e+00, -4.4299e+00,  5.7031e+00,\n",
       "         -2.5979e+00,  2.3315e+00, -2.1144e+00, -4.1857e+00, -3.7394e+00,\n",
       "         -6.5174e+00, -3.2427e+00, -5.1645e-01, -2.4021e-01,  4.1102e-02,\n",
       "          5.8865e-01,  3.6037e+00, -1.2641e+00, -3.8258e+00, -2.2058e+00,\n",
       "          4.5126e+00,  8.9765e-01, -3.9191e+00, -2.5399e-01, -6.9890e+00,\n",
       "         -4.7335e+00,  2.6103e-01,  3.1131e+00,  3.4867e+00,  6.6729e+00,\n",
       "         -2.0969e+00, -6.0428e+00, -1.6038e+00, -3.6682e-01, -1.2137e+00,\n",
       "         -2.0515e+00, -4.6690e+00,  3.5679e+00, -1.8419e+00, -4.5710e-02,\n",
       "         -7.7243e-01,  3.6057e-02, -1.7142e+00, -2.0190e+00,  2.9820e+00],\n",
       "        [ 2.9437e-01,  6.5118e+00, -2.6049e+00, -5.1559e+00,  5.1117e+00,\n",
       "         -2.4343e+00,  2.5563e+00, -2.0216e+00, -5.2724e+00, -3.8803e+00,\n",
       "         -5.7338e+00, -2.5635e+00, -8.8992e-02, -1.1492e+00, -7.6532e-02,\n",
       "          1.8070e+00,  4.8577e+00, -1.2077e+00, -4.1816e+00, -2.6504e+00,\n",
       "          4.3346e+00,  1.0350e-01, -4.4632e+00, -6.9623e-01, -7.3944e+00,\n",
       "         -4.5420e+00,  1.4803e+00,  3.6927e+00,  2.2368e+00,  6.2661e+00,\n",
       "         -9.4937e-01, -5.8163e+00, -5.2870e-01, -3.2172e-01, -1.8382e+00,\n",
       "         -1.3074e+00, -3.8861e+00,  4.4110e+00, -1.2920e+00, -3.3377e-01,\n",
       "         -5.7286e-01,  6.5184e-01, -2.1674e+00, -1.7185e+00,  4.1705e+00],\n",
       "        [ 6.4459e-01,  6.1864e+00, -2.2816e+00, -5.4386e+00,  5.9649e+00,\n",
       "         -2.0793e+00,  2.5183e+00, -2.2791e+00, -4.0428e+00, -3.0517e+00,\n",
       "         -6.3119e+00, -3.3553e+00, -1.2428e+00, -1.2327e+00,  1.5970e-01,\n",
       "          7.9336e-01,  4.1741e+00, -5.4994e-01, -3.7770e+00, -2.5276e+00,\n",
       "          4.7009e+00,  3.2527e-01, -4.3441e+00, -1.2349e-01, -6.0949e+00,\n",
       "         -4.3309e+00,  2.8561e-01,  3.0713e+00,  2.7862e+00,  5.9256e+00,\n",
       "         -2.0630e+00, -6.0200e+00, -1.3684e+00, -7.4848e-01, -1.0837e+00,\n",
       "         -9.3140e-01, -3.8824e+00,  4.1688e+00, -1.3897e+00,  8.4690e-02,\n",
       "         -8.6438e-01,  1.4463e-01, -6.7851e-01, -1.9151e+00,  3.2647e+00],\n",
       "        [ 6.7219e-01,  5.9288e+00, -2.5226e+00, -4.6512e+00,  4.8484e+00,\n",
       "         -2.1656e+00,  3.2777e+00, -2.2915e+00, -4.2207e+00, -3.4000e+00,\n",
       "         -5.9834e+00, -2.5458e+00, -9.3515e-01, -1.1733e+00, -1.1372e+00,\n",
       "          1.7649e+00,  4.4009e+00, -1.6844e+00, -3.6580e+00, -1.9680e+00,\n",
       "          4.2818e+00,  5.5044e-01, -4.2223e+00, -6.8072e-02, -6.8999e+00,\n",
       "         -4.3738e+00,  1.5609e-01,  3.4806e+00,  1.9859e+00,  5.4136e+00,\n",
       "         -1.7501e+00, -6.1245e+00, -1.0520e+00, -7.8102e-01, -1.4181e+00,\n",
       "         -1.1735e+00, -3.1333e+00,  3.9095e+00, -2.0221e+00,  5.8862e-03,\n",
       "         -7.8610e-01,  8.1749e-02, -1.1623e+00, -1.1611e+00,  3.9518e+00],\n",
       "        [ 1.6395e-01,  6.0696e+00, -2.2226e+00, -4.2398e+00,  5.6896e+00,\n",
       "         -2.8644e+00,  2.3324e+00, -1.6274e+00, -3.6581e+00, -3.3970e+00,\n",
       "         -6.3511e+00, -2.9124e+00, -7.5830e-01, -1.1738e+00, -4.4393e-01,\n",
       "          1.5289e-01,  3.3297e+00, -1.2939e+00, -3.6888e+00, -1.6282e+00,\n",
       "          4.4585e+00,  7.0122e-01, -3.4832e+00, -7.3763e-01, -6.9372e+00,\n",
       "         -4.4179e+00,  2.0805e-01,  3.6269e+00,  3.2358e+00,  6.0986e+00,\n",
       "         -2.3316e+00, -5.8437e+00, -1.8055e+00, -5.5443e-01, -1.0595e+00,\n",
       "         -1.4070e+00, -4.1413e+00,  3.8397e+00, -1.2434e+00,  3.9726e-01,\n",
       "         -7.3779e-01,  6.8478e-01, -1.5308e+00, -1.9720e+00,  3.3556e+00],\n",
       "        [-8.8043e-02,  6.8816e+00, -2.7445e+00, -4.7376e+00,  5.5195e+00,\n",
       "         -2.1654e+00,  2.5597e+00, -1.7416e+00, -5.2026e+00, -3.4103e+00,\n",
       "         -5.4457e+00, -2.4069e+00, -2.6821e-01, -1.2658e+00,  1.6289e-01,\n",
       "          1.4898e+00,  4.2274e+00, -1.2555e+00, -3.7713e+00, -2.1207e+00,\n",
       "          4.2051e+00, -2.9006e-01, -4.1953e+00, -8.2653e-01, -7.1467e+00,\n",
       "         -4.5192e+00,  1.7045e+00,  3.3203e+00,  2.9418e+00,  5.5570e+00,\n",
       "         -9.3017e-01, -5.1794e+00, -9.1079e-01, -1.7836e-01, -1.7893e+00,\n",
       "         -8.2661e-01, -3.5231e+00,  3.5732e+00, -1.0337e+00, -8.4324e-02,\n",
       "         -2.8970e-01,  1.2212e+00, -2.0572e+00, -2.3074e+00,  3.9389e+00],\n",
       "        [ 7.6633e-01,  6.3601e+00, -2.1528e+00, -5.1625e+00,  5.1770e+00,\n",
       "         -2.0015e+00,  2.4516e+00, -2.1353e+00, -4.2272e+00, -2.8094e+00,\n",
       "         -6.2832e+00, -2.6476e+00, -4.7781e-01, -1.1012e+00,  6.0222e-01,\n",
       "          1.5362e-01,  3.7154e+00, -2.4843e-01, -4.0219e+00, -3.1087e+00,\n",
       "          4.0756e+00,  3.8058e-01, -4.2724e+00, -4.4341e-01, -5.4184e+00,\n",
       "         -4.0481e+00,  8.6820e-02,  2.6441e+00,  2.2273e+00,  6.0559e+00,\n",
       "         -1.3973e+00, -6.1895e+00, -7.8962e-01, -3.1098e-01, -1.1711e+00,\n",
       "         -9.3318e-01, -4.1880e+00,  3.9350e+00, -1.2804e+00, -2.0770e-01,\n",
       "         -1.1195e+00,  1.7802e-01, -1.1478e+00, -2.1430e+00,  3.2185e+00],\n",
       "        [ 4.6767e-01,  5.8544e+00, -2.8140e+00, -4.8090e+00,  4.8962e+00,\n",
       "         -1.5818e+00,  2.8960e+00, -1.8083e+00, -4.1901e+00, -3.4070e+00,\n",
       "         -5.7447e+00, -2.6206e+00, -2.0794e+00, -1.8457e+00, -9.7528e-01,\n",
       "          1.8411e+00,  4.1689e+00, -1.6271e+00, -3.4280e+00, -1.6159e+00,\n",
       "          4.3171e+00,  4.0330e-01, -4.3891e+00,  2.5326e-01, -7.1872e+00,\n",
       "         -3.6863e+00,  4.8355e-01,  3.1295e+00,  2.4725e+00,  5.3393e+00,\n",
       "         -2.0589e+00, -6.0901e+00, -1.4514e+00, -9.4948e-01, -1.4670e+00,\n",
       "         -7.7288e-01, -3.3258e+00,  4.2028e+00, -1.6518e+00,  2.3568e-01,\n",
       "         -5.1729e-02, -3.4108e-01, -1.1710e+00, -7.8898e-01,  4.0391e+00],\n",
       "        [ 2.0061e-01,  6.2112e+00, -2.0788e+00, -4.1785e+00,  5.3708e+00,\n",
       "         -2.8869e+00,  2.4614e+00, -2.0368e+00, -4.4427e+00, -3.6790e+00,\n",
       "         -6.6745e+00, -2.9230e+00, -6.9874e-02, -4.4326e-01, -1.4928e-01,\n",
       "          1.0368e-01,  3.4296e+00, -1.3552e+00, -4.2584e+00, -1.9797e+00,\n",
       "          4.0999e+00,  8.5229e-01, -3.5094e+00, -5.7819e-01, -6.8719e+00,\n",
       "         -4.8377e+00, -5.1972e-02,  3.1901e+00,  3.1090e+00,  6.6871e+00,\n",
       "         -1.7601e+00, -5.8878e+00, -1.3177e+00, -7.6645e-01, -1.3800e+00,\n",
       "         -2.0608e+00, -4.6182e+00,  3.4599e+00, -1.5001e+00, -7.9516e-02,\n",
       "         -7.2879e-01,  6.3042e-01, -1.4836e+00, -1.8870e+00,  2.4105e+00],\n",
       "        [-6.5705e-02,  6.7614e+00, -2.4859e+00, -5.3071e+00,  5.1588e+00,\n",
       "         -1.8859e+00,  2.4293e+00, -1.8522e+00, -5.1556e+00, -3.8214e+00,\n",
       "         -5.8633e+00, -2.5417e+00, -8.3552e-01, -1.0497e+00,  2.6550e-01,\n",
       "          1.7302e+00,  4.8004e+00, -1.1565e+00, -3.9534e+00, -2.2203e+00,\n",
       "          4.2939e+00, -6.1232e-02, -4.3733e+00, -6.7038e-01, -7.2314e+00,\n",
       "         -4.4899e+00,  1.4542e+00,  3.6580e+00,  2.5398e+00,  5.5024e+00,\n",
       "         -1.0656e+00, -5.5077e+00, -8.8613e-01, -1.6546e-02, -1.4946e+00,\n",
       "         -7.8477e-01, -3.5340e+00,  4.1142e+00, -1.2635e+00,  2.3835e-02,\n",
       "         -5.9276e-01,  5.8639e-01, -2.0455e+00, -1.5150e+00,  3.5874e+00],\n",
       "        [ 4.3218e-01,  6.1809e+00, -2.2588e+00, -5.4086e+00,  5.5850e+00,\n",
       "         -1.9295e+00,  2.4210e+00, -2.4451e+00, -3.8817e+00, -2.7979e+00,\n",
       "         -6.2724e+00, -2.7291e+00, -1.2081e+00, -8.6976e-01, -1.8984e-01,\n",
       "          7.3697e-01,  4.1610e+00, -5.0801e-01, -4.0629e+00, -2.8633e+00,\n",
       "          4.1714e+00,  4.2860e-01, -4.4057e+00, -2.2690e-01, -5.7679e+00,\n",
       "         -4.1491e+00, -9.3973e-02,  2.9384e+00,  2.0471e+00,  5.4717e+00,\n",
       "         -2.0074e+00, -6.1114e+00, -1.0872e+00, -6.9558e-01, -6.3343e-01,\n",
       "         -7.9672e-01, -3.9235e+00,  4.2862e+00, -1.4897e+00, -4.4288e-01,\n",
       "         -1.1587e+00, -9.5344e-02, -6.2951e-01, -1.8682e+00,  3.1300e+00],\n",
       "        [ 1.4852e-01,  5.9088e+00, -2.6928e+00, -4.5754e+00,  4.8972e+00,\n",
       "         -1.6967e+00,  2.8842e+00, -2.0321e+00, -4.5901e+00, -3.3371e+00,\n",
       "         -5.7706e+00, -2.4096e+00, -1.4344e+00, -1.2279e+00, -9.4762e-01,\n",
       "          1.3960e+00,  4.3435e+00, -1.7460e+00, -3.9399e+00, -2.0445e+00,\n",
       "          4.2832e+00,  5.5788e-01, -4.3208e+00,  1.3458e-01, -6.4466e+00,\n",
       "         -3.9815e+00,  6.1551e-01,  3.4916e+00,  2.3592e+00,  5.4468e+00,\n",
       "         -1.9442e+00, -5.4769e+00, -1.4080e+00, -6.8516e-01, -1.3064e+00,\n",
       "         -8.5635e-01, -3.6723e+00,  3.5233e+00, -1.5944e+00, -4.1433e-02,\n",
       "         -4.7574e-01,  3.2047e-01, -1.3064e+00, -1.0789e+00,  3.6033e+00],\n",
       "        [ 2.5284e-02,  5.9551e+00, -2.5522e+00, -4.1800e+00,  5.0675e+00,\n",
       "         -2.6638e+00,  2.4011e+00, -1.7401e+00, -3.6737e+00, -3.2492e+00,\n",
       "         -6.4788e+00, -3.0858e+00, -5.5480e-01, -1.2358e+00, -1.1709e-01,\n",
       "          1.3921e-01,  3.5146e+00, -1.0793e+00, -3.9185e+00, -1.7805e+00,\n",
       "          4.2363e+00,  5.3693e-01, -3.7160e+00, -9.8299e-01, -7.3117e+00,\n",
       "         -4.4952e+00,  3.1206e-01,  3.5048e+00,  2.9892e+00,  5.8941e+00,\n",
       "         -2.0782e+00, -5.9090e+00, -1.3747e+00, -9.8972e-01, -1.2084e+00,\n",
       "         -1.1523e+00, -4.1787e+00,  4.1461e+00, -1.5803e+00,  5.8315e-02,\n",
       "         -9.3754e-01,  4.1392e-01, -1.2286e+00, -1.9356e+00,  3.0682e+00],\n",
       "        [-2.7677e-01,  6.2893e+00, -2.6758e+00, -4.6964e+00,  5.4521e+00,\n",
       "         -2.3267e+00,  2.3128e+00, -1.7991e+00, -5.4056e+00, -3.7918e+00,\n",
       "         -5.5175e+00, -2.2853e+00, -1.1853e-01, -1.0590e+00, -5.3988e-02,\n",
       "          1.3910e+00,  4.8488e+00, -1.5526e+00, -3.8976e+00, -1.9478e+00,\n",
       "          4.4585e+00, -1.4679e-01, -4.0815e+00, -4.3353e-01, -7.0079e+00,\n",
       "         -4.3628e+00,  1.2958e+00,  3.5139e+00,  2.9072e+00,  5.7630e+00,\n",
       "         -1.3315e+00, -5.1363e+00, -1.0758e+00, -5.1776e-01, -1.5792e+00,\n",
       "         -1.0259e+00, -3.4929e+00,  3.7186e+00, -1.2188e+00, -1.5755e-01,\n",
       "         -5.2004e-01,  9.5411e-01, -1.7704e+00, -1.4944e+00,  4.1201e+00],\n",
       "        [ 9.3088e-01,  6.5250e+00, -2.1098e+00, -5.2359e+00,  5.3950e+00,\n",
       "         -1.9908e+00,  2.3171e+00, -2.6392e+00, -4.3530e+00, -3.1227e+00,\n",
       "         -6.4106e+00, -2.8138e+00, -3.9480e-01, -1.0948e+00,  2.4663e-01,\n",
       "          8.8849e-02,  3.9994e+00, -3.0792e-01, -4.2531e+00, -2.5349e+00,\n",
       "          4.2547e+00,  4.0720e-01, -4.2622e+00, -7.7962e-01, -5.9610e+00,\n",
       "         -4.2180e+00,  2.4201e-01,  2.8445e+00,  2.5433e+00,  6.3159e+00,\n",
       "         -1.6750e+00, -5.7379e+00, -1.1378e+00, -5.0334e-01, -1.2976e+00,\n",
       "         -6.6635e-01, -4.3515e+00,  3.4692e+00, -1.4764e+00, -1.5571e-01,\n",
       "         -7.4452e-01, -1.9967e-01, -1.0756e+00, -2.0100e+00,  3.1514e+00],\n",
       "        [ 3.8603e-01,  6.4061e+00, -2.3041e+00, -5.4433e+00,  4.9266e+00,\n",
       "         -1.7558e+00,  3.0425e+00, -2.0639e+00, -4.9723e+00, -3.6286e+00,\n",
       "         -5.9262e+00, -2.6659e+00, -1.6145e+00, -1.5102e+00, -1.1520e+00,\n",
       "          1.7471e+00,  4.4691e+00, -1.5109e+00, -4.0721e+00, -2.1698e+00,\n",
       "          4.0952e+00,  4.9492e-01, -4.7945e+00, -1.8613e-01, -7.0751e+00,\n",
       "         -3.8534e+00,  5.0796e-01,  3.5811e+00,  2.1623e+00,  5.9172e+00,\n",
       "         -1.2705e+00, -6.3061e+00, -1.1475e+00, -6.3170e-01, -1.5840e+00,\n",
       "         -7.1384e-01, -3.4152e+00,  4.5505e+00, -1.5223e+00,  2.3424e-01,\n",
       "         -3.4490e-01, -2.1996e-01, -1.1814e+00, -1.0775e+00,  4.3017e+00]],\n",
       "       grad_fn=<AddmmBackward0>)"
      ]
     },
     "execution_count": 19,
     "metadata": {},
     "output_type": "execute_result"
    }
   ],
   "source": [
    "cine_encoder(s_t)[\"mu\"]"
   ]
  },
  {
   "cell_type": "code",
   "execution_count": 20,
   "metadata": {},
   "outputs": [],
   "source": [
    "from models.EncoderPLModule import CineComaEncoder"
   ]
  },
  {
   "cell_type": "code",
   "execution_count": 21,
   "metadata": {},
   "outputs": [],
   "source": [
    "PLEncoder = CineComaEncoder(cine_encoder, config)"
   ]
  },
  {
   "cell_type": "code",
   "execution_count": 22,
   "metadata": {},
   "outputs": [],
   "source": [
    "import pytorch_lightning as pl"
   ]
  },
  {
   "cell_type": "code",
   "execution_count": 23,
   "metadata": {},
   "outputs": [
    {
     "name": "stderr",
     "output_type": "stream",
     "text": [
      "GPU available: False, used: False\n",
      "TPU available: False, using: 0 TPU cores\n",
      "IPU available: False, using: 0 IPUs\n"
     ]
    }
   ],
   "source": [
    "trainer = pl.Trainer()"
   ]
  },
  {
   "cell_type": "code",
   "execution_count": null,
   "metadata": {},
   "outputs": [
    {
     "name": "stderr",
     "output_type": "stream",
     "text": [
      "/home/rodrigo/anaconda3/envs/cardio/lib/python3.9/site-packages/pytorch_lightning/core/datamodule.py:469: LightningDeprecationWarning: DataModule.setup has already been called, so it will not be called again. In v1.6 this behavior will change to always call DataModule.setup.\n",
      "  rank_zero_deprecation(\n",
      "\n",
      "  | Name  | Type                    | Params\n",
      "--------------------------------------------------\n",
      "0 | model | EncoderTemporalSequence | 237 K \n",
      "--------------------------------------------------\n",
      "237 K     Trainable params\n",
      "0         Non-trainable params\n",
      "237 K     Total params\n",
      "0.949     Total estimated model params size (MB)\n"
     ]
    },
    {
     "data": {
      "application/vnd.jupyter.widget-view+json": {
       "model_id": "968d54ca1aeb4cb385ddd7bb7a28df79",
       "version_major": 2,
       "version_minor": 0
      },
      "text/plain": [
       "A Jupyter Widget"
      ]
     },
     "metadata": {},
     "output_type": "display_data"
    },
    {
     "name": "stderr",
     "output_type": "stream",
     "text": [
      "/home/rodrigo/anaconda3/envs/cardio/lib/python3.9/site-packages/pytorch_lightning/trainer/data_loading.py:432: UserWarning: The number of training samples (24) is smaller than the logging interval Trainer(log_every_n_steps=50). Set a lower value for log_every_n_steps if you want to see logs for the training epoch.\n",
      "  rank_zero_warn(\n"
     ]
    },
    {
     "data": {
      "application/vnd.jupyter.widget-view+json": {
       "model_id": "3b8dc34f837346be8bf2b7a1a7ce44eb",
       "version_major": 2,
       "version_minor": 0
      },
      "text/plain": [
       "A Jupyter Widget"
      ]
     },
     "metadata": {},
     "output_type": "display_data"
    },
    {
     "name": "stderr",
     "output_type": "stream",
     "text": [
      "/home/rodrigo/anaconda3/envs/cardio/lib/python3.9/site-packages/pytorch_lightning/loops/optimization/closure.py:35: LightningDeprecationWarning: One of the returned values {'training_recon_loss'} has a `grad_fn`. We will detach it automatically but this behaviour will change in v1.6. Please detach it manually: `return {'loss': ..., 'something': something.detach()}`\n",
      "  rank_zero_deprecation(\n"
     ]
    },
    {
     "data": {
      "application/vnd.jupyter.widget-view+json": {
       "model_id": "e83832106cf147b5a217b252253f709c",
       "version_major": 2,
       "version_minor": 0
      },
      "text/plain": [
       "A Jupyter Widget"
      ]
     },
     "metadata": {},
     "output_type": "display_data"
    },
    {
     "data": {
      "application/vnd.jupyter.widget-view+json": {
       "model_id": "78b2fb63dd4944b58e714304bb08f261",
       "version_major": 2,
       "version_minor": 0
      },
      "text/plain": [
       "A Jupyter Widget"
      ]
     },
     "metadata": {},
     "output_type": "display_data"
    },
    {
     "data": {
      "application/vnd.jupyter.widget-view+json": {
       "model_id": "5ad8fb03abd34f489ac26052f6ad9187",
       "version_major": 2,
       "version_minor": 0
      },
      "text/plain": [
       "A Jupyter Widget"
      ]
     },
     "metadata": {},
     "output_type": "display_data"
    },
    {
     "data": {
      "application/vnd.jupyter.widget-view+json": {
       "model_id": "96f1006ea4a8413d848a534a3362a271",
       "version_major": 2,
       "version_minor": 0
      },
      "text/plain": [
       "A Jupyter Widget"
      ]
     },
     "metadata": {},
     "output_type": "display_data"
    },
    {
     "data": {
      "application/vnd.jupyter.widget-view+json": {
       "model_id": "152859ddbc1b49f3be12402934189a1b",
       "version_major": 2,
       "version_minor": 0
      },
      "text/plain": [
       "A Jupyter Widget"
      ]
     },
     "metadata": {},
     "output_type": "display_data"
    },
    {
     "data": {
      "application/vnd.jupyter.widget-view+json": {
       "model_id": "d6459cc2ec1047d9bc09d1c2989fd994",
       "version_major": 2,
       "version_minor": 0
      },
      "text/plain": [
       "A Jupyter Widget"
      ]
     },
     "metadata": {},
     "output_type": "display_data"
    },
    {
     "data": {
      "application/vnd.jupyter.widget-view+json": {
       "model_id": "2f8ce74f50b84d2c817fe0ae441726ae",
       "version_major": 2,
       "version_minor": 0
      },
      "text/plain": [
       "A Jupyter Widget"
      ]
     },
     "metadata": {},
     "output_type": "display_data"
    },
    {
     "data": {
      "application/vnd.jupyter.widget-view+json": {
       "model_id": "73b0ecedf7614deb8e1032f1ac3e0eb1",
       "version_major": 2,
       "version_minor": 0
      },
      "text/plain": [
       "A Jupyter Widget"
      ]
     },
     "metadata": {},
     "output_type": "display_data"
    },
    {
     "data": {
      "application/vnd.jupyter.widget-view+json": {
       "model_id": "65833953fc9147f4a026e26e1a9cd83c",
       "version_major": 2,
       "version_minor": 0
      },
      "text/plain": [
       "A Jupyter Widget"
      ]
     },
     "metadata": {},
     "output_type": "display_data"
    },
    {
     "data": {
      "application/vnd.jupyter.widget-view+json": {
       "model_id": "5a8230f9a1ff4896ab06e347c6d4fb76",
       "version_major": 2,
       "version_minor": 0
      },
      "text/plain": [
       "A Jupyter Widget"
      ]
     },
     "metadata": {},
     "output_type": "display_data"
    },
    {
     "data": {
      "application/vnd.jupyter.widget-view+json": {
       "model_id": "26ae7f3415d8441f9a6cb6957d94a20a",
       "version_major": 2,
       "version_minor": 0
      },
      "text/plain": [
       "A Jupyter Widget"
      ]
     },
     "metadata": {},
     "output_type": "display_data"
    },
    {
     "data": {
      "application/vnd.jupyter.widget-view+json": {
       "model_id": "32e3193f1cca486ebef16644442e36fb",
       "version_major": 2,
       "version_minor": 0
      },
      "text/plain": [
       "A Jupyter Widget"
      ]
     },
     "metadata": {},
     "output_type": "display_data"
    },
    {
     "data": {
      "application/vnd.jupyter.widget-view+json": {
       "model_id": "a5efffa9cfc347fbb44ce5d0be742f19",
       "version_major": 2,
       "version_minor": 0
      },
      "text/plain": [
       "A Jupyter Widget"
      ]
     },
     "metadata": {},
     "output_type": "display_data"
    },
    {
     "data": {
      "application/vnd.jupyter.widget-view+json": {
       "model_id": "151c65968c01414784f88e8684fd0764",
       "version_major": 2,
       "version_minor": 0
      },
      "text/plain": [
       "A Jupyter Widget"
      ]
     },
     "metadata": {},
     "output_type": "display_data"
    },
    {
     "data": {
      "application/vnd.jupyter.widget-view+json": {
       "model_id": "e789608a2ce5435db49261fb99b6cad8",
       "version_major": 2,
       "version_minor": 0
      },
      "text/plain": [
       "A Jupyter Widget"
      ]
     },
     "metadata": {},
     "output_type": "display_data"
    },
    {
     "data": {
      "application/vnd.jupyter.widget-view+json": {
       "model_id": "d18c03694b884d46954ff22801953d82",
       "version_major": 2,
       "version_minor": 0
      },
      "text/plain": [
       "A Jupyter Widget"
      ]
     },
     "metadata": {},
     "output_type": "display_data"
    },
    {
     "data": {
      "application/vnd.jupyter.widget-view+json": {
       "model_id": "e45793098e3a44a0b15e78a2018a5de4",
       "version_major": 2,
       "version_minor": 0
      },
      "text/plain": [
       "A Jupyter Widget"
      ]
     },
     "metadata": {},
     "output_type": "display_data"
    },
    {
     "data": {
      "application/vnd.jupyter.widget-view+json": {
       "model_id": "b783fb2cc001498e8961a62ef582c4f0",
       "version_major": 2,
       "version_minor": 0
      },
      "text/plain": [
       "A Jupyter Widget"
      ]
     },
     "metadata": {},
     "output_type": "display_data"
    },
    {
     "data": {
      "application/vnd.jupyter.widget-view+json": {
       "model_id": "9fe147b0c6374c5d8d2bfbaebc5e9605",
       "version_major": 2,
       "version_minor": 0
      },
      "text/plain": [
       "A Jupyter Widget"
      ]
     },
     "metadata": {},
     "output_type": "display_data"
    },
    {
     "data": {
      "application/vnd.jupyter.widget-view+json": {
       "model_id": "28423d889f9843508303dfb97d21658c",
       "version_major": 2,
       "version_minor": 0
      },
      "text/plain": [
       "A Jupyter Widget"
      ]
     },
     "metadata": {},
     "output_type": "display_data"
    },
    {
     "data": {
      "application/vnd.jupyter.widget-view+json": {
       "model_id": "d71ca3dcbb0646d7b9045f80a4b24376",
       "version_major": 2,
       "version_minor": 0
      },
      "text/plain": [
       "A Jupyter Widget"
      ]
     },
     "metadata": {},
     "output_type": "display_data"
    },
    {
     "data": {
      "application/vnd.jupyter.widget-view+json": {
       "model_id": "1e7ce477b43c4b0a81719ba831a329fa",
       "version_major": 2,
       "version_minor": 0
      },
      "text/plain": [
       "A Jupyter Widget"
      ]
     },
     "metadata": {},
     "output_type": "display_data"
    },
    {
     "data": {
      "application/vnd.jupyter.widget-view+json": {
       "model_id": "d1f9adc6663b466e8c3774cab07228c8",
       "version_major": 2,
       "version_minor": 0
      },
      "text/plain": [
       "A Jupyter Widget"
      ]
     },
     "metadata": {},
     "output_type": "display_data"
    },
    {
     "data": {
      "application/vnd.jupyter.widget-view+json": {
       "model_id": "e42c0b422499411b8e1dcd3b15ed271c",
       "version_major": 2,
       "version_minor": 0
      },
      "text/plain": [
       "A Jupyter Widget"
      ]
     },
     "metadata": {},
     "output_type": "display_data"
    },
    {
     "data": {
      "application/vnd.jupyter.widget-view+json": {
       "model_id": "650d29b6aa6f4dd580bf91760d26cd15",
       "version_major": 2,
       "version_minor": 0
      },
      "text/plain": [
       "A Jupyter Widget"
      ]
     },
     "metadata": {},
     "output_type": "display_data"
    },
    {
     "data": {
      "application/vnd.jupyter.widget-view+json": {
       "model_id": "1de8172c32b74c8d89c66c764387c0d9",
       "version_major": 2,
       "version_minor": 0
      },
      "text/plain": [
       "A Jupyter Widget"
      ]
     },
     "metadata": {},
     "output_type": "display_data"
    },
    {
     "data": {
      "application/vnd.jupyter.widget-view+json": {
       "model_id": "6387848fb5674adca37fb3a7fb220c66",
       "version_major": 2,
       "version_minor": 0
      },
      "text/plain": [
       "A Jupyter Widget"
      ]
     },
     "metadata": {},
     "output_type": "display_data"
    },
    {
     "data": {
      "application/vnd.jupyter.widget-view+json": {
       "model_id": "f85e6909287e4330bb7d5ed0db120d58",
       "version_major": 2,
       "version_minor": 0
      },
      "text/plain": [
       "A Jupyter Widget"
      ]
     },
     "metadata": {},
     "output_type": "display_data"
    },
    {
     "data": {
      "application/vnd.jupyter.widget-view+json": {
       "model_id": "26fa134fdb2a4b2284fc7e80b729b013",
       "version_major": 2,
       "version_minor": 0
      },
      "text/plain": [
       "A Jupyter Widget"
      ]
     },
     "metadata": {},
     "output_type": "display_data"
    },
    {
     "data": {
      "application/vnd.jupyter.widget-view+json": {
       "model_id": "552d5139533a45e89cf04f62e6a0b279",
       "version_major": 2,
       "version_minor": 0
      },
      "text/plain": [
       "A Jupyter Widget"
      ]
     },
     "metadata": {},
     "output_type": "display_data"
    },
    {
     "data": {
      "application/vnd.jupyter.widget-view+json": {
       "model_id": "54f99bb038cd4233a769aa171af257c7",
       "version_major": 2,
       "version_minor": 0
      },
      "text/plain": [
       "A Jupyter Widget"
      ]
     },
     "metadata": {},
     "output_type": "display_data"
    },
    {
     "data": {
      "application/vnd.jupyter.widget-view+json": {
       "model_id": "47b5f462456a4b34b62eaa406824bb54",
       "version_major": 2,
       "version_minor": 0
      },
      "text/plain": [
       "A Jupyter Widget"
      ]
     },
     "metadata": {},
     "output_type": "display_data"
    },
    {
     "data": {
      "application/vnd.jupyter.widget-view+json": {
       "model_id": "27328d898d974aa48558d0a594c25036",
       "version_major": 2,
       "version_minor": 0
      },
      "text/plain": [
       "A Jupyter Widget"
      ]
     },
     "metadata": {},
     "output_type": "display_data"
    },
    {
     "data": {
      "application/vnd.jupyter.widget-view+json": {
       "model_id": "29f568da9b434620bcb69f09991ab5c4",
       "version_major": 2,
       "version_minor": 0
      },
      "text/plain": [
       "A Jupyter Widget"
      ]
     },
     "metadata": {},
     "output_type": "display_data"
    },
    {
     "data": {
      "application/vnd.jupyter.widget-view+json": {
       "model_id": "9c69214a76cd4872b97d107f84aabe78",
       "version_major": 2,
       "version_minor": 0
      },
      "text/plain": [
       "A Jupyter Widget"
      ]
     },
     "metadata": {},
     "output_type": "display_data"
    },
    {
     "data": {
      "application/vnd.jupyter.widget-view+json": {
       "model_id": "2377f0bae118476da1cc73ffbfa7240e",
       "version_major": 2,
       "version_minor": 0
      },
      "text/plain": [
       "A Jupyter Widget"
      ]
     },
     "metadata": {},
     "output_type": "display_data"
    },
    {
     "data": {
      "application/vnd.jupyter.widget-view+json": {
       "model_id": "597982162363491b9180a01a1a76ccb1",
       "version_major": 2,
       "version_minor": 0
      },
      "text/plain": [
       "A Jupyter Widget"
      ]
     },
     "metadata": {},
     "output_type": "display_data"
    },
    {
     "data": {
      "application/vnd.jupyter.widget-view+json": {
       "model_id": "a42c00e957054dda84a5eaa0778381ef",
       "version_major": 2,
       "version_minor": 0
      },
      "text/plain": [
       "A Jupyter Widget"
      ]
     },
     "metadata": {},
     "output_type": "display_data"
    },
    {
     "data": {
      "application/vnd.jupyter.widget-view+json": {
       "model_id": "d6d36740a05845cd9ddc140df41bd1d2",
       "version_major": 2,
       "version_minor": 0
      },
      "text/plain": [
       "A Jupyter Widget"
      ]
     },
     "metadata": {},
     "output_type": "display_data"
    },
    {
     "data": {
      "application/vnd.jupyter.widget-view+json": {
       "model_id": "e2552b07d9eb49f29185a7270de881da",
       "version_major": 2,
       "version_minor": 0
      },
      "text/plain": [
       "A Jupyter Widget"
      ]
     },
     "metadata": {},
     "output_type": "display_data"
    }
   ],
   "source": [
    "trainer.fit(PLEncoder, dm)"
   ]
  },
  {
   "cell_type": "markdown",
   "metadata": {},
   "source": [
    "___"
   ]
  },
  {
   "cell_type": "markdown",
   "metadata": {},
   "source": [
    "### `ContentDecoder`"
   ]
  },
  {
   "cell_type": "code",
   "execution_count": null,
   "metadata": {},
   "outputs": [],
   "source": [
    "from models.Model import ContentDecoder"
   ]
  },
  {
   "cell_type": "markdown",
   "metadata": {},
   "source": [
    "___"
   ]
  },
  {
   "cell_type": "markdown",
   "metadata": {},
   "source": [
    "### `StyleDecoder`"
   ]
  },
  {
   "cell_type": "code",
   "execution_count": null,
   "metadata": {},
   "outputs": [],
   "source": [
    "from models.Model import StyleDecoder"
   ]
  },
  {
   "cell_type": "markdown",
   "metadata": {},
   "source": [
    "___"
   ]
  },
  {
   "cell_type": "markdown",
   "metadata": {},
   "source": [
    "### `Coma4D_C_and_S`"
   ]
  },
  {
   "cell_type": "code",
   "execution_count": null,
   "metadata": {},
   "outputs": [],
   "source": [
    "from models.Model import Coma4D_C_and_S"
   ]
  }
 ],
 "metadata": {
  "kernelspec": {
   "display_name": "cardio",
   "language": "python",
   "name": "cardio"
  },
  "language_info": {
   "codemirror_mode": {
    "name": "ipython",
    "version": 3
   },
   "file_extension": ".py",
   "mimetype": "text/x-python",
   "name": "python",
   "nbconvert_exporter": "python",
   "pygments_lexer": "ipython3",
   "version": "3.9.12"
  }
 },
 "nbformat": 4,
 "nbformat_minor": 4
}
