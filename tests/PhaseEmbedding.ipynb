{
 "cells": [
  {
   "cell_type": "markdown",
   "metadata": {},
   "source": [
    "### Testing phase embedding module"
   ]
  },
  {
   "cell_type": "code",
   "execution_count": 1,
   "metadata": {},
   "outputs": [],
   "source": [
    "import sys\n",
    "import numpy as np\n",
    "from torch import Tensor\n",
    "import torch\n",
    "sys.path.append('/home/rodrigo/CISTIB/repos/CardiacMotionRL')\n",
    "from models.layers import PhaseTensor1, PhaseTensor2\n",
    "from torch import nn\n",
    "import pandas as pd"
   ]
  },
  {
   "cell_type": "code",
   "execution_count": 27,
   "metadata": {},
   "outputs": [],
   "source": [
    "BATCH_SIZE = 10\n",
    "N_TIMEFRAMES = 20\n",
    "N_FEATURES_1 = (8,)\n",
    "N_FEATURES_2 = (20, 3)\n",
    "N_FEATURES_3 = (8,)"
   ]
  },
  {
   "cell_type": "code",
   "execution_count": 28,
   "metadata": {},
   "outputs": [],
   "source": [
    "x = Tensor(np.random.uniform(size=[BATCH_SIZE, N_TIMEFRAMES, *N_FEATURES_1]))\n",
    "y = Tensor(np.random.uniform(size=[BATCH_SIZE, N_TIMEFRAMES, *N_FEATURES_2]))\n",
    "z = Tensor(np.random.uniform(size=[BATCH_SIZE, *N_FEATURES_3]))"
   ]
  },
  {
   "cell_type": "code",
   "execution_count": 32,
   "metadata": {},
   "outputs": [
    {
     "data": {
      "text/plain": [
       "torch.Size([10, 20, 8])"
      ]
     },
     "execution_count": 32,
     "metadata": {},
     "output_type": "execute_result"
    }
   ],
   "source": [
    "z.unsqueeze(1).repeat(1, 20, *[1 for x in N_FEATURES_1]).shape"
   ]
  },
  {
   "cell_type": "code",
   "execution_count": 25,
   "metadata": {},
   "outputs": [
    {
     "data": {
      "text/plain": [
       "torch.Size([10, 20, 8])"
      ]
     },
     "execution_count": 25,
     "metadata": {},
     "output_type": "execute_result"
    }
   ],
   "source": [
    "z.unsqueeze(1).repeat(1, N_TIMEFRAMES, *[1 for x in N_FEATURES_1]).shape"
   ]
  },
  {
   "cell_type": "code",
   "execution_count": 14,
   "metadata": {},
   "outputs": [
    {
     "name": "stdout",
     "output_type": "stream",
     "text": [
      "torch.Size([10, 20, 16])\n",
      "torch.Size([10, 20, 20, 6])\n",
      "torch.Size([10, 20, 16])\n",
      "torch.Size([10, 20, 20, 6])\n"
     ]
    }
   ],
   "source": [
    "ph1 = PhaseTensor1()\n",
    "x1 = ph1(x)\n",
    "y1 = ph1(y)\n",
    "print(x2.shape)\n",
    "print(y2.shape)\n",
    "\n",
    "# print(x)\n",
    "ph2 = PhaseTensor2()\n",
    "x2 = ph2(x)\n",
    "y2 = ph2(y)\n",
    "print(x2.shape)\n",
    "print(y2.shape)"
   ]
  }
 ],
 "metadata": {
  "kernelspec": {
   "display_name": "cardio",
   "language": "python",
   "name": "cardio"
  },
  "language_info": {
   "codemirror_mode": {
    "name": "ipython",
    "version": 3
   },
   "file_extension": ".py",
   "mimetype": "text/x-python",
   "name": "python",
   "nbconvert_exporter": "python",
   "pygments_lexer": "ipython3",
   "version": "3.9.12"
  }
 },
 "nbformat": 4,
 "nbformat_minor": 2
}
