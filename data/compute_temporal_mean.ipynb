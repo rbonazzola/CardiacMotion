{
 "cells": [
  {
   "cell_type": "code",
   "execution_count": 3,
   "id": "87de1d40",
   "metadata": {},
   "outputs": [
    {
     "name": "stdout",
     "output_type": "stream",
     "text": [
      "['/home/user/01_repos/CardiacMotionRL/notebooks', '/home/user/miniconda/envs/cardiac_coma/lib/python39.zip', '/home/user/miniconda/envs/cardiac_coma/lib/python3.9', '/home/user/miniconda/envs/cardiac_coma/lib/python3.9/lib-dynload', '', '/home/user/miniconda/envs/cardiac_coma/lib/python3.9/site-packages', '/home/user/01_repos/CardiacMotion', '/home/user/01_repos/CardiacMotion/utils', '/home/user/01_repos/CardioMesh', '..', '/home/user/01_repos/CardiacMotionRL', '/home/user/01_repos/CardiacMotionRL/data']\n"
     ]
    }
   ],
   "source": [
    "import os\n",
    "\n",
    "try:\n",
    "    os.environ[\"CARDIAC_MOTION_REPO\"] = f\"{os.environ['HOME']}/01_repos/CardiacMotion\"\n",
    "    repo_dir = os.environ.get(\"CARDIAC_MOTION_REPO\")\n",
    "    os.chdir(repo_dir)\n",
    "except FileNotFoundError:\n",
    "    os.environ[\"HOME\"] = \"/root\"\n",
    "    os.environ[\"CARDIAC_MOTION_REPO\"] = f\"{os.environ['HOME']}/01_repos/CardiacMotion\"\n",
    "    repo_dir = os.environ.get(\"CARDIAC_MOTION_REPO\")\n",
    "    os.chdir(repo_dir)\n",
    "\n",
    "import torch\n",
    "from torch import Tensor\n",
    "\n",
    "import os, sys\n",
    "import glob\n",
    "import re\n",
    "import pickle as pkl\n",
    "\n",
    "import numpy as np\n",
    "\n",
    "from torch.utils.data import TensorDataset, DataLoader, random_split\n",
    "from typing import Union, Dict, List, Optional\n",
    "\n",
    "import pytorch_lightning as pl\n",
    "from utils.CardioMesh.CardiacMesh import transform_mesh\n",
    "\n",
    "from easydict import EasyDict\n",
    "from tqdm import tqdm\n",
    "\n",
    "import ipywidgets as widgets\n",
    "from ipywidgets import interact\n",
    "\n",
    "from main_autoencoder_cardiac import CardiacMeshPopulationDataset, CardiacMeshPopulationDM"
   ]
  },
  {
   "cell_type": "markdown",
   "id": "ffb797fe",
   "metadata": {},
   "source": [
    "`CardioMesh.CardiacMeshPopulation.py`\n",
    "\n",
    "Example of usage:\n",
    "    \n",
    "```\n",
    "mesh_population = CardiacMeshPopulation(\n",
    "  root_path = \"data/cardio/Results\",\n",
    "  N_subj = None\n",
    ")\n",
    "\n",
    "```"
   ]
  },
  {
   "cell_type": "markdown",
   "id": "9a01e486",
   "metadata": {},
   "source": [
    "`(ID, phase) -> path`"
   ]
  },
  {
   "cell_type": "markdown",
   "id": "ffa8b9e5",
   "metadata": {},
   "source": [
    "I am assuming LV is being used:"
   ]
  },
  {
   "cell_type": "code",
   "execution_count": 4,
   "id": "9c43cfbf",
   "metadata": {},
   "outputs": [],
   "source": [
    "root_path = \"data/cardio/Results/\""
   ]
  },
  {
   "cell_type": "markdown",
   "id": "bc74884c-3535-4074-b578-c44d03bd0177",
   "metadata": {},
   "source": [
    "# Compute Procrustes transforms for additional meshes"
   ]
  },
  {
   "cell_type": "code",
   "execution_count": 5,
   "id": "299e1502-0084-4cb8-81ab-43d8b8cc603e",
   "metadata": {},
   "outputs": [],
   "source": [
    "from scipy.linalg import orthogonal_procrustes\n",
    "from IPython import embed\n",
    "import logging\n",
    "\n",
    "def mse(s1, s2=None):\n",
    "    if s2 is None:\n",
    "        s2 = torch.zeros_like(s1)\n",
    "    return ((s1-s2)**2).sum(-1).mean(-1)\n",
    "\n",
    "def get_3d_mesh(ids, root_folder):\n",
    "    \n",
    "    for id in ids:\n",
    "        npy_file = f\"{root_folder}/{id}/models/fhm_time001.npy\"\n",
    "        pc  = np.load(npy_file)\n",
    "        yield id, pc\n",
    "        \n",
    "\n",
    "def get_4d_mesh(ids, root_folder, timepoints=list(range(1,51))):\n",
    "    \n",
    "    for id in ids:\n",
    "        for t in timepoints:\n",
    "            npy_file = f\"{root_folder}/{id}/models/fhm_time{str(t).zfill(3)}.npy\"\n",
    "            pc  = np.load(npy_file)\n",
    "        yield id, pc\n",
    "\n",
    "\n",
    "\n",
    "def generalisedProcrustes(point_clouds: np.array, ids: List, template_mesh=None, scaling=False, logger=logging.getLogger()):\n",
    "\n",
    "\n",
    "    logger.info(\"Performing Procrustes analysis with scaling\")\n",
    "    if template_mesh is None:\n",
    "        template_mesh = point_clouds[0]\n",
    "\n",
    "    old_disparity, disparity = 0, 1  # random values\n",
    "    it_count = 0\n",
    "    \n",
    "    transforms = {}            \n",
    "\n",
    "    centroids = point_clouds.mean(axis=1)\n",
    "    for i, id in enumerate(ids):\n",
    "        point_clouds[i] -= centroids[i] \n",
    "        transforms[id] = {}\n",
    "        transforms[id][\"traslation\"] = centroids[i]\n",
    "\n",
    "\n",
    "    while abs(old_disparity - disparity) / disparity > 1e-2 and disparity:\n",
    "\n",
    "        old_disparity = disparity\n",
    "        disparity = []\n",
    "\n",
    "        for i, id in tqdm(enumerate(ids)):\n",
    "\n",
    "            # Docs: https://docs.scipy.org/doc/scipy/reference/generated/scipy.spatial.procrustes.html\n",
    "            if scaling:\n",
    "                mtx1, mtx2, _disparity = procrustes(template_mesh, point_clouds[i])\n",
    "                point_clouds[i] = np.array(mtx2)  # if self.procrustes_scaling else np.array(mtx1)\n",
    "\n",
    "            else:\n",
    "                # Docs: https://docs.scipy.org/doc/scipy/reference/generated/scipy.linalg.orthogonal_procrustes.html\n",
    "                # Note that the arguments are swapped with respect to the previous @procrustes function\n",
    "                R, s = orthogonal_procrustes(point_clouds[i], template_mesh)\n",
    "                # Rotate\n",
    "                point_clouds[i] = np.dot(point_clouds[i], R)  # * s\n",
    "                # Mean point-wise MSE\n",
    "                _disparity = mse(point_clouds[i], template_mesh) \n",
    "                disparity.append(_disparity)\n",
    "\n",
    "                if it_count == 0:\n",
    "                    transforms[id][\"rotation\"] = R #, \"scaling\": s}\n",
    "                else:\n",
    "                    transforms[id][\"rotation\"] = R.dot(transforms[id][\"rotation\"]) #, \"scaling\": transforms[i][\"scaling\"] * s}\n",
    "\n",
    "        template_mesh = point_clouds.mean(axis=0)\n",
    "        disparity = np.array(disparity).mean(axis=0)\n",
    "        it_count += 1\n",
    "        \n",
    "    #self.procrustes_aligned = True\n",
    "    logger.info(\n",
    "        \"Generalized Procrustes analysis with scaling performed after %s iterations\"\n",
    "        % it_count\n",
    "    )\n",
    "\n",
    "    return transforms"
   ]
  },
  {
   "cell_type": "code",
   "execution_count": 7,
   "id": "c1eafddc-43ab-4c92-bc63-dc67e921727d",
   "metadata": {},
   "outputs": [],
   "source": [
    "PROCRUSTES_FILE = \"utils/CardioMesh/data/procrustes_transforms_FHM_35k.pkl\"\n",
    "procrustes_transforms = pkl.load(open(PROCRUSTES_FILE, \"rb\"))"
   ]
  },
  {
   "cell_type": "code",
   "execution_count": 21,
   "id": "1004b8d7-b732-4617-babe-b0734dbb090a",
   "metadata": {},
   "outputs": [],
   "source": [
    "# import re\n",
    "# paths = glob.glob(\"/mnt/data/workshop/workshop-user1/datasets/meshes/Results_*/*/models/FHM_res_0.1_time001.npy\")\n",
    "# regex = \"/mnt/data/workshop/workshop-user1/datasets/meshes/Results_.*/(.*)/models/FHM_res_0.1_time001.npy\"\n",
    "# regex = re.compile(regex)\n",
    "# meshes_fhmed = {regex.match(path).group(1): np.load(path) for path in paths}\n",
    "# pkl.dump(meshes_fhmed, open(\"/home/user/01_repos/CardiacCOMA/data/FHM_meshes_at_ED_all_my_segmentation_61225.pkl\", \"wb\"))"
   ]
  },
  {
   "cell_type": "code",
   "execution_count": 8,
   "id": "cb438f1c-0b14-4cb3-941d-bbc8a07d9ff5",
   "metadata": {},
   "outputs": [],
   "source": [
    "MESHES_FHM_FILE = \"/home/user/01_repos/CardiacCOMA/data/FHM_meshes_at_ED_all_my_segmentation_61225.pkl\"\n",
    "meshes = pkl.load(open(MESHES_FHM_FILE, \"rb\"))"
   ]
  },
  {
   "cell_type": "code",
   "execution_count": 9,
   "id": "257915ee-5dcc-4d8c-8155-934ae51cb19e",
   "metadata": {},
   "outputs": [],
   "source": [
    "common_ids = set(meshes.keys()).intersection(set(procrustes_transforms.keys()))\n",
    "procrustes_transforms = {k:procrustes_transforms[k] for k in common_ids}"
   ]
  },
  {
   "cell_type": "code",
   "execution_count": 11,
   "id": "e2638b9f-9fd4-4e0d-a7d7-34cd2a49ac95",
   "metadata": {},
   "outputs": [],
   "source": [
    "meshes_original_aligned = [transform_mesh(meshes[id], **procrustes_transforms[id]) for id in procrustes_transforms]"
   ]
  },
  {
   "cell_type": "code",
   "execution_count": 22,
   "id": "1e47d1f1-8ac1-4ab9-9249-19f592d6dba4",
   "metadata": {},
   "outputs": [],
   "source": [
    "meshes_original_aligned = np.array(meshes_original_aligned)"
   ]
  },
  {
   "cell_type": "code",
   "execution_count": 19,
   "id": "7404a41b-6a3d-42b8-8b4b-a38be83acbfe",
   "metadata": {},
   "outputs": [
    {
     "ename": "AttributeError",
     "evalue": "'list' object has no attribute 'mean'",
     "output_type": "error",
     "traceback": [
      "\u001b[0;31m---------------------------------------------------------------------------\u001b[0m",
      "\u001b[0;31mAttributeError\u001b[0m                            Traceback (most recent call last)",
      "Cell \u001b[0;32mIn[19], line 1\u001b[0m\n\u001b[0;32m----> 1\u001b[0m template_mesh \u001b[38;5;241m=\u001b[39m \u001b[43mmeshes_original_aligned\u001b[49m\u001b[38;5;241;43m.\u001b[39;49m\u001b[43mmean\u001b[49m(axis\u001b[38;5;241m=\u001b[39m\u001b[38;5;241m0\u001b[39m)\n",
      "\u001b[0;31mAttributeError\u001b[0m: 'list' object has no attribute 'mean'"
     ]
    }
   ],
   "source": [
    "template_mesh = meshes_original_aligned.mean(axis=0)"
   ]
  },
  {
   "cell_type": "code",
   "execution_count": 18,
   "id": "204710bb-0704-4caf-ba72-9c034c5a3f15",
   "metadata": {},
   "outputs": [
    {
     "ename": "NameError",
     "evalue": "name 'template_mesh' is not defined",
     "output_type": "error",
     "traceback": [
      "\u001b[0;31m---------------------------------------------------------------------------\u001b[0m",
      "\u001b[0;31mNameError\u001b[0m                                 Traceback (most recent call last)",
      "Cell \u001b[0;32mIn[18], line 1\u001b[0m\n\u001b[0;32m----> 1\u001b[0m \u001b[43mtemplate_mesh\u001b[49m\u001b[38;5;241m.\u001b[39mshape\n",
      "\u001b[0;31mNameError\u001b[0m: name 'template_mesh' is not defined"
     ]
    }
   ],
   "source": [
    "template_mesh.shape"
   ]
  },
  {
   "cell_type": "code",
   "execution_count": 9,
   "id": "8ed25a05-5a7a-4aaf-9da3-e64d45a2b4f4",
   "metadata": {},
   "outputs": [],
   "source": [
    "meshes_npy = np.array(list(meshes.values()))"
   ]
  },
  {
   "cell_type": "code",
   "execution_count": 11,
   "id": "18086205-b5c5-44f4-a09c-d396198ff441",
   "metadata": {},
   "outputs": [],
   "source": [
    "ids = list(meshes.keys())"
   ]
  },
  {
   "cell_type": "code",
   "execution_count": 16,
   "id": "06da1767-98cf-452e-b0e9-7bc92f4d16e2",
   "metadata": {},
   "outputs": [
    {
     "ename": "NameError",
     "evalue": "name 'meshes_npy' is not defined",
     "output_type": "error",
     "traceback": [
      "\u001b[0;31m---------------------------------------------------------------------------\u001b[0m",
      "\u001b[0;31mNameError\u001b[0m                                 Traceback (most recent call last)",
      "Cell \u001b[0;32mIn[16], line 2\u001b[0m\n\u001b[1;32m      1\u001b[0m procrustes_transforms \u001b[38;5;241m=\u001b[39m generalisedProcrustes(\n\u001b[0;32m----> 2\u001b[0m     point_clouds\u001b[38;5;241m=\u001b[39m\u001b[43mmeshes_npy\u001b[49m,\n\u001b[1;32m      3\u001b[0m     ids\u001b[38;5;241m=\u001b[39mids,\n\u001b[1;32m      4\u001b[0m     template_mesh\u001b[38;5;241m=\u001b[39mtemplate_mesh\n\u001b[1;32m      5\u001b[0m )\n\u001b[1;32m      7\u001b[0m PROCRUSTES_FHM_FULL \u001b[38;5;241m=\u001b[39m \u001b[38;5;124m\"\u001b[39m\u001b[38;5;124mutils/VTKHelpers/data/procrustes_transforms_FHM_61k.pkl\u001b[39m\u001b[38;5;124m\"\u001b[39m\n\u001b[1;32m      8\u001b[0m pkl\u001b[38;5;241m.\u001b[39mdump(procrustes_transforms, \u001b[38;5;28mopen\u001b[39m(PROCRUSTES_FHM_FULL, \u001b[38;5;124m\"\u001b[39m\u001b[38;5;124mwb\u001b[39m\u001b[38;5;124m\"\u001b[39m))\n",
      "\u001b[0;31mNameError\u001b[0m: name 'meshes_npy' is not defined"
     ]
    }
   ],
   "source": [
    "procrustes_transforms = generalisedProcrustes(\n",
    "    point_clouds=meshes_npy,\n",
    "    ids=ids,\n",
    "    template_mesh=template_mesh\n",
    ")\n",
    "\n",
    "PROCRUSTES_FHM_FULL = \"utils/VTKHelpers/data/procrustes_transforms_FHM_61k.pkl\"\n",
    "pkl.dump(procrustes_transforms, open(PROCRUSTES_FHM_FULL, \"wb\"))"
   ]
  },
  {
   "cell_type": "code",
   "execution_count": 75,
   "id": "5b3a1c54",
   "metadata": {},
   "outputs": [],
   "source": [
    "faces = EasyDict(\n",
    "    pkl.load(open(\"utils/VTKHelpers/data/faces_and_downsampling_mtx_frac_0.1_LV.pkl\", \"rb\"))\n",
    ").new_faces\n",
    "\n",
    "template = EasyDict({\n",
    "   \"v\": transform_mesh(np.load(\n",
    "       f\"{root_path}/1000215/models/FHM_time001.npy\"), \n",
    "       **procrustes_transforms[\"1000215\"]\n",
    "   ),\n",
    "   \"f\": faces\n",
    "})"
   ]
  },
  {
   "cell_type": "code",
   "execution_count": 5,
   "id": "a5845ec7",
   "metadata": {
    "collapsed": true,
    "jupyter": {
     "outputs_hidden": true
    },
    "tags": []
   },
   "outputs": [
    {
     "ename": "KeyboardInterrupt",
     "evalue": "",
     "output_type": "error",
     "traceback": [
      "\u001b[0;31m---------------------------------------------------------------------------\u001b[0m",
      "\u001b[0;31mKeyboardInterrupt\u001b[0m                         Traceback (most recent call last)",
      "Cell \u001b[0;32mIn[5], line 1\u001b[0m\n\u001b[0;32m----> 1\u001b[0m cardiac_dataset \u001b[38;5;241m=\u001b[39m \u001b[43mCardiacMeshPopulationDataset\u001b[49m\u001b[43m(\u001b[49m\n\u001b[1;32m      2\u001b[0m \u001b[43m    \u001b[49m\u001b[43mroot_path\u001b[49m\u001b[43m,\u001b[49m\u001b[43m \u001b[49m\n\u001b[1;32m      3\u001b[0m \u001b[43m    \u001b[49m\u001b[43mprocrustes_transforms\u001b[49m\u001b[38;5;241;43m=\u001b[39;49m\u001b[38;5;124;43m\"\u001b[39;49m\u001b[38;5;124;43mutils/VTKHelpers/data/procrustes_transforms_FHM_35k.pkl\u001b[39;49m\u001b[38;5;124;43m\"\u001b[39;49m\u001b[43m,\u001b[49m\n\u001b[1;32m      4\u001b[0m \u001b[43m    \u001b[49m\u001b[43mfaces\u001b[49m\u001b[38;5;241;43m=\u001b[39;49m\u001b[43mfaces\u001b[49m\u001b[43m,\u001b[49m\n\u001b[1;32m      5\u001b[0m \u001b[43m    \u001b[49m\u001b[43mtemplate_mesh\u001b[49m\u001b[38;5;241;43m=\u001b[39;49m\u001b[43mtemplate\u001b[49m\n\u001b[1;32m      6\u001b[0m \u001b[43m)\u001b[49m\n",
      "File \u001b[0;32m~/01_repos/CardiacMotionRL/main_autoencoder_cardiac.py:60\u001b[0m, in \u001b[0;36mCardiacMeshPopulationDataset.__init__\u001b[0;34m(self, root_path, faces, N_subj, procrustes_transforms, template_mesh)\u001b[0m\n\u001b[1;32m     52\u001b[0m \u001b[38;5;250m\u001b[39m\u001b[38;5;124;03m'''\u001b[39;00m\n\u001b[1;32m     53\u001b[0m \u001b[38;5;124;03m  root_dir: root directory where all the mesh data is located.\u001b[39;00m\n\u001b[1;32m     54\u001b[0m \u001b[38;5;124;03m  N_subj: if None, all the subjects are utilized.\u001b[39;00m\n\u001b[1;32m     55\u001b[0m \u001b[38;5;124;03m  faces: F x 3 array (F is the number of faces)\u001b[39;00m\n\u001b[1;32m     56\u001b[0m \u001b[38;5;124;03m  procrustes_transforms: Mapping from IDs to transforms (\"rotation\" and \"traslation\")\u001b[39;00m\n\u001b[1;32m     57\u001b[0m \u001b[38;5;124;03m'''\u001b[39;00m\n\u001b[1;32m     59\u001b[0m \u001b[38;5;28mself\u001b[39m\u001b[38;5;241m.\u001b[39m_root_path \u001b[38;5;241m=\u001b[39m root_path\n\u001b[0;32m---> 60\u001b[0m \u001b[38;5;28mself\u001b[39m\u001b[38;5;241m.\u001b[39m_paths \u001b[38;5;241m=\u001b[39m \u001b[38;5;28;43mself\u001b[39;49m\u001b[38;5;241;43m.\u001b[39;49m\u001b[43m_get_paths\u001b[49m\u001b[43m(\u001b[49m\u001b[43m)\u001b[49m\n\u001b[1;32m     61\u001b[0m \u001b[38;5;28mself\u001b[39m\u001b[38;5;241m.\u001b[39mprocrustes_transforms \u001b[38;5;241m=\u001b[39m pkl\u001b[38;5;241m.\u001b[39mload(\u001b[38;5;28mopen\u001b[39m(procrustes_transforms, \u001b[38;5;124m\"\u001b[39m\u001b[38;5;124mrb\u001b[39m\u001b[38;5;124m\"\u001b[39m))\n\u001b[1;32m     62\u001b[0m \u001b[38;5;28mself\u001b[39m\u001b[38;5;241m.\u001b[39mids \u001b[38;5;241m=\u001b[39m \u001b[38;5;28mset\u001b[39m(\u001b[38;5;28mself\u001b[39m\u001b[38;5;241m.\u001b[39mget_ids())\u001b[38;5;241m.\u001b[39mintersection(\u001b[38;5;28mset\u001b[39m(\u001b[38;5;28mself\u001b[39m\u001b[38;5;241m.\u001b[39mprocrustes_transforms\u001b[38;5;241m.\u001b[39mkeys()))\n",
      "File \u001b[0;32m~/01_repos/CardiacMotionRL/main_autoencoder_cardiac.py:80\u001b[0m, in \u001b[0;36mCardiacMeshPopulationDataset._get_paths\u001b[0;34m(self)\u001b[0m\n\u001b[1;32m     76\u001b[0m dd \u001b[38;5;241m=\u001b[39m {}\n\u001b[1;32m     78\u001b[0m \u001b[38;5;28;01mfor\u001b[39;00m \u001b[38;5;28mid\u001b[39m \u001b[38;5;129;01min\u001b[39;00m ids:\n\u001b[0;32m---> 80\u001b[0m     paths \u001b[38;5;241m=\u001b[39m \u001b[38;5;28msorted\u001b[39m(\u001b[43mglob\u001b[49m\u001b[38;5;241;43m.\u001b[39;49m\u001b[43mglob\u001b[49m\u001b[43m(\u001b[49m\u001b[38;5;124;43mf\u001b[39;49m\u001b[38;5;124;43m\"\u001b[39;49m\u001b[38;5;132;43;01m{\u001b[39;49;00m\u001b[38;5;28;43mself\u001b[39;49m\u001b[38;5;241;43m.\u001b[39;49m\u001b[43m_root_path\u001b[49m\u001b[38;5;132;43;01m}\u001b[39;49;00m\u001b[38;5;124;43m/\u001b[39;49m\u001b[38;5;132;43;01m{\u001b[39;49;00m\u001b[38;5;28;43mid\u001b[39;49m\u001b[38;5;132;43;01m}\u001b[39;49;00m\u001b[38;5;124;43m/models/FHM*.npy\u001b[39;49m\u001b[38;5;124;43m\"\u001b[39;49m\u001b[43m)\u001b[49m)    \n\u001b[1;32m     82\u001b[0m     paths_filtered \u001b[38;5;241m=\u001b[39m []\n\u001b[1;32m     83\u001b[0m     phases \u001b[38;5;241m=\u001b[39m []\n",
      "File \u001b[0;32m~/miniconda/envs/cardiac_coma/lib/python3.9/glob.py:22\u001b[0m, in \u001b[0;36mglob\u001b[0;34m(pathname, recursive)\u001b[0m\n\u001b[1;32m     11\u001b[0m \u001b[38;5;28;01mdef\u001b[39;00m \u001b[38;5;21mglob\u001b[39m(pathname, \u001b[38;5;241m*\u001b[39m, recursive\u001b[38;5;241m=\u001b[39m\u001b[38;5;28;01mFalse\u001b[39;00m):\n\u001b[1;32m     12\u001b[0m \u001b[38;5;250m    \u001b[39m\u001b[38;5;124;03m\"\"\"Return a list of paths matching a pathname pattern.\u001b[39;00m\n\u001b[1;32m     13\u001b[0m \n\u001b[1;32m     14\u001b[0m \u001b[38;5;124;03m    The pattern may contain simple shell-style wildcards a la\u001b[39;00m\n\u001b[0;32m   (...)\u001b[0m\n\u001b[1;32m     20\u001b[0m \u001b[38;5;124;03m    zero or more directories and subdirectories.\u001b[39;00m\n\u001b[1;32m     21\u001b[0m \u001b[38;5;124;03m    \"\"\"\u001b[39;00m\n\u001b[0;32m---> 22\u001b[0m     \u001b[38;5;28;01mreturn\u001b[39;00m \u001b[38;5;28;43mlist\u001b[39;49m\u001b[43m(\u001b[49m\u001b[43miglob\u001b[49m\u001b[43m(\u001b[49m\u001b[43mpathname\u001b[49m\u001b[43m,\u001b[49m\u001b[43m \u001b[49m\u001b[43mrecursive\u001b[49m\u001b[38;5;241;43m=\u001b[39;49m\u001b[43mrecursive\u001b[49m\u001b[43m)\u001b[49m\u001b[43m)\u001b[49m\n",
      "File \u001b[0;32m~/miniconda/envs/cardiac_coma/lib/python3.9/glob.py:75\u001b[0m, in \u001b[0;36m_iglob\u001b[0;34m(pathname, recursive, dironly)\u001b[0m\n\u001b[1;32m     73\u001b[0m     glob_in_dir \u001b[38;5;241m=\u001b[39m _glob0\n\u001b[1;32m     74\u001b[0m \u001b[38;5;28;01mfor\u001b[39;00m dirname \u001b[38;5;129;01min\u001b[39;00m dirs:\n\u001b[0;32m---> 75\u001b[0m     \u001b[38;5;28;01mfor\u001b[39;00m name \u001b[38;5;129;01min\u001b[39;00m \u001b[43mglob_in_dir\u001b[49m\u001b[43m(\u001b[49m\u001b[43mdirname\u001b[49m\u001b[43m,\u001b[49m\u001b[43m \u001b[49m\u001b[43mbasename\u001b[49m\u001b[43m,\u001b[49m\u001b[43m \u001b[49m\u001b[43mdironly\u001b[49m\u001b[43m)\u001b[49m:\n\u001b[1;32m     76\u001b[0m         \u001b[38;5;28;01myield\u001b[39;00m os\u001b[38;5;241m.\u001b[39mpath\u001b[38;5;241m.\u001b[39mjoin(dirname, name)\n",
      "File \u001b[0;32m~/miniconda/envs/cardiac_coma/lib/python3.9/glob.py:83\u001b[0m, in \u001b[0;36m_glob1\u001b[0;34m(dirname, pattern, dironly)\u001b[0m\n\u001b[1;32m     82\u001b[0m \u001b[38;5;28;01mdef\u001b[39;00m \u001b[38;5;21m_glob1\u001b[39m(dirname, pattern, dironly):\n\u001b[0;32m---> 83\u001b[0m     names \u001b[38;5;241m=\u001b[39m \u001b[43m_listdir\u001b[49m\u001b[43m(\u001b[49m\u001b[43mdirname\u001b[49m\u001b[43m,\u001b[49m\u001b[43m \u001b[49m\u001b[43mdironly\u001b[49m\u001b[43m)\u001b[49m\n\u001b[1;32m     84\u001b[0m     \u001b[38;5;28;01mif\u001b[39;00m \u001b[38;5;129;01mnot\u001b[39;00m _ishidden(pattern):\n\u001b[1;32m     85\u001b[0m         names \u001b[38;5;241m=\u001b[39m (x \u001b[38;5;28;01mfor\u001b[39;00m x \u001b[38;5;129;01min\u001b[39;00m names \u001b[38;5;28;01mif\u001b[39;00m \u001b[38;5;129;01mnot\u001b[39;00m _ishidden(x))\n",
      "File \u001b[0;32m~/miniconda/envs/cardiac_coma/lib/python3.9/glob.py:136\u001b[0m, in \u001b[0;36m_listdir\u001b[0;34m(dirname, dironly)\u001b[0m\n\u001b[1;32m    134\u001b[0m \u001b[38;5;28;01mdef\u001b[39;00m \u001b[38;5;21m_listdir\u001b[39m(dirname, dironly):\n\u001b[1;32m    135\u001b[0m     \u001b[38;5;28;01mwith\u001b[39;00m contextlib\u001b[38;5;241m.\u001b[39mclosing(_iterdir(dirname, dironly)) \u001b[38;5;28;01mas\u001b[39;00m it:\n\u001b[0;32m--> 136\u001b[0m         \u001b[38;5;28;01mreturn\u001b[39;00m \u001b[38;5;28;43mlist\u001b[39;49m\u001b[43m(\u001b[49m\u001b[43mit\u001b[49m\u001b[43m)\u001b[49m\n",
      "File \u001b[0;32m~/miniconda/envs/cardiac_coma/lib/python3.9/glob.py:125\u001b[0m, in \u001b[0;36m_iterdir\u001b[0;34m(dirname, dironly)\u001b[0m\n\u001b[1;32m    123\u001b[0m \u001b[38;5;28;01mtry\u001b[39;00m:\n\u001b[1;32m    124\u001b[0m     \u001b[38;5;28;01mwith\u001b[39;00m os\u001b[38;5;241m.\u001b[39mscandir(dirname) \u001b[38;5;28;01mas\u001b[39;00m it:\n\u001b[0;32m--> 125\u001b[0m         \u001b[38;5;28;01mfor\u001b[39;00m entry \u001b[38;5;129;01min\u001b[39;00m it:\n\u001b[1;32m    126\u001b[0m             \u001b[38;5;28;01mtry\u001b[39;00m:\n\u001b[1;32m    127\u001b[0m                 \u001b[38;5;28;01mif\u001b[39;00m \u001b[38;5;129;01mnot\u001b[39;00m dironly \u001b[38;5;129;01mor\u001b[39;00m entry\u001b[38;5;241m.\u001b[39mis_dir():\n",
      "\u001b[0;31mKeyboardInterrupt\u001b[0m: "
     ]
    }
   ],
   "source": [
    "cardiac_dataset = CardiacMeshPopulationDataset(\n",
    "    root_path, \n",
    "    procrustes_transforms=\"utils/VTKHelpers/data/procrustes_transforms_FHM_35k.pkl\",\n",
    "    faces=faces,\n",
    "    template_mesh=template\n",
    ")"
   ]
  },
  {
   "cell_type": "markdown",
   "id": "5893bc41",
   "metadata": {},
   "source": [
    "### Compute mean across timepoints and across subjects"
   ]
  },
  {
   "cell_type": "code",
   "execution_count": null,
   "id": "9ea01e14",
   "metadata": {
    "tags": []
   },
   "outputs": [],
   "source": [
    "pp = []\n",
    "for i, k in enumerate(cardiac_dataset):\n",
    "    print(i)\n",
    "    pp.append(k[\"time_avg_s\"])    "
   ]
  },
  {
   "cell_type": "code",
   "execution_count": null,
   "id": "67d56607",
   "metadata": {},
   "outputs": [],
   "source": [
    "s_popmean = torch.stack(pp).mean(0).numpy()\n",
    "POPMEAN_SHAPE = \"data/LV_shape_mean_across_timepoints.npy\"\n",
    "np.save(POPMEAN_SHAPE, s_popmean)"
   ]
  },
  {
   "cell_type": "code",
   "execution_count": null,
   "id": "a3a35b97",
   "metadata": {},
   "outputs": [],
   "source": [
    "t_avg_s = [ k[\"time_avg_s\"] in cardiac_dataset ]"
   ]
  },
  {
   "cell_type": "code",
   "execution_count": null,
   "id": "1490c48b",
   "metadata": {},
   "outputs": [],
   "source": [
    "cardiac_mesh_dm = CardiacMeshPopulationDM(cardiac_dataset, batch_size=32)\n",
    "cardiac_mesh_dm.setup()\n",
    "len(cardiac_dataset)"
   ]
  },
  {
   "cell_type": "code",
   "execution_count": 1,
   "id": "b7358484",
   "metadata": {},
   "outputs": [
    {
     "ename": "NameError",
     "evalue": "name 'widgets' is not defined",
     "output_type": "error",
     "traceback": [
      "\u001b[0;31m---------------------------------------------------------------------------\u001b[0m",
      "\u001b[0;31mNameError\u001b[0m                                 Traceback (most recent call last)",
      "Cell \u001b[0;32mIn[1], line 1\u001b[0m\n\u001b[0;32m----> 1\u001b[0m subj_idx_w \u001b[38;5;241m=\u001b[39m \u001b[43mwidgets\u001b[49m\u001b[38;5;241m.\u001b[39mIntSlider(\u001b[38;5;28mmin\u001b[39m\u001b[38;5;241m=\u001b[39m\u001b[38;5;241m1\u001b[39m, \u001b[38;5;28mmax\u001b[39m\u001b[38;5;241m=\u001b[39m\u001b[38;5;28mlen\u001b[39m(cardiac_dataset))\n\u001b[1;32m      3\u001b[0m \u001b[38;5;28;01mdef\u001b[39;00m \u001b[38;5;21mgenerate_gif\u001b[39m(mesh4D, faces, filename, camera_position\u001b[38;5;241m=\u001b[39m\u001b[38;5;124m'\u001b[39m\u001b[38;5;124mxy\u001b[39m\u001b[38;5;124m'\u001b[39m, show_edges\u001b[38;5;241m=\u001b[39m\u001b[38;5;28;01mFalse\u001b[39;00m, \u001b[38;5;241m*\u001b[39m\u001b[38;5;241m*\u001b[39mkwargs):\n\u001b[1;32m      5\u001b[0m \u001b[38;5;250m        \u001b[39m\u001b[38;5;124;03m'''\u001b[39;00m\n\u001b[1;32m      6\u001b[0m \u001b[38;5;124;03m        Produces a gif file representing the motion of the input mesh.\u001b[39;00m\n\u001b[1;32m      7\u001b[0m \u001b[38;5;124;03m        \u001b[39;00m\n\u001b[0;32m   (...)\u001b[0m\n\u001b[1;32m     15\u001b[0m \u001b[38;5;124;03m          None, only produces the gif file.\u001b[39;00m\n\u001b[1;32m     16\u001b[0m \u001b[38;5;124;03m        '''\u001b[39;00m\n",
      "\u001b[0;31mNameError\u001b[0m: name 'widgets' is not defined"
     ]
    }
   ],
   "source": [
    "subj_idx_w = widgets.IntSlider(min=1, max=len(cardiac_dataset))\n",
    "\n",
    "def generate_gif(mesh4D, faces, filename, camera_position='xy', show_edges=False, **kwargs):\n",
    "        \n",
    "        '''\n",
    "        Produces a gif file representing the motion of the input mesh.\n",
    "        \n",
    "        params:\n",
    "          ::mesh4D:: a sequence of Trimesh mesh objects.\n",
    "          ::faces:: array of F x 3 containing the indices of the mesh's triangular faces.\n",
    "          ::filename:: the name of the output gif file.\n",
    "          ::camera_position:: camera position for pyvista plotter (check relevant docs)\n",
    "          \n",
    "        return:\n",
    "          None, only produces the gif file.\n",
    "        '''\n",
    "\n",
    "        import pyvista as pv\n",
    "        \n",
    "        connectivity = np.c_[np.ones(faces.shape[0]) * 3, faces].astype(int)\n",
    "                \n",
    "        pv.set_plot_theme(\"document\")\n",
    "        os.makedirs(os.path.dirname(\"./\"+filename) , exist_ok=True)\n",
    "        \n",
    "        # plotter = pv.Plotter(shape=(1, len(camera_positions)), notebook=False, off_screen=True)\n",
    "        pv.start_xvfb()\n",
    "        plotter = pv.Plotter(notebook=False, off_screen=True)\n",
    "            \n",
    "        # Open a gif\n",
    "        plotter.open_gif(filename)\n",
    "\n",
    "        try:\n",
    "            # if mesh3D is torch.Tensor, this your should run OK\n",
    "            mesh4D = mesh4D.cpu().numpy()[0].astype(\"float32\")\n",
    "        except AttributeError:\n",
    "            pass\n",
    "\n",
    "        kk = pv.PolyData(mesh4D[0], connectivity)\n",
    "        # plotter.add_mesh(kk, smooth_shading=True, opacity=0.5 )#, show_edges=True)\n",
    "        plotter.add_mesh(kk, show_edges=show_edges, opacity=0.5, color=\"red\") \n",
    "        \n",
    "        for t, _ in enumerate(mesh4D):\n",
    "            kk = pv.PolyData(mesh4D[t], connectivity)\n",
    "            plotter.camera_position = camera_position\n",
    "            plotter.update_coordinates(kk.points, render=False)\n",
    "            plotter.render()             \n",
    "            plotter.write_frame()\n",
    "        \n",
    "        plotter.close()\n",
    "        \n",
    "        return filename\n",
    "\n",
    "@interact\n",
    "def show_gif(subj_idx=subj_idx_w):\n",
    "    \n",
    "    from IPython.display import HTML\n",
    "    import base64\n",
    "        \n",
    "    # subj_id = cardiac_dataset.ids[subj_id]                \n",
    "    \n",
    "    gifpath = generate_gif(\n",
    "        torch.stack(pp).mean(0), #cardiac_dataset[subj_idx], \n",
    "        faces, filename=\"kk.gif\", camera_position=\"xz\"\n",
    "    )\n",
    "    \n",
    "    b64 = base64.b64encode(\n",
    "        open(gifpath,'rb').read()\n",
    "    ).decode('ascii')\n",
    "    \n",
    "    display(HTML(f'<img src=\"data:image/gif;base64,{b64}\" />'))"
   ]
  }
 ],
 "metadata": {
  "kernelspec": {
   "display_name": "Python 3 (ipykernel)",
   "language": "python",
   "name": "python3"
  },
  "language_info": {
   "codemirror_mode": {
    "name": "ipython",
    "version": 3
   },
   "file_extension": ".py",
   "mimetype": "text/x-python",
   "name": "python",
   "nbconvert_exporter": "python",
   "pygments_lexer": "ipython3",
   "version": "3.9.16"
  }
 },
 "nbformat": 4,
 "nbformat_minor": 5
}
