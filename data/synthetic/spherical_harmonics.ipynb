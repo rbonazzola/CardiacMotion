{
 "cells": [
  {
   "cell_type": "code",
   "execution_count": 4,
   "id": "b5f31d67",
   "metadata": {},
   "outputs": [],
   "source": [
    "import os\n",
    "import vedo\n",
    "import numpy as np\n",
    "import trimesh\n",
    "from copy import copy\n",
    "from scipy.special import sph_harm\n",
    "import ipywidgets as widgets\n",
    "from ipywidgets import interact\n",
    "import pyvista as pv\n",
    "from IPython import embed\n",
    "import re\n",
    "import pickle as pkl\n",
    "from utils import appendSpherical_np, cache_base_functions, generate_population\n",
    "import gif"
   ]
  },
  {
   "cell_type": "markdown",
   "id": "ba98a73b",
   "metadata": {},
   "source": [
    "# Spherical harmonics"
   ]
  },
  {
   "cell_type": "markdown",
   "id": "e143b696",
   "metadata": {},
   "source": [
    "The spherical harmonics are defined by the following formula"
   ]
  },
  {
   "cell_type": "markdown",
   "id": "13ff76a8",
   "metadata": {},
   "source": [
    "$$Y_{lm}(\\theta, \\phi)=\\sqrt{\\frac{2l+1}{4\\pi}}P_l^m(\\cos\\theta)e^{im\\phi},$$"
   ]
  },
  {
   "cell_type": "markdown",
   "id": "f88dedf8",
   "metadata": {},
   "source": [
    "where the $P_l^m$ are the associated Legendre polynomials. They satisfy the following equation:"
   ]
  },
  {
   "cell_type": "markdown",
   "id": "3f22a814",
   "metadata": {},
   "source": [
    "$$r^2\\nabla^2Y_{lm}(\\theta, \\phi)=l(l+1)Y_{lm}(\\theta, \\phi)$$"
   ]
  },
  {
   "cell_type": "markdown",
   "id": "17127473",
   "metadata": {},
   "source": [
    "In other words, the Laplacian operator $\\nabla^2$ can be diagonalized by using this basis.\n"
   ]
  },
  {
   "cell_type": "markdown",
   "id": "585b0089",
   "metadata": {},
   "source": [
    "### Generative process"
   ]
  },
  {
   "cell_type": "markdown",
   "id": "31e56c98",
   "metadata": {},
   "source": [
    "1) Sample coefficients $b_{lm}^{(0)}\\sim \\mathcal{N}(0,\\sigma_c^2)$; $a_{lm}^{(n)}, b_{lm}^{(n)}\\sim \\mathcal{N}(0,\\sigma_s^2)$. <br>\n",
    "2) Build time-dependent coefficients as:\n",
    "$$a_{lm}(t)=b_{lm}^{(0)}+\\sum_{n=1}^{n_{\\text{max}}}a_{lm}^{(n)}\\sin(2\\pi nt)+b_{lm}^{(n)}\\cos(2\\pi nt),\\,\\, t\\in[0,1]$$<br>\n",
    "3) The deformation is performed along the radial direction at each point, and with an amplitude given by the following expansion:\n",
    "$$ \\textbf{d}(\\textbf{r},t) =\\bigg( \\sum_{l=0}^{l_{\\text{max}}}\\sum_{m=-l}^{l}a_{lm}(t)Y_{lm}(\\theta, \\phi)\\bigg) \\hat{\\textbf{r}}$$"
   ]
  },
  {
   "cell_type": "markdown",
   "id": "51cc6629",
   "metadata": {},
   "source": [
    "### Ideas"
   ]
  },
  {
   "cell_type": "markdown",
   "id": "5eecde7a",
   "metadata": {},
   "source": [
    "##### A local deformation"
   ]
  },
  {
   "cell_type": "markdown",
   "id": "d5b8422e",
   "metadata": {},
   "source": [
    "The expansion of the Dirac delta is given by:"
   ]
  },
  {
   "cell_type": "markdown",
   "id": "e03808ef",
   "metadata": {},
   "source": [
    "$$\\delta(\\theta,\\phi)=\\sum_{l=0}^{\\infty}\\sum_{m=-l}^{l}Y_{lm}(0, 0)Y_{lm}(\\theta, \\phi)$$"
   ]
  },
  {
   "cell_type": "markdown",
   "id": "e9df1e5b",
   "metadata": {},
   "source": [
    "Would this be useful to create a local deformation (by truncating this expansion)?"
   ]
  },
  {
   "cell_type": "markdown",
   "id": "f7e49e2a",
   "metadata": {},
   "source": [
    "We build a dictionary  $Y_{lm}(\\theta, \\phi)$ for all the $(\\theta, \\phi)$ in the discretization of $S_2$. First we get the coordinates of such discretization:"
   ]
  },
  {
   "cell_type": "markdown",
   "id": "5db54cb8",
   "metadata": {},
   "source": [
    "We cache \n",
    "$$f_{lmn}(\\theta,\\phi,t)=Y_{lm}(\\theta,\\phi)\\sin(2\\pi nt)$$\n",
    "$$g_{lmn}(\\theta,\\phi,t)=Y_{lm}(\\theta,\\phi)\\cos(2\\pi nt)$$"
   ]
  },
  {
   "cell_type": "markdown",
   "id": "08ef5840",
   "metadata": {},
   "source": [
    "\n",
    "### Generate population"
   ]
  },
  {
   "cell_type": "code",
   "execution_count": 1,
   "id": "695cde73",
   "metadata": {},
   "outputs": [],
   "source": [
    "import json"
   ]
  },
  {
   "cell_type": "code",
   "execution_count": 6,
   "id": "335419a3",
   "metadata": {},
   "outputs": [],
   "source": [
    "params = json.load(open(\"config.json\"))"
   ]
  },
  {
   "cell_type": "code",
   "execution_count": 15,
   "id": "472000fb",
   "metadata": {},
   "outputs": [
    {
     "data": {
      "text/plain": [
       "324538"
      ]
     },
     "execution_count": 15,
     "metadata": {},
     "output_type": "execute_result"
    }
   ],
   "source": [
    "hash(params.values()) % 1000000"
   ]
  },
  {
   "cell_type": "code",
   "execution_count": null,
   "id": "89ef4718",
   "metadata": {},
   "outputs": [],
   "source": [
    "avg_meshes, moving_meshes, coefs, ref_shape = generate_population(**params)"
   ]
  },
  {
   "cell_type": "markdown",
   "id": "5c2c91b5",
   "metadata": {},
   "source": [
    "#### Save population as file"
   ]
  },
  {
   "cell_type": "code",
   "execution_count": null,
   "id": "f184ebdc",
   "metadata": {},
   "outputs": [],
   "source": [
    "population = {\n",
    "  \"params\": params,\n",
    "  \"time_avg_mesh\": avg_meshes,\n",
    "  \"moving_mesh\": moving_meshes,\n",
    "  \"coefficients\": coefs,\n",
    "  \"template_mesh\": ref_shape\n",
    "  \n",
    "}\n",
    "\n",
    "file_pattern = \"synthetic_population__N_{N}__T_{T}_\" + \\\n",
    "\"_sigma_c_{amplitude_static_max}__sigma_s_{amplitude_dynamic_max}_\" + \\\n",
    "\"_lmax_{l_max}__nmax_{freq_max}__res_{mesh_resolution}__seed_{random_seed}.pkl\"\n",
    "file = file_pattern.format(**params)\n",
    "\n",
    "with open(file, \"wb\") as ff:\n",
    "    pkl.dump(population, ff)"
   ]
  },
  {
   "cell_type": "code",
   "execution_count": null,
   "id": "1fa7b7e1",
   "metadata": {},
   "outputs": [],
   "source": [
    "with open(file, \"rb\") as ff:\n",
    "    population = pkl.load(ff)"
   ]
  },
  {
   "cell_type": "markdown",
   "id": "d754e86b",
   "metadata": {},
   "source": [
    "### Generate GIF animations"
   ]
  },
  {
   "cell_type": "code",
   "execution_count": null,
   "id": "3805b648",
   "metadata": {},
   "outputs": [],
   "source": [
    "# connectivity\n",
    "conn = ref_shape.faces\n",
    "conn = np.c_[3 * np.ones(conn.shape[0]), conn].astype(int)  # add column of 3 to make it PyVista-compatible\n",
    "gif.generate_gif_population(moving_meshes, mesh_connectivity=conn, show_edges=False)"
   ]
  },
  {
   "cell_type": "markdown",
   "id": "401788b0",
   "metadata": {},
   "source": [
    "### Calculate root mean squared deformations"
   ]
  },
  {
   "cell_type": "code",
   "execution_count": null,
   "id": "39207674",
   "metadata": {},
   "outputs": [],
   "source": [
    "def rmse(mesh1, mesh2):\n",
    "    return np.sqrt(((mesh1.vertices - mesh2.vertices)**2).sum(axis=1).mean()) # average over vertices"
   ]
  },
  {
   "cell_type": "code",
   "execution_count": null,
   "id": "725afd71",
   "metadata": {},
   "outputs": [],
   "source": [
    "rmse_lst = []\n",
    "for j in range(params[\"N\"]):  \n",
    "  rmse_j = []\n",
    "  for i in range(params[\"T\"]):\n",
    "    rmse_ji = rmse(moving_meshes[j][i], avg_meshes[j])\n",
    "    rmse_j.append(rmse_ji)\n",
    "    #print(f\"  {rmse_ji:8.4f}\")\n",
    "  print(f\"{rmse(ref_shape, avg_meshes[j]):4.4f}, {np.stack(rmse_j).mean():4.4f} \")\n",
    "  rmse_lst.append(rmse_j)"
   ]
  },
  {
   "cell_type": "markdown",
   "id": "047f4fd1",
   "metadata": {},
   "source": [
    "# Interactive 3D mesh plotting"
   ]
  },
  {
   "cell_type": "code",
   "execution_count": null,
   "id": "b72b46f7",
   "metadata": {},
   "outputs": [],
   "source": [
    "\n",
    "sphere = vedo.Sphere(res=params[\"mesh_resolution\"]).to_trimesh()\n",
    "conn = sphere.faces # connectivity\n",
    "conn = np.c_[np.ones(conn.shape[0]) * 3, conn].astype(int)  # add column of 3, as required by PyVista\n",
    "\n",
    "def f(j, i, average):\n",
    "    \n",
    "    if average:\n",
    "        mesh = pv.PolyData(avg_meshes[j-1].vertices, conn)\n",
    "    else:\n",
    "        mesh = pv.PolyData(moving_meshes[j-1][i-1].vertices, conn)\n",
    "    pl = pv.Plotter(notebook=True, off_screen=False, polygon_smoothing=False)\n",
    "    pl.add_mesh(mesh, show_edges=False)\n",
    "    pl.show(use_panel=True, interactive=True, interactive_update=True)\n",
    "    \n",
    "#interact(f, i=widgets.IntSlider(min=1,max=N))\n",
    "interact(f, \n",
    "  j=widgets.IntSlider(min=1, max=params[\"N\"]),\n",
    "  i=widgets.IntSlider(min=1, max=params[\"T\"]),   \n",
    "  average=widgets.ToggleButton()\n",
    ");"
   ]
  },
  {
   "cell_type": "markdown",
   "id": "5420d153",
   "metadata": {},
   "source": [
    "### Adjust coefficients through sliders"
   ]
  },
  {
   "cell_type": "code",
   "execution_count": null,
   "id": "52dee723",
   "metadata": {},
   "outputs": [],
   "source": [
    "def apply_deformation(sphere, spherical_coords, amplitude_lm):\n",
    "    \n",
    "    deformed_sphere = sphere\n",
    "    \n",
    "    coefs = np.ones(spherical_coords.shape[0])\n",
    "    \n",
    "    for l, m in amplitude_lm:        \n",
    "        coefs += amplitude_lm[l, m] * Y_lm[l,m]\n",
    "                \n",
    "    deformed_sphere.vertices = np.multiply(\n",
    "        deformed_sphere.vertices, np.kron(np.ones((3, 1)), coefs).transpose()\n",
    "    )\n",
    "    \n",
    "    return deformed_sphere\n",
    "\n",
    "def get_coef_as_string(l,m):\n",
    "    return \"a\" + str(l) + str(m).replace(\"-\",\"_\")\n",
    "\n",
    "def get_lm(string):\n",
    "    import re    \n",
    "    regex = re.compile(\".*([0-9])(_?[0-9])\")\n",
    "    l = int(regex.match(string)[1])\n",
    "    m = int(regex.match(string)[2].replace(\"_\",\"-\"))\n",
    "    return l,m    \n"
   ]
  },
  {
   "cell_type": "code",
   "execution_count": null,
   "id": "a372785d",
   "metadata": {},
   "outputs": [],
   "source": [
    "from utils import cache_Ylm"
   ]
  },
  {
   "cell_type": "code",
   "execution_count": null,
   "id": "08f0efdf",
   "metadata": {},
   "outputs": [],
   "source": [
    "sphere = vedo.Sphere().to_trimesh()\n",
    "sphere_coords = appendSpherical_np(sphere.vertices)\n",
    "Y_lm = cache_Ylm(sphere_coords, 2)"
   ]
  },
  {
   "cell_type": "code",
   "execution_count": null,
   "id": "cae5ab6f",
   "metadata": {},
   "outputs": [],
   "source": [
    "def f(**kwargs):\n",
    "\n",
    "    coefs = {get_lm(lm):kwargs[lm] for lm in kwargs}\n",
    "\n",
    "    sphere = vedo.Sphere().to_trimesh()\n",
    "    conn = np.c_[np.ones(sphere.faces.shape[0]) * 3, sphere.faces].astype(int)  # add column of 3\n",
    "    spherical_coords = appendSpherical_np(sphere.vertices)[:,3:]\n",
    "    deformed_sphere = apply_deformation(sphere, spherical_coords, coefs)\n",
    "        \n",
    "    mesh = pv.PolyData(deformed_sphere.vertices, conn)\n",
    "    pl = pv.Plotter(notebook=True, off_screen=False, polygon_smoothing=True)\n",
    "    pl.add_mesh(mesh, show_edges=False)\n",
    "    pl.show(use_panel=True, interactive=True, interactive_update=True)"
   ]
  },
  {
   "cell_type": "code",
   "execution_count": null,
   "id": "82c8afea",
   "metadata": {},
   "outputs": [],
   "source": [
    "indices = [(1,-1), (1,0), (1,1)]"
   ]
  },
  {
   "cell_type": "code",
   "execution_count": null,
   "id": "324a19da",
   "metadata": {},
   "outputs": [],
   "source": [
    "coefs = {get_coef_as_string(*lm): widgets.FloatSlider(min=-1, max=1) for lm in indices}\n",
    "interact(f, **coefs);"
   ]
  },
  {
   "cell_type": "code",
   "execution_count": null,
   "id": "487d7709",
   "metadata": {},
   "outputs": [],
   "source": [
    "# t = 15\n",
    "# mesh_list[t].show(faces=True)"
   ]
  },
  {
   "cell_type": "code",
   "execution_count": null,
   "id": "ce9b1191",
   "metadata": {},
   "outputs": [],
   "source": [
    "#def f(l, m, amplitude):\n",
    "#    return DeformedSphere().deform(amplitude, l, m).show()"
   ]
  },
  {
   "cell_type": "markdown",
   "id": "98374be9",
   "metadata": {},
   "source": [
    "#### Saving the synthetic meshes as `obj` files"
   ]
  },
  {
   "cell_type": "code",
   "execution_count": null,
   "id": "b1ab654f",
   "metadata": {},
   "outputs": [],
   "source": [
    "# odir = \"/home/rodrigo/tmp/mallas_obj\"\n",
    "# os.makedirs(odir, exist_ok=True)\n",
    "# \n",
    "# N = 100\n",
    "# \n",
    "# for i in range(N):\n",
    "#     for t, mesh in enumerate(mesh_list):\n",
    "#         \n",
    "#         # print(mesh.vertices)\n",
    "#         j = str(j)\n",
    "#         j = \"0\" * (2 - len(j)) + j # 5 --> 05, 15 --> 15\n",
    "#         \n",
    "#         with open(os.path.join(odir, \"sphere_{}.obj\".format(i)), \"wt\") as ff:        \n",
    "#             obj_content = trimesh.exchange.export.export_obj(\n",
    "#                 mesh, \n",
    "#                 include_normals=False, \n",
    "#                 include_texture=False\n",
    "#             )\n",
    "#             ff.write(obj_content)\n",
    "#             \n",
    "#         # print(mesh.show())"
   ]
  },
  {
   "cell_type": "markdown",
   "id": "b1b354ed",
   "metadata": {},
   "source": [
    "__________________________"
   ]
  },
  {
   "cell_type": "markdown",
   "id": "4ac8f402",
   "metadata": {},
   "source": [
    "# Attempt to visualize meshes (to complete)"
   ]
  },
  {
   "cell_type": "markdown",
   "id": "d0663e34",
   "metadata": {},
   "source": [
    "#### `itkwidgets`"
   ]
  },
  {
   "cell_type": "code",
   "execution_count": null,
   "id": "41926847",
   "metadata": {},
   "outputs": [],
   "source": [
    "import itk\n",
    "import itkwidgets\n",
    "from itkwidgets import view"
   ]
  },
  {
   "cell_type": "markdown",
   "id": "7668a843",
   "metadata": {},
   "source": [
    "#### `Trimesh`"
   ]
  },
  {
   "cell_type": "code",
   "execution_count": null,
   "id": "a1072a8b",
   "metadata": {},
   "outputs": [],
   "source": [
    "import trimesh"
   ]
  },
  {
   "cell_type": "markdown",
   "id": "75e9ee6d",
   "metadata": {},
   "source": [
    "#### `pyvista`"
   ]
  },
  {
   "cell_type": "markdown",
   "id": "0d916eb8",
   "metadata": {},
   "source": [
    "#### `polyscope`"
   ]
  },
  {
   "cell_type": "code",
   "execution_count": null,
   "id": "60e9e2f6",
   "metadata": {},
   "outputs": [],
   "source": [
    "import polyscope as ps\n",
    "ps.init()\n",
    "mesh = mesh_list[25]\n",
    "ps.register_surface_mesh(\"sph\", mesh.vertices, mesh.faces, smooth_shade=True)\n",
    "ps.show()"
   ]
  },
  {
   "cell_type": "markdown",
   "id": "d5d13e70",
   "metadata": {},
   "source": [
    "________________________"
   ]
  },
  {
   "cell_type": "code",
   "execution_count": null,
   "id": "b53678b5",
   "metadata": {},
   "outputs": [],
   "source": [
    "DeformedSphere().deform(0, 0, 0).vertices"
   ]
  },
  {
   "cell_type": "code",
   "execution_count": null,
   "id": "b24c3c4f",
   "metadata": {},
   "outputs": [],
   "source": [
    "interact(f, t=widgets.IntSlider(N_t-1, max=N_t-1));"
   ]
  },
  {
   "cell_type": "code",
   "execution_count": null,
   "id": "3935c587",
   "metadata": {},
   "outputs": [],
   "source": [
    "# np.polynomial.chebyshev.Chebyshev((1,2,3))()"
   ]
  }
 ],
 "metadata": {
  "kernelspec": {
   "display_name": "Coma",
   "language": "python",
   "name": "coma"
  },
  "language_info": {
   "codemirror_mode": {
    "name": "ipython",
    "version": 3
   },
   "file_extension": ".py",
   "mimetype": "text/x-python",
   "name": "python",
   "nbconvert_exporter": "python",
   "pygments_lexer": "ipython3",
   "version": "3.6.10"
  }
 },
 "nbformat": 4,
 "nbformat_minor": 5
}
