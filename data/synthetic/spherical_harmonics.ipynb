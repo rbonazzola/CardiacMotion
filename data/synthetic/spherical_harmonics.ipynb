{
 "cells": [
  {
   "cell_type": "code",
   "execution_count": 1,
   "id": "b5f31d67",
   "metadata": {},
   "outputs": [],
   "source": [
    "import os\n",
    "import vedo\n",
    "import numpy as np\n",
    "import trimesh\n",
    "from copy import copy\n",
    "from scipy.special import sph_harm\n",
    "import ipywidgets as widgets\n",
    "from ipywidgets import interact\n",
    "import pyvista as pv\n",
    "from IPython import embed\n",
    "import re\n",
    "import pickle as pkl\n",
    "import gif"
   ]
  },
  {
   "cell_type": "markdown",
   "id": "ba98a73b",
   "metadata": {},
   "source": [
    "# Spherical harmonics"
   ]
  },
  {
   "cell_type": "markdown",
   "id": "e143b696",
   "metadata": {},
   "source": [
    "The spherical harmonics are defined by the following formula"
   ]
  },
  {
   "cell_type": "markdown",
   "id": "13ff76a8",
   "metadata": {},
   "source": [
    "$$Y_{lm}(\\theta, \\phi)=\\sqrt{\\frac{2l+1}{4\\pi}}P_l^m(\\cos\\theta)e^{im\\phi},$$"
   ]
  },
  {
   "cell_type": "markdown",
   "id": "f88dedf8",
   "metadata": {},
   "source": [
    "where the $P_l^m$ are the associated Legendre polynomials. They satisfy the following equation:"
   ]
  },
  {
   "cell_type": "markdown",
   "id": "3f22a814",
   "metadata": {},
   "source": [
    "$$r^2\\nabla^2Y_{lm}(\\theta, \\phi)=l(l+1)Y_{lm}(\\theta, \\phi)$$"
   ]
  },
  {
   "cell_type": "markdown",
   "id": "17127473",
   "metadata": {},
   "source": [
    "In other words, the Laplacian operator $\\nabla^2$ can be diagonalized by using this basis.\n"
   ]
  },
  {
   "cell_type": "markdown",
   "id": "ca2f6d90",
   "metadata": {},
   "source": [
    "### Generative process"
   ]
  },
  {
   "cell_type": "markdown",
   "id": "477cce9e",
   "metadata": {},
   "source": [
    "1) Sample coefficients $b_{lm}^{(0)}\\sim \\mathcal{N}(0,\\sigma_c^2)$; $a_{lm}^{(n)}, b_{lm}^{(n)}\\sim \\mathcal{N}(0,\\sigma_s^2)$. <br>\n",
    "2) Build time-dependent coefficients as:\n",
    "$$a_{lm}(t)=b_{lm}^{(0)}+\\sum_{n=1}^{n_{\\text{max}}}a_{lm}^{(n)}\\sin(2\\pi nt)+b_{lm}^{(n)}\\cos(2\\pi nt),\\,\\, t\\in[0,1]$$<br>\n",
    "3) The deformation is performed along the radial direction at each point, and with an amplitude given by the following expansion:\n",
    "$$ \\textbf{d}(\\textbf{r},t) =\\bigg( \\sum_{l=0}^{l_{\\text{max}}}\\sum_{m=-l}^{l}a_{lm}(t)Y_{lm}(\\theta, \\phi)\\bigg) \\hat{\\textbf{r}}$$"
   ]
  },
  {
   "cell_type": "markdown",
   "id": "c5a3e7e6",
   "metadata": {},
   "source": [
    "### Ideas"
   ]
  },
  {
   "cell_type": "markdown",
   "id": "5eecde7a",
   "metadata": {},
   "source": [
    "##### A local deformation"
   ]
  },
  {
   "cell_type": "markdown",
   "id": "d5b8422e",
   "metadata": {},
   "source": [
    "The expansion of the Dirac delta is given by:"
   ]
  },
  {
   "cell_type": "markdown",
   "id": "e03808ef",
   "metadata": {},
   "source": [
    "$$\\delta(\\theta,\\phi)=\\sum_{l=0}^{\\infty}\\sum_{m=-l}^{l}Y_{lm}(0, 0)Y_{lm}(\\theta, \\phi)$$"
   ]
  },
  {
   "cell_type": "markdown",
   "id": "e9df1e5b",
   "metadata": {},
   "source": [
    "Would this be useful to create a local deformation (by truncating this expansion)?"
   ]
  },
  {
   "cell_type": "markdown",
   "id": "257d7c2f",
   "metadata": {},
   "source": [
    "We build a dictionary  $Y_{lm}(\\theta, \\phi)$ for all the $(\\theta, \\phi)$ in the discretization of $S_2$. First we get the coordinates of such discretization:"
   ]
  },
  {
   "cell_type": "markdown",
   "id": "5db54cb8",
   "metadata": {},
   "source": [
    "We cache \n",
    "$$f_{lmn}(\\theta,\\phi,t)=Y_{lm}(\\theta,\\phi)\\sin(2\\pi nt)$$\n",
    "$$g_{lmn}(\\theta,\\phi,t)=Y_{lm}(\\theta,\\phi)\\cos(2\\pi nt)$$"
   ]
  },
  {
   "cell_type": "markdown",
   "id": "08ef5840",
   "metadata": {},
   "source": [
    "\n",
    "### Generate population"
   ]
  },
  {
   "cell_type": "code",
   "execution_count": 21,
   "id": "25c878b5",
   "metadata": {},
   "outputs": [],
   "source": [
    "from utils import SyntheticMeshPopulation\n",
    "import json; params = json.load(open(\"config.json\")); "
   ]
  },
  {
   "cell_type": "code",
   "execution_count": 22,
   "id": "3041ad9a",
   "metadata": {},
   "outputs": [],
   "source": [
    "popu = SyntheticMeshPopulation(**params, from_cache_if_exists=False)\n",
    "popu.generate_gif_population(show_edges=False)"
   ]
  },
  {
   "cell_type": "markdown",
   "id": "401788b0",
   "metadata": {},
   "source": [
    "### Calculate root mean squared deformations"
   ]
  },
  {
   "cell_type": "code",
   "execution_count": 16,
   "id": "39207674",
   "metadata": {},
   "outputs": [],
   "source": [
    "def rmse(mesh1, mesh2):\n",
    "    return np.sqrt(((mesh1 - mesh2)**2).sum(axis=1).mean()) # average over vertices"
   ]
  },
  {
   "cell_type": "code",
   "execution_count": 20,
   "id": "725afd71",
   "metadata": {},
   "outputs": [
    {
     "name": "stdout",
     "output_type": "stream",
     "text": [
      "0.2348, 0.1094 \n",
      "0.2668, 0.1088 \n",
      "0.3156, 0.1058 \n",
      "0.2539, 0.1158 \n",
      "0.2230, 0.1179 \n",
      "0.2251, 0.1354 \n",
      "0.2815, 0.1205 \n",
      "0.2118, 0.0995 \n",
      "0.2074, 0.1134 \n",
      "0.3297, 0.1156 \n",
      "0.1550, 0.1031 \n",
      "0.3935, 0.1188 \n",
      "0.2898, 0.1231 \n",
      "0.2041, 0.0857 \n",
      "0.3288, 0.1285 \n",
      "0.4221, 0.1365 \n",
      "0.4584, 0.0891 \n",
      "0.2444, 0.1471 \n",
      "0.3139, 0.1022 \n",
      "0.1852, 0.1199 \n",
      "0.2469, 0.1309 \n",
      "0.3541, 0.1026 \n",
      "0.2288, 0.0985 \n",
      "0.2395, 0.1070 \n",
      "0.3090, 0.1047 \n",
      "0.3614, 0.0891 \n",
      "0.3645, 0.1204 \n",
      "0.2749, 0.0876 \n",
      "0.3512, 0.0986 \n",
      "0.3279, 0.1251 \n",
      "0.2977, 0.1196 \n",
      "0.2044, 0.1043 \n",
      "0.2589, 0.1401 \n",
      "0.3313, 0.0959 \n",
      "0.2161, 0.1256 \n",
      "0.2992, 0.1274 \n",
      "0.3214, 0.1380 \n",
      "0.2213, 0.1078 \n",
      "0.2738, 0.1100 \n",
      "0.2752, 0.1088 \n",
      "0.1403, 0.0987 \n",
      "0.1457, 0.1259 \n",
      "0.2455, 0.1029 \n",
      "0.2235, 0.0873 \n",
      "0.2782, 0.0837 \n",
      "0.2345, 0.1104 \n",
      "0.2989, 0.1326 \n",
      "0.2748, 0.1347 \n",
      "0.1736, 0.1007 \n",
      "0.4038, 0.0861 \n",
      "0.3162, 0.1197 \n",
      "0.1520, 0.1226 \n",
      "0.1158, 0.1111 \n",
      "0.2906, 0.0951 \n",
      "0.2603, 0.1337 \n",
      "0.3275, 0.1427 \n",
      "0.1998, 0.0741 \n",
      "0.3716, 0.1021 \n",
      "0.3632, 0.1030 \n",
      "0.2990, 0.0953 \n",
      "0.1973, 0.1261 \n",
      "0.0902, 0.1380 \n",
      "0.2885, 0.0947 \n",
      "0.1570, 0.1209 \n",
      "0.2548, 0.0947 \n",
      "0.2244, 0.0780 \n",
      "0.2101, 0.1064 \n",
      "0.2151, 0.1196 \n",
      "0.3931, 0.1252 \n",
      "0.2293, 0.1263 \n",
      "0.3185, 0.1088 \n",
      "0.1960, 0.0988 \n",
      "0.2450, 0.1219 \n",
      "0.2990, 0.0999 \n",
      "0.2511, 0.1206 \n",
      "0.1833, 0.1181 \n",
      "0.1577, 0.1186 \n",
      "0.1504, 0.1219 \n",
      "0.2793, 0.1334 \n",
      "0.1373, 0.0932 \n",
      "0.1737, 0.1082 \n",
      "0.2537, 0.1151 \n",
      "0.2744, 0.1202 \n",
      "0.2045, 0.1292 \n",
      "0.1551, 0.1285 \n",
      "0.1094, 0.1228 \n",
      "0.2096, 0.0881 \n",
      "0.3552, 0.1258 \n",
      "0.2302, 0.1377 \n",
      "0.2272, 0.1138 \n",
      "0.2512, 0.0876 \n",
      "0.1696, 0.1097 \n",
      "0.1182, 0.1369 \n",
      "0.2292, 0.1339 \n",
      "0.3790, 0.1074 \n",
      "0.2188, 0.1198 \n",
      "0.2694, 0.1240 \n",
      "0.3598, 0.1233 \n",
      "0.2559, 0.0958 \n",
      "0.1815, 0.0895 \n"
     ]
    }
   ],
   "source": [
    "rmse_lst = []\n",
    "for j in range(popu.params.N):  \n",
    "  rmse_j = []\n",
    "  for i in range(popu.params.T):\n",
    "    rmse_ji = rmse(popu.moving_meshes[j][i], popu.time_avg_meshes[j])\n",
    "    rmse_j.append(rmse_ji)\n",
    "    #print(f\"  {rmse_ji:8.4f}\")\n",
    "  print(f\"{rmse(popu.template.vertices, popu.time_avg_meshes[j]):4.4f}, {np.stack(rmse_j).mean():4.4f} \")\n",
    "  rmse_lst.append(rmse_j)"
   ]
  },
  {
   "cell_type": "markdown",
   "id": "047f4fd1",
   "metadata": {},
   "source": [
    "# Interactive 3D mesh plotting"
   ]
  },
  {
   "cell_type": "code",
   "execution_count": null,
   "id": "b72b46f7",
   "metadata": {},
   "outputs": [],
   "source": [
    "sphere = vedo.Sphere(res=params[\"mesh_resolution\"]).to_trimesh()\n",
    "conn = sphere.faces # connectivity\n",
    "conn = np.c_[np.ones(conn.shape[0]) * 3, conn].astype(int)  # add column of 3, as required by PyVista\n",
    "\n",
    "def f(j, i, average):\n",
    "    \n",
    "    if average:\n",
    "        mesh = pv.PolyData(avg_meshes[j-1].vertices, conn)\n",
    "    else:\n",
    "        mesh = pv.PolyData(moving_meshes[j-1][i-1].vertices, conn)\n",
    "    pl = pv.Plotter(notebook=True, off_screen=False, polygon_smoothing=False)\n",
    "    pl.add_mesh(mesh, show_edges=False)\n",
    "    pl.show(use_panel=True, interactive=True, interactive_update=True)\n",
    "    \n",
    "#interact(f, i=widgets.IntSlider(min=1,max=N))\n",
    "interact(f, \n",
    "  j=widgets.IntSlider(min=1, max=params[\"N\"]),\n",
    "  i=widgets.IntSlider(min=1, max=params[\"T\"]),   \n",
    "  average=widgets.ToggleButton()\n",
    ");"
   ]
  },
  {
   "cell_type": "markdown",
   "id": "5fc2219c",
   "metadata": {},
   "source": [
    "### Adjust coefficients through sliders"
   ]
  },
  {
   "cell_type": "code",
   "execution_count": null,
   "id": "52dee723",
   "metadata": {},
   "outputs": [],
   "source": [
    "def apply_deformation(sphere, spherical_coords, amplitude_lm):\n",
    "    \n",
    "    deformed_sphere = sphere\n",
    "    \n",
    "    coefs = np.ones(spherical_coords.shape[0])\n",
    "    \n",
    "    for l, m in amplitude_lm:        \n",
    "        coefs += amplitude_lm[l, m] * Y_lm[l,m]\n",
    "                \n",
    "    deformed_sphere.vertices = np.multiply(\n",
    "        deformed_sphere.vertices, np.kron(np.ones((3, 1)), coefs).transpose()\n",
    "    )\n",
    "    \n",
    "    return deformed_sphere\n",
    "\n",
    "def get_coef_as_string(l,m):\n",
    "    return \"a\" + str(l) + str(m).replace(\"-\",\"_\")\n",
    "\n",
    "def get_lm(string):\n",
    "    import re    \n",
    "    regex = re.compile(\".*([0-9])(_?[0-9])\")\n",
    "    l = int(regex.match(string)[1])\n",
    "    m = int(regex.match(string)[2].replace(\"_\",\"-\"))\n",
    "    return l,m    \n"
   ]
  },
  {
   "cell_type": "code",
   "execution_count": null,
   "id": "c4f3d70f",
   "metadata": {},
   "outputs": [],
   "source": [
    "from utils import cache_Ylm"
   ]
  },
  {
   "cell_type": "code",
   "execution_count": null,
   "id": "abf68ec7",
   "metadata": {},
   "outputs": [],
   "source": [
    "sphere = vedo.Sphere().to_trimesh()\n",
    "sphere_coords = appendSpherical_np(sphere.vertices)\n",
    "Y_lm = cache_Ylm(sphere_coords, 2)"
   ]
  },
  {
   "cell_type": "code",
   "execution_count": null,
   "id": "cae5ab6f",
   "metadata": {},
   "outputs": [],
   "source": [
    "def f(**kwargs):\n",
    "\n",
    "    coefs = {get_lm(lm):kwargs[lm] for lm in kwargs}\n",
    "\n",
    "    sphere = vedo.Sphere().to_trimesh()\n",
    "    conn = np.c_[np.ones(sphere.faces.shape[0]) * 3, sphere.faces].astype(int)  # add column of 3\n",
    "    spherical_coords = appendSpherical_np(sphere.vertices)[:,3:]\n",
    "    deformed_sphere = apply_deformation(sphere, spherical_coords, coefs)\n",
    "        \n",
    "    mesh = pv.PolyData(deformed_sphere.vertices, conn)\n",
    "    pl = pv.Plotter(notebook=True, off_screen=False, polygon_smoothing=True)\n",
    "    pl.add_mesh(mesh, show_edges=False)\n",
    "    pl.show(use_panel=True, interactive=True, interactive_update=True)"
   ]
  },
  {
   "cell_type": "code",
   "execution_count": null,
   "id": "c8b43ce5",
   "metadata": {},
   "outputs": [],
   "source": [
    "indices = [(1,-1), (1,0), (1,1)]"
   ]
  },
  {
   "cell_type": "code",
   "execution_count": null,
   "id": "324a19da",
   "metadata": {},
   "outputs": [],
   "source": [
    "coefs = {get_coef_as_string(*lm): widgets.FloatSlider(min=-1, max=1) for lm in indices}\n",
    "interact(f, **coefs);"
   ]
  },
  {
   "cell_type": "code",
   "execution_count": null,
   "id": "487d7709",
   "metadata": {},
   "outputs": [],
   "source": [
    "# t = 15\n",
    "# mesh_list[t].show(faces=True)"
   ]
  },
  {
   "cell_type": "code",
   "execution_count": null,
   "id": "ce9b1191",
   "metadata": {},
   "outputs": [],
   "source": [
    "#def f(l, m, amplitude):\n",
    "#    return DeformedSphere().deform(amplitude, l, m).show()"
   ]
  },
  {
   "cell_type": "markdown",
   "id": "98374be9",
   "metadata": {},
   "source": [
    "#### Saving the synthetic meshes as `obj` files"
   ]
  },
  {
   "cell_type": "code",
   "execution_count": null,
   "id": "b1ab654f",
   "metadata": {},
   "outputs": [],
   "source": [
    "# odir = \"/home/rodrigo/tmp/mallas_obj\"\n",
    "# os.makedirs(odir, exist_ok=True)\n",
    "# \n",
    "# N = 100\n",
    "# \n",
    "# for i in range(N):\n",
    "#     for t, mesh in enumerate(mesh_list):\n",
    "#         \n",
    "#         # print(mesh.vertices)\n",
    "#         j = str(j)\n",
    "#         j = \"0\" * (2 - len(j)) + j # 5 --> 05, 15 --> 15\n",
    "#         \n",
    "#         with open(os.path.join(odir, \"sphere_{}.obj\".format(i)), \"wt\") as ff:        \n",
    "#             obj_content = trimesh.exchange.export.export_obj(\n",
    "#                 mesh, \n",
    "#                 include_normals=False, \n",
    "#                 include_texture=False\n",
    "#             )\n",
    "#             ff.write(obj_content)\n",
    "#             \n",
    "#         # print(mesh.show())"
   ]
  },
  {
   "cell_type": "markdown",
   "id": "b1b354ed",
   "metadata": {},
   "source": [
    "__________________________"
   ]
  },
  {
   "cell_type": "markdown",
   "id": "4ac8f402",
   "metadata": {},
   "source": [
    "# Attempt to visualize meshes (to complete)"
   ]
  },
  {
   "cell_type": "markdown",
   "id": "d0663e34",
   "metadata": {},
   "source": [
    "#### `itkwidgets`"
   ]
  },
  {
   "cell_type": "code",
   "execution_count": null,
   "id": "41926847",
   "metadata": {},
   "outputs": [],
   "source": [
    "import itk\n",
    "import itkwidgets\n",
    "from itkwidgets import view"
   ]
  },
  {
   "cell_type": "markdown",
   "id": "7668a843",
   "metadata": {},
   "source": [
    "#### `Trimesh`"
   ]
  },
  {
   "cell_type": "code",
   "execution_count": null,
   "id": "a1072a8b",
   "metadata": {},
   "outputs": [],
   "source": [
    "import trimesh"
   ]
  },
  {
   "cell_type": "markdown",
   "id": "75e9ee6d",
   "metadata": {},
   "source": [
    "#### `pyvista`"
   ]
  },
  {
   "cell_type": "markdown",
   "id": "0d916eb8",
   "metadata": {},
   "source": [
    "#### `polyscope`"
   ]
  },
  {
   "cell_type": "code",
   "execution_count": null,
   "id": "60e9e2f6",
   "metadata": {},
   "outputs": [],
   "source": [
    "import polyscope as ps\n",
    "ps.init()\n",
    "mesh = mesh_list[25]\n",
    "ps.register_surface_mesh(\"sph\", mesh.vertices, mesh.faces, smooth_shade=True)\n",
    "ps.show()"
   ]
  },
  {
   "cell_type": "markdown",
   "id": "d5d13e70",
   "metadata": {},
   "source": [
    "________________________"
   ]
  },
  {
   "cell_type": "code",
   "execution_count": null,
   "id": "b53678b5",
   "metadata": {},
   "outputs": [],
   "source": [
    "DeformedSphere().deform(0, 0, 0).vertices"
   ]
  },
  {
   "cell_type": "code",
   "execution_count": null,
   "id": "b24c3c4f",
   "metadata": {},
   "outputs": [],
   "source": [
    "interact(f, t=widgets.IntSlider(N_t-1, max=N_t-1));"
   ]
  },
  {
   "cell_type": "code",
   "execution_count": null,
   "id": "3935c587",
   "metadata": {},
   "outputs": [],
   "source": [
    "# np.polynomial.chebyshev.Chebyshev((1,2,3))()"
   ]
  }
 ],
 "metadata": {
  "kernelspec": {
   "display_name": "Coma",
   "language": "python",
   "name": "coma"
  },
  "language_info": {
   "codemirror_mode": {
    "name": "ipython",
    "version": 3
   },
   "file_extension": ".py",
   "mimetype": "text/x-python",
   "name": "python",
   "nbconvert_exporter": "python",
   "pygments_lexer": "ipython3",
   "version": "3.6.10"
  }
 },
 "nbformat": 4,
 "nbformat_minor": 5
}
