{
 "cells": [
  {
   "cell_type": "code",
   "execution_count": 5,
   "id": "b5f31d67",
   "metadata": {},
   "outputs": [],
   "source": [
    "import os\n",
    "import vedo\n",
    "import numpy as np\n",
    "import trimesh\n",
    "from copy import copy\n",
    "from scipy.special import sph_harm\n",
    "import ipywidgets as widgets\n",
    "from ipywidgets import interact"
   ]
  },
  {
   "cell_type": "markdown",
   "id": "ba98a73b",
   "metadata": {},
   "source": [
    "# Spherical harmonics"
   ]
  },
  {
   "cell_type": "markdown",
   "id": "ae5e7e8a",
   "metadata": {},
   "source": [
    "$$\\textbf{s}_0=S^2$$"
   ]
  },
  {
   "cell_type": "markdown",
   "id": "e143b696",
   "metadata": {},
   "source": [
    "The spherical harmonics are defined by the following formula"
   ]
  },
  {
   "cell_type": "markdown",
   "id": "13ff76a8",
   "metadata": {},
   "source": [
    "$$Y_{lm}(\\theta, \\phi)=\\sqrt{\\frac{2l+1}{4\\pi}}P_l^m(\\cos\\theta)e^{im\\phi},$$"
   ]
  },
  {
   "cell_type": "markdown",
   "id": "f88dedf8",
   "metadata": {},
   "source": [
    "where the $P_l^m$ are the associated Legendre polynomials. They satisfy the following equation:"
   ]
  },
  {
   "cell_type": "markdown",
   "id": "3f22a814",
   "metadata": {},
   "source": [
    "$$r^2\\nabla^2Y_{lm}(\\theta, \\phi)=l(l+1)Y_{lm}(\\theta, \\phi)$$"
   ]
  },
  {
   "cell_type": "markdown",
   "id": "17127473",
   "metadata": {},
   "source": [
    "In other words, the Laplacian operator $\\nabla^2$ can be diagonalized by using this basis. The associated matrix for the first 7 spherical harmonics is:"
   ]
  },
  {
   "cell_type": "markdown",
   "id": "a7a2e164",
   "metadata": {},
   "source": [
    "$$\\begin{pmatrix}\n",
    "0 & 0 & 0 & 0 & 0 & 0 & 0\\\\\n",
    "0 & 2 & 0 & 0 & 0 & 0 & 0\\\\\n",
    "0 & 0 & 2 & 0 & 0 & 0 & 0\\\\\n",
    "0 & 0 & 0 & 2 & 0 & 0 & 0\\\\\n",
    "0 & 0 & 0 & 0 & 6 & 0 & 0\\\\\n",
    "0 & 0 & 0 & 0 & 0 & 6 & 0\\\\\n",
    "0 & 0 & 0 & 0 & 0 & 0 & 6\\\\\n",
    "\\end{pmatrix}$$"
   ]
  },
  {
   "cell_type": "markdown",
   "id": "441293e6",
   "metadata": {},
   "source": [
    "The deformation is performed along the radial direction at each point, and with an amplitude given by the following expansion:"
   ]
  },
  {
   "cell_type": "markdown",
   "id": "3f22d2c2",
   "metadata": {},
   "source": [
    "$$ \\textbf{d}(\\theta,\\phi) =\\bigg( \\sum_{l=0}^{\\infty}\\sum_{m=-l}^{l}a_{lm}Y_{lm}(\\theta, \\phi)\\bigg) \\hat{\\textbf{r}}$$"
   ]
  },
  {
   "cell_type": "markdown",
   "id": "5eecde7a",
   "metadata": {},
   "source": [
    "### A local deformation"
   ]
  },
  {
   "cell_type": "markdown",
   "id": "d5b8422e",
   "metadata": {},
   "source": [
    "The expansion of the Dirac delta is given by:"
   ]
  },
  {
   "cell_type": "markdown",
   "id": "e03808ef",
   "metadata": {},
   "source": [
    "$$\\delta(\\theta,\\phi)=\\sum_{l=0}^{\\infty}\\sum_{m=-l}^{l}Y_{lm}(0, 0)Y_{lm}(\\theta, \\phi)$$"
   ]
  },
  {
   "cell_type": "markdown",
   "id": "e9df1e5b",
   "metadata": {},
   "source": [
    "Would this be useful to create a local deformation (by truncating this expansion)?"
   ]
  },
  {
   "cell_type": "markdown",
   "id": "fb58175f",
   "metadata": {},
   "source": [
    "### How to perform content and style deformations"
   ]
  },
  {
   "cell_type": "markdown",
   "id": "4c0c91de",
   "metadata": {},
   "source": [
    "One possibility is to generate a basis of spherical harmonics that spans the subspace of possible content deformations; and another that spans the subspace of style deformations."
   ]
  },
  {
   "cell_type": "markdown",
   "id": "37fcb16a",
   "metadata": {},
   "source": [
    "$$ \\textbf{d}_c(\\theta,\\phi)\\in span(\\mathcal{B}_c)$$\n",
    "$$ \\textbf{d}_s(\\theta,\\phi)\\in span(\\mathcal{B}_s)\\subseteq span(\\mathcal{B}_c)^{\\bot}$$"
   ]
  },
  {
   "cell_type": "markdown",
   "id": "8fc36733",
   "metadata": {},
   "source": [
    "The style deformation is such that it varies with time in a periodical manner. Therefore, the overall deformation will be of the form\n",
    "\n",
    "$$ \\textbf{d}(\\theta,\\phi) = \\textbf{d}_c(\\theta,\\phi) + A(t)\\textbf{d}_s(\\theta,\\phi) $$ with $$A(t)=A(t+2\\pi)$$\n"
   ]
  },
  {
   "cell_type": "markdown",
   "id": "2c1a1d3a",
   "metadata": {},
   "source": [
    "For example, we can make $$A(t)=A_0\\sin t$$"
   ]
  },
  {
   "cell_type": "markdown",
   "id": "634e2bda",
   "metadata": {},
   "source": [
    "The generative process is such that"
   ]
  },
  {
   "cell_type": "markdown",
   "id": "7df336eb",
   "metadata": {},
   "source": [
    "$$a_{lm}\\sim\\mathcal{N}(0,1)$$"
   ]
  },
  {
   "cell_type": "markdown",
   "id": "b6b51ee3",
   "metadata": {},
   "source": [
    "for each $l$ and $m$. These $a_{lm}$ are the latent variables of the model."
   ]
  },
  {
   "cell_type": "markdown",
   "id": "f91d6bfe",
   "metadata": {},
   "source": [
    "### Election of content and style subspaces"
   ]
  },
  {
   "cell_type": "markdown",
   "id": "ab6c7d5f",
   "metadata": {},
   "source": [
    "Let's call $E_l$ the eigenspaces of the laplacian with eigenvalues $l(l+1)$ and let's make, arbitrarily\n",
    "\n",
    "$$\\mathcal{S}_c=E_1\\oplus E_2$$\n",
    "$$\\mathcal{S}_s=E_3\\oplus E_4$$"
   ]
  },
  {
   "cell_type": "markdown",
   "id": "6bac37f2",
   "metadata": {},
   "source": [
    "where $\\oplus$ represents the direct sum of vector spaces."
   ]
  },
  {
   "cell_type": "markdown",
   "id": "170990f3",
   "metadata": {},
   "source": [
    "_____________"
   ]
  },
  {
   "cell_type": "markdown",
   "id": "a5b556a3",
   "metadata": {},
   "source": [
    "## `DeformedSphere` class"
   ]
  },
  {
   "cell_type": "markdown",
   "id": "7fd58e7d",
   "metadata": {},
   "source": [
    "This is a first attempt to create a class that models the deformation applied to a sphere, in the form of the spherical harmonics from above"
   ]
  },
  {
   "cell_type": "code",
   "execution_count": null,
   "id": "0b973a1d",
   "metadata": {},
   "outputs": [],
   "source": [
    "class DeformedSphere(trimesh.Trimesh):\n",
    "    \n",
    "    def __init__(self, reference_shape=vedo.Sphere().to_trimesh()):\n",
    "        \n",
    "        super().__init__(reference_shape.vertices, reference_shape.faces)        \n",
    "        self.sphere_coords = self._appendSpherical_np(self.vertices)[:,3:]\n",
    "                \n",
    "    def deform(self, amplitude, l, m):\n",
    "        \n",
    "        '''\n",
    "        This method returns a deformed sphere, using the spherical harmonic Ylm with an amplitude\n",
    "        \n",
    "        params:\n",
    "            l, m: indices of the spherical harmonic (Ylm).\n",
    "            amplitude: amplitude of the spherical harmonic.\n",
    "        '''\n",
    "        \n",
    "        coefs = np.array([\n",
    "            1 + amplitude * sph_harm(m, l, *self.sphere_coords[k, 1:3]).real\n",
    "            for k in range(self.sphere_coords.shape[0])\n",
    "        ])\n",
    "        \n",
    "        self.vertices = np.multiply(\n",
    "            self.vertices, \n",
    "            np.kron(np.ones((3,1)), coefs).transpose()\n",
    "        )\n",
    "        \n",
    "        return self\n",
    "        \n",
    "    # https://stackoverflow.com/questions/4116658/faster-numpy-cartesian-to-spherical-coordinate-conversion\n",
    "    def _appendSpherical_np(self, xyz):\n",
    "        \n",
    "        '''\n",
    "        params:\n",
    "            xyz: NumPy array representing the (x,y,z) coordinates for a point cloud.\n",
    "            \n",
    "        return:\n",
    "            A NumPy array with 6 columns containing the input (x,y,z) coordinates\n",
    "            and, additionally, the (r, theta, phi) spherical coordinates        \n",
    "        '''\n",
    "        \n",
    "        ptsnew = np.hstack((xyz, np.zeros(xyz.shape)))\n",
    "        xy = xyz[:,0]**2 + xyz[:,1]**2        \n",
    "        ptsnew[:,3] = np.sqrt(xy + xyz[:,2]**2)\n",
    "        ptsnew[:,4] = np.arctan2(np.sqrt(xy), xyz[:,2]) # for elevation angle defined from Z-axis down\n",
    "        #ptsnew[:,4] = np.arctan2(xyz[:,2], np.sqrt(xy)) # for elevation angle defined from XY-plane up\n",
    "        ptsnew[:,5] = np.arctan2(xyz[:,1], xyz[:,0])\n",
    "        return ptsnew\n",
    "        "
   ]
  },
  {
   "cell_type": "markdown",
   "id": "9ae32d93",
   "metadata": {},
   "source": [
    "____________"
   ]
  },
  {
   "cell_type": "code",
   "execution_count": 11,
   "id": "fd9293ff",
   "metadata": {},
   "outputs": [],
   "source": [
    "N = 100\n",
    "T = 50\n",
    "sphere = vedo.Sphere(res=24).to_trimesh()\n",
    "sphere_sph_coord = appendSpherical_np(sph.vertices)[:,3:]"
   ]
  },
  {
   "cell_type": "code",
   "execution_count": 12,
   "id": "d17c3d50",
   "metadata": {},
   "outputs": [
    {
     "ename": "NameError",
     "evalue": "name 'sphere_sph_coord' is not defined",
     "output_type": "error",
     "traceback": [
      "\u001b[0;31m---------------------------------------------------------------------------\u001b[0m",
      "\u001b[0;31mNameError\u001b[0m                                 Traceback (most recent call last)",
      "\u001b[0;32m<ipython-input-12-83b9b2741dde>\u001b[0m in \u001b[0;36m<module>\u001b[0;34m\u001b[0m\n\u001b[1;32m     11\u001b[0m         coefs = np.array([\n\u001b[1;32m     12\u001b[0m             \u001b[0;36m1\u001b[0m \u001b[0;34m+\u001b[0m \u001b[0mamplitude\u001b[0m \u001b[0;34m*\u001b[0m \u001b[0msph_harm\u001b[0m\u001b[0;34m(\u001b[0m\u001b[0;36m2\u001b[0m\u001b[0;34m,\u001b[0m \u001b[0;36m2\u001b[0m\u001b[0;34m,\u001b[0m \u001b[0;34m*\u001b[0m\u001b[0msphere_sph_coord\u001b[0m\u001b[0;34m[\u001b[0m\u001b[0mk\u001b[0m\u001b[0;34m,\u001b[0m\u001b[0;36m1\u001b[0m\u001b[0;34m:\u001b[0m\u001b[0;36m3\u001b[0m\u001b[0;34m]\u001b[0m\u001b[0;34m)\u001b[0m\u001b[0;34m.\u001b[0m\u001b[0mreal\u001b[0m\u001b[0;34m\u001b[0m\u001b[0;34m\u001b[0m\u001b[0m\n\u001b[0;32m---> 13\u001b[0;31m             for k in range(sphere_sph_coord.shape[0])]\n\u001b[0m\u001b[1;32m     14\u001b[0m         )\n\u001b[1;32m     15\u001b[0m \u001b[0;34m\u001b[0m\u001b[0m\n",
      "\u001b[0;31mNameError\u001b[0m: name 'sphere_sph_coord' is not defined"
     ]
    }
   ],
   "source": [
    "mesh_list = []\n",
    "\n",
    "for i in range(N):\n",
    "    for t in range(T):\n",
    "                                \n",
    "        deformed_sphere = copy(sphere)\n",
    "        \n",
    "        amplitude_max = 2\n",
    "        amplitude = amplitude_max * np.sin(2*np.pi*t/T)\n",
    "            \n",
    "        coefs = np.array([\n",
    "            1 + amplitude * sph_harm(2, 2, *sphere_sph_coord[k,1:3]).real\n",
    "            for k in range(sphere_sph_coord.shape[0])]\n",
    "        )\n",
    "            \n",
    "        deformed_sphere.vertices = np.multiply(\n",
    "            sph.vertices, \n",
    "            np.kron(np.ones((3,1)), coefs).transpose()\n",
    "        )\n",
    "        \n",
    "        mesh_list.append(deformed_sphere)"
   ]
  },
  {
   "cell_type": "code",
   "execution_count": null,
   "id": "487d7709",
   "metadata": {},
   "outputs": [],
   "source": [
    "t = 15\n",
    "mesh_list[t].show(faces=True)"
   ]
  },
  {
   "cell_type": "code",
   "execution_count": null,
   "id": "ce9b1191",
   "metadata": {},
   "outputs": [],
   "source": [
    "def f(l, m, amplitude):\n",
    "    return DeformedSphere().deform(amplitude, l, m).show()"
   ]
  },
  {
   "cell_type": "markdown",
   "id": "98374be9",
   "metadata": {},
   "source": [
    "#### Saving the synthetic meshes as `obj` files"
   ]
  },
  {
   "cell_type": "code",
   "execution_count": null,
   "id": "b1ab654f",
   "metadata": {},
   "outputs": [],
   "source": [
    "odir = \"/home/rodrigo/tmp/mallas_obj\"\n",
    "os.makedirs(odir, exist_ok=True)\n",
    "\n",
    "N = 100\n",
    "\n",
    "for i in range(N):\n",
    "    for t, mesh in enumerate(mesh_list):\n",
    "        \n",
    "        # print(mesh.vertices)\n",
    "        j = str(j)\n",
    "        j = \"0\" * (2 - len(j)) + j # 5 --> 05, 15 --> 15\n",
    "        \n",
    "        with open(os.path.join(odir, \"sphere_{}.obj\".format(i)), \"wt\") as ff:        \n",
    "            obj_content = trimesh.exchange.export.export_obj(\n",
    "                mesh, \n",
    "                include_normals=False, \n",
    "                include_texture=False\n",
    "            )\n",
    "            ff.write(obj_content)\n",
    "            \n",
    "        # print(mesh.show())"
   ]
  },
  {
   "cell_type": "markdown",
   "id": "b1b354ed",
   "metadata": {},
   "source": [
    "__________________________"
   ]
  },
  {
   "cell_type": "markdown",
   "id": "4ac8f402",
   "metadata": {},
   "source": [
    "# Attempt to visualize meshes (to complete)"
   ]
  },
  {
   "cell_type": "markdown",
   "id": "d0663e34",
   "metadata": {},
   "source": [
    "#### `itkwidgets`"
   ]
  },
  {
   "cell_type": "code",
   "execution_count": null,
   "id": "41926847",
   "metadata": {},
   "outputs": [],
   "source": [
    "import itk\n",
    "import itkwidgets\n",
    "from itkwidgets import view"
   ]
  },
  {
   "cell_type": "markdown",
   "id": "7668a843",
   "metadata": {},
   "source": [
    "#### `Trimesh`"
   ]
  },
  {
   "cell_type": "code",
   "execution_count": 13,
   "id": "a1072a8b",
   "metadata": {},
   "outputs": [],
   "source": [
    "import trimesh"
   ]
  },
  {
   "cell_type": "markdown",
   "id": "75e9ee6d",
   "metadata": {},
   "source": [
    "#### `pyvista`"
   ]
  },
  {
   "cell_type": "code",
   "execution_count": 3,
   "id": "a55d2a29",
   "metadata": {},
   "outputs": [],
   "source": [
    "import pyvista as pv"
   ]
  },
  {
   "cell_type": "markdown",
   "id": "0d916eb8",
   "metadata": {},
   "source": [
    "#### `polyscope`"
   ]
  },
  {
   "cell_type": "code",
   "execution_count": 2,
   "id": "60e9e2f6",
   "metadata": {},
   "outputs": [
    {
     "ename": "NameError",
     "evalue": "name 'mesh_list' is not defined",
     "output_type": "error",
     "traceback": [
      "\u001b[0;31m---------------------------------------------------------------------------\u001b[0m",
      "\u001b[0;31mNameError\u001b[0m                                 Traceback (most recent call last)",
      "\u001b[0;32m<ipython-input-2-57aa09b584f0>\u001b[0m in \u001b[0;36m<module>\u001b[0;34m\u001b[0m\n\u001b[1;32m      1\u001b[0m \u001b[0;32mimport\u001b[0m \u001b[0mpolyscope\u001b[0m \u001b[0;32mas\u001b[0m \u001b[0mps\u001b[0m\u001b[0;34m\u001b[0m\u001b[0;34m\u001b[0m\u001b[0m\n\u001b[1;32m      2\u001b[0m \u001b[0mps\u001b[0m\u001b[0;34m.\u001b[0m\u001b[0minit\u001b[0m\u001b[0;34m(\u001b[0m\u001b[0;34m)\u001b[0m\u001b[0;34m\u001b[0m\u001b[0;34m\u001b[0m\u001b[0m\n\u001b[0;32m----> 3\u001b[0;31m \u001b[0mmesh\u001b[0m \u001b[0;34m=\u001b[0m \u001b[0mmesh_list\u001b[0m\u001b[0;34m[\u001b[0m\u001b[0;36m25\u001b[0m\u001b[0;34m]\u001b[0m\u001b[0;34m\u001b[0m\u001b[0;34m\u001b[0m\u001b[0m\n\u001b[0m\u001b[1;32m      4\u001b[0m \u001b[0mps\u001b[0m\u001b[0;34m.\u001b[0m\u001b[0mregister_surface_mesh\u001b[0m\u001b[0;34m(\u001b[0m\u001b[0;34m\"sph\"\u001b[0m\u001b[0;34m,\u001b[0m \u001b[0mmesh\u001b[0m\u001b[0;34m.\u001b[0m\u001b[0mvertices\u001b[0m\u001b[0;34m,\u001b[0m \u001b[0mmesh\u001b[0m\u001b[0;34m.\u001b[0m\u001b[0mfaces\u001b[0m\u001b[0;34m,\u001b[0m \u001b[0msmooth_shade\u001b[0m\u001b[0;34m=\u001b[0m\u001b[0;32mTrue\u001b[0m\u001b[0;34m)\u001b[0m\u001b[0;34m\u001b[0m\u001b[0;34m\u001b[0m\u001b[0m\n\u001b[1;32m      5\u001b[0m \u001b[0mps\u001b[0m\u001b[0;34m.\u001b[0m\u001b[0mshow\u001b[0m\u001b[0;34m(\u001b[0m\u001b[0;34m)\u001b[0m\u001b[0;34m\u001b[0m\u001b[0;34m\u001b[0m\u001b[0m\n",
      "\u001b[0;31mNameError\u001b[0m: name 'mesh_list' is not defined"
     ]
    }
   ],
   "source": [
    "import polyscope as ps\n",
    "ps.init()\n",
    "mesh = mesh_list[25]\n",
    "ps.register_surface_mesh(\"sph\", mesh.vertices, mesh.faces, smooth_shade=True)\n",
    "ps.show()"
   ]
  },
  {
   "cell_type": "markdown",
   "id": "4e950d3e",
   "metadata": {},
   "source": [
    "________________________"
   ]
  },
  {
   "cell_type": "markdown",
   "id": "d5d13e70",
   "metadata": {},
   "source": [
    "________________________"
   ]
  },
  {
   "cell_type": "code",
   "execution_count": null,
   "id": "b53678b5",
   "metadata": {},
   "outputs": [],
   "source": [
    "DeformedSphere().deform(0, 0, 0).vertices"
   ]
  },
  {
   "cell_type": "code",
   "execution_count": null,
   "id": "f02ecead",
   "metadata": {},
   "outputs": [],
   "source": [
    "interact(\n",
    "    f, \n",
    "    l=widgets.IntSlider(min=0,max=10), \n",
    "    m=widgets.IntSlider(min=-10,max=10), \n",
    "    amplitude=widgets.FloatSlider(min=0,max=2)\n",
    ");"
   ]
  },
  {
   "cell_type": "code",
   "execution_count": null,
   "id": "908ba448",
   "metadata": {},
   "outputs": [],
   "source": [
    "[ sph_harm(2, 2, *sphere_sph_coord[k,1:3]) for k in range(sphere_sph_coord.shape[0]) ]"
   ]
  },
  {
   "cell_type": "code",
   "execution_count": null,
   "id": "b24c3c4f",
   "metadata": {},
   "outputs": [],
   "source": [
    "interact(f, t=widgets.IntSlider(N_t-1, max=N_t-1));"
   ]
  },
  {
   "cell_type": "code",
   "execution_count": null,
   "id": "3935c587",
   "metadata": {},
   "outputs": [],
   "source": [
    "# np.polynomial.chebyshev.Chebyshev((1,2,3))()"
   ]
  }
 ],
 "metadata": {
  "kernelspec": {
   "display_name": "Coma",
   "language": "python",
   "name": "coma"
  },
  "language_info": {
   "codemirror_mode": {
    "name": "ipython",
    "version": 3
   },
   "file_extension": ".py",
   "mimetype": "text/x-python",
   "name": "python",
   "nbconvert_exporter": "python",
   "pygments_lexer": "ipython3",
   "version": "3.6.10"
  }
 },
 "nbformat": 4,
 "nbformat_minor": 5
}
