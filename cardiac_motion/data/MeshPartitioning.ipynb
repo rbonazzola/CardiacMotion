{
 "cells": [
  {
   "cell_type": "code",
   "execution_count": null,
   "id": "0",
   "metadata": {},
   "outputs": [],
   "source": [
    "import pandas as pd\n",
    "import numpy as np\n",
    "from scipy import sparse as sp"
   ]
  },
  {
   "cell_type": "code",
   "execution_count": null,
   "id": "1",
   "metadata": {},
   "outputs": [],
   "source": [
    "df = pd.read_csv(\"/home/user/01_repos/CardioMesh/data/subpartIDs_FHM_10pct.txt\", header=None)\n",
    "df.columns = [\"partition\"]"
   ]
  },
  {
   "cell_type": "code",
   "execution_count": null,
   "id": "2",
   "metadata": {},
   "outputs": [],
   "source": [
    "partitions = {\n",
    "  \"left_atrium\" : (\"LA\", \"MVP\", \"PV1\", \"PV2\", \"PV3\", \"PV4\", \"PV5\"),\n",
    "  \"right_atrium\" : (\"RA\", \"TVP\", \"PV6\", \"PV7\"),\n",
    "  \"left_ventricle\" : (\"LV\", \"AVP\", \"MVP\"),\n",
    "  \"right_ventricle\" : (\"RV\", \"PVP\", \"TVP\"),\n",
    "  \"biventricle\" : (\"LV\", \"AVP\", \"MVP\", \"RV\", \"PVP\", \"TVP\"),\n",
    "  \"aorta\" : (\"aorta\",)\n",
    "}"
   ]
  },
  {
   "cell_type": "code",
   "execution_count": null,
   "id": "3",
   "metadata": {},
   "outputs": [],
   "source": [
    "subpart_names = [\"LV\", \"AVP\", \"LA\", \"MVP\", \"RV\", \"PVP\", \"PV1\", \"PV2\", \"PV3\", \"PV4\", \"PV5\", \"RA\", \"TVP\", \"PV6\", \"PV7\", \"aorta\"]"
   ]
  },
  {
   "cell_type": "code",
   "execution_count": null,
   "id": "4",
   "metadata": {},
   "outputs": [],
   "source": [
    "for subpart_name in subpart_names:\n",
    "    df[subpart_name] = df.partition == subpart_name"
   ]
  },
  {
   "cell_type": "code",
   "execution_count": null,
   "id": "5",
   "metadata": {},
   "outputs": [],
   "source": [
    "for partition in partitions:    \n",
    "    indices[partition] = df[list(partitions[partition])].apply(any, axis=1)"
   ]
  },
  {
   "cell_type": "code",
   "execution_count": null,
   "id": "6",
   "metadata": {},
   "outputs": [],
   "source": [
    "col_ind = indices[\"left_ventricle\"].index[indices[\"left_ventricle\"]].to_list()\n",
    "row_ind = list(range(len(col_ind)))\n",
    "\n",
    "subsetting_mtx = sp.csc.csc_matrix(\n",
    "  (np.ones(len(col_ind)), (row_ind, col_ind)), \n",
    "  shape=(len(col_ind), df.shape[0])\n",
    ")"
   ]
  },
  {
   "cell_type": "code",
   "execution_count": null,
   "id": "7",
   "metadata": {},
   "outputs": [],
   "source": [
    "subsetting_mtx"
   ]
  },
  {
   "cell_type": "code",
   "execution_count": null,
   "id": "8",
   "metadata": {},
   "outputs": [],
   "source": [
    "[sum(v) for k,v in indices.items()]"
   ]
  }
 ],
 "metadata": {
  "kernelspec": {
   "display_name": "Python 3 (ipykernel)",
   "language": "python",
   "name": "python3"
  },
  "language_info": {
   "codemirror_mode": {
    "name": "ipython",
    "version": 3
   },
   "file_extension": ".py",
   "mimetype": "text/x-python",
   "name": "python",
   "nbconvert_exporter": "python",
   "pygments_lexer": "ipython3",
   "version": "3.9.16"
  }
 },
 "nbformat": 4,
 "nbformat_minor": 5
}
